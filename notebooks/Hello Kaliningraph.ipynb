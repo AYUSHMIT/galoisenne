{
 "cells": [
  {
   "cell_type": "code",
   "execution_count": 1,
   "metadata": {},
   "outputs": [],
   "source": [
    "%use kaliningraph"
   ]
  },
  {
   "cell_type": "code",
   "execution_count": 4,
   "metadata": {},
   "outputs": [],
   "source": [
    "val graph = Graph { a - b - c - a }"
   ]
  },
  {
   "cell_type": "code",
   "execution_count": 5,
   "metadata": {},
   "outputs": [
    {
     "data": {
      "text/html": [
       "<svg width=\"89px\" height=\"207px\"\n",
       " viewBox=\"0.00 0.00 89.00 207.28\" xmlns=\"http://www.w3.org/2000/svg\" xmlns:xlink=\"http://www.w3.org/1999/xlink\">\n",
       "<g id=\"graph0\" class=\"graph\" transform=\"scale(1.0 1.0) rotate(0) translate(4 203.2792)\">\n",
       "<title>%3</title>\n",
       "<polygon fill=\"#ffffff\" stroke=\"transparent\" points=\"-4,4 -4,-203.2792 85,-203.2792 85,4 -4,4\"/>\n",
       "<!-- a -->\n",
       "<g id=\"node1\" class=\"node\">\n",
       "<title>a</title>\n",
       "<ellipse fill=\"none\" stroke=\"#000000\" stroke-width=\"2\" cx=\"54\" cy=\"-178.066\" rx=\"27\" ry=\"21.4286\"/>\n",
       "<text text-anchor=\"middle\" x=\"54\" y=\"-173.066\" font-family=\"Helvetica,sans-Serif\" font-size=\"20.00\" fill=\"#000000\">a</text>\n",
       "</g>\n",
       "<!-- b -->\n",
       "<g id=\"node2\" class=\"node\">\n",
       "<title>b</title>\n",
       "<ellipse fill=\"none\" stroke=\"#000000\" stroke-width=\"2\" cx=\"27\" cy=\"-99.6396\" rx=\"27\" ry=\"21.4286\"/>\n",
       "<text text-anchor=\"middle\" x=\"27\" y=\"-94.6396\" font-family=\"Helvetica,sans-Serif\" font-size=\"20.00\" fill=\"#000000\">b</text>\n",
       "</g>\n",
       "<!-- a&#45;&gt;b -->\n",
       "<g id=\"edge1\" class=\"edge\">\n",
       "<title>a&#45;&gt;b</title>\n",
       "<path fill=\"none\" stroke=\"#000000\" stroke-width=\"2\" d=\"M46.9061,-157.4604C44.0146,-149.0616 40.6127,-139.1802 37.4472,-129.9853\"/>\n",
       "<polygon fill=\"#000000\" stroke=\"#000000\" stroke-width=\"2\" points=\"40.7049,-128.6959 34.1403,-120.3799 34.0862,-130.9746 40.7049,-128.6959\"/>\n",
       "</g>\n",
       "<!-- c -->\n",
       "<g id=\"node3\" class=\"node\">\n",
       "<title>c</title>\n",
       "<ellipse fill=\"none\" stroke=\"#000000\" stroke-width=\"2\" cx=\"54\" cy=\"-21.2132\" rx=\"27\" ry=\"21.4286\"/>\n",
       "<text text-anchor=\"middle\" x=\"54\" y=\"-16.2132\" font-family=\"Helvetica,sans-Serif\" font-size=\"20.00\" fill=\"#000000\">c</text>\n",
       "</g>\n",
       "<!-- b&#45;&gt;c -->\n",
       "<g id=\"edge2\" class=\"edge\">\n",
       "<title>b&#45;&gt;c</title>\n",
       "<path fill=\"none\" stroke=\"#000000\" stroke-width=\"2\" d=\"M34.0939,-79.034C36.9854,-70.6352 40.3873,-60.7538 43.5528,-51.5589\"/>\n",
       "<polygon fill=\"#000000\" stroke=\"#000000\" stroke-width=\"2\" points=\"46.9138,-52.5482 46.8597,-41.9535 40.2951,-50.2695 46.9138,-52.5482\"/>\n",
       "</g>\n",
       "<!-- c&#45;&gt;a -->\n",
       "<g id=\"edge3\" class=\"edge\">\n",
       "<title>c&#45;&gt;a</title>\n",
       "<path fill=\"none\" stroke=\"#000000\" stroke-width=\"2\" d=\"M58.1251,-42.3132C60.0233,-53.074 62.0596,-66.3971 63,-78.4264 64.4696,-97.2252 64.4696,-102.054 63,-120.8528 62.3315,-129.4049 61.109,-138.6109 59.776,-147.0852\"/>\n",
       "<polygon fill=\"#000000\" stroke=\"#000000\" stroke-width=\"2\" points=\"56.3211,-146.5259 58.1251,-156.966 63.2253,-147.6795 56.3211,-146.5259\"/>\n",
       "</g>\n",
       "</g>\n",
       "</svg>\n"
      ]
     },
     "execution_count": 5,
     "metadata": {},
     "output_type": "execute_result"
    }
   ],
   "source": [
    "graph"
   ]
  },
  {
   "cell_type": "code",
   "execution_count": 6,
   "metadata": {},
   "outputs": [
    {
     "data": {
      "text/html": [
       "<svg width=\"292px\" height=\"364px\"\n",
       " viewBox=\"0.00 0.00 291.81 364.13\" xmlns=\"http://www.w3.org/2000/svg\" xmlns:xlink=\"http://www.w3.org/1999/xlink\">\n",
       "<g id=\"graph0\" class=\"graph\" transform=\"scale(1.0 1.0) rotate(0) translate(4 360.132)\">\n",
       "<title>%3</title>\n",
       "<polygon fill=\"#ffffff\" stroke=\"transparent\" points=\"-4,4 -4,-360.132 287.8093,-360.132 287.8093,4 -4,4\"/>\n",
       "<!-- 37561 -->\n",
       "<g id=\"node1\" class=\"node\">\n",
       "<title>37561</title>\n",
       "<ellipse fill=\"none\" stroke=\"#000000\" stroke-width=\"2\" cx=\"51.6188\" cy=\"-256.4924\" rx=\"51.7379\" ry=\"21.4286\"/>\n",
       "<text text-anchor=\"middle\" x=\"51.6188\" y=\"-251.4924\" font-family=\"Helvetica,sans-Serif\" font-size=\"20.00\" fill=\"#000000\">37561</text>\n",
       "</g>\n",
       "<!-- a -->\n",
       "<g id=\"node2\" class=\"node\">\n",
       "<title>a</title>\n",
       "<ellipse fill=\"none\" stroke=\"#000000\" stroke-width=\"2\" cx=\"138.6188\" cy=\"-178.066\" rx=\"27\" ry=\"21.4286\"/>\n",
       "<text text-anchor=\"middle\" x=\"138.6188\" y=\"-173.066\" font-family=\"Helvetica,sans-Serif\" font-size=\"20.00\" fill=\"#000000\">a</text>\n",
       "</g>\n",
       "<!-- 37561&#45;&gt;a -->\n",
       "<g id=\"edge1\" class=\"edge\">\n",
       "<title>37561&#45;&gt;a</title>\n",
       "<path fill=\"none\" stroke=\"#000000\" stroke-width=\"2\" d=\"M73.1244,-237.1061C85.2921,-226.1375 100.5755,-212.3603 113.3174,-200.874\"/>\n",
       "<polygon fill=\"#000000\" stroke=\"#000000\" stroke-width=\"2\" points=\"115.788,-203.3591 120.8721,-194.0638 111.101,-198.1598 115.788,-203.3591\"/>\n",
       "</g>\n",
       "<!-- b -->\n",
       "<g id=\"node3\" class=\"node\">\n",
       "<title>b</title>\n",
       "<ellipse fill=\"none\" stroke=\"#000000\" stroke-width=\"2\" cx=\"138.6188\" cy=\"-99.6396\" rx=\"27\" ry=\"21.4286\"/>\n",
       "<text text-anchor=\"middle\" x=\"138.6188\" y=\"-94.6396\" font-family=\"Helvetica,sans-Serif\" font-size=\"20.00\" fill=\"#000000\">b</text>\n",
       "</g>\n",
       "<!-- 37561&#45;&gt;b -->\n",
       "<g id=\"edge3\" class=\"edge\">\n",
       "<title>37561&#45;&gt;b</title>\n",
       "<path fill=\"none\" stroke=\"#000000\" stroke-width=\"2\" d=\"M61.6419,-235.5987C71.5653,-215.2388 87.4332,-183.5385 102.6188,-156.8528 108.2049,-147.0363 114.6789,-136.5146 120.5838,-127.2052\"/>\n",
       "<polygon fill=\"#000000\" stroke=\"#000000\" stroke-width=\"2\" points=\"123.5763,-129.0222 126.0231,-118.7138 117.6819,-125.2464 123.5763,-129.0222\"/>\n",
       "</g>\n",
       "<!-- c -->\n",
       "<g id=\"node4\" class=\"node\">\n",
       "<title>c</title>\n",
       "<ellipse fill=\"none\" stroke=\"#000000\" stroke-width=\"2\" cx=\"193.6188\" cy=\"-21.2132\" rx=\"27\" ry=\"21.4286\"/>\n",
       "<text text-anchor=\"middle\" x=\"193.6188\" y=\"-16.2132\" font-family=\"Helvetica,sans-Serif\" font-size=\"20.00\" fill=\"#000000\">c</text>\n",
       "</g>\n",
       "<!-- 37561&#45;&gt;c -->\n",
       "<g id=\"edge2\" class=\"edge\">\n",
       "<title>37561&#45;&gt;c</title>\n",
       "<path fill=\"none\" stroke=\"#000000\" stroke-width=\"2\" d=\"M52.6295,-235.2604C55.354,-199.3435 65.4217,-125.8799 102.6188,-78.4264 117.6573,-59.2412 141.0416,-44.7387 160.3393,-35.1352\"/>\n",
       "<polygon fill=\"#000000\" stroke=\"#000000\" stroke-width=\"2\" points=\"161.9002,-38.2686 169.43,-30.8152 158.8956,-31.9462 161.9002,-38.2686\"/>\n",
       "</g>\n",
       "<!-- a&#45;&gt;b -->\n",
       "<g id=\"edge4\" class=\"edge\">\n",
       "<title>a&#45;&gt;b</title>\n",
       "<path fill=\"none\" stroke=\"#000000\" stroke-width=\"2\" d=\"M138.6188,-156.6357C138.6188,-148.7684 138.6188,-139.6895 138.6188,-131.1231\"/>\n",
       "<polygon fill=\"#000000\" stroke=\"#000000\" stroke-width=\"2\" points=\"142.1189,-131.044 138.6188,-121.0441 135.1189,-131.0441 142.1189,-131.044\"/>\n",
       "</g>\n",
       "<!-- b&#45;&gt;c -->\n",
       "<g id=\"edge5\" class=\"edge\">\n",
       "<title>b&#45;&gt;c</title>\n",
       "<path fill=\"none\" stroke=\"#000000\" stroke-width=\"2\" d=\"M151.653,-81.0536C158.521,-71.2604 167.0717,-59.0677 174.6594,-48.2481\"/>\n",
       "<polygon fill=\"#000000\" stroke=\"#000000\" stroke-width=\"2\" points=\"177.6113,-50.1345 180.4875,-39.9375 171.8802,-46.1153 177.6113,-50.1345\"/>\n",
       "</g>\n",
       "<!-- c&#45;&gt;a -->\n",
       "<g id=\"edge6\" class=\"edge\">\n",
       "<title>c&#45;&gt;a</title>\n",
       "<path fill=\"none\" stroke=\"#000000\" stroke-width=\"2\" d=\"M191.8782,-42.4566C189.6595,-63.0758 184.8108,-94.9625 174.6188,-120.8528 170.4816,-131.3624 164.3671,-142.0562 158.3466,-151.3102\"/>\n",
       "<polygon fill=\"#000000\" stroke=\"#000000\" stroke-width=\"2\" points=\"155.3818,-149.4464 152.671,-159.6886 161.1772,-153.3724 155.3818,-149.4464\"/>\n",
       "</g>\n",
       "<!-- 70ece -->\n",
       "<g id=\"node5\" class=\"node\">\n",
       "<title>70ece</title>\n",
       "<ellipse fill=\"none\" stroke=\"#000000\" stroke-width=\"2\" cx=\"209.6188\" cy=\"-256.4924\" rx=\"50.41\" ry=\"21.4286\"/>\n",
       "<text text-anchor=\"middle\" x=\"209.6188\" y=\"-251.4924\" font-family=\"Helvetica,sans-Serif\" font-size=\"20.00\" fill=\"#000000\">70ece</text>\n",
       "</g>\n",
       "<!-- 70ece&#45;&gt;a -->\n",
       "<g id=\"edge7\" class=\"edge\">\n",
       "<title>70ece&#45;&gt;a</title>\n",
       "<path fill=\"none\" stroke=\"#000000\" stroke-width=\"2\" d=\"M191.3345,-236.2957C182.1431,-226.1429 170.9202,-213.746 161.1955,-203.0042\"/>\n",
       "<polygon fill=\"#000000\" stroke=\"#000000\" stroke-width=\"2\" points=\"163.7358,-200.5951 154.4297,-195.5307 158.5464,-205.2931 163.7358,-200.5951\"/>\n",
       "</g>\n",
       "<!-- 70ece&#45;&gt;b -->\n",
       "<g id=\"edge9\" class=\"edge\">\n",
       "<title>70ece&#45;&gt;b</title>\n",
       "<path fill=\"none\" stroke=\"#000000\" stroke-width=\"2\" d=\"M203.6949,-235.3361C197.5926,-214.7816 187.2119,-182.9413 174.6188,-156.8528 169.7089,-146.6812 163.4027,-136.0714 157.4439,-126.7903\"/>\n",
       "<polygon fill=\"#000000\" stroke=\"#000000\" stroke-width=\"2\" points=\"160.3151,-124.7864 151.8942,-118.3568 154.4676,-128.6344 160.3151,-124.7864\"/>\n",
       "</g>\n",
       "<!-- 70ece&#45;&gt;c -->\n",
       "<g id=\"edge8\" class=\"edge\">\n",
       "<title>70ece&#45;&gt;c</title>\n",
       "<path fill=\"none\" stroke=\"#000000\" stroke-width=\"2\" d=\"M208.1707,-235.198C205.3458,-193.6583 199.0872,-101.6257 195.7737,-52.9006\"/>\n",
       "<polygon fill=\"#000000\" stroke=\"#000000\" stroke-width=\"2\" points=\"199.2457,-52.3685 195.0752,-42.629 192.2618,-52.8435 199.2457,-52.3685\"/>\n",
       "</g>\n",
       "<!-- 85bad -->\n",
       "<g id=\"node6\" class=\"node\">\n",
       "<title>85bad</title>\n",
       "<ellipse fill=\"none\" stroke=\"#000000\" stroke-width=\"2\" cx=\"170.6188\" cy=\"-334.9188\" rx=\"51.7379\" ry=\"21.4286\"/>\n",
       "<text text-anchor=\"middle\" x=\"170.6188\" y=\"-329.9188\" font-family=\"Helvetica,sans-Serif\" font-size=\"20.00\" fill=\"#000000\">85bad</text>\n",
       "</g>\n",
       "<!-- 85bad&#45;&gt;37561 -->\n",
       "<g id=\"edge13\" class=\"edge\">\n",
       "<title>85bad&#45;&gt;37561</title>\n",
       "<path fill=\"none\" stroke=\"#000000\" stroke-width=\"2\" d=\"M143.0187,-316.7291C126.4974,-305.8409 105.3175,-291.8823 87.5068,-280.1443\"/>\n",
       "<polygon fill=\"#000000\" stroke=\"#000000\" stroke-width=\"2\" points=\"89.345,-277.164 79.0692,-274.5835 85.493,-283.0088 89.345,-277.164\"/>\n",
       "</g>\n",
       "<!-- 85bad&#45;&gt;a -->\n",
       "<g id=\"edge12\" class=\"edge\">\n",
       "<title>85bad&#45;&gt;a</title>\n",
       "<path fill=\"none\" stroke=\"#000000\" stroke-width=\"2\" d=\"M161.9983,-313.7797C157.9706,-303.1231 153.4499,-289.9028 150.6188,-277.7056 145.376,-255.1185 142.3412,-229.0881 140.6356,-209.2985\"/>\n",
       "<polygon fill=\"#000000\" stroke=\"#000000\" stroke-width=\"2\" points=\"144.1215,-208.9805 139.8397,-199.2895 137.1435,-209.5355 144.1215,-208.9805\"/>\n",
       "</g>\n",
       "<!-- 85bad&#45;&gt;c -->\n",
       "<g id=\"edge10\" class=\"edge\">\n",
       "<title>85bad&#45;&gt;c</title>\n",
       "<path fill=\"none\" stroke=\"#000000\" stroke-width=\"2\" d=\"M211.9608,-321.9771C232.8938,-313.0904 256.4062,-298.977 268.6188,-277.7056 312.7472,-200.845 249.2549,-95.8697 214.1855,-47.5373\"/>\n",
       "<polygon fill=\"#000000\" stroke=\"#000000\" stroke-width=\"2\" points=\"216.9696,-45.4156 208.2055,-39.4624 211.3442,-49.5816 216.9696,-45.4156\"/>\n",
       "</g>\n",
       "<!-- 85bad&#45;&gt;70ece -->\n",
       "<g id=\"edge11\" class=\"edge\">\n",
       "<title>85bad&#45;&gt;70ece</title>\n",
       "<path fill=\"none\" stroke=\"#000000\" stroke-width=\"2\" d=\"M181.0701,-313.902C185.2566,-305.4832 190.1581,-295.6267 194.7065,-286.48\"/>\n",
       "<polygon fill=\"#000000\" stroke=\"#000000\" stroke-width=\"2\" points=\"197.9551,-287.8078 199.2739,-277.2953 191.6873,-284.6909 197.9551,-287.8078\"/>\n",
       "</g>\n",
       "</g>\n",
       "</svg>\n"
      ]
     },
     "execution_count": 6,
     "metadata": {},
     "output_type": "execute_result"
    }
   ],
   "source": [
    "(1..3).fold(graph) {it, _ -> it.attachRandomVertex(3)}"
   ]
  },
  {
   "cell_type": "code",
   "execution_count": 7,
   "metadata": {},
   "outputs": [
    {
     "data": {
      "text/plain": [
       "{a=1107296225, b=1107296225, c=1107296225}"
      ]
     },
     "execution_count": 7,
     "metadata": {},
     "output_type": "execute_result"
    }
   ],
   "source": [
    "graph.wl()"
   ]
  },
  {
   "cell_type": "code",
   "execution_count": 8,
   "metadata": {},
   "outputs": [
    {
     "data": {
      "text/plain": [
       "Type = DDRM , rows = 3 , cols = 3\n",
       " 1.0000E+00  0.0000E+00  0.0000E+00 \n",
       " 0.0000E+00  1.0000E+00  0.0000E+00 \n",
       " 0.0000E+00  0.0000E+00  1.0000E+00 \n"
      ]
     },
     "execution_count": 8,
     "metadata": {},
     "output_type": "execute_result"
    }
   ],
   "source": [
    "graph.D"
   ]
  },
  {
   "cell_type": "code",
   "execution_count": 9,
   "metadata": {
    "scrolled": true
   },
   "outputs": [
    {
     "data": {
      "text/plain": [
       "Type = DDRM , rows = 3 , cols = 3\n",
       " 0.0000E+00  1.0000E+00  0.0000E+00 \n",
       " 0.0000E+00  0.0000E+00  1.0000E+00 \n",
       " 1.0000E+00  0.0000E+00  0.0000E+00 \n"
      ]
     },
     "execution_count": 9,
     "metadata": {},
     "output_type": "execute_result"
    }
   ],
   "source": [
    "graph.A"
   ]
  }
 ],
 "metadata": {
  "kernelspec": {
   "display_name": "Kotlin",
   "language": "kotlin",
   "name": "kotlin"
  },
  "language_info": {
   "codemirror_mode": "text/x-kotlin",
   "file_extension": ".kt",
   "mimetype": "text/x-kotlin",
   "name": "kotlin",
   "pygments_lexer": "kotlin",
   "version": "1.4.0-dev-7568"
  }
 },
 "nbformat": 4,
 "nbformat_minor": 2
}
