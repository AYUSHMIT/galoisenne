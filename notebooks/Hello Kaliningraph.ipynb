{
 "cells": [
  {
   "cell_type": "code",
   "execution_count": 1,
   "metadata": {},
   "outputs": [],
   "source": [
    "%use kaliningraph"
   ]
  },
  {
   "cell_type": "code",
   "execution_count": 2,
   "metadata": {},
   "outputs": [],
   "source": [
    "val graph = LabeledGraphBuilder { a - b - c - a }"
   ]
  },
  {
   "cell_type": "code",
   "execution_count": 3,
   "metadata": {},
   "outputs": [
    {
     "data": {
      "text/html": [
       "<svg width=\"89px\" height=\"191px\"\n",
       " viewBox=\"0.00 0.00 89.00 191.00\" xmlns=\"http://www.w3.org/2000/svg\" xmlns:xlink=\"http://www.w3.org/1999/xlink\">\n",
       "<g id=\"graph0\" class=\"graph\" transform=\"scale(1.0 1.0) rotate(0) translate(4 187)\">\n",
       "<title>%3</title>\n",
       "<polygon fill=\"white\" stroke=\"transparent\" points=\"-4,4 -4,-187 85,-187 85,4 -4,4\"/>\n",
       "<!-- a -->\n",
       "<g id=\"node1\" class=\"node\">\n",
       "<title>a</title>\n",
       "<path fill=\"none\" stroke=\"black\" stroke-width=\"4\" d=\"M39,-146.5C39,-146.5 69,-146.5 69,-146.5 75,-146.5 81,-152.5 81,-158.5 81,-158.5 81,-170.5 81,-170.5 81,-176.5 75,-182.5 69,-182.5 69,-182.5 39,-182.5 39,-182.5 33,-182.5 27,-176.5 27,-170.5 27,-170.5 27,-158.5 27,-158.5 27,-152.5 33,-146.5 39,-146.5\"/>\n",
       "<text text-anchor=\"middle\" x=\"53.56\" y=\"-158.5\" font-family=\"Helvetica,sans-Serif\" font-size=\"20.00\">a</text>\n",
       "</g>\n",
       "<!-- b -->\n",
       "<g id=\"node2\" class=\"node\">\n",
       "<title>b</title>\n",
       "<path fill=\"none\" stroke=\"black\" stroke-width=\"4\" d=\"M12,-73.5C12,-73.5 42,-73.5 42,-73.5 48,-73.5 54,-79.5 54,-85.5 54,-85.5 54,-97.5 54,-97.5 54,-103.5 48,-109.5 42,-109.5 42,-109.5 12,-109.5 12,-109.5 6,-109.5 0,-103.5 0,-97.5 0,-97.5 0,-85.5 0,-85.5 0,-79.5 6,-73.5 12,-73.5\"/>\n",
       "<text text-anchor=\"middle\" x=\"26.56\" y=\"-85.5\" font-family=\"Helvetica,sans-Serif\" font-size=\"20.00\">b</text>\n",
       "</g>\n",
       "<!-- a&#45;&gt;b -->\n",
       "<g id=\"edge1\" class=\"edge\">\n",
       "<title>a&#45;&gt;b</title>\n",
       "<path fill=\"none\" stroke=\"black\" stroke-width=\"4\" d=\"M47.46,-146.31C44.35,-138.12 40.55,-128.12 37.07,-118.98\"/>\n",
       "<polygon fill=\"black\" stroke=\"black\" stroke-width=\"4\" points=\"40.3,-117.63 33.48,-109.53 33.76,-120.12 40.3,-117.63\"/>\n",
       "</g>\n",
       "<!-- c -->\n",
       "<g id=\"node3\" class=\"node\">\n",
       "<title>c</title>\n",
       "<path fill=\"none\" stroke=\"black\" stroke-width=\"4\" d=\"M39,-0.5C39,-0.5 69,-0.5 69,-0.5 75,-0.5 81,-6.5 81,-12.5 81,-12.5 81,-24.5 81,-24.5 81,-30.5 75,-36.5 69,-36.5 69,-36.5 39,-36.5 39,-36.5 33,-36.5 27,-30.5 27,-24.5 27,-24.5 27,-12.5 27,-12.5 27,-6.5 33,-0.5 39,-0.5\"/>\n",
       "<text text-anchor=\"middle\" x=\"54\" y=\"-12.5\" font-family=\"Helvetica,sans-Serif\" font-size=\"20.00\">c</text>\n",
       "</g>\n",
       "<!-- b&#45;&gt;c -->\n",
       "<g id=\"edge2\" class=\"edge\">\n",
       "<title>b&#45;&gt;c</title>\n",
       "<path fill=\"none\" stroke=\"black\" stroke-width=\"4\" d=\"M33.54,-73.31C36.65,-65.12 40.45,-55.12 43.93,-45.98\"/>\n",
       "<polygon fill=\"black\" stroke=\"black\" stroke-width=\"4\" points=\"47.24,-47.12 47.52,-36.53 40.7,-44.63 47.24,-47.12\"/>\n",
       "</g>\n",
       "<!-- c&#45;&gt;a -->\n",
       "<g id=\"edge3\" class=\"edge\">\n",
       "<title>c&#45;&gt;a</title>\n",
       "<path fill=\"none\" stroke=\"black\" stroke-width=\"4\" d=\"M57.65,-36.76C59.68,-47.19 61.98,-60.8 63,-73 64.37,-89.39 64.37,-93.61 63,-110 62.28,-118.58 60.93,-127.85 59.49,-136.23\"/>\n",
       "<polygon fill=\"black\" stroke=\"black\" stroke-width=\"4\" points=\"56.01,-135.78 57.65,-146.24 62.9,-137.04 56.01,-135.78\"/>\n",
       "</g>\n",
       "</g>\n",
       "</svg>\n"
      ]
     },
     "execution_count": 3,
     "metadata": {},
     "output_type": "execute_result"
    }
   ],
   "source": [
    "graph"
   ]
  },
  {
   "cell_type": "code",
   "execution_count": 4,
   "metadata": {},
   "outputs": [
    {
     "data": {
      "text/html": [
       "<svg width=\"170px\" height=\"337px\"\n",
       " viewBox=\"0.00 0.00 170.45 337.00\" xmlns=\"http://www.w3.org/2000/svg\" xmlns:xlink=\"http://www.w3.org/1999/xlink\">\n",
       "<g id=\"graph0\" class=\"graph\" transform=\"scale(1.0 1.0) rotate(0) translate(4 333)\">\n",
       "<title>%3</title>\n",
       "<polygon fill=\"white\" stroke=\"transparent\" points=\"-4,4 -4,-333 166.45,-333 166.45,4 -4,4\"/>\n",
       "<!-- 4 -->\n",
       "<g id=\"node1\" class=\"node\">\n",
       "<title>4</title>\n",
       "<path fill=\"none\" stroke=\"black\" stroke-width=\"4\" d=\"M96,-219.5C96,-219.5 126,-219.5 126,-219.5 132,-219.5 138,-225.5 138,-231.5 138,-231.5 138,-243.5 138,-243.5 138,-249.5 132,-255.5 126,-255.5 126,-255.5 96,-255.5 96,-255.5 90,-255.5 84,-249.5 84,-243.5 84,-243.5 84,-231.5 84,-231.5 84,-225.5 90,-219.5 96,-219.5\"/>\n",
       "<text text-anchor=\"middle\" x=\"110.56\" y=\"-231.5\" font-family=\"Helvetica,sans-Serif\" font-size=\"20.00\">4</text>\n",
       "</g>\n",
       "<!-- a -->\n",
       "<g id=\"node2\" class=\"node\">\n",
       "<title>a</title>\n",
       "<path fill=\"none\" stroke=\"black\" stroke-width=\"4\" d=\"M12,-146.5C12,-146.5 42,-146.5 42,-146.5 48,-146.5 54,-152.5 54,-158.5 54,-158.5 54,-170.5 54,-170.5 54,-176.5 48,-182.5 42,-182.5 42,-182.5 12,-182.5 12,-182.5 6,-182.5 0,-176.5 0,-170.5 0,-170.5 0,-158.5 0,-158.5 0,-152.5 6,-146.5 12,-146.5\"/>\n",
       "<text text-anchor=\"middle\" x=\"26.56\" y=\"-158.5\" font-family=\"Helvetica,sans-Serif\" font-size=\"20.00\">a</text>\n",
       "</g>\n",
       "<!-- 4&#45;&gt;a -->\n",
       "<g id=\"edge1\" class=\"edge\">\n",
       "<title>4&#45;&gt;a</title>\n",
       "<path fill=\"none\" stroke=\"black\" stroke-width=\"4\" d=\"M90.67,-219.31C79.94,-210.24 66.61,-198.98 54.92,-189.1\"/>\n",
       "<polygon fill=\"black\" stroke=\"black\" stroke-width=\"4\" points=\"57.04,-186.31 47.15,-182.53 52.52,-191.66 57.04,-186.31\"/>\n",
       "</g>\n",
       "<!-- b -->\n",
       "<g id=\"node3\" class=\"node\">\n",
       "<title>b</title>\n",
       "<path fill=\"none\" stroke=\"black\" stroke-width=\"4\" d=\"M67,-73.5C67,-73.5 97,-73.5 97,-73.5 103,-73.5 109,-79.5 109,-85.5 109,-85.5 109,-97.5 109,-97.5 109,-103.5 103,-109.5 97,-109.5 97,-109.5 67,-109.5 67,-109.5 61,-109.5 55,-103.5 55,-97.5 55,-97.5 55,-85.5 55,-85.5 55,-79.5 61,-73.5 67,-73.5\"/>\n",
       "<text text-anchor=\"middle\" x=\"81.56\" y=\"-85.5\" font-family=\"Helvetica,sans-Serif\" font-size=\"20.00\">b</text>\n",
       "</g>\n",
       "<!-- 4&#45;&gt;b -->\n",
       "<g id=\"edge2\" class=\"edge\">\n",
       "<title>4&#45;&gt;b</title>\n",
       "<path fill=\"none\" stroke=\"black\" stroke-width=\"4\" d=\"M108.64,-219.4C106.01,-201.14 101.41,-171.39 96,-146 94.15,-137.32 91.81,-127.94 89.58,-119.49\"/>\n",
       "<polygon fill=\"black\" stroke=\"black\" stroke-width=\"4\" points=\"92.93,-118.49 86.94,-109.75 86.18,-120.32 92.93,-118.49\"/>\n",
       "</g>\n",
       "<!-- a&#45;&gt;b -->\n",
       "<g id=\"edge3\" class=\"edge\">\n",
       "<title>a&#45;&gt;b</title>\n",
       "<path fill=\"none\" stroke=\"black\" stroke-width=\"4\" d=\"M34.44,-146.31C40.28,-137.59 48.41,-126.84 56.36,-117.25\"/>\n",
       "<polygon fill=\"black\" stroke=\"black\" stroke-width=\"4\" points=\"59.12,-119.41 62.95,-109.53 53.79,-114.87 59.12,-119.41\"/>\n",
       "</g>\n",
       "<!-- b&#45;&gt;a -->\n",
       "<g id=\"edge5\" class=\"edge\">\n",
       "<title>b&#45;&gt;a</title>\n",
       "<path fill=\"none\" stroke=\"black\" stroke-width=\"4\" d=\"M74.67,-109.53C68.85,-118.23 60.74,-128.97 52.78,-138.58\"/>\n",
       "<polygon fill=\"black\" stroke=\"black\" stroke-width=\"4\" points=\"50.01,-136.43 46.19,-146.31 55.34,-140.97 50.01,-136.43\"/>\n",
       "</g>\n",
       "<!-- c -->\n",
       "<g id=\"node4\" class=\"node\">\n",
       "<title>c</title>\n",
       "<path fill=\"none\" stroke=\"black\" stroke-width=\"4\" d=\"M67,-0.5C67,-0.5 97,-0.5 97,-0.5 103,-0.5 109,-6.5 109,-12.5 109,-12.5 109,-24.5 109,-24.5 109,-30.5 103,-36.5 97,-36.5 97,-36.5 67,-36.5 67,-36.5 61,-36.5 55,-30.5 55,-24.5 55,-24.5 55,-12.5 55,-12.5 55,-6.5 61,-0.5 67,-0.5\"/>\n",
       "<text text-anchor=\"middle\" x=\"82\" y=\"-12.5\" font-family=\"Helvetica,sans-Serif\" font-size=\"20.00\">c</text>\n",
       "</g>\n",
       "<!-- b&#45;&gt;c -->\n",
       "<g id=\"edge4\" class=\"edge\">\n",
       "<title>b&#45;&gt;c</title>\n",
       "<path fill=\"none\" stroke=\"black\" stroke-width=\"4\" d=\"M76.12,-73.31C75.28,-65.29 75.05,-55.55 75.42,-46.57\"/>\n",
       "<polygon fill=\"black\" stroke=\"black\" stroke-width=\"4\" points=\"78.92,-46.75 76.14,-36.53 71.94,-46.25 78.92,-46.75\"/>\n",
       "</g>\n",
       "<!-- c&#45;&gt;a -->\n",
       "<g id=\"edge6\" class=\"edge\">\n",
       "<title>c&#45;&gt;a</title>\n",
       "<path fill=\"none\" stroke=\"black\" stroke-width=\"4\" d=\"M67.82,-36.82C60.29,-46.84 51.49,-60.01 46,-73 37.44,-93.28 32.6,-117.79 29.95,-136.19\"/>\n",
       "<polygon fill=\"black\" stroke=\"black\" stroke-width=\"4\" points=\"26.46,-135.86 28.63,-146.23 33.4,-136.77 26.46,-135.86\"/>\n",
       "</g>\n",
       "<!-- c&#45;&gt;b -->\n",
       "<g id=\"edge7\" class=\"edge\">\n",
       "<title>c&#45;&gt;b</title>\n",
       "<path fill=\"none\" stroke=\"black\" stroke-width=\"4\" d=\"M87.86,-36.53C88.71,-44.53 88.95,-54.27 88.59,-63.25\"/>\n",
       "<polygon fill=\"black\" stroke=\"black\" stroke-width=\"4\" points=\"85.09,-63.09 87.88,-73.31 92.07,-63.58 85.09,-63.09\"/>\n",
       "</g>\n",
       "<!-- 3 -->\n",
       "<g id=\"node5\" class=\"node\">\n",
       "<title>3</title>\n",
       "<path fill=\"none\" stroke=\"black\" stroke-width=\"4\" d=\"M24,-219.5C24,-219.5 54,-219.5 54,-219.5 60,-219.5 66,-225.5 66,-231.5 66,-231.5 66,-243.5 66,-243.5 66,-249.5 60,-255.5 54,-255.5 54,-255.5 24,-255.5 24,-255.5 18,-255.5 12,-249.5 12,-243.5 12,-243.5 12,-231.5 12,-231.5 12,-225.5 18,-219.5 24,-219.5\"/>\n",
       "<text text-anchor=\"middle\" x=\"38.56\" y=\"-231.5\" font-family=\"Helvetica,sans-Serif\" font-size=\"20.00\">3</text>\n",
       "</g>\n",
       "<!-- 3&#45;&gt;a -->\n",
       "<g id=\"edge9\" class=\"edge\">\n",
       "<title>3&#45;&gt;a</title>\n",
       "<path fill=\"none\" stroke=\"black\" stroke-width=\"4\" d=\"M36.1,-219.31C34.74,-211.29 33.09,-201.55 31.58,-192.57\"/>\n",
       "<polygon fill=\"black\" stroke=\"black\" stroke-width=\"4\" points=\"35,-191.81 29.88,-182.53 28.09,-192.97 35,-191.81\"/>\n",
       "</g>\n",
       "<!-- 3&#45;&gt;b -->\n",
       "<g id=\"edge8\" class=\"edge\">\n",
       "<title>3&#45;&gt;b</title>\n",
       "<path fill=\"none\" stroke=\"black\" stroke-width=\"4\" d=\"M47.98,-219.04C52.97,-208.77 58.97,-195.39 63,-183 69.76,-162.2 74.71,-137.9 77.86,-119.72\"/>\n",
       "<polygon fill=\"black\" stroke=\"black\" stroke-width=\"4\" points=\"81.32,-120.24 79.5,-109.8 74.41,-119.09 81.32,-120.24\"/>\n",
       "</g>\n",
       "<!-- 5 -->\n",
       "<g id=\"node6\" class=\"node\">\n",
       "<title>5</title>\n",
       "<path fill=\"none\" stroke=\"black\" stroke-width=\"4\" d=\"M24,-292.5C24,-292.5 54,-292.5 54,-292.5 60,-292.5 66,-298.5 66,-304.5 66,-304.5 66,-316.5 66,-316.5 66,-322.5 60,-328.5 54,-328.5 54,-328.5 24,-328.5 24,-328.5 18,-328.5 12,-322.5 12,-316.5 12,-316.5 12,-304.5 12,-304.5 12,-298.5 18,-292.5 24,-292.5\"/>\n",
       "<text text-anchor=\"middle\" x=\"38.56\" y=\"-304.5\" font-family=\"Helvetica,sans-Serif\" font-size=\"20.00\">5</text>\n",
       "</g>\n",
       "<!-- 5&#45;&gt;a -->\n",
       "<g id=\"edge10\" class=\"edge\">\n",
       "<title>5&#45;&gt;a</title>\n",
       "<path fill=\"none\" stroke=\"black\" stroke-width=\"4\" d=\"M23.39,-292.09C15.62,-282.24 7.05,-269.28 3,-256 -3.52,-234.62 3.89,-210.09 12.15,-191.97\"/>\n",
       "<polygon fill=\"black\" stroke=\"black\" stroke-width=\"4\" points=\"15.47,-193.14 16.74,-182.62 9.19,-190.05 15.47,-193.14\"/>\n",
       "</g>\n",
       "<!-- 5&#45;&gt;c -->\n",
       "<g id=\"edge12\" class=\"edge\">\n",
       "<title>5&#45;&gt;c</title>\n",
       "<path fill=\"none\" stroke=\"black\" stroke-width=\"4\" d=\"M66.21,-304.45C92.04,-298.06 129.46,-284.27 147,-256 189.63,-187.31 133.29,-90.44 101.32,-44.96\"/>\n",
       "<polygon fill=\"black\" stroke=\"black\" stroke-width=\"4\" points=\"103.97,-42.65 95.29,-36.57 98.28,-46.73 103.97,-42.65\"/>\n",
       "</g>\n",
       "<!-- 5&#45;&gt;3 -->\n",
       "<g id=\"edge11\" class=\"edge\">\n",
       "<title>5&#45;&gt;3</title>\n",
       "<path fill=\"none\" stroke=\"black\" stroke-width=\"4\" d=\"M39,-292.31C39,-284.29 39,-274.55 39,-265.57\"/>\n",
       "<polygon fill=\"black\" stroke=\"black\" stroke-width=\"4\" points=\"42.5,-265.53 39,-255.53 35.5,-265.53 42.5,-265.53\"/>\n",
       "</g>\n",
       "</g>\n",
       "</svg>\n"
      ]
     },
     "execution_count": 4,
     "metadata": {},
     "output_type": "execute_result"
    }
   ],
   "source": [
    "(1..3).fold(graph) { it, _ -> it.attachRandomT(3) }"
   ]
  },
  {
   "cell_type": "code",
   "execution_count": 5,
   "metadata": {},
   "outputs": [
    {
     "data": {
      "text/plain": [
       "{a=1107296225, b=1107296225, c=1107296225}"
      ]
     },
     "execution_count": 5,
     "metadata": {},
     "output_type": "execute_result"
    }
   ],
   "source": [
    "graph.wl()"
   ]
  },
  {
   "cell_type": "code",
   "execution_count": 6,
   "metadata": {},
   "outputs": [
    {
     "data": {
      "text/html": [
       "<img src=\"data:image/jpg;base64,iVBORw0KGgoAAAANSUhEUgAAADwAAAA8CAIAAAC1nk4lAAAA4ElEQVR4XtXPQQ0AMAzDwPIn3QHwx9rHqnUAktmZb1mc4mVxipfFKV4Wp3hZnOJlcYqXxSleFqd4WZziZXGKl8UpXhaneFmc4mVxipfFKV4Wp3hZnOJlcYqXxSneyXjDy+IUL4tTvCxO8bI4xcviFC+LU7wsTvGyOMXL4hQvi1O8LE7xsjjFy+IUL4tTvCxO8bI4xcviFC+LU7wsTvFOxhteFqd4WZziZXGKl8UpXhaneFmc4mVxipfFKV4Wp3hZnOJlcYqXxSleFqd4WZziZXGKl8UpXhaneFmc4mVxivcAVsirjRYpRhMAAAAASUVORK5CYII=\"/>"
      ]
     },
     "execution_count": 6,
     "metadata": {},
     "output_type": "execute_result"
    }
   ],
   "source": [
    "graph.D"
   ]
  },
  {
   "cell_type": "code",
   "execution_count": 7,
   "metadata": {
    "scrolled": true
   },
   "outputs": [
    {
     "data": {
      "text/html": [
       "<img src=\"data:image/jpg;base64,iVBORw0KGgoAAAANSUhEUgAAADwAAAA8CAIAAAC1nk4lAAAA4UlEQVR4XtXPIQ4AIAzFUO5/afDUlEw0NM/M/a01aA9kcYqXxSleFqd4WZziZXGKl8UpXhaneFmc4mVxipfFKV4Wp3hZnOJlcYqXxSleFqd4WZziZXGKl8UpXhaneF/GN7wsTvGyOMXL4hQvi1O8LE7xsjjFy+IUL4tTvCxO8bI4xcviFC+LU7wsTvGyOMXL4hQvi1O8LE7xsjjFy+IU776fZHGKl8UpXhaneFmc4mVxipfFKV4Wp3hZnOJlcYqXxSleFqd4WZziZXGKl8UpXhaneFmc4mVxipfFKV4Wp3hVB1bIq41FLMSyAAAAAElFTkSuQmCC\"/>"
      ]
     },
     "execution_count": 7,
     "metadata": {},
     "output_type": "execute_result"
    }
   ],
   "source": [
    "graph.A"
   ]
  },
  {
   "cell_type": "code",
   "execution_count": 8,
   "metadata": {},
   "outputs": [
    {
     "data": {
      "text/html": [
       "<svg width=\"134px\" height=\"118px\"\n",
       " viewBox=\"0.00 0.00 134.00 118.00\" xmlns=\"http://www.w3.org/2000/svg\" xmlns:xlink=\"http://www.w3.org/1999/xlink\">\n",
       "<g id=\"graph0\" class=\"graph\" transform=\"scale(1.0 1.0) rotate(0) translate(4 114)\">\n",
       "<title>%3</title>\n",
       "<polygon fill=\"white\" stroke=\"transparent\" points=\"-4,4 -4,-114 130,-114 130,4 -4,4\"/>\n",
       "<!-- aebf1 -->\n",
       "<g id=\"node1\" class=\"node\">\n",
       "<title>aebf1</title>\n",
       "<path fill=\"none\" stroke=\"black\" stroke-width=\"4\" d=\"M48,-73.5C48,-73.5 78,-73.5 78,-73.5 84,-73.5 90,-79.5 90,-85.5 90,-85.5 90,-97.5 90,-97.5 90,-103.5 84,-109.5 78,-109.5 78,-109.5 48,-109.5 48,-109.5 42,-109.5 36,-103.5 36,-97.5 36,-97.5 36,-85.5 36,-85.5 36,-79.5 42,-73.5 48,-73.5\"/>\n",
       "<text text-anchor=\"middle\" x=\"62.84\" y=\"-85.5\" font-family=\"Helvetica,sans-Serif\" font-size=\"20.00\">+</text>\n",
       "</g>\n",
       "<!-- a -->\n",
       "<g id=\"node2\" class=\"node\">\n",
       "<title>a</title>\n",
       "<path fill=\"none\" stroke=\"black\" stroke-width=\"4\" d=\"M12,-0.5C12,-0.5 42,-0.5 42,-0.5 48,-0.5 54,-6.5 54,-12.5 54,-12.5 54,-24.5 54,-24.5 54,-30.5 48,-36.5 42,-36.5 42,-36.5 12,-36.5 12,-36.5 6,-36.5 0,-30.5 0,-24.5 0,-24.5 0,-12.5 0,-12.5 0,-6.5 6,-0.5 12,-0.5\"/>\n",
       "<text text-anchor=\"middle\" x=\"26.56\" y=\"-12.5\" font-family=\"Helvetica,sans-Serif\" font-size=\"20.00\">a</text>\n",
       "</g>\n",
       "<!-- aebf1&#45;&gt;a -->\n",
       "<g id=\"edge1\" class=\"edge\">\n",
       "<title>aebf1&#45;&gt;a</title>\n",
       "<path fill=\"none\" stroke=\"black\" stroke-width=\"4\" d=\"M54.29,-73.31C50.08,-65.03 44.95,-54.91 40.28,-45.69\"/>\n",
       "<polygon fill=\"black\" stroke=\"black\" stroke-width=\"4\" points=\"43.28,-43.87 35.63,-36.53 37.04,-47.03 43.28,-43.87\"/>\n",
       "</g>\n",
       "<!-- b -->\n",
       "<g id=\"node3\" class=\"node\">\n",
       "<title>b</title>\n",
       "<path fill=\"none\" stroke=\"black\" stroke-width=\"4\" d=\"M84,-0.5C84,-0.5 114,-0.5 114,-0.5 120,-0.5 126,-6.5 126,-12.5 126,-12.5 126,-24.5 126,-24.5 126,-30.5 120,-36.5 114,-36.5 114,-36.5 84,-36.5 84,-36.5 78,-36.5 72,-30.5 72,-24.5 72,-24.5 72,-12.5 72,-12.5 72,-6.5 78,-0.5 84,-0.5\"/>\n",
       "<text text-anchor=\"middle\" x=\"98.56\" y=\"-12.5\" font-family=\"Helvetica,sans-Serif\" font-size=\"20.00\">b</text>\n",
       "</g>\n",
       "<!-- aebf1&#45;&gt;b -->\n",
       "<g id=\"edge2\" class=\"edge\">\n",
       "<title>aebf1&#45;&gt;b</title>\n",
       "<path fill=\"none\" stroke=\"black\" stroke-width=\"4\" d=\"M71.71,-73.31C75.92,-65.03 81.05,-54.91 85.72,-45.69\"/>\n",
       "<polygon fill=\"black\" stroke=\"black\" stroke-width=\"4\" points=\"88.96,-47.03 90.37,-36.53 82.72,-43.87 88.96,-47.03\"/>\n",
       "</g>\n",
       "</g>\n",
       "</svg>\n"
      ]
     },
     "execution_count": 8,
     "metadata": {},
     "output_type": "execute_result"
    }
   ],
   "source": [
    "a + b"
   ]
  },
  {
   "cell_type": "code",
   "execution_count": 9,
   "metadata": {},
   "outputs": [],
   "source": [
    "val g1 = a + b + c\n",
    "val g2 = b + a + c"
   ]
  },
  {
   "cell_type": "code",
   "execution_count": 10,
   "metadata": {},
   "outputs": [
    {
     "data": {
      "text/html": [
       "<svg width=\"170px\" height=\"191px\"\n",
       " viewBox=\"0.00 0.00 170.00 191.00\" xmlns=\"http://www.w3.org/2000/svg\" xmlns:xlink=\"http://www.w3.org/1999/xlink\">\n",
       "<g id=\"graph0\" class=\"graph\" transform=\"scale(1.0 1.0) rotate(0) translate(4 187)\">\n",
       "<title>%3</title>\n",
       "<polygon fill=\"white\" stroke=\"transparent\" points=\"-4,4 -4,-187 166,-187 166,4 -4,4\"/>\n",
       "<!-- 64a59 -->\n",
       "<g id=\"node1\" class=\"node\">\n",
       "<title>64a59</title>\n",
       "<path fill=\"none\" stroke=\"black\" stroke-width=\"4\" d=\"M48,-73.5C48,-73.5 78,-73.5 78,-73.5 84,-73.5 90,-79.5 90,-85.5 90,-85.5 90,-97.5 90,-97.5 90,-103.5 84,-109.5 78,-109.5 78,-109.5 48,-109.5 48,-109.5 42,-109.5 36,-103.5 36,-97.5 36,-97.5 36,-85.5 36,-85.5 36,-79.5 42,-73.5 48,-73.5\"/>\n",
       "<text text-anchor=\"middle\" x=\"62.84\" y=\"-85.5\" font-family=\"Helvetica,sans-Serif\" font-size=\"20.00\">+</text>\n",
       "</g>\n",
       "<!-- a -->\n",
       "<g id=\"node2\" class=\"node\">\n",
       "<title>a</title>\n",
       "<path fill=\"none\" stroke=\"black\" stroke-width=\"4\" d=\"M12,-0.5C12,-0.5 42,-0.5 42,-0.5 48,-0.5 54,-6.5 54,-12.5 54,-12.5 54,-24.5 54,-24.5 54,-30.5 48,-36.5 42,-36.5 42,-36.5 12,-36.5 12,-36.5 6,-36.5 0,-30.5 0,-24.5 0,-24.5 0,-12.5 0,-12.5 0,-6.5 6,-0.5 12,-0.5\"/>\n",
       "<text text-anchor=\"middle\" x=\"26.56\" y=\"-12.5\" font-family=\"Helvetica,sans-Serif\" font-size=\"20.00\">a</text>\n",
       "</g>\n",
       "<!-- 64a59&#45;&gt;a -->\n",
       "<g id=\"edge1\" class=\"edge\">\n",
       "<title>64a59&#45;&gt;a</title>\n",
       "<path fill=\"none\" stroke=\"black\" stroke-width=\"4\" d=\"M54.29,-73.31C50.08,-65.03 44.95,-54.91 40.28,-45.69\"/>\n",
       "<polygon fill=\"black\" stroke=\"black\" stroke-width=\"4\" points=\"43.28,-43.87 35.63,-36.53 37.04,-47.03 43.28,-43.87\"/>\n",
       "</g>\n",
       "<!-- b -->\n",
       "<g id=\"node3\" class=\"node\">\n",
       "<title>b</title>\n",
       "<path fill=\"none\" stroke=\"black\" stroke-width=\"4\" d=\"M84,-0.5C84,-0.5 114,-0.5 114,-0.5 120,-0.5 126,-6.5 126,-12.5 126,-12.5 126,-24.5 126,-24.5 126,-30.5 120,-36.5 114,-36.5 114,-36.5 84,-36.5 84,-36.5 78,-36.5 72,-30.5 72,-24.5 72,-24.5 72,-12.5 72,-12.5 72,-6.5 78,-0.5 84,-0.5\"/>\n",
       "<text text-anchor=\"middle\" x=\"98.56\" y=\"-12.5\" font-family=\"Helvetica,sans-Serif\" font-size=\"20.00\">b</text>\n",
       "</g>\n",
       "<!-- 64a59&#45;&gt;b -->\n",
       "<g id=\"edge2\" class=\"edge\">\n",
       "<title>64a59&#45;&gt;b</title>\n",
       "<path fill=\"none\" stroke=\"black\" stroke-width=\"4\" d=\"M71.71,-73.31C75.92,-65.03 81.05,-54.91 85.72,-45.69\"/>\n",
       "<polygon fill=\"black\" stroke=\"black\" stroke-width=\"4\" points=\"88.96,-47.03 90.37,-36.53 82.72,-43.87 88.96,-47.03\"/>\n",
       "</g>\n",
       "<!-- f1c41 -->\n",
       "<g id=\"node4\" class=\"node\">\n",
       "<title>f1c41</title>\n",
       "<path fill=\"none\" stroke=\"black\" stroke-width=\"4\" d=\"M84,-146.5C84,-146.5 114,-146.5 114,-146.5 120,-146.5 126,-152.5 126,-158.5 126,-158.5 126,-170.5 126,-170.5 126,-176.5 120,-182.5 114,-182.5 114,-182.5 84,-182.5 84,-182.5 78,-182.5 72,-176.5 72,-170.5 72,-170.5 72,-158.5 72,-158.5 72,-152.5 78,-146.5 84,-146.5\"/>\n",
       "<text text-anchor=\"middle\" x=\"98.84\" y=\"-158.5\" font-family=\"Helvetica,sans-Serif\" font-size=\"20.00\">+</text>\n",
       "</g>\n",
       "<!-- f1c41&#45;&gt;64a59 -->\n",
       "<g id=\"edge3\" class=\"edge\">\n",
       "<title>f1c41&#45;&gt;64a59</title>\n",
       "<path fill=\"none\" stroke=\"black\" stroke-width=\"4\" d=\"M90.29,-146.31C86.08,-138.03 80.95,-127.91 76.28,-118.69\"/>\n",
       "<polygon fill=\"black\" stroke=\"black\" stroke-width=\"4\" points=\"79.28,-116.87 71.63,-109.53 73.04,-120.03 79.28,-116.87\"/>\n",
       "</g>\n",
       "<!-- c -->\n",
       "<g id=\"node5\" class=\"node\">\n",
       "<title>c</title>\n",
       "<path fill=\"none\" stroke=\"black\" stroke-width=\"4\" d=\"M120,-73.5C120,-73.5 150,-73.5 150,-73.5 156,-73.5 162,-79.5 162,-85.5 162,-85.5 162,-97.5 162,-97.5 162,-103.5 156,-109.5 150,-109.5 150,-109.5 120,-109.5 120,-109.5 114,-109.5 108,-103.5 108,-97.5 108,-97.5 108,-85.5 108,-85.5 108,-79.5 114,-73.5 120,-73.5\"/>\n",
       "<text text-anchor=\"middle\" x=\"135\" y=\"-85.5\" font-family=\"Helvetica,sans-Serif\" font-size=\"20.00\">c</text>\n",
       "</g>\n",
       "<!-- f1c41&#45;&gt;c -->\n",
       "<g id=\"edge4\" class=\"edge\">\n",
       "<title>f1c41&#45;&gt;c</title>\n",
       "<path fill=\"none\" stroke=\"black\" stroke-width=\"4\" d=\"M107.71,-146.31C111.92,-138.03 117.05,-127.91 121.72,-118.69\"/>\n",
       "<polygon fill=\"black\" stroke=\"black\" stroke-width=\"4\" points=\"124.96,-120.03 126.37,-109.53 118.72,-116.87 124.96,-120.03\"/>\n",
       "</g>\n",
       "</g>\n",
       "</svg>\n"
      ]
     },
     "execution_count": 10,
     "metadata": {},
     "output_type": "execute_result"
    }
   ],
   "source": [
    "g1"
   ]
  },
  {
   "cell_type": "code",
   "execution_count": 11,
   "metadata": {},
   "outputs": [
    {
     "data": {
      "text/html": [
       "<svg width=\"170px\" height=\"191px\"\n",
       " viewBox=\"0.00 0.00 170.00 191.00\" xmlns=\"http://www.w3.org/2000/svg\" xmlns:xlink=\"http://www.w3.org/1999/xlink\">\n",
       "<g id=\"graph0\" class=\"graph\" transform=\"scale(1.0 1.0) rotate(0) translate(4 187)\">\n",
       "<title>%3</title>\n",
       "<polygon fill=\"white\" stroke=\"transparent\" points=\"-4,4 -4,-187 166,-187 166,4 -4,4\"/>\n",
       "<!-- e67f4 -->\n",
       "<g id=\"node1\" class=\"node\">\n",
       "<title>e67f4</title>\n",
       "<path fill=\"none\" stroke=\"black\" stroke-width=\"4\" d=\"M48,-73.5C48,-73.5 78,-73.5 78,-73.5 84,-73.5 90,-79.5 90,-85.5 90,-85.5 90,-97.5 90,-97.5 90,-103.5 84,-109.5 78,-109.5 78,-109.5 48,-109.5 48,-109.5 42,-109.5 36,-103.5 36,-97.5 36,-97.5 36,-85.5 36,-85.5 36,-79.5 42,-73.5 48,-73.5\"/>\n",
       "<text text-anchor=\"middle\" x=\"62.84\" y=\"-85.5\" font-family=\"Helvetica,sans-Serif\" font-size=\"20.00\">+</text>\n",
       "</g>\n",
       "<!-- b -->\n",
       "<g id=\"node2\" class=\"node\">\n",
       "<title>b</title>\n",
       "<path fill=\"none\" stroke=\"black\" stroke-width=\"4\" d=\"M12,-0.5C12,-0.5 42,-0.5 42,-0.5 48,-0.5 54,-6.5 54,-12.5 54,-12.5 54,-24.5 54,-24.5 54,-30.5 48,-36.5 42,-36.5 42,-36.5 12,-36.5 12,-36.5 6,-36.5 0,-30.5 0,-24.5 0,-24.5 0,-12.5 0,-12.5 0,-6.5 6,-0.5 12,-0.5\"/>\n",
       "<text text-anchor=\"middle\" x=\"26.56\" y=\"-12.5\" font-family=\"Helvetica,sans-Serif\" font-size=\"20.00\">b</text>\n",
       "</g>\n",
       "<!-- e67f4&#45;&gt;b -->\n",
       "<g id=\"edge1\" class=\"edge\">\n",
       "<title>e67f4&#45;&gt;b</title>\n",
       "<path fill=\"none\" stroke=\"black\" stroke-width=\"4\" d=\"M54.29,-73.31C50.08,-65.03 44.95,-54.91 40.28,-45.69\"/>\n",
       "<polygon fill=\"black\" stroke=\"black\" stroke-width=\"4\" points=\"43.28,-43.87 35.63,-36.53 37.04,-47.03 43.28,-43.87\"/>\n",
       "</g>\n",
       "<!-- a -->\n",
       "<g id=\"node3\" class=\"node\">\n",
       "<title>a</title>\n",
       "<path fill=\"none\" stroke=\"black\" stroke-width=\"4\" d=\"M84,-0.5C84,-0.5 114,-0.5 114,-0.5 120,-0.5 126,-6.5 126,-12.5 126,-12.5 126,-24.5 126,-24.5 126,-30.5 120,-36.5 114,-36.5 114,-36.5 84,-36.5 84,-36.5 78,-36.5 72,-30.5 72,-24.5 72,-24.5 72,-12.5 72,-12.5 72,-6.5 78,-0.5 84,-0.5\"/>\n",
       "<text text-anchor=\"middle\" x=\"98.56\" y=\"-12.5\" font-family=\"Helvetica,sans-Serif\" font-size=\"20.00\">a</text>\n",
       "</g>\n",
       "<!-- e67f4&#45;&gt;a -->\n",
       "<g id=\"edge2\" class=\"edge\">\n",
       "<title>e67f4&#45;&gt;a</title>\n",
       "<path fill=\"none\" stroke=\"black\" stroke-width=\"4\" d=\"M71.71,-73.31C75.92,-65.03 81.05,-54.91 85.72,-45.69\"/>\n",
       "<polygon fill=\"black\" stroke=\"black\" stroke-width=\"4\" points=\"88.96,-47.03 90.37,-36.53 82.72,-43.87 88.96,-47.03\"/>\n",
       "</g>\n",
       "<!-- 3d8c7 -->\n",
       "<g id=\"node4\" class=\"node\">\n",
       "<title>3d8c7</title>\n",
       "<path fill=\"none\" stroke=\"black\" stroke-width=\"4\" d=\"M84,-146.5C84,-146.5 114,-146.5 114,-146.5 120,-146.5 126,-152.5 126,-158.5 126,-158.5 126,-170.5 126,-170.5 126,-176.5 120,-182.5 114,-182.5 114,-182.5 84,-182.5 84,-182.5 78,-182.5 72,-176.5 72,-170.5 72,-170.5 72,-158.5 72,-158.5 72,-152.5 78,-146.5 84,-146.5\"/>\n",
       "<text text-anchor=\"middle\" x=\"98.84\" y=\"-158.5\" font-family=\"Helvetica,sans-Serif\" font-size=\"20.00\">+</text>\n",
       "</g>\n",
       "<!-- 3d8c7&#45;&gt;e67f4 -->\n",
       "<g id=\"edge3\" class=\"edge\">\n",
       "<title>3d8c7&#45;&gt;e67f4</title>\n",
       "<path fill=\"none\" stroke=\"black\" stroke-width=\"4\" d=\"M90.29,-146.31C86.08,-138.03 80.95,-127.91 76.28,-118.69\"/>\n",
       "<polygon fill=\"black\" stroke=\"black\" stroke-width=\"4\" points=\"79.28,-116.87 71.63,-109.53 73.04,-120.03 79.28,-116.87\"/>\n",
       "</g>\n",
       "<!-- c -->\n",
       "<g id=\"node5\" class=\"node\">\n",
       "<title>c</title>\n",
       "<path fill=\"none\" stroke=\"black\" stroke-width=\"4\" d=\"M120,-73.5C120,-73.5 150,-73.5 150,-73.5 156,-73.5 162,-79.5 162,-85.5 162,-85.5 162,-97.5 162,-97.5 162,-103.5 156,-109.5 150,-109.5 150,-109.5 120,-109.5 120,-109.5 114,-109.5 108,-103.5 108,-97.5 108,-97.5 108,-85.5 108,-85.5 108,-79.5 114,-73.5 120,-73.5\"/>\n",
       "<text text-anchor=\"middle\" x=\"135\" y=\"-85.5\" font-family=\"Helvetica,sans-Serif\" font-size=\"20.00\">c</text>\n",
       "</g>\n",
       "<!-- 3d8c7&#45;&gt;c -->\n",
       "<g id=\"edge4\" class=\"edge\">\n",
       "<title>3d8c7&#45;&gt;c</title>\n",
       "<path fill=\"none\" stroke=\"black\" stroke-width=\"4\" d=\"M107.71,-146.31C111.92,-138.03 117.05,-127.91 121.72,-118.69\"/>\n",
       "<polygon fill=\"black\" stroke=\"black\" stroke-width=\"4\" points=\"124.96,-120.03 126.37,-109.53 118.72,-116.87 124.96,-120.03\"/>\n",
       "</g>\n",
       "</g>\n",
       "</svg>\n"
      ]
     },
     "execution_count": 11,
     "metadata": {},
     "output_type": "execute_result"
    }
   ],
   "source": [
    "g2"
   ]
  },
  {
   "cell_type": "code",
   "execution_count": 12,
   "metadata": {},
   "outputs": [
    {
     "data": {
      "text/plain": [
       "false"
      ]
     },
     "execution_count": 12,
     "metadata": {},
     "output_type": "execute_result"
    }
   ],
   "source": [
    "g1 == g2"
   ]
  },
  {
   "cell_type": "code",
   "execution_count": 13,
   "metadata": {},
   "outputs": [
    {
     "data": {
      "text/plain": [
       "true"
      ]
     },
     "execution_count": 13,
     "metadata": {},
     "output_type": "execute_result"
    }
   ],
   "source": [
    "g1.graph == g2.graph"
   ]
  },
  {
   "cell_type": "code",
   "execution_count": 14,
   "metadata": {},
   "outputs": [
    {
     "data": {
      "text/html": [
       "<svg width=\"206px\" height=\"264px\"\n",
       " viewBox=\"0.00 0.00 206.00 264.00\" xmlns=\"http://www.w3.org/2000/svg\" xmlns:xlink=\"http://www.w3.org/1999/xlink\">\n",
       "<g id=\"graph0\" class=\"graph\" transform=\"scale(1.0 1.0) rotate(0) translate(4 260)\">\n",
       "<title>%3</title>\n",
       "<polygon fill=\"white\" stroke=\"transparent\" points=\"-4,4 -4,-260 202,-260 202,4 -4,4\"/>\n",
       "<!-- 3d8c7 -->\n",
       "<g id=\"node1\" class=\"node\">\n",
       "<title>3d8c7</title>\n",
       "<path fill=\"none\" stroke=\"black\" stroke-width=\"4\" d=\"M84,-146.5C84,-146.5 114,-146.5 114,-146.5 120,-146.5 126,-152.5 126,-158.5 126,-158.5 126,-170.5 126,-170.5 126,-176.5 120,-182.5 114,-182.5 114,-182.5 84,-182.5 84,-182.5 78,-182.5 72,-176.5 72,-170.5 72,-170.5 72,-158.5 72,-158.5 72,-152.5 78,-146.5 84,-146.5\"/>\n",
       "<text text-anchor=\"middle\" x=\"98.84\" y=\"-158.5\" font-family=\"Helvetica,sans-Serif\" font-size=\"20.00\">+</text>\n",
       "</g>\n",
       "<!-- e67f4 -->\n",
       "<g id=\"node2\" class=\"node\">\n",
       "<title>e67f4</title>\n",
       "<path fill=\"none\" stroke=\"black\" stroke-width=\"4\" d=\"M48,-73.5C48,-73.5 78,-73.5 78,-73.5 84,-73.5 90,-79.5 90,-85.5 90,-85.5 90,-97.5 90,-97.5 90,-103.5 84,-109.5 78,-109.5 78,-109.5 48,-109.5 48,-109.5 42,-109.5 36,-103.5 36,-97.5 36,-97.5 36,-85.5 36,-85.5 36,-79.5 42,-73.5 48,-73.5\"/>\n",
       "<text text-anchor=\"middle\" x=\"62.84\" y=\"-85.5\" font-family=\"Helvetica,sans-Serif\" font-size=\"20.00\">+</text>\n",
       "</g>\n",
       "<!-- 3d8c7&#45;&gt;e67f4 -->\n",
       "<g id=\"edge1\" class=\"edge\">\n",
       "<title>3d8c7&#45;&gt;e67f4</title>\n",
       "<path fill=\"none\" stroke=\"black\" stroke-width=\"4\" d=\"M90.29,-146.31C86.08,-138.03 80.95,-127.91 76.28,-118.69\"/>\n",
       "<polygon fill=\"black\" stroke=\"black\" stroke-width=\"4\" points=\"79.28,-116.87 71.63,-109.53 73.04,-120.03 79.28,-116.87\"/>\n",
       "</g>\n",
       "<!-- c -->\n",
       "<g id=\"node5\" class=\"node\">\n",
       "<title>c</title>\n",
       "<path fill=\"none\" stroke=\"black\" stroke-width=\"4\" d=\"M120,-73.5C120,-73.5 150,-73.5 150,-73.5 156,-73.5 162,-79.5 162,-85.5 162,-85.5 162,-97.5 162,-97.5 162,-103.5 156,-109.5 150,-109.5 150,-109.5 120,-109.5 120,-109.5 114,-109.5 108,-103.5 108,-97.5 108,-97.5 108,-85.5 108,-85.5 108,-79.5 114,-73.5 120,-73.5\"/>\n",
       "<text text-anchor=\"middle\" x=\"135\" y=\"-85.5\" font-family=\"Helvetica,sans-Serif\" font-size=\"20.00\">c</text>\n",
       "</g>\n",
       "<!-- 3d8c7&#45;&gt;c -->\n",
       "<g id=\"edge2\" class=\"edge\">\n",
       "<title>3d8c7&#45;&gt;c</title>\n",
       "<path fill=\"none\" stroke=\"black\" stroke-width=\"4\" d=\"M107.71,-146.31C111.92,-138.03 117.05,-127.91 121.72,-118.69\"/>\n",
       "<polygon fill=\"black\" stroke=\"black\" stroke-width=\"4\" points=\"124.96,-120.03 126.37,-109.53 118.72,-116.87 124.96,-120.03\"/>\n",
       "</g>\n",
       "<!-- b -->\n",
       "<g id=\"node3\" class=\"node\">\n",
       "<title>b</title>\n",
       "<path fill=\"none\" stroke=\"black\" stroke-width=\"4\" d=\"M12,-0.5C12,-0.5 42,-0.5 42,-0.5 48,-0.5 54,-6.5 54,-12.5 54,-12.5 54,-24.5 54,-24.5 54,-30.5 48,-36.5 42,-36.5 42,-36.5 12,-36.5 12,-36.5 6,-36.5 0,-30.5 0,-24.5 0,-24.5 0,-12.5 0,-12.5 0,-6.5 6,-0.5 12,-0.5\"/>\n",
       "<text text-anchor=\"middle\" x=\"26.56\" y=\"-12.5\" font-family=\"Helvetica,sans-Serif\" font-size=\"20.00\">b</text>\n",
       "</g>\n",
       "<!-- e67f4&#45;&gt;b -->\n",
       "<g id=\"edge3\" class=\"edge\">\n",
       "<title>e67f4&#45;&gt;b</title>\n",
       "<path fill=\"none\" stroke=\"black\" stroke-width=\"4\" d=\"M54.29,-73.31C50.08,-65.03 44.95,-54.91 40.28,-45.69\"/>\n",
       "<polygon fill=\"black\" stroke=\"black\" stroke-width=\"4\" points=\"43.28,-43.87 35.63,-36.53 37.04,-47.03 43.28,-43.87\"/>\n",
       "</g>\n",
       "<!-- a -->\n",
       "<g id=\"node4\" class=\"node\">\n",
       "<title>a</title>\n",
       "<path fill=\"none\" stroke=\"black\" stroke-width=\"4\" d=\"M84,-0.5C84,-0.5 114,-0.5 114,-0.5 120,-0.5 126,-6.5 126,-12.5 126,-12.5 126,-24.5 126,-24.5 126,-30.5 120,-36.5 114,-36.5 114,-36.5 84,-36.5 84,-36.5 78,-36.5 72,-30.5 72,-24.5 72,-24.5 72,-12.5 72,-12.5 72,-6.5 78,-0.5 84,-0.5\"/>\n",
       "<text text-anchor=\"middle\" x=\"98.56\" y=\"-12.5\" font-family=\"Helvetica,sans-Serif\" font-size=\"20.00\">a</text>\n",
       "</g>\n",
       "<!-- e67f4&#45;&gt;a -->\n",
       "<g id=\"edge4\" class=\"edge\">\n",
       "<title>e67f4&#45;&gt;a</title>\n",
       "<path fill=\"none\" stroke=\"black\" stroke-width=\"4\" d=\"M71.71,-73.31C75.92,-65.03 81.05,-54.91 85.72,-45.69\"/>\n",
       "<polygon fill=\"black\" stroke=\"black\" stroke-width=\"4\" points=\"88.96,-47.03 90.37,-36.53 82.72,-43.87 88.96,-47.03\"/>\n",
       "</g>\n",
       "<!-- 07799 -->\n",
       "<g id=\"node6\" class=\"node\">\n",
       "<title>07799</title>\n",
       "<path fill=\"none\" stroke=\"black\" stroke-width=\"4\" d=\"M120,-219.5C120,-219.5 150,-219.5 150,-219.5 156,-219.5 162,-225.5 162,-231.5 162,-231.5 162,-243.5 162,-243.5 162,-249.5 156,-255.5 150,-255.5 150,-255.5 120,-255.5 120,-255.5 114,-255.5 108,-249.5 108,-243.5 108,-243.5 108,-231.5 108,-231.5 108,-225.5 114,-219.5 120,-219.5\"/>\n",
       "<text text-anchor=\"middle\" x=\"134.89\" y=\"-231.5\" font-family=\"Helvetica,sans-Serif\" font-size=\"20.00\">*</text>\n",
       "</g>\n",
       "<!-- 07799&#45;&gt;3d8c7 -->\n",
       "<g id=\"edge6\" class=\"edge\">\n",
       "<title>07799&#45;&gt;3d8c7</title>\n",
       "<path fill=\"none\" stroke=\"black\" stroke-width=\"4\" d=\"M126.29,-219.31C122.08,-211.03 116.95,-200.91 112.28,-191.69\"/>\n",
       "<polygon fill=\"black\" stroke=\"black\" stroke-width=\"4\" points=\"115.28,-189.87 107.63,-182.53 109.04,-193.03 115.28,-189.87\"/>\n",
       "</g>\n",
       "<!-- 2 -->\n",
       "<g id=\"node7\" class=\"node\">\n",
       "<title>2</title>\n",
       "<path fill=\"none\" stroke=\"black\" stroke-width=\"4\" d=\"M156,-146.5C156,-146.5 186,-146.5 186,-146.5 192,-146.5 198,-152.5 198,-158.5 198,-158.5 198,-170.5 198,-170.5 198,-176.5 192,-182.5 186,-182.5 186,-182.5 156,-182.5 156,-182.5 150,-182.5 144,-176.5 144,-170.5 144,-170.5 144,-158.5 144,-158.5 144,-152.5 150,-146.5 156,-146.5\"/>\n",
       "<text text-anchor=\"middle\" x=\"170.56\" y=\"-158.5\" font-family=\"Helvetica,sans-Serif\" font-size=\"20.00\">2</text>\n",
       "</g>\n",
       "<!-- 07799&#45;&gt;2 -->\n",
       "<g id=\"edge5\" class=\"edge\">\n",
       "<title>07799&#45;&gt;2</title>\n",
       "<path fill=\"none\" stroke=\"black\" stroke-width=\"4\" d=\"M143.71,-219.31C147.92,-211.03 153.05,-200.91 157.72,-191.69\"/>\n",
       "<polygon fill=\"black\" stroke=\"black\" stroke-width=\"4\" points=\"160.96,-193.03 162.37,-182.53 154.72,-189.87 160.96,-193.03\"/>\n",
       "</g>\n",
       "</g>\n",
       "</svg>\n"
      ]
     },
     "execution_count": 14,
     "metadata": {},
     "output_type": "execute_result"
    }
   ],
   "source": [
    "val g3 = 2 * g2; g3"
   ]
  },
  {
   "cell_type": "code",
   "execution_count": 15,
   "metadata": {},
   "outputs": [
    {
     "data": {
      "text/plain": [
       "false"
      ]
     },
     "execution_count": 15,
     "metadata": {},
     "output_type": "execute_result"
    }
   ],
   "source": [
    "g3.graph == g2.graph"
   ]
  },
  {
   "cell_type": "code",
   "execution_count": 16,
   "metadata": {},
   "outputs": [],
   "source": [
    "val func = def (b, c) { b * c }"
   ]
  },
  {
   "cell_type": "code",
   "execution_count": 17,
   "metadata": {},
   "outputs": [
    {
     "data": {
      "text/html": [
       "<svg width=\"251px\" height=\"337px\"\n",
       " viewBox=\"0.00 0.00 251.00 337.00\" xmlns=\"http://www.w3.org/2000/svg\" xmlns:xlink=\"http://www.w3.org/1999/xlink\">\n",
       "<g id=\"graph0\" class=\"graph\" transform=\"scale(1.0 1.0) rotate(0) translate(4 333)\">\n",
       "<title>%3</title>\n",
       "<polygon fill=\"white\" stroke=\"transparent\" points=\"-4,4 -4,-333 247,-333 247,4 -4,4\"/>\n",
       "<!-- 2d398 -->\n",
       "<g id=\"node1\" class=\"node\">\n",
       "<title>2d398</title>\n",
       "<path fill=\"none\" stroke=\"black\" stroke-width=\"4\" d=\"M39.19,-219.5C39.19,-219.5 86.81,-219.5 86.81,-219.5 92.81,-219.5 98.81,-225.5 98.81,-231.5 98.81,-231.5 98.81,-243.5 98.81,-243.5 98.81,-249.5 92.81,-255.5 86.81,-255.5 86.81,-255.5 39.19,-255.5 39.19,-255.5 33.19,-255.5 27.19,-249.5 27.19,-243.5 27.19,-243.5 27.19,-231.5 27.19,-231.5 27.19,-225.5 33.19,-219.5 39.19,-219.5\"/>\n",
       "<text text-anchor=\"middle\" x=\"63\" y=\"-231.5\" font-family=\"Helvetica,sans-Serif\" font-size=\"20.00\">2d398</text>\n",
       "</g>\n",
       "<!-- 66281 -->\n",
       "<g id=\"node2\" class=\"node\">\n",
       "<title>66281</title>\n",
       "<path fill=\"none\" stroke=\"black\" stroke-width=\"4\" d=\"M48,-146.5C48,-146.5 78,-146.5 78,-146.5 84,-146.5 90,-152.5 90,-158.5 90,-158.5 90,-170.5 90,-170.5 90,-176.5 84,-182.5 78,-182.5 78,-182.5 48,-182.5 48,-182.5 42,-182.5 36,-176.5 36,-170.5 36,-170.5 36,-158.5 36,-158.5 36,-152.5 42,-146.5 48,-146.5\"/>\n",
       "<text text-anchor=\"middle\" x=\"62.84\" y=\"-158.5\" font-family=\"Helvetica,sans-Serif\" font-size=\"20.00\">=</text>\n",
       "</g>\n",
       "<!-- 2d398&#45;&gt;66281 -->\n",
       "<g id=\"edge1\" class=\"edge\">\n",
       "<title>2d398&#45;&gt;66281</title>\n",
       "<path fill=\"none\" stroke=\"black\" stroke-width=\"4\" d=\"M63,-219.31C63,-211.29 63,-201.55 63,-192.57\"/>\n",
       "<polygon fill=\"black\" stroke=\"black\" stroke-width=\"4\" points=\"66.5,-192.53 63,-182.53 59.5,-192.53 66.5,-192.53\"/>\n",
       "</g>\n",
       "<!-- 71fef -->\n",
       "<g id=\"node3\" class=\"node\">\n",
       "<title>71fef</title>\n",
       "<path fill=\"none\" stroke=\"black\" stroke-width=\"4\" d=\"M48,-73.5C48,-73.5 78,-73.5 78,-73.5 84,-73.5 90,-79.5 90,-85.5 90,-85.5 90,-97.5 90,-97.5 90,-103.5 84,-109.5 78,-109.5 78,-109.5 48,-109.5 48,-109.5 42,-109.5 36,-103.5 36,-97.5 36,-97.5 36,-85.5 36,-85.5 36,-79.5 42,-73.5 48,-73.5\"/>\n",
       "<text text-anchor=\"middle\" x=\"62.89\" y=\"-85.5\" font-family=\"Helvetica,sans-Serif\" font-size=\"20.00\">*</text>\n",
       "</g>\n",
       "<!-- 66281&#45;&gt;71fef -->\n",
       "<g id=\"edge2\" class=\"edge\">\n",
       "<title>66281&#45;&gt;71fef</title>\n",
       "<path fill=\"none\" stroke=\"black\" stroke-width=\"4\" d=\"M63,-146.31C63,-138.29 63,-128.55 63,-119.57\"/>\n",
       "<polygon fill=\"black\" stroke=\"black\" stroke-width=\"4\" points=\"66.5,-119.53 63,-109.53 59.5,-119.53 66.5,-119.53\"/>\n",
       "</g>\n",
       "<!-- b -->\n",
       "<g id=\"node4\" class=\"node\">\n",
       "<title>b</title>\n",
       "<path fill=\"none\" stroke=\"black\" stroke-width=\"4\" d=\"M12,-0.5C12,-0.5 42,-0.5 42,-0.5 48,-0.5 54,-6.5 54,-12.5 54,-12.5 54,-24.5 54,-24.5 54,-30.5 48,-36.5 42,-36.5 42,-36.5 12,-36.5 12,-36.5 6,-36.5 0,-30.5 0,-24.5 0,-24.5 0,-12.5 0,-12.5 0,-6.5 6,-0.5 12,-0.5\"/>\n",
       "<text text-anchor=\"middle\" x=\"26.56\" y=\"-12.5\" font-family=\"Helvetica,sans-Serif\" font-size=\"20.00\">b</text>\n",
       "</g>\n",
       "<!-- 71fef&#45;&gt;b -->\n",
       "<g id=\"edge3\" class=\"edge\">\n",
       "<title>71fef&#45;&gt;b</title>\n",
       "<path fill=\"none\" stroke=\"black\" stroke-width=\"4\" d=\"M54.29,-73.31C50.08,-65.03 44.95,-54.91 40.28,-45.69\"/>\n",
       "<polygon fill=\"black\" stroke=\"black\" stroke-width=\"4\" points=\"43.28,-43.87 35.63,-36.53 37.04,-47.03 43.28,-43.87\"/>\n",
       "</g>\n",
       "<!-- c -->\n",
       "<g id=\"node5\" class=\"node\">\n",
       "<title>c</title>\n",
       "<path fill=\"none\" stroke=\"black\" stroke-width=\"4\" d=\"M84,-0.5C84,-0.5 114,-0.5 114,-0.5 120,-0.5 126,-6.5 126,-12.5 126,-12.5 126,-24.5 126,-24.5 126,-30.5 120,-36.5 114,-36.5 114,-36.5 84,-36.5 84,-36.5 78,-36.5 72,-30.5 72,-24.5 72,-24.5 72,-12.5 72,-12.5 72,-6.5 78,-0.5 84,-0.5\"/>\n",
       "<text text-anchor=\"middle\" x=\"99\" y=\"-12.5\" font-family=\"Helvetica,sans-Serif\" font-size=\"20.00\">c</text>\n",
       "</g>\n",
       "<!-- 71fef&#45;&gt;c -->\n",
       "<g id=\"edge4\" class=\"edge\">\n",
       "<title>71fef&#45;&gt;c</title>\n",
       "<path fill=\"none\" stroke=\"black\" stroke-width=\"4\" d=\"M71.71,-73.31C75.92,-65.03 81.05,-54.91 85.72,-45.69\"/>\n",
       "<polygon fill=\"black\" stroke=\"black\" stroke-width=\"4\" points=\"88.96,-47.03 90.37,-36.53 82.72,-43.87 88.96,-47.03\"/>\n",
       "</g>\n",
       "<!-- 3dcdb -->\n",
       "<g id=\"node6\" class=\"node\">\n",
       "<title>3dcdb</title>\n",
       "<path fill=\"none\" stroke=\"black\" stroke-width=\"4\" d=\"M129,-292.5C129,-292.5 159,-292.5 159,-292.5 165,-292.5 171,-298.5 171,-304.5 171,-304.5 171,-316.5 171,-316.5 171,-322.5 165,-328.5 159,-328.5 159,-328.5 129,-328.5 129,-328.5 123,-328.5 117,-322.5 117,-316.5 117,-316.5 117,-304.5 117,-304.5 117,-298.5 123,-292.5 129,-292.5\"/>\n",
       "<text text-anchor=\"middle\" x=\"143.56\" y=\"-304.5\" font-family=\"Helvetica,sans-Serif\" font-size=\"20.00\">λ</text>\n",
       "</g>\n",
       "<!-- 3dcdb&#45;&gt;2d398 -->\n",
       "<g id=\"edge7\" class=\"edge\">\n",
       "<title>3dcdb&#45;&gt;2d398</title>\n",
       "<path fill=\"none\" stroke=\"black\" stroke-width=\"4\" d=\"M124.39,-292.31C114.14,-283.33 101.44,-272.19 90.25,-262.39\"/>\n",
       "<polygon fill=\"black\" stroke=\"black\" stroke-width=\"4\" points=\"92.25,-259.49 82.43,-255.53 87.64,-264.75 92.25,-259.49\"/>\n",
       "</g>\n",
       "<!-- 1 -->\n",
       "<g id=\"node7\" class=\"node\">\n",
       "<title>1</title>\n",
       "<path fill=\"none\" stroke=\"black\" stroke-width=\"4\" d=\"M129,-219.5C129,-219.5 159,-219.5 159,-219.5 165,-219.5 171,-225.5 171,-231.5 171,-231.5 171,-243.5 171,-243.5 171,-249.5 165,-255.5 159,-255.5 159,-255.5 129,-255.5 129,-255.5 123,-255.5 117,-249.5 117,-243.5 117,-243.5 117,-231.5 117,-231.5 117,-225.5 123,-219.5 129,-219.5\"/>\n",
       "<text text-anchor=\"middle\" x=\"143.56\" y=\"-231.5\" font-family=\"Helvetica,sans-Serif\" font-size=\"20.00\">1</text>\n",
       "</g>\n",
       "<!-- 3dcdb&#45;&gt;1 -->\n",
       "<g id=\"edge5\" class=\"edge\">\n",
       "<title>3dcdb&#45;&gt;1</title>\n",
       "<path fill=\"none\" stroke=\"black\" stroke-width=\"4\" d=\"M144,-292.31C144,-284.29 144,-274.55 144,-265.57\"/>\n",
       "<polygon fill=\"black\" stroke=\"black\" stroke-width=\"4\" points=\"147.5,-265.53 144,-255.53 140.5,-265.53 147.5,-265.53\"/>\n",
       "</g>\n",
       "<!-- 2 -->\n",
       "<g id=\"node8\" class=\"node\">\n",
       "<title>2</title>\n",
       "<path fill=\"none\" stroke=\"black\" stroke-width=\"4\" d=\"M201,-219.5C201,-219.5 231,-219.5 231,-219.5 237,-219.5 243,-225.5 243,-231.5 243,-231.5 243,-243.5 243,-243.5 243,-249.5 237,-255.5 231,-255.5 231,-255.5 201,-255.5 201,-255.5 195,-255.5 189,-249.5 189,-243.5 189,-243.5 189,-231.5 189,-231.5 189,-225.5 195,-219.5 201,-219.5\"/>\n",
       "<text text-anchor=\"middle\" x=\"215.56\" y=\"-231.5\" font-family=\"Helvetica,sans-Serif\" font-size=\"20.00\">2</text>\n",
       "</g>\n",
       "<!-- 3dcdb&#45;&gt;2 -->\n",
       "<g id=\"edge6\" class=\"edge\">\n",
       "<title>3dcdb&#45;&gt;2</title>\n",
       "<path fill=\"none\" stroke=\"black\" stroke-width=\"4\" d=\"M161.43,-292.31C170.45,-283.42 181.61,-272.41 191.49,-262.67\"/>\n",
       "<polygon fill=\"black\" stroke=\"black\" stroke-width=\"4\" points=\"194.07,-265.04 198.73,-255.53 189.15,-260.06 194.07,-265.04\"/>\n",
       "</g>\n",
       "</g>\n",
       "</svg>\n"
      ]
     },
     "execution_count": 17,
     "metadata": {},
     "output_type": "execute_result"
    }
   ],
   "source": [
    "func(1, 2)"
   ]
  },
  {
   "cell_type": "code",
   "execution_count": 18,
   "metadata": {},
   "outputs": [
    {
     "data": {
      "text/plain": [
       "true"
      ]
     },
     "execution_count": 18,
     "metadata": {},
     "output_type": "execute_result"
    }
   ],
   "source": [
    "func(1, 3).graph == func(1, 2).graph"
   ]
  }
 ],
 "metadata": {
  "kernelspec": {
   "display_name": "Kotlin",
   "language": "kotlin",
   "name": "kotlin"
  },
  "language_info": {
   "codemirror_mode": "text/x-kotlin",
   "file_extension": ".kt",
   "mimetype": "text/x-kotlin",
   "name": "kotlin",
   "pygments_lexer": "kotlin",
   "version": "1.4.20-dev-2342"
  }
 },
 "nbformat": 4,
 "nbformat_minor": 2
}
