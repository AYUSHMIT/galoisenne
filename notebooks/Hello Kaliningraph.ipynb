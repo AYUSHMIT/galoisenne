{
 "cells": [
  {
   "cell_type": "code",
   "execution_count": 1,
   "metadata": {},
   "outputs": [],
   "source": [
    "%use kaliningraph"
   ]
  },
  {
   "cell_type": "code",
   "execution_count": 2,
   "metadata": {},
   "outputs": [
    {
     "data": {
      "text/html": [
       "<svg width=\"242px\" height=\"69px\"\n",
       " viewBox=\"0.00 0.00 242.00 69.00\" xmlns=\"http://www.w3.org/2000/svg\" xmlns:xlink=\"http://www.w3.org/1999/xlink\">\n",
       "<g id=\"graph0\" class=\"graph\" transform=\"scale(1.0 1.0) rotate(0) translate(4 65)\">\n",
       "<title>%3</title>\n",
       "<!-- a -->\n",
       "<g id=\"node1\" class=\"node\">\n",
       "<title>a</title>\n",
       "<path fill=\"none\" stroke=\"black\" stroke-width=\"4\" d=\"M12,-0.5C12,-0.5 42,-0.5 42,-0.5 48,-0.5 54,-6.5 54,-12.5 54,-12.5 54,-24.5 54,-24.5 54,-30.5 48,-36.5 42,-36.5 42,-36.5 12,-36.5 12,-36.5 6,-36.5 0,-30.5 0,-24.5 0,-24.5 0,-12.5 0,-12.5 0,-6.5 6,-0.5 12,-0.5\"/>\n",
       "<text text-anchor=\"middle\" x=\"27\" y=\"-12.5\" font-family=\"Helvetica,sans-Serif\" font-size=\"20.00\">a</text>\n",
       "</g>\n",
       "<!-- c -->\n",
       "<g id=\"node2\" class=\"node\">\n",
       "<title>c</title>\n",
       "<path fill=\"none\" stroke=\"black\" stroke-width=\"4\" d=\"M102,-24.5C102,-24.5 132,-24.5 132,-24.5 138,-24.5 144,-30.5 144,-36.5 144,-36.5 144,-48.5 144,-48.5 144,-54.5 138,-60.5 132,-60.5 132,-60.5 102,-60.5 102,-60.5 96,-60.5 90,-54.5 90,-48.5 90,-48.5 90,-36.5 90,-36.5 90,-30.5 96,-24.5 102,-24.5\"/>\n",
       "<text text-anchor=\"middle\" x=\"117\" y=\"-36.5\" font-family=\"Helvetica,sans-Serif\" font-size=\"20.00\">c</text>\n",
       "</g>\n",
       "<!-- a&#45;&gt;c -->\n",
       "<g id=\"edge1\" class=\"edge\">\n",
       "<title>a&#45;&gt;c</title>\n",
       "<path fill=\"none\" stroke=\"black\" stroke-width=\"4\" d=\"M54.4,-25.7C62.48,-27.9 71.51,-30.37 80.1,-32.71\"/>\n",
       "<polygon fill=\"black\" stroke=\"black\" stroke-width=\"4\" points=\"79.35,-36.13 89.92,-35.39 81.19,-29.38 79.35,-36.13\"/>\n",
       "</g>\n",
       "<!-- b -->\n",
       "<g id=\"node3\" class=\"node\">\n",
       "<title>b</title>\n",
       "<path fill=\"none\" stroke=\"black\" stroke-width=\"4\" d=\"M192,-0.5C192,-0.5 222,-0.5 222,-0.5 228,-0.5 234,-6.5 234,-12.5 234,-12.5 234,-24.5 234,-24.5 234,-30.5 228,-36.5 222,-36.5 222,-36.5 192,-36.5 192,-36.5 186,-36.5 180,-30.5 180,-24.5 180,-24.5 180,-12.5 180,-12.5 180,-6.5 186,-0.5 192,-0.5\"/>\n",
       "<text text-anchor=\"middle\" x=\"207\" y=\"-12.5\" font-family=\"Helvetica,sans-Serif\" font-size=\"20.00\">b</text>\n",
       "</g>\n",
       "<!-- c&#45;&gt;b -->\n",
       "<g id=\"edge2\" class=\"edge\">\n",
       "<title>c&#45;&gt;b</title>\n",
       "<path fill=\"none\" stroke=\"black\" stroke-width=\"4\" d=\"M144.4,-35.3C152.48,-33.1 161.51,-30.63 170.1,-28.29\"/>\n",
       "<polygon fill=\"black\" stroke=\"black\" stroke-width=\"4\" points=\"171.19,-31.62 179.92,-25.61 169.35,-24.87 171.19,-31.62\"/>\n",
       "</g>\n",
       "<!-- b&#45;&gt;a -->\n",
       "<g id=\"edge3\" class=\"edge\">\n",
       "<title>b&#45;&gt;a</title>\n",
       "<path fill=\"none\" stroke=\"black\" stroke-width=\"4\" d=\"M179.76,-16.95C168.73,-16.37 155.74,-15.78 144,-15.5 120.01,-14.92 113.99,-14.92 90,-15.5 81.74,-15.7 72.87,-16.05 64.5,-16.44\"/>\n",
       "<polygon fill=\"black\" stroke=\"black\" stroke-width=\"4\" points=\"64.05,-12.96 54.24,-16.95 64.4,-19.95 64.05,-12.96\"/>\n",
       "</g>\n",
       "</g>\n",
       "</svg>\n"
      ]
     },
     "execution_count": 2,
     "metadata": {},
     "output_type": "execute_result"
    }
   ],
   "source": [
    "val graph = LabeledGraphBuilder { a - b - c - a }; graph"
   ]
  },
  {
   "cell_type": "code",
   "execution_count": 3,
   "metadata": {},
   "outputs": [
    {
     "data": {
      "text/html": [
       "<svg width=\"512px\" height=\"143px\"\n",
       " viewBox=\"0.00 0.00 512.00 143.29\" xmlns=\"http://www.w3.org/2000/svg\" xmlns:xlink=\"http://www.w3.org/1999/xlink\">\n",
       "<g id=\"graph0\" class=\"graph\" transform=\"scale(1.0 1.0) rotate(0) translate(4 139.29)\">\n",
       "<title>%3</title>\n",
       "<!-- 3 -->\n",
       "<g id=\"node1\" class=\"node\">\n",
       "<title>3</title>\n",
       "<path fill=\"none\" stroke=\"black\" stroke-width=\"4\" d=\"M192,-13.79C192,-13.79 222,-13.79 222,-13.79 228,-13.79 234,-19.79 234,-25.79 234,-25.79 234,-37.79 234,-37.79 234,-43.79 228,-49.79 222,-49.79 222,-49.79 192,-49.79 192,-49.79 186,-49.79 180,-43.79 180,-37.79 180,-37.79 180,-25.79 180,-25.79 180,-19.79 186,-13.79 192,-13.79\"/>\n",
       "<text text-anchor=\"middle\" x=\"207\" y=\"-25.79\" font-family=\"Helvetica,sans-Serif\" font-size=\"20.00\">3</text>\n",
       "</g>\n",
       "<!-- b -->\n",
       "<g id=\"node2\" class=\"node\">\n",
       "<title>b</title>\n",
       "<path fill=\"none\" stroke=\"black\" stroke-width=\"4\" d=\"M282,-60.79C282,-60.79 312,-60.79 312,-60.79 318,-60.79 324,-66.79 324,-72.79 324,-72.79 324,-84.79 324,-84.79 324,-90.79 318,-96.79 312,-96.79 312,-96.79 282,-96.79 282,-96.79 276,-96.79 270,-90.79 270,-84.79 270,-84.79 270,-72.79 270,-72.79 270,-66.79 276,-60.79 282,-60.79\"/>\n",
       "<text text-anchor=\"middle\" x=\"297\" y=\"-72.79\" font-family=\"Helvetica,sans-Serif\" font-size=\"20.00\">b</text>\n",
       "</g>\n",
       "<!-- 3&#45;&gt;b -->\n",
       "<g id=\"edge1\" class=\"edge\">\n",
       "<title>3&#45;&gt;b</title>\n",
       "<path fill=\"none\" stroke=\"black\" stroke-width=\"4\" d=\"M234.4,-45.89C242.74,-50.35 252.1,-55.34 260.94,-60.07\"/>\n",
       "<polygon fill=\"black\" stroke=\"black\" stroke-width=\"4\" points=\"259.45,-63.24 269.92,-64.86 262.75,-57.06 259.45,-63.24\"/>\n",
       "</g>\n",
       "<!-- c -->\n",
       "<g id=\"node4\" class=\"node\">\n",
       "<title>c</title>\n",
       "<path fill=\"none\" stroke=\"black\" stroke-width=\"4\" d=\"M462,-51.79C462,-51.79 492,-51.79 492,-51.79 498,-51.79 504,-57.79 504,-63.79 504,-63.79 504,-75.79 504,-75.79 504,-81.79 498,-87.79 492,-87.79 492,-87.79 462,-87.79 462,-87.79 456,-87.79 450,-81.79 450,-75.79 450,-75.79 450,-63.79 450,-63.79 450,-57.79 456,-51.79 462,-51.79\"/>\n",
       "<text text-anchor=\"middle\" x=\"477\" y=\"-63.79\" font-family=\"Helvetica,sans-Serif\" font-size=\"20.00\">c</text>\n",
       "</g>\n",
       "<!-- 3&#45;&gt;c -->\n",
       "<g id=\"edge2\" class=\"edge\">\n",
       "<title>3&#45;&gt;c</title>\n",
       "<path fill=\"none\" stroke=\"black\" stroke-width=\"4\" d=\"M234.3,-30.04C251.84,-29.31 275.39,-29.14 296,-31.79\"/>\n",
       "</g>\n",
       "<!-- a -->\n",
       "<g id=\"node3\" class=\"node\">\n",
       "<title>a</title>\n",
       "<path fill=\"none\" stroke=\"black\" stroke-width=\"4\" d=\"M372,-98.79C372,-98.79 402,-98.79 402,-98.79 408,-98.79 414,-104.79 414,-110.79 414,-110.79 414,-122.79 414,-122.79 414,-128.79 408,-134.79 402,-134.79 402,-134.79 372,-134.79 372,-134.79 366,-134.79 360,-128.79 360,-122.79 360,-122.79 360,-110.79 360,-110.79 360,-104.79 366,-98.79 372,-98.79\"/>\n",
       "<text text-anchor=\"middle\" x=\"387\" y=\"-110.79\" font-family=\"Helvetica,sans-Serif\" font-size=\"20.00\">a</text>\n",
       "</g>\n",
       "<!-- b&#45;&gt;a -->\n",
       "<g id=\"edge3\" class=\"edge\">\n",
       "<title>b&#45;&gt;a</title>\n",
       "<path fill=\"none\" stroke=\"black\" stroke-width=\"4\" d=\"M324.4,-90.19C332.66,-93.75 341.9,-97.75 350.66,-101.53\"/>\n",
       "<polygon fill=\"black\" stroke=\"black\" stroke-width=\"4\" points=\"349.35,-104.78 359.92,-105.53 352.13,-98.35 349.35,-104.78\"/>\n",
       "</g>\n",
       "<!-- a&#45;&gt;c -->\n",
       "<g id=\"edge4\" class=\"edge\">\n",
       "<title>a&#45;&gt;c</title>\n",
       "<path fill=\"none\" stroke=\"black\" stroke-width=\"4\" d=\"M414.4,-102.69C422.74,-98.23 432.1,-93.24 440.94,-88.51\"/>\n",
       "<polygon fill=\"black\" stroke=\"black\" stroke-width=\"4\" points=\"442.75,-91.52 449.92,-83.72 439.45,-85.34 442.75,-91.52\"/>\n",
       "</g>\n",
       "<!-- c&#45;&gt;b -->\n",
       "<g id=\"edge5\" class=\"edge\">\n",
       "<title>c&#45;&gt;b</title>\n",
       "<path fill=\"none\" stroke=\"black\" stroke-width=\"4\" d=\"M449.92,-71.11C419.41,-72.65 368.72,-75.21 334.36,-76.95\"/>\n",
       "<polygon fill=\"black\" stroke=\"black\" stroke-width=\"4\" points=\"334.07,-73.46 324.26,-77.46 334.43,-80.45 334.07,-73.46\"/>\n",
       "</g>\n",
       "<!-- 4 -->\n",
       "<g id=\"node5\" class=\"node\">\n",
       "<title>4</title>\n",
       "<path fill=\"none\" stroke=\"black\" stroke-width=\"4\" d=\"M102,-13.79C102,-13.79 132,-13.79 132,-13.79 138,-13.79 144,-19.79 144,-25.79 144,-25.79 144,-37.79 144,-37.79 144,-43.79 138,-49.79 132,-49.79 132,-49.79 102,-49.79 102,-49.79 96,-49.79 90,-43.79 90,-37.79 90,-37.79 90,-25.79 90,-25.79 90,-19.79 96,-13.79 102,-13.79\"/>\n",
       "<text text-anchor=\"middle\" x=\"117\" y=\"-25.79\" font-family=\"Helvetica,sans-Serif\" font-size=\"20.00\">4</text>\n",
       "</g>\n",
       "<!-- 4&#45;&gt;3 -->\n",
       "<g id=\"edge6\" class=\"edge\">\n",
       "<title>4&#45;&gt;3</title>\n",
       "<path fill=\"none\" stroke=\"black\" stroke-width=\"4\" d=\"M144.4,-31.79C152.39,-31.79 161.31,-31.79 169.82,-31.79\"/>\n",
       "<polygon fill=\"black\" stroke=\"black\" stroke-width=\"4\" points=\"169.92,-35.29 179.92,-31.79 169.92,-28.29 169.92,-35.29\"/>\n",
       "</g>\n",
       "<!-- 4&#45;&gt;c -->\n",
       "<g id=\"edge7\" class=\"edge\">\n",
       "<title>4&#45;&gt;c</title>\n",
       "<path fill=\"none\" stroke=\"black\" stroke-width=\"4\" d=\"M298,-31.79C347.78,-38.18 404.3,-51.27 440.04,-60.28\"/>\n",
       "<polygon fill=\"black\" stroke=\"black\" stroke-width=\"4\" points=\"439.44,-63.74 449.99,-62.82 441.17,-56.96 439.44,-63.74\"/>\n",
       "<path fill=\"none\" stroke=\"black\" stroke-width=\"4\" d=\"M144.01,-17.08C154.79,-11.78 167.65,-6.45 180,-3.79 203.46,1.26 210.54,1.26 234,-3.79 263.56,-10.15 266.5,-25.16 296,-31.79\"/>\n",
       "</g>\n",
       "<!-- 5 -->\n",
       "<g id=\"node6\" class=\"node\">\n",
       "<title>5</title>\n",
       "<path fill=\"none\" stroke=\"black\" stroke-width=\"4\" d=\"M12,-36.79C12,-36.79 42,-36.79 42,-36.79 48,-36.79 54,-42.79 54,-48.79 54,-48.79 54,-60.79 54,-60.79 54,-66.79 48,-72.79 42,-72.79 42,-72.79 12,-72.79 12,-72.79 6,-72.79 0,-66.79 0,-60.79 0,-60.79 0,-48.79 0,-48.79 0,-42.79 6,-36.79 12,-36.79\"/>\n",
       "<text text-anchor=\"middle\" x=\"27\" y=\"-48.79\" font-family=\"Helvetica,sans-Serif\" font-size=\"20.00\">5</text>\n",
       "</g>\n",
       "<!-- 5&#45;&gt;3 -->\n",
       "<g id=\"edge10\" class=\"edge\">\n",
       "<title>5&#45;&gt;3</title>\n",
       "<path fill=\"none\" stroke=\"black\" stroke-width=\"4\" d=\"M118,-78.79C139.83,-78.85 161.49,-67.46 177.86,-55.88\"/>\n",
       "<polygon fill=\"black\" stroke=\"black\" stroke-width=\"4\" points=\"180,-58.65 185.92,-49.86 175.81,-53.04 180,-58.65\"/>\n",
       "<path fill=\"none\" stroke=\"black\" stroke-width=\"4\" d=\"M54.07,-65.77C71.32,-72.06 94.62,-78.73 116,-78.79\"/>\n",
       "</g>\n",
       "<!-- 5&#45;&gt;b -->\n",
       "<g id=\"edge9\" class=\"edge\">\n",
       "<title>5&#45;&gt;b</title>\n",
       "<path fill=\"none\" stroke=\"black\" stroke-width=\"4\" d=\"M118,-78.79C167.08,-78.92 223.77,-78.89 259.74,-78.84\"/>\n",
       "<polygon fill=\"black\" stroke=\"black\" stroke-width=\"4\" points=\"259.77,-82.34 269.76,-78.83 259.76,-75.34 259.77,-82.34\"/>\n",
       "</g>\n",
       "<!-- 5&#45;&gt;4 -->\n",
       "<g id=\"edge8\" class=\"edge\">\n",
       "<title>5&#45;&gt;4</title>\n",
       "<path fill=\"none\" stroke=\"black\" stroke-width=\"4\" d=\"M54.4,-47.89C62.48,-45.78 71.51,-43.42 80.1,-41.17\"/>\n",
       "<polygon fill=\"black\" stroke=\"black\" stroke-width=\"4\" points=\"81.13,-44.52 89.92,-38.61 79.36,-37.75 81.13,-44.52\"/>\n",
       "</g>\n",
       "</g>\n",
       "</svg>\n"
      ]
     },
     "execution_count": 3,
     "metadata": {},
     "output_type": "execute_result"
    }
   ],
   "source": [
    "(1..3).fold(graph) { it, _ -> it.attachRandomT(3) }"
   ]
  },
  {
   "cell_type": "code",
   "execution_count": 4,
   "metadata": {},
   "outputs": [
    {
     "data": {
      "text/plain": [
       "{a=187, b=187, c=187}"
      ]
     },
     "execution_count": 4,
     "metadata": {},
     "output_type": "execute_result"
    }
   ],
   "source": [
    "graph.wl()"
   ]
  },
  {
   "cell_type": "code",
   "execution_count": 5,
   "metadata": {},
   "outputs": [
    {
     "data": {
      "text/html": [
       "<img src=\"data:image/jpg;base64,iVBORw0KGgoAAAANSUhEUgAAADwAAAA8CAIAAAC1nk4lAAAA4ElEQVR4XtXPQQ0AMAzDwPIn3QHwx9rHqnUAktmZb1mc4mVxipfFKV4Wp3hZnOJlcYqXxSleFqd4WZziZXGKl8UpXhaneFmc4mVxipfFKV4Wp3hZnOJlcYqXxSneyXjDy+IUL4tTvCxO8bI4xcviFC+LU7wsTvGyOMXL4hQvi1O8LE7xsjjFy+IUL4tTvCxO8bI4xcviFC+LU7wsTvFOxhteFqd4WZziZXGKl8UpXhaneFmc4mVxipfFKV4Wp3hZnOJlcYqXxSleFqd4WZziZXGKl8UpXhaneFmc4mVxivcAVsirjRYpRhMAAAAASUVORK5CYII=\"/>"
      ]
     },
     "execution_count": 5,
     "metadata": {},
     "output_type": "execute_result"
    }
   ],
   "source": [
    "graph.D"
   ]
  },
  {
   "cell_type": "code",
   "execution_count": 6,
   "metadata": {
    "scrolled": true
   },
   "outputs": [
    {
     "data": {
      "text/html": [
       "<img src=\"data:image/jpg;base64,iVBORw0KGgoAAAANSUhEUgAAADwAAAA8CAIAAAC1nk4lAAAA4UlEQVR4XtXPIQ4AIAzFUO5/afDUlEw0NM/M/a0VtQeyOMXL4hQvi1O8LE7xsjjFy+IUL4tTvCxO8bI4xcviFC+LU7wsTvGyOMXL4hQvi1O8LE7xsjjFy+IUL4tTvPt+ksUpXhaneFmc4mVxipfFKV4Wp3hZnOJlcYqXxSleFqd4WZziZXGKl8UpXhaneFmc4mVxipfFKV4Wp3hZnOJ9Gd/wsjjFy+IUL4tTvCxO8bI4xcviFC+LU7wsTvGyOMXL4hQvi1O8LE7xsjjFy+IUL4tTvCxO8bI4xcviFC+LU7xJB1bIq41IVJglAAAAAElFTkSuQmCC\"/>"
      ]
     },
     "execution_count": 6,
     "metadata": {},
     "output_type": "execute_result"
    }
   ],
   "source": [
    "graph.A"
   ]
  },
  {
   "cell_type": "code",
   "execution_count": 7,
   "metadata": {},
   "outputs": [
    {
     "data": {
      "text/html": [
       "<svg width=\"152px\" height=\"100px\"\n",
       " viewBox=\"0.00 0.00 152.00 100.00\" xmlns=\"http://www.w3.org/2000/svg\" xmlns:xlink=\"http://www.w3.org/1999/xlink\">\n",
       "<g id=\"graph0\" class=\"graph\" transform=\"scale(1.0 1.0) rotate(0) translate(4 96)\">\n",
       "<title>%3</title>\n",
       "<!-- a -->\n",
       "<g id=\"node1\" class=\"node\">\n",
       "<title>a</title>\n",
       "<path fill=\"none\" stroke=\"black\" stroke-width=\"4\" d=\"M12,-55.5C12,-55.5 42,-55.5 42,-55.5 48,-55.5 54,-61.5 54,-67.5 54,-67.5 54,-79.5 54,-79.5 54,-85.5 48,-91.5 42,-91.5 42,-91.5 12,-91.5 12,-91.5 6,-91.5 0,-85.5 0,-79.5 0,-79.5 0,-67.5 0,-67.5 0,-61.5 6,-55.5 12,-55.5\"/>\n",
       "<text text-anchor=\"middle\" x=\"27\" y=\"-67.5\" font-family=\"Helvetica,sans-Serif\" font-size=\"20.00\">a</text>\n",
       "</g>\n",
       "<!-- 8acf6 -->\n",
       "<g id=\"node2\" class=\"node\">\n",
       "<title>8acf6</title>\n",
       "<path fill=\"none\" stroke=\"black\" stroke-width=\"4\" d=\"M102,-27.5C102,-27.5 132,-27.5 132,-27.5 138,-27.5 144,-33.5 144,-39.5 144,-39.5 144,-51.5 144,-51.5 144,-57.5 138,-63.5 132,-63.5 132,-63.5 102,-63.5 102,-63.5 96,-63.5 90,-57.5 90,-51.5 90,-51.5 90,-39.5 90,-39.5 90,-33.5 96,-27.5 102,-27.5\"/>\n",
       "<text text-anchor=\"middle\" x=\"117\" y=\"-39.5\" font-family=\"Helvetica,sans-Serif\" font-size=\"20.00\">+</text>\n",
       "</g>\n",
       "<!-- a&#45;&gt;8acf6 -->\n",
       "<g id=\"edge1\" class=\"edge\">\n",
       "<title>a&#45;&gt;8acf6</title>\n",
       "<path fill=\"none\" stroke=\"blue\" stroke-width=\"4\" d=\"M54.4,-65.1C62.57,-62.5 71.7,-59.59 80.38,-56.83\"/>\n",
       "<polygon fill=\"blue\" stroke=\"blue\" stroke-width=\"4\" points=\"81.45,-60.17 89.92,-53.8 79.33,-53.5 81.45,-60.17\"/>\n",
       "</g>\n",
       "<!-- b -->\n",
       "<g id=\"node3\" class=\"node\">\n",
       "<title>b</title>\n",
       "<path fill=\"none\" stroke=\"black\" stroke-width=\"4\" d=\"M12,-0.5C12,-0.5 42,-0.5 42,-0.5 48,-0.5 54,-6.5 54,-12.5 54,-12.5 54,-24.5 54,-24.5 54,-30.5 48,-36.5 42,-36.5 42,-36.5 12,-36.5 12,-36.5 6,-36.5 0,-30.5 0,-24.5 0,-24.5 0,-12.5 0,-12.5 0,-6.5 6,-0.5 12,-0.5\"/>\n",
       "<text text-anchor=\"middle\" x=\"27\" y=\"-12.5\" font-family=\"Helvetica,sans-Serif\" font-size=\"20.00\">b</text>\n",
       "</g>\n",
       "<!-- b&#45;&gt;8acf6 -->\n",
       "<g id=\"edge2\" class=\"edge\">\n",
       "<title>b&#45;&gt;8acf6</title>\n",
       "<path fill=\"none\" stroke=\"red\" stroke-width=\"4\" d=\"M54.4,-26.6C62.48,-29.08 71.51,-31.85 80.1,-34.49\"/>\n",
       "<polygon fill=\"red\" stroke=\"red\" stroke-width=\"4\" points=\"79.33,-37.91 89.92,-37.5 81.39,-31.22 79.33,-37.91\"/>\n",
       "</g>\n",
       "</g>\n",
       "</svg>\n"
      ]
     },
     "execution_count": 7,
     "metadata": {},
     "output_type": "execute_result"
    }
   ],
   "source": [
    "a + b"
   ]
  },
  {
   "cell_type": "code",
   "execution_count": 8,
   "metadata": {},
   "outputs": [],
   "source": [
    "val g1 = a + b + c\n",
    "val g2 = b + a + c"
   ]
  },
  {
   "cell_type": "code",
   "execution_count": 9,
   "metadata": {},
   "outputs": [
    {
     "data": {
      "text/html": [
       "<svg width=\"242px\" height=\"127px\"\n",
       " viewBox=\"0.00 0.00 242.00 127.00\" xmlns=\"http://www.w3.org/2000/svg\" xmlns:xlink=\"http://www.w3.org/1999/xlink\">\n",
       "<g id=\"graph0\" class=\"graph\" transform=\"scale(1.0 1.0) rotate(0) translate(4 123)\">\n",
       "<title>%3</title>\n",
       "<!-- a -->\n",
       "<g id=\"node1\" class=\"node\">\n",
       "<title>a</title>\n",
       "<path fill=\"none\" stroke=\"black\" stroke-width=\"4\" d=\"M12,-82.5C12,-82.5 42,-82.5 42,-82.5 48,-82.5 54,-88.5 54,-94.5 54,-94.5 54,-106.5 54,-106.5 54,-112.5 48,-118.5 42,-118.5 42,-118.5 12,-118.5 12,-118.5 6,-118.5 0,-112.5 0,-106.5 0,-106.5 0,-94.5 0,-94.5 0,-88.5 6,-82.5 12,-82.5\"/>\n",
       "<text text-anchor=\"middle\" x=\"27\" y=\"-94.5\" font-family=\"Helvetica,sans-Serif\" font-size=\"20.00\">a</text>\n",
       "</g>\n",
       "<!-- b6c45 -->\n",
       "<g id=\"node2\" class=\"node\">\n",
       "<title>b6c45</title>\n",
       "<path fill=\"none\" stroke=\"black\" stroke-width=\"4\" d=\"M102,-55.5C102,-55.5 132,-55.5 132,-55.5 138,-55.5 144,-61.5 144,-67.5 144,-67.5 144,-79.5 144,-79.5 144,-85.5 138,-91.5 132,-91.5 132,-91.5 102,-91.5 102,-91.5 96,-91.5 90,-85.5 90,-79.5 90,-79.5 90,-67.5 90,-67.5 90,-61.5 96,-55.5 102,-55.5\"/>\n",
       "<text text-anchor=\"middle\" x=\"117\" y=\"-67.5\" font-family=\"Helvetica,sans-Serif\" font-size=\"20.00\">+</text>\n",
       "</g>\n",
       "<!-- a&#45;&gt;b6c45 -->\n",
       "<g id=\"edge1\" class=\"edge\">\n",
       "<title>a&#45;&gt;b6c45</title>\n",
       "<path fill=\"none\" stroke=\"blue\" stroke-width=\"4\" d=\"M54.4,-92.4C62.48,-89.92 71.51,-87.15 80.1,-84.51\"/>\n",
       "<polygon fill=\"blue\" stroke=\"blue\" stroke-width=\"4\" points=\"81.39,-87.78 89.92,-81.5 79.33,-81.09 81.39,-87.78\"/>\n",
       "</g>\n",
       "<!-- b33b8 -->\n",
       "<g id=\"node3\" class=\"node\">\n",
       "<title>b33b8</title>\n",
       "<path fill=\"none\" stroke=\"black\" stroke-width=\"4\" d=\"M192,-27.5C192,-27.5 222,-27.5 222,-27.5 228,-27.5 234,-33.5 234,-39.5 234,-39.5 234,-51.5 234,-51.5 234,-57.5 228,-63.5 222,-63.5 222,-63.5 192,-63.5 192,-63.5 186,-63.5 180,-57.5 180,-51.5 180,-51.5 180,-39.5 180,-39.5 180,-33.5 186,-27.5 192,-27.5\"/>\n",
       "<text text-anchor=\"middle\" x=\"207\" y=\"-39.5\" font-family=\"Helvetica,sans-Serif\" font-size=\"20.00\">+</text>\n",
       "</g>\n",
       "<!-- b6c45&#45;&gt;b33b8 -->\n",
       "<g id=\"edge2\" class=\"edge\">\n",
       "<title>b6c45&#45;&gt;b33b8</title>\n",
       "<path fill=\"none\" stroke=\"blue\" stroke-width=\"4\" d=\"M144.4,-65.1C152.57,-62.5 161.7,-59.59 170.38,-56.83\"/>\n",
       "<polygon fill=\"blue\" stroke=\"blue\" stroke-width=\"4\" points=\"171.45,-60.17 179.92,-53.8 169.33,-53.5 171.45,-60.17\"/>\n",
       "</g>\n",
       "<!-- b -->\n",
       "<g id=\"node4\" class=\"node\">\n",
       "<title>b</title>\n",
       "<path fill=\"none\" stroke=\"black\" stroke-width=\"4\" d=\"M12,-27.5C12,-27.5 42,-27.5 42,-27.5 48,-27.5 54,-33.5 54,-39.5 54,-39.5 54,-51.5 54,-51.5 54,-57.5 48,-63.5 42,-63.5 42,-63.5 12,-63.5 12,-63.5 6,-63.5 0,-57.5 0,-51.5 0,-51.5 0,-39.5 0,-39.5 0,-33.5 6,-27.5 12,-27.5\"/>\n",
       "<text text-anchor=\"middle\" x=\"27\" y=\"-39.5\" font-family=\"Helvetica,sans-Serif\" font-size=\"20.00\">b</text>\n",
       "</g>\n",
       "<!-- b&#45;&gt;b6c45 -->\n",
       "<g id=\"edge3\" class=\"edge\">\n",
       "<title>b&#45;&gt;b6c45</title>\n",
       "<path fill=\"none\" stroke=\"red\" stroke-width=\"4\" d=\"M54.4,-53.9C62.57,-56.5 71.7,-59.41 80.38,-62.17\"/>\n",
       "<polygon fill=\"red\" stroke=\"red\" stroke-width=\"4\" points=\"79.33,-65.5 89.92,-65.2 81.45,-58.83 79.33,-65.5\"/>\n",
       "</g>\n",
       "<!-- c -->\n",
       "<g id=\"node5\" class=\"node\">\n",
       "<title>c</title>\n",
       "<path fill=\"none\" stroke=\"black\" stroke-width=\"4\" d=\"M102,-0.5C102,-0.5 132,-0.5 132,-0.5 138,-0.5 144,-6.5 144,-12.5 144,-12.5 144,-24.5 144,-24.5 144,-30.5 138,-36.5 132,-36.5 132,-36.5 102,-36.5 102,-36.5 96,-36.5 90,-30.5 90,-24.5 90,-24.5 90,-12.5 90,-12.5 90,-6.5 96,-0.5 102,-0.5\"/>\n",
       "<text text-anchor=\"middle\" x=\"117\" y=\"-12.5\" font-family=\"Helvetica,sans-Serif\" font-size=\"20.00\">c</text>\n",
       "</g>\n",
       "<!-- c&#45;&gt;b33b8 -->\n",
       "<g id=\"edge4\" class=\"edge\">\n",
       "<title>c&#45;&gt;b33b8</title>\n",
       "<path fill=\"none\" stroke=\"red\" stroke-width=\"4\" d=\"M144.4,-26.6C152.48,-29.08 161.51,-31.85 170.1,-34.49\"/>\n",
       "<polygon fill=\"red\" stroke=\"red\" stroke-width=\"4\" points=\"169.33,-37.91 179.92,-37.5 171.39,-31.22 169.33,-37.91\"/>\n",
       "</g>\n",
       "</g>\n",
       "</svg>\n"
      ]
     },
     "execution_count": 9,
     "metadata": {},
     "output_type": "execute_result"
    }
   ],
   "source": [
    "g1"
   ]
  },
  {
   "cell_type": "code",
   "execution_count": 10,
   "metadata": {},
   "outputs": [
    {
     "data": {
      "text/html": [
       "<svg width=\"242px\" height=\"127px\"\n",
       " viewBox=\"0.00 0.00 242.00 127.00\" xmlns=\"http://www.w3.org/2000/svg\" xmlns:xlink=\"http://www.w3.org/1999/xlink\">\n",
       "<g id=\"graph0\" class=\"graph\" transform=\"scale(1.0 1.0) rotate(0) translate(4 123)\">\n",
       "<title>%3</title>\n",
       "<!-- b -->\n",
       "<g id=\"node1\" class=\"node\">\n",
       "<title>b</title>\n",
       "<path fill=\"none\" stroke=\"black\" stroke-width=\"4\" d=\"M12,-82.5C12,-82.5 42,-82.5 42,-82.5 48,-82.5 54,-88.5 54,-94.5 54,-94.5 54,-106.5 54,-106.5 54,-112.5 48,-118.5 42,-118.5 42,-118.5 12,-118.5 12,-118.5 6,-118.5 0,-112.5 0,-106.5 0,-106.5 0,-94.5 0,-94.5 0,-88.5 6,-82.5 12,-82.5\"/>\n",
       "<text text-anchor=\"middle\" x=\"27\" y=\"-94.5\" font-family=\"Helvetica,sans-Serif\" font-size=\"20.00\">b</text>\n",
       "</g>\n",
       "<!-- e94e5 -->\n",
       "<g id=\"node2\" class=\"node\">\n",
       "<title>e94e5</title>\n",
       "<path fill=\"none\" stroke=\"black\" stroke-width=\"4\" d=\"M102,-55.5C102,-55.5 132,-55.5 132,-55.5 138,-55.5 144,-61.5 144,-67.5 144,-67.5 144,-79.5 144,-79.5 144,-85.5 138,-91.5 132,-91.5 132,-91.5 102,-91.5 102,-91.5 96,-91.5 90,-85.5 90,-79.5 90,-79.5 90,-67.5 90,-67.5 90,-61.5 96,-55.5 102,-55.5\"/>\n",
       "<text text-anchor=\"middle\" x=\"117\" y=\"-67.5\" font-family=\"Helvetica,sans-Serif\" font-size=\"20.00\">+</text>\n",
       "</g>\n",
       "<!-- b&#45;&gt;e94e5 -->\n",
       "<g id=\"edge1\" class=\"edge\">\n",
       "<title>b&#45;&gt;e94e5</title>\n",
       "<path fill=\"none\" stroke=\"blue\" stroke-width=\"4\" d=\"M54.4,-92.4C62.48,-89.92 71.51,-87.15 80.1,-84.51\"/>\n",
       "<polygon fill=\"blue\" stroke=\"blue\" stroke-width=\"4\" points=\"81.39,-87.78 89.92,-81.5 79.33,-81.09 81.39,-87.78\"/>\n",
       "</g>\n",
       "<!-- 176b8 -->\n",
       "<g id=\"node3\" class=\"node\">\n",
       "<title>176b8</title>\n",
       "<path fill=\"none\" stroke=\"black\" stroke-width=\"4\" d=\"M192,-27.5C192,-27.5 222,-27.5 222,-27.5 228,-27.5 234,-33.5 234,-39.5 234,-39.5 234,-51.5 234,-51.5 234,-57.5 228,-63.5 222,-63.5 222,-63.5 192,-63.5 192,-63.5 186,-63.5 180,-57.5 180,-51.5 180,-51.5 180,-39.5 180,-39.5 180,-33.5 186,-27.5 192,-27.5\"/>\n",
       "<text text-anchor=\"middle\" x=\"207\" y=\"-39.5\" font-family=\"Helvetica,sans-Serif\" font-size=\"20.00\">+</text>\n",
       "</g>\n",
       "<!-- e94e5&#45;&gt;176b8 -->\n",
       "<g id=\"edge2\" class=\"edge\">\n",
       "<title>e94e5&#45;&gt;176b8</title>\n",
       "<path fill=\"none\" stroke=\"blue\" stroke-width=\"4\" d=\"M144.4,-65.1C152.57,-62.5 161.7,-59.59 170.38,-56.83\"/>\n",
       "<polygon fill=\"blue\" stroke=\"blue\" stroke-width=\"4\" points=\"171.45,-60.17 179.92,-53.8 169.33,-53.5 171.45,-60.17\"/>\n",
       "</g>\n",
       "<!-- a -->\n",
       "<g id=\"node4\" class=\"node\">\n",
       "<title>a</title>\n",
       "<path fill=\"none\" stroke=\"black\" stroke-width=\"4\" d=\"M12,-27.5C12,-27.5 42,-27.5 42,-27.5 48,-27.5 54,-33.5 54,-39.5 54,-39.5 54,-51.5 54,-51.5 54,-57.5 48,-63.5 42,-63.5 42,-63.5 12,-63.5 12,-63.5 6,-63.5 0,-57.5 0,-51.5 0,-51.5 0,-39.5 0,-39.5 0,-33.5 6,-27.5 12,-27.5\"/>\n",
       "<text text-anchor=\"middle\" x=\"27\" y=\"-39.5\" font-family=\"Helvetica,sans-Serif\" font-size=\"20.00\">a</text>\n",
       "</g>\n",
       "<!-- a&#45;&gt;e94e5 -->\n",
       "<g id=\"edge3\" class=\"edge\">\n",
       "<title>a&#45;&gt;e94e5</title>\n",
       "<path fill=\"none\" stroke=\"red\" stroke-width=\"4\" d=\"M54.4,-53.9C62.57,-56.5 71.7,-59.41 80.38,-62.17\"/>\n",
       "<polygon fill=\"red\" stroke=\"red\" stroke-width=\"4\" points=\"79.33,-65.5 89.92,-65.2 81.45,-58.83 79.33,-65.5\"/>\n",
       "</g>\n",
       "<!-- c -->\n",
       "<g id=\"node5\" class=\"node\">\n",
       "<title>c</title>\n",
       "<path fill=\"none\" stroke=\"black\" stroke-width=\"4\" d=\"M102,-0.5C102,-0.5 132,-0.5 132,-0.5 138,-0.5 144,-6.5 144,-12.5 144,-12.5 144,-24.5 144,-24.5 144,-30.5 138,-36.5 132,-36.5 132,-36.5 102,-36.5 102,-36.5 96,-36.5 90,-30.5 90,-24.5 90,-24.5 90,-12.5 90,-12.5 90,-6.5 96,-0.5 102,-0.5\"/>\n",
       "<text text-anchor=\"middle\" x=\"117\" y=\"-12.5\" font-family=\"Helvetica,sans-Serif\" font-size=\"20.00\">c</text>\n",
       "</g>\n",
       "<!-- c&#45;&gt;176b8 -->\n",
       "<g id=\"edge4\" class=\"edge\">\n",
       "<title>c&#45;&gt;176b8</title>\n",
       "<path fill=\"none\" stroke=\"red\" stroke-width=\"4\" d=\"M144.4,-26.6C152.48,-29.08 161.51,-31.85 170.1,-34.49\"/>\n",
       "<polygon fill=\"red\" stroke=\"red\" stroke-width=\"4\" points=\"169.33,-37.91 179.92,-37.5 171.39,-31.22 169.33,-37.91\"/>\n",
       "</g>\n",
       "</g>\n",
       "</svg>\n"
      ]
     },
     "execution_count": 10,
     "metadata": {},
     "output_type": "execute_result"
    }
   ],
   "source": [
    "g2"
   ]
  },
  {
   "cell_type": "code",
   "execution_count": 11,
   "metadata": {},
   "outputs": [
    {
     "data": {
      "text/plain": [
       "false"
      ]
     },
     "execution_count": 11,
     "metadata": {},
     "output_type": "execute_result"
    }
   ],
   "source": [
    "g1 == g2"
   ]
  },
  {
   "cell_type": "code",
   "execution_count": 12,
   "metadata": {},
   "outputs": [
    {
     "data": {
      "text/plain": [
       "true"
      ]
     },
     "execution_count": 12,
     "metadata": {},
     "output_type": "execute_result"
    }
   ],
   "source": [
    "g1.graph == g2.graph"
   ]
  },
  {
   "cell_type": "code",
   "execution_count": 13,
   "metadata": {},
   "outputs": [
    {
     "data": {
      "text/html": [
       "<svg width=\"332px\" height=\"154px\"\n",
       " viewBox=\"0.00 0.00 332.00 154.00\" xmlns=\"http://www.w3.org/2000/svg\" xmlns:xlink=\"http://www.w3.org/1999/xlink\">\n",
       "<g id=\"graph0\" class=\"graph\" transform=\"scale(1.0 1.0) rotate(0) translate(4 150)\">\n",
       "<title>%3</title>\n",
       "<!-- e94e5 -->\n",
       "<g id=\"node1\" class=\"node\">\n",
       "<title>e94e5</title>\n",
       "<path fill=\"none\" stroke=\"black\" stroke-width=\"4\" d=\"M102,-27.5C102,-27.5 132,-27.5 132,-27.5 138,-27.5 144,-33.5 144,-39.5 144,-39.5 144,-51.5 144,-51.5 144,-57.5 138,-63.5 132,-63.5 132,-63.5 102,-63.5 102,-63.5 96,-63.5 90,-57.5 90,-51.5 90,-51.5 90,-39.5 90,-39.5 90,-33.5 96,-27.5 102,-27.5\"/>\n",
       "<text text-anchor=\"middle\" x=\"117\" y=\"-39.5\" font-family=\"Helvetica,sans-Serif\" font-size=\"20.00\">+</text>\n",
       "</g>\n",
       "<!-- 176b8 -->\n",
       "<g id=\"node2\" class=\"node\">\n",
       "<title>176b8</title>\n",
       "<path fill=\"none\" stroke=\"black\" stroke-width=\"4\" d=\"M192,-54.5C192,-54.5 222,-54.5 222,-54.5 228,-54.5 234,-60.5 234,-66.5 234,-66.5 234,-78.5 234,-78.5 234,-84.5 228,-90.5 222,-90.5 222,-90.5 192,-90.5 192,-90.5 186,-90.5 180,-84.5 180,-78.5 180,-78.5 180,-66.5 180,-66.5 180,-60.5 186,-54.5 192,-54.5\"/>\n",
       "<text text-anchor=\"middle\" x=\"207\" y=\"-66.5\" font-family=\"Helvetica,sans-Serif\" font-size=\"20.00\">+</text>\n",
       "</g>\n",
       "<!-- e94e5&#45;&gt;176b8 -->\n",
       "<g id=\"edge1\" class=\"edge\">\n",
       "<title>e94e5&#45;&gt;176b8</title>\n",
       "<path fill=\"none\" stroke=\"blue\" stroke-width=\"4\" d=\"M144.4,-53.6C152.48,-56.08 161.51,-58.85 170.1,-61.49\"/>\n",
       "<polygon fill=\"blue\" stroke=\"blue\" stroke-width=\"4\" points=\"169.33,-64.91 179.92,-64.5 171.39,-58.22 169.33,-64.91\"/>\n",
       "</g>\n",
       "<!-- 3f65b -->\n",
       "<g id=\"node3\" class=\"node\">\n",
       "<title>3f65b</title>\n",
       "<path fill=\"none\" stroke=\"black\" stroke-width=\"4\" d=\"M282,-81.5C282,-81.5 312,-81.5 312,-81.5 318,-81.5 324,-87.5 324,-93.5 324,-93.5 324,-105.5 324,-105.5 324,-111.5 318,-117.5 312,-117.5 312,-117.5 282,-117.5 282,-117.5 276,-117.5 270,-111.5 270,-105.5 270,-105.5 270,-93.5 270,-93.5 270,-87.5 276,-81.5 282,-81.5\"/>\n",
       "<text text-anchor=\"middle\" x=\"297\" y=\"-93.5\" font-family=\"Helvetica,sans-Serif\" font-size=\"20.00\">*</text>\n",
       "</g>\n",
       "<!-- 176b8&#45;&gt;3f65b -->\n",
       "<g id=\"edge2\" class=\"edge\">\n",
       "<title>176b8&#45;&gt;3f65b</title>\n",
       "<path fill=\"none\" stroke=\"red\" stroke-width=\"4\" d=\"M234.4,-80.6C242.48,-83.08 251.51,-85.85 260.1,-88.49\"/>\n",
       "<polygon fill=\"red\" stroke=\"red\" stroke-width=\"4\" points=\"259.33,-91.91 269.92,-91.5 261.39,-85.22 259.33,-91.91\"/>\n",
       "</g>\n",
       "<!-- c -->\n",
       "<g id=\"node4\" class=\"node\">\n",
       "<title>c</title>\n",
       "<path fill=\"none\" stroke=\"black\" stroke-width=\"4\" d=\"M102,-82.5C102,-82.5 132,-82.5 132,-82.5 138,-82.5 144,-88.5 144,-94.5 144,-94.5 144,-106.5 144,-106.5 144,-112.5 138,-118.5 132,-118.5 132,-118.5 102,-118.5 102,-118.5 96,-118.5 90,-112.5 90,-106.5 90,-106.5 90,-94.5 90,-94.5 90,-88.5 96,-82.5 102,-82.5\"/>\n",
       "<text text-anchor=\"middle\" x=\"117\" y=\"-94.5\" font-family=\"Helvetica,sans-Serif\" font-size=\"20.00\">c</text>\n",
       "</g>\n",
       "<!-- c&#45;&gt;176b8 -->\n",
       "<g id=\"edge3\" class=\"edge\">\n",
       "<title>c&#45;&gt;176b8</title>\n",
       "<path fill=\"none\" stroke=\"red\" stroke-width=\"4\" d=\"M144.4,-92.1C152.57,-89.5 161.7,-86.59 170.38,-83.83\"/>\n",
       "<polygon fill=\"red\" stroke=\"red\" stroke-width=\"4\" points=\"171.45,-87.17 179.92,-80.8 169.33,-80.5 171.45,-87.17\"/>\n",
       "</g>\n",
       "<!-- 2 -->\n",
       "<g id=\"node5\" class=\"node\">\n",
       "<title>2</title>\n",
       "<path fill=\"none\" stroke=\"black\" stroke-width=\"4\" d=\"M192,-109.5C192,-109.5 222,-109.5 222,-109.5 228,-109.5 234,-115.5 234,-121.5 234,-121.5 234,-133.5 234,-133.5 234,-139.5 228,-145.5 222,-145.5 222,-145.5 192,-145.5 192,-145.5 186,-145.5 180,-139.5 180,-133.5 180,-133.5 180,-121.5 180,-121.5 180,-115.5 186,-109.5 192,-109.5\"/>\n",
       "<text text-anchor=\"middle\" x=\"207\" y=\"-121.5\" font-family=\"Helvetica,sans-Serif\" font-size=\"20.00\">2</text>\n",
       "</g>\n",
       "<!-- 2&#45;&gt;3f65b -->\n",
       "<g id=\"edge4\" class=\"edge\">\n",
       "<title>2&#45;&gt;3f65b</title>\n",
       "<path fill=\"none\" stroke=\"blue\" stroke-width=\"4\" d=\"M234.4,-119.1C242.57,-116.5 251.7,-113.59 260.38,-110.83\"/>\n",
       "<polygon fill=\"blue\" stroke=\"blue\" stroke-width=\"4\" points=\"261.45,-114.17 269.92,-107.8 259.33,-107.5 261.45,-114.17\"/>\n",
       "</g>\n",
       "<!-- b -->\n",
       "<g id=\"node6\" class=\"node\">\n",
       "<title>b</title>\n",
       "<path fill=\"none\" stroke=\"black\" stroke-width=\"4\" d=\"M12,-55.5C12,-55.5 42,-55.5 42,-55.5 48,-55.5 54,-61.5 54,-67.5 54,-67.5 54,-79.5 54,-79.5 54,-85.5 48,-91.5 42,-91.5 42,-91.5 12,-91.5 12,-91.5 6,-91.5 0,-85.5 0,-79.5 0,-79.5 0,-67.5 0,-67.5 0,-61.5 6,-55.5 12,-55.5\"/>\n",
       "<text text-anchor=\"middle\" x=\"27\" y=\"-67.5\" font-family=\"Helvetica,sans-Serif\" font-size=\"20.00\">b</text>\n",
       "</g>\n",
       "<!-- b&#45;&gt;e94e5 -->\n",
       "<g id=\"edge5\" class=\"edge\">\n",
       "<title>b&#45;&gt;e94e5</title>\n",
       "<path fill=\"none\" stroke=\"blue\" stroke-width=\"4\" d=\"M54.4,-65.1C62.57,-62.5 71.7,-59.59 80.38,-56.83\"/>\n",
       "<polygon fill=\"blue\" stroke=\"blue\" stroke-width=\"4\" points=\"81.45,-60.17 89.92,-53.8 79.33,-53.5 81.45,-60.17\"/>\n",
       "</g>\n",
       "<!-- a -->\n",
       "<g id=\"node7\" class=\"node\">\n",
       "<title>a</title>\n",
       "<path fill=\"none\" stroke=\"black\" stroke-width=\"4\" d=\"M12,-0.5C12,-0.5 42,-0.5 42,-0.5 48,-0.5 54,-6.5 54,-12.5 54,-12.5 54,-24.5 54,-24.5 54,-30.5 48,-36.5 42,-36.5 42,-36.5 12,-36.5 12,-36.5 6,-36.5 0,-30.5 0,-24.5 0,-24.5 0,-12.5 0,-12.5 0,-6.5 6,-0.5 12,-0.5\"/>\n",
       "<text text-anchor=\"middle\" x=\"27\" y=\"-12.5\" font-family=\"Helvetica,sans-Serif\" font-size=\"20.00\">a</text>\n",
       "</g>\n",
       "<!-- a&#45;&gt;e94e5 -->\n",
       "<g id=\"edge6\" class=\"edge\">\n",
       "<title>a&#45;&gt;e94e5</title>\n",
       "<path fill=\"none\" stroke=\"red\" stroke-width=\"4\" d=\"M54.4,-26.6C62.48,-29.08 71.51,-31.85 80.1,-34.49\"/>\n",
       "<polygon fill=\"red\" stroke=\"red\" stroke-width=\"4\" points=\"79.33,-37.91 89.92,-37.5 81.39,-31.22 79.33,-37.91\"/>\n",
       "</g>\n",
       "</g>\n",
       "</svg>\n"
      ]
     },
     "execution_count": 13,
     "metadata": {},
     "output_type": "execute_result"
    }
   ],
   "source": [
    "val g3 = 2 * g2; g3"
   ]
  },
  {
   "cell_type": "code",
   "execution_count": 14,
   "metadata": {},
   "outputs": [
    {
     "data": {
      "text/plain": [
       "false"
      ]
     },
     "execution_count": 14,
     "metadata": {},
     "output_type": "execute_result"
    }
   ],
   "source": [
    "g3.graph == g2.graph"
   ]
  },
  {
   "cell_type": "code",
   "execution_count": 15,
   "metadata": {},
   "outputs": [],
   "source": [
    "val func = def (b, c) { b * c }"
   ]
  },
  {
   "cell_type": "code",
   "execution_count": 16,
   "metadata": {},
   "outputs": [
    {
     "data": {
      "text/html": [
       "<svg width=\"438px\" height=\"182px\"\n",
       " viewBox=\"0.00 0.00 438.49 182.00\" xmlns=\"http://www.w3.org/2000/svg\" xmlns:xlink=\"http://www.w3.org/1999/xlink\">\n",
       "<g id=\"graph0\" class=\"graph\" transform=\"scale(1.0 1.0) rotate(0) translate(4 178)\">\n",
       "<title>%3</title>\n",
       "<!-- b4bcb -->\n",
       "<g id=\"node1\" class=\"node\">\n",
       "<title>b4bcb</title>\n",
       "<path fill=\"none\" stroke=\"black\" stroke-width=\"4\" d=\"M192,-27.5C192,-27.5 222,-27.5 222,-27.5 228,-27.5 234,-33.5 234,-39.5 234,-39.5 234,-51.5 234,-51.5 234,-57.5 228,-63.5 222,-63.5 222,-63.5 192,-63.5 192,-63.5 186,-63.5 180,-57.5 180,-51.5 180,-51.5 180,-39.5 180,-39.5 180,-33.5 186,-27.5 192,-27.5\"/>\n",
       "<text text-anchor=\"middle\" x=\"207\" y=\"-39.5\" font-family=\"Helvetica,sans-Serif\" font-size=\"20.00\">=</text>\n",
       "</g>\n",
       "<!-- c8248 -->\n",
       "<g id=\"node2\" class=\"node\">\n",
       "<title>c8248</title>\n",
       "<path fill=\"none\" stroke=\"black\" stroke-width=\"4\" d=\"M282,-27.5C282,-27.5 328.49,-27.5 328.49,-27.5 334.49,-27.5 340.49,-33.5 340.49,-39.5 340.49,-39.5 340.49,-51.5 340.49,-51.5 340.49,-57.5 334.49,-63.5 328.49,-63.5 328.49,-63.5 282,-63.5 282,-63.5 276,-63.5 270,-57.5 270,-51.5 270,-51.5 270,-39.5 270,-39.5 270,-33.5 276,-27.5 282,-27.5\"/>\n",
       "<text text-anchor=\"middle\" x=\"305.25\" y=\"-39.5\" font-family=\"Helvetica,sans-Serif\" font-size=\"20.00\">c8248</text>\n",
       "</g>\n",
       "<!-- b4bcb&#45;&gt;c8248 -->\n",
       "<g id=\"edge1\" class=\"edge\">\n",
       "<title>b4bcb&#45;&gt;c8248</title>\n",
       "<path fill=\"none\" stroke=\"black\" stroke-width=\"4\" d=\"M234.05,-45.5C241.97,-45.5 250.91,-45.5 259.69,-45.5\"/>\n",
       "<polygon fill=\"black\" stroke=\"black\" stroke-width=\"4\" points=\"259.86,-49 269.86,-45.5 259.86,-42 259.86,-49\"/>\n",
       "</g>\n",
       "<!-- 768c0 -->\n",
       "<g id=\"node3\" class=\"node\">\n",
       "<title>768c0</title>\n",
       "<path fill=\"none\" stroke=\"black\" stroke-width=\"4\" d=\"M388.49,-82.5C388.49,-82.5 418.49,-82.5 418.49,-82.5 424.49,-82.5 430.49,-88.5 430.49,-94.5 430.49,-94.5 430.49,-106.5 430.49,-106.5 430.49,-112.5 424.49,-118.5 418.49,-118.5 418.49,-118.5 388.49,-118.5 388.49,-118.5 382.49,-118.5 376.49,-112.5 376.49,-106.5 376.49,-106.5 376.49,-94.5 376.49,-94.5 376.49,-88.5 382.49,-82.5 388.49,-82.5\"/>\n",
       "<text text-anchor=\"middle\" x=\"403.49\" y=\"-94.5\" font-family=\"Helvetica,sans-Serif\" font-size=\"20.00\">λ</text>\n",
       "</g>\n",
       "<!-- c8248&#45;&gt;768c0 -->\n",
       "<g id=\"edge2\" class=\"edge\">\n",
       "<title>c8248&#45;&gt;768c0</title>\n",
       "<path fill=\"none\" stroke=\"blue\" stroke-width=\"4\" d=\"M337.76,-63.51C347.33,-68.98 357.9,-75.02 367.67,-80.6\"/>\n",
       "<polygon fill=\"blue\" stroke=\"blue\" stroke-width=\"4\" points=\"365.96,-83.65 376.38,-85.58 369.43,-77.57 365.96,-83.65\"/>\n",
       "</g>\n",
       "<!-- 1 -->\n",
       "<g id=\"node4\" class=\"node\">\n",
       "<title>1</title>\n",
       "<path fill=\"none\" stroke=\"black\" stroke-width=\"4\" d=\"M290.25,-137.5C290.25,-137.5 320.25,-137.5 320.25,-137.5 326.25,-137.5 332.25,-143.5 332.25,-149.5 332.25,-149.5 332.25,-161.5 332.25,-161.5 332.25,-167.5 326.25,-173.5 320.25,-173.5 320.25,-173.5 290.25,-173.5 290.25,-173.5 284.25,-173.5 278.25,-167.5 278.25,-161.5 278.25,-161.5 278.25,-149.5 278.25,-149.5 278.25,-143.5 284.25,-137.5 290.25,-137.5\"/>\n",
       "<text text-anchor=\"middle\" x=\"305.25\" y=\"-149.5\" font-family=\"Helvetica,sans-Serif\" font-size=\"20.00\">1</text>\n",
       "</g>\n",
       "<!-- 1&#45;&gt;768c0 -->\n",
       "<g id=\"edge3\" class=\"edge\">\n",
       "<title>1&#45;&gt;768c0</title>\n",
       "<path fill=\"none\" stroke=\"blue\" stroke-width=\"4\" d=\"M332.29,-140.62C343.1,-134.44 355.8,-127.18 367.41,-120.55\"/>\n",
       "<polygon fill=\"blue\" stroke=\"blue\" stroke-width=\"4\" points=\"369.48,-123.4 376.43,-115.4 366.01,-117.32 369.48,-123.4\"/>\n",
       "</g>\n",
       "<!-- 2 -->\n",
       "<g id=\"node5\" class=\"node\">\n",
       "<title>2</title>\n",
       "<path fill=\"none\" stroke=\"black\" stroke-width=\"4\" d=\"M290.25,-82.5C290.25,-82.5 320.25,-82.5 320.25,-82.5 326.25,-82.5 332.25,-88.5 332.25,-94.5 332.25,-94.5 332.25,-106.5 332.25,-106.5 332.25,-112.5 326.25,-118.5 320.25,-118.5 320.25,-118.5 290.25,-118.5 290.25,-118.5 284.25,-118.5 278.25,-112.5 278.25,-106.5 278.25,-106.5 278.25,-94.5 278.25,-94.5 278.25,-88.5 284.25,-82.5 290.25,-82.5\"/>\n",
       "<text text-anchor=\"middle\" x=\"305.25\" y=\"-94.5\" font-family=\"Helvetica,sans-Serif\" font-size=\"20.00\">2</text>\n",
       "</g>\n",
       "<!-- 2&#45;&gt;768c0 -->\n",
       "<g id=\"edge4\" class=\"edge\">\n",
       "<title>2&#45;&gt;768c0</title>\n",
       "<path fill=\"none\" stroke=\"red\" stroke-width=\"4\" d=\"M332.29,-100.5C342.78,-100.5 355.05,-100.5 366.37,-100.5\"/>\n",
       "<polygon fill=\"red\" stroke=\"red\" stroke-width=\"4\" points=\"366.43,-104 376.43,-100.5 366.43,-97 366.43,-104\"/>\n",
       "</g>\n",
       "<!-- 6a496 -->\n",
       "<g id=\"node6\" class=\"node\">\n",
       "<title>6a496</title>\n",
       "<path fill=\"none\" stroke=\"black\" stroke-width=\"4\" d=\"M102,-27.5C102,-27.5 132,-27.5 132,-27.5 138,-27.5 144,-33.5 144,-39.5 144,-39.5 144,-51.5 144,-51.5 144,-57.5 138,-63.5 132,-63.5 132,-63.5 102,-63.5 102,-63.5 96,-63.5 90,-57.5 90,-51.5 90,-51.5 90,-39.5 90,-39.5 90,-33.5 96,-27.5 102,-27.5\"/>\n",
       "<text text-anchor=\"middle\" x=\"117\" y=\"-39.5\" font-family=\"Helvetica,sans-Serif\" font-size=\"20.00\">*</text>\n",
       "</g>\n",
       "<!-- 6a496&#45;&gt;b4bcb -->\n",
       "<g id=\"edge5\" class=\"edge\">\n",
       "<title>6a496&#45;&gt;b4bcb</title>\n",
       "<path fill=\"none\" stroke=\"black\" stroke-width=\"4\" d=\"M144.4,-45.5C152.39,-45.5 161.31,-45.5 169.82,-45.5\"/>\n",
       "<polygon fill=\"black\" stroke=\"black\" stroke-width=\"4\" points=\"169.92,-49 179.92,-45.5 169.92,-42 169.92,-49\"/>\n",
       "</g>\n",
       "<!-- b -->\n",
       "<g id=\"node7\" class=\"node\">\n",
       "<title>b</title>\n",
       "<path fill=\"none\" stroke=\"black\" stroke-width=\"4\" d=\"M12,-55.5C12,-55.5 42,-55.5 42,-55.5 48,-55.5 54,-61.5 54,-67.5 54,-67.5 54,-79.5 54,-79.5 54,-85.5 48,-91.5 42,-91.5 42,-91.5 12,-91.5 12,-91.5 6,-91.5 0,-85.5 0,-79.5 0,-79.5 0,-67.5 0,-67.5 0,-61.5 6,-55.5 12,-55.5\"/>\n",
       "<text text-anchor=\"middle\" x=\"27\" y=\"-67.5\" font-family=\"Helvetica,sans-Serif\" font-size=\"20.00\">b</text>\n",
       "</g>\n",
       "<!-- b&#45;&gt;6a496 -->\n",
       "<g id=\"edge6\" class=\"edge\">\n",
       "<title>b&#45;&gt;6a496</title>\n",
       "<path fill=\"none\" stroke=\"blue\" stroke-width=\"4\" d=\"M54.4,-65.1C62.57,-62.5 71.7,-59.59 80.38,-56.83\"/>\n",
       "<polygon fill=\"blue\" stroke=\"blue\" stroke-width=\"4\" points=\"81.45,-60.17 89.92,-53.8 79.33,-53.5 81.45,-60.17\"/>\n",
       "</g>\n",
       "<!-- c -->\n",
       "<g id=\"node8\" class=\"node\">\n",
       "<title>c</title>\n",
       "<path fill=\"none\" stroke=\"black\" stroke-width=\"4\" d=\"M12,-0.5C12,-0.5 42,-0.5 42,-0.5 48,-0.5 54,-6.5 54,-12.5 54,-12.5 54,-24.5 54,-24.5 54,-30.5 48,-36.5 42,-36.5 42,-36.5 12,-36.5 12,-36.5 6,-36.5 0,-30.5 0,-24.5 0,-24.5 0,-12.5 0,-12.5 0,-6.5 6,-0.5 12,-0.5\"/>\n",
       "<text text-anchor=\"middle\" x=\"27\" y=\"-12.5\" font-family=\"Helvetica,sans-Serif\" font-size=\"20.00\">c</text>\n",
       "</g>\n",
       "<!-- c&#45;&gt;6a496 -->\n",
       "<g id=\"edge7\" class=\"edge\">\n",
       "<title>c&#45;&gt;6a496</title>\n",
       "<path fill=\"none\" stroke=\"red\" stroke-width=\"4\" d=\"M54.4,-26.6C62.48,-29.08 71.51,-31.85 80.1,-34.49\"/>\n",
       "<polygon fill=\"red\" stroke=\"red\" stroke-width=\"4\" points=\"79.33,-37.91 89.92,-37.5 81.39,-31.22 79.33,-37.91\"/>\n",
       "</g>\n",
       "</g>\n",
       "</svg>\n"
      ]
     },
     "execution_count": 16,
     "metadata": {},
     "output_type": "execute_result"
    }
   ],
   "source": [
    "func(1, 2)"
   ]
  },
  {
   "cell_type": "code",
   "execution_count": 17,
   "metadata": {},
   "outputs": [
    {
     "data": {
      "text/plain": [
       "true"
      ]
     },
     "execution_count": 17,
     "metadata": {},
     "output_type": "execute_result"
    }
   ],
   "source": [
    "func(1, 3).graph == func(1, 2).graph"
   ]
  }
 ],
 "metadata": {
  "kernelspec": {
   "display_name": "Kotlin",
   "language": "kotlin",
   "name": "kotlin"
  },
  "language_info": {
   "codemirror_mode": "text/x-kotlin",
   "file_extension": ".kt",
   "mimetype": "text/x-kotlin",
   "name": "kotlin",
   "pygments_lexer": "kotlin",
   "version": "1.4.20-dev-2342"
  }
 },
 "nbformat": 4,
 "nbformat_minor": 2
}
