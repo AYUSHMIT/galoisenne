{
 "cells": [
  {
   "cell_type": "code",
   "execution_count": 1,
   "metadata": {},
   "outputs": [],
   "source": [
    "%use kaliningraph"
   ]
  },
  {
   "cell_type": "code",
   "execution_count": 2,
   "metadata": {},
   "outputs": [],
   "source": [
    "val graph = LabeledGraph { a - b - c - a }"
   ]
  },
  {
   "cell_type": "code",
   "execution_count": 3,
   "metadata": {},
   "outputs": [
    {
     "data": {
      "text/html": [
       "<svg width=\"89px\" height=\"191px\"\n",
       " viewBox=\"0.00 0.00 89.00 191.00\" xmlns=\"http://www.w3.org/2000/svg\" xmlns:xlink=\"http://www.w3.org/1999/xlink\">\n",
       "<g id=\"graph0\" class=\"graph\" transform=\"scale(1.0 1.0) rotate(0) translate(4 187)\">\n",
       "<title>%3</title>\n",
       "<polygon fill=\"#ffffff\" stroke=\"transparent\" points=\"-4,4 -4,-187 85,-187 85,4 -4,4\"/>\n",
       "<!-- a -->\n",
       "<g id=\"node1\" class=\"node\">\n",
       "<title>a</title>\n",
       "<path fill=\"none\" stroke=\"#000000\" stroke-width=\"4\" d=\"M39,-146.5C39,-146.5 69,-146.5 69,-146.5 75,-146.5 81,-152.5 81,-158.5 81,-158.5 81,-170.5 81,-170.5 81,-176.5 75,-182.5 69,-182.5 69,-182.5 39,-182.5 39,-182.5 33,-182.5 27,-176.5 27,-170.5 27,-170.5 27,-158.5 27,-158.5 27,-152.5 33,-146.5 39,-146.5\"/>\n",
       "<text text-anchor=\"middle\" x=\"54\" y=\"-159.5\" font-family=\"Helvetica,sans-Serif\" font-size=\"20.00\" fill=\"#000000\">a</text>\n",
       "</g>\n",
       "<!-- b -->\n",
       "<g id=\"node2\" class=\"node\">\n",
       "<title>b</title>\n",
       "<path fill=\"none\" stroke=\"#000000\" stroke-width=\"4\" d=\"M12,-73.5C12,-73.5 42,-73.5 42,-73.5 48,-73.5 54,-79.5 54,-85.5 54,-85.5 54,-97.5 54,-97.5 54,-103.5 48,-109.5 42,-109.5 42,-109.5 12,-109.5 12,-109.5 6,-109.5 0,-103.5 0,-97.5 0,-97.5 0,-85.5 0,-85.5 0,-79.5 6,-73.5 12,-73.5\"/>\n",
       "<text text-anchor=\"middle\" x=\"27\" y=\"-86.5\" font-family=\"Helvetica,sans-Serif\" font-size=\"20.00\" fill=\"#000000\">b</text>\n",
       "</g>\n",
       "<!-- a&#45;&gt;b -->\n",
       "<g id=\"edge1\" class=\"edge\">\n",
       "<title>a&#45;&gt;b</title>\n",
       "<path fill=\"none\" stroke=\"#000000\" stroke-width=\"4\" d=\"M47.3258,-146.4551C44.2753,-138.2074 40.5938,-128.2536 37.2068,-119.0962\"/>\n",
       "<polygon fill=\"#000000\" stroke=\"#000000\" stroke-width=\"4\" points=\"40.4426,-117.7552 33.691,-109.5904 33.8773,-120.1836 40.4426,-117.7552\"/>\n",
       "</g>\n",
       "<!-- c -->\n",
       "<g id=\"node3\" class=\"node\">\n",
       "<title>c</title>\n",
       "<path fill=\"none\" stroke=\"#000000\" stroke-width=\"4\" d=\"M39,-.5C39,-.5 69,-.5 69,-.5 75,-.5 81,-6.5 81,-12.5 81,-12.5 81,-24.5 81,-24.5 81,-30.5 75,-36.5 69,-36.5 69,-36.5 39,-36.5 39,-36.5 33,-36.5 27,-30.5 27,-24.5 27,-24.5 27,-12.5 27,-12.5 27,-6.5 33,-.5 39,-.5\"/>\n",
       "<text text-anchor=\"middle\" x=\"54\" y=\"-13.5\" font-family=\"Helvetica,sans-Serif\" font-size=\"20.00\" fill=\"#000000\">c</text>\n",
       "</g>\n",
       "<!-- b&#45;&gt;c -->\n",
       "<g id=\"edge2\" class=\"edge\">\n",
       "<title>b&#45;&gt;c</title>\n",
       "<path fill=\"none\" stroke=\"#000000\" stroke-width=\"4\" d=\"M33.6742,-73.4551C36.7247,-65.2074 40.4062,-55.2536 43.7932,-46.0962\"/>\n",
       "<polygon fill=\"#000000\" stroke=\"#000000\" stroke-width=\"4\" points=\"47.1227,-47.1836 47.309,-36.5904 40.5574,-44.7552 47.1227,-47.1836\"/>\n",
       "</g>\n",
       "<!-- c&#45;&gt;a -->\n",
       "<g id=\"edge3\" class=\"edge\">\n",
       "<title>c&#45;&gt;a</title>\n",
       "<path fill=\"none\" stroke=\"#000000\" stroke-width=\"4\" d=\"M57.7475,-36.5745C59.7466,-47.1409 61.9966,-60.7659 63,-73 64.3442,-89.3894 64.3442,-93.6106 63,-110 62.2945,-118.6021 60.9727,-127.8918 59.5551,-136.3225\"/>\n",
       "<polygon fill=\"#000000\" stroke=\"#000000\" stroke-width=\"4\" points=\"56.0635,-135.9654 57.7475,-146.4255 62.9541,-137.1983 56.0635,-135.9654\"/>\n",
       "</g>\n",
       "</g>\n",
       "</svg>\n"
      ]
     },
     "execution_count": 3,
     "metadata": {},
     "output_type": "execute_result"
    }
   ],
   "source": [
    "graph"
   ]
  },
  {
   "cell_type": "code",
   "execution_count": 4,
   "metadata": {},
   "outputs": [
    {
     "data": {
      "text/html": [
       "<svg width=\"136px\" height=\"410px\"\n",
       " viewBox=\"0.00 0.00 136.00 410.00\" xmlns=\"http://www.w3.org/2000/svg\" xmlns:xlink=\"http://www.w3.org/1999/xlink\">\n",
       "<g id=\"graph0\" class=\"graph\" transform=\"scale(1.0 1.0) rotate(0) translate(4 406)\">\n",
       "<title>%3</title>\n",
       "<polygon fill=\"#ffffff\" stroke=\"transparent\" points=\"-4,4 -4,-406 132,-406 132,4 -4,4\"/>\n",
       "<!-- 3 -->\n",
       "<g id=\"node1\" class=\"node\">\n",
       "<title>3</title>\n",
       "<path fill=\"none\" stroke=\"#000000\" stroke-width=\"4\" d=\"M86,-219.5C86,-219.5 116,-219.5 116,-219.5 122,-219.5 128,-225.5 128,-231.5 128,-231.5 128,-243.5 128,-243.5 128,-249.5 122,-255.5 116,-255.5 116,-255.5 86,-255.5 86,-255.5 80,-255.5 74,-249.5 74,-243.5 74,-243.5 74,-231.5 74,-231.5 74,-225.5 80,-219.5 86,-219.5\"/>\n",
       "<text text-anchor=\"middle\" x=\"101\" y=\"-232.5\" font-family=\"Helvetica,sans-Serif\" font-size=\"20.00\" fill=\"#000000\">3</text>\n",
       "</g>\n",
       "<!-- a -->\n",
       "<g id=\"node2\" class=\"node\">\n",
       "<title>a</title>\n",
       "<path fill=\"none\" stroke=\"#000000\" stroke-width=\"4\" d=\"M31,-146.5C31,-146.5 61,-146.5 61,-146.5 67,-146.5 73,-152.5 73,-158.5 73,-158.5 73,-170.5 73,-170.5 73,-176.5 67,-182.5 61,-182.5 61,-182.5 31,-182.5 31,-182.5 25,-182.5 19,-176.5 19,-170.5 19,-170.5 19,-158.5 19,-158.5 19,-152.5 25,-146.5 31,-146.5\"/>\n",
       "<text text-anchor=\"middle\" x=\"46\" y=\"-159.5\" font-family=\"Helvetica,sans-Serif\" font-size=\"20.00\" fill=\"#000000\">a</text>\n",
       "</g>\n",
       "<!-- 3&#45;&gt;a -->\n",
       "<g id=\"edge1\" class=\"edge\">\n",
       "<title>3&#45;&gt;a</title>\n",
       "<path fill=\"none\" stroke=\"#000000\" stroke-width=\"4\" d=\"M87.4045,-219.4551C80.8599,-210.7686 72.8896,-200.1898 65.696,-190.642\"/>\n",
       "<polygon fill=\"#000000\" stroke=\"#000000\" stroke-width=\"4\" points=\"68.4427,-188.4711 59.6297,-182.5904 62.8518,-192.6834 68.4427,-188.4711\"/>\n",
       "</g>\n",
       "<!-- c -->\n",
       "<g id=\"node4\" class=\"node\">\n",
       "<title>c</title>\n",
       "<path fill=\"none\" stroke=\"#000000\" stroke-width=\"4\" d=\"M67,-.5C67,-.5 97,-.5 97,-.5 103,-.5 109,-6.5 109,-12.5 109,-12.5 109,-24.5 109,-24.5 109,-30.5 103,-36.5 97,-36.5 97,-36.5 67,-36.5 67,-36.5 61,-36.5 55,-30.5 55,-24.5 55,-24.5 55,-12.5 55,-12.5 55,-6.5 61,-.5 67,-.5\"/>\n",
       "<text text-anchor=\"middle\" x=\"82\" y=\"-13.5\" font-family=\"Helvetica,sans-Serif\" font-size=\"20.00\" fill=\"#000000\">c</text>\n",
       "</g>\n",
       "<!-- 3&#45;&gt;c -->\n",
       "<g id=\"edge2\" class=\"edge\">\n",
       "<title>3&#45;&gt;c</title>\n",
       "<path fill=\"none\" stroke=\"#000000\" stroke-width=\"4\" d=\"M99.4128,-219.2049C96.0935,-180.9458 88.3995,-92.2623 84.4443,-46.6742\"/>\n",
       "<polygon fill=\"#000000\" stroke=\"#000000\" stroke-width=\"4\" points=\"87.9207,-46.2491 83.5694,-36.589 80.9469,-46.8542 87.9207,-46.2491\"/>\n",
       "</g>\n",
       "<!-- b -->\n",
       "<g id=\"node3\" class=\"node\">\n",
       "<title>b</title>\n",
       "<path fill=\"none\" stroke=\"#000000\" stroke-width=\"4\" d=\"M12,-73.5C12,-73.5 42,-73.5 42,-73.5 48,-73.5 54,-79.5 54,-85.5 54,-85.5 54,-97.5 54,-97.5 54,-103.5 48,-109.5 42,-109.5 42,-109.5 12,-109.5 12,-109.5 6,-109.5 0,-103.5 0,-97.5 0,-97.5 0,-85.5 0,-85.5 0,-79.5 6,-73.5 12,-73.5\"/>\n",
       "<text text-anchor=\"middle\" x=\"27\" y=\"-86.5\" font-family=\"Helvetica,sans-Serif\" font-size=\"20.00\" fill=\"#000000\">b</text>\n",
       "</g>\n",
       "<!-- a&#45;&gt;b -->\n",
       "<g id=\"edge3\" class=\"edge\">\n",
       "<title>a&#45;&gt;b</title>\n",
       "<path fill=\"none\" stroke=\"#000000\" stroke-width=\"4\" d=\"M35.3876,-146.4551C32.4882,-138.3828 29.7365,-128.6764 27.7432,-119.6817\"/>\n",
       "<polygon fill=\"#000000\" stroke=\"#000000\" stroke-width=\"4\" points=\"31.1264,-118.7421 25.7882,-109.5904 24.2541,-120.0735 31.1264,-118.7421\"/>\n",
       "</g>\n",
       "<!-- b&#45;&gt;a -->\n",
       "<g id=\"edge5\" class=\"edge\">\n",
       "<title>b&#45;&gt;a</title>\n",
       "<path fill=\"none\" stroke=\"#000000\" stroke-width=\"4\" d=\"M37.6287,-109.5904C40.5275,-117.6687 43.2775,-127.3769 45.268,-136.3688\"/>\n",
       "<polygon fill=\"#000000\" stroke=\"#000000\" stroke-width=\"4\" points=\"41.8835,-137.3018 47.2191,-146.4551 48.7561,-135.9723 41.8835,-137.3018\"/>\n",
       "</g>\n",
       "<!-- b&#45;&gt;c -->\n",
       "<g id=\"edge4\" class=\"edge\">\n",
       "<title>b&#45;&gt;c</title>\n",
       "<path fill=\"none\" stroke=\"#000000\" stroke-width=\"4\" d=\"M40.5955,-73.4551C47.1401,-64.7686 55.1104,-54.1898 62.304,-44.642\"/>\n",
       "<polygon fill=\"#000000\" stroke=\"#000000\" stroke-width=\"4\" points=\"65.1482,-46.6834 68.3703,-36.5904 59.5573,-42.4711 65.1482,-46.6834\"/>\n",
       "</g>\n",
       "<!-- c&#45;&gt;a -->\n",
       "<g id=\"edge6\" class=\"edge\">\n",
       "<title>c&#45;&gt;a</title>\n",
       "<path fill=\"none\" stroke=\"#000000\" stroke-width=\"4\" d=\"M78.7994,-36.5032C75.378,-55.0427 69.5523,-84.7141 63,-110 60.7127,-118.827 57.8738,-128.3483 55.1752,-136.9248\"/>\n",
       "<polygon fill=\"#000000\" stroke=\"#000000\" stroke-width=\"4\" points=\"51.8381,-135.8695 52.1132,-146.4608 58.503,-138.0096 51.8381,-135.8695\"/>\n",
       "</g>\n",
       "<!-- 4 -->\n",
       "<g id=\"node5\" class=\"node\">\n",
       "<title>4</title>\n",
       "<path fill=\"none\" stroke=\"#000000\" stroke-width=\"4\" d=\"M58,-292.5C58,-292.5 88,-292.5 88,-292.5 94,-292.5 100,-298.5 100,-304.5 100,-304.5 100,-316.5 100,-316.5 100,-322.5 94,-328.5 88,-328.5 88,-328.5 58,-328.5 58,-328.5 52,-328.5 46,-322.5 46,-316.5 46,-316.5 46,-304.5 46,-304.5 46,-298.5 52,-292.5 58,-292.5\"/>\n",
       "<text text-anchor=\"middle\" x=\"73\" y=\"-305.5\" font-family=\"Helvetica,sans-Serif\" font-size=\"20.00\" fill=\"#000000\">4</text>\n",
       "</g>\n",
       "<!-- 4&#45;&gt;3 -->\n",
       "<g id=\"edge7\" class=\"edge\">\n",
       "<title>4&#45;&gt;3</title>\n",
       "<path fill=\"none\" stroke=\"#000000\" stroke-width=\"4\" d=\"M79.9214,-292.4551C83.0849,-284.2074 86.9027,-274.2536 90.4152,-265.0962\"/>\n",
       "<polygon fill=\"#000000\" stroke=\"#000000\" stroke-width=\"4\" points=\"93.7478,-266.1806 94.0612,-255.5904 87.2121,-263.6737 93.7478,-266.1806\"/>\n",
       "</g>\n",
       "<!-- 4&#45;&gt;a -->\n",
       "<g id=\"edge8\" class=\"edge\">\n",
       "<title>4&#45;&gt;a</title>\n",
       "<path fill=\"none\" stroke=\"#000000\" stroke-width=\"4\" d=\"M69.635,-292.3042C65.027,-267.3868 56.7064,-222.3938 51.2683,-192.9877\"/>\n",
       "<polygon fill=\"#000000\" stroke=\"#000000\" stroke-width=\"4\" points=\"54.6676,-192.1219 49.4074,-182.9251 47.7843,-193.3949 54.6676,-192.1219\"/>\n",
       "</g>\n",
       "<!-- 5 -->\n",
       "<g id=\"node6\" class=\"node\">\n",
       "<title>5</title>\n",
       "<path fill=\"none\" stroke=\"#000000\" stroke-width=\"4\" d=\"M58,-365.5C58,-365.5 88,-365.5 88,-365.5 94,-365.5 100,-371.5 100,-377.5 100,-377.5 100,-389.5 100,-389.5 100,-395.5 94,-401.5 88,-401.5 88,-401.5 58,-401.5 58,-401.5 52,-401.5 46,-395.5 46,-389.5 46,-389.5 46,-377.5 46,-377.5 46,-371.5 52,-365.5 58,-365.5\"/>\n",
       "<text text-anchor=\"middle\" x=\"73\" y=\"-378.5\" font-family=\"Helvetica,sans-Serif\" font-size=\"20.00\" fill=\"#000000\">5</text>\n",
       "</g>\n",
       "<!-- 5&#45;&gt;4 -->\n",
       "<g id=\"edge9\" class=\"edge\">\n",
       "<title>5&#45;&gt;4</title>\n",
       "<path fill=\"none\" stroke=\"#000000\" stroke-width=\"4\" d=\"M73,-365.4551C73,-357.3828 73,-347.6764 73,-338.6817\"/>\n",
       "<polygon fill=\"#000000\" stroke=\"#000000\" stroke-width=\"4\" points=\"76.5001,-338.5903 73,-328.5904 69.5001,-338.5904 76.5001,-338.5903\"/>\n",
       "</g>\n",
       "</g>\n",
       "</svg>\n"
      ]
     },
     "execution_count": 4,
     "metadata": {},
     "output_type": "execute_result"
    }
   ],
   "source": [
    "(1..3).fold(graph) { it, _ -> it.attachRandomT(3) }"
   ]
  },
  {
   "cell_type": "code",
   "execution_count": 5,
   "metadata": {},
   "outputs": [
    {
     "data": {
      "text/plain": [
       "{a=1107296225, b=1107296225, c=1107296225}"
      ]
     },
     "execution_count": 5,
     "metadata": {},
     "output_type": "execute_result"
    }
   ],
   "source": [
    "graph.wl()"
   ]
  },
  {
   "cell_type": "code",
   "execution_count": 6,
   "metadata": {},
   "outputs": [
    {
     "data": {
      "text/html": [
       "<img src=\"data:image/jpg;base64,iVBORw0KGgoAAAANSUhEUgAAADwAAAA8CAIAAAC1nk4lAAAA4UlEQVR4XtXPIQ4AIAzFUO5/afDUlEw0NM/M/a01aA9kcYqXxSleFqd4WZziZXGKl8UpXhaneFmc4mVxipfFKV4Wp3hZnOJlcYqXxSleFqd4WZziZXGKl8UpXhaneF/GN7wsTvGyOMXL4hQvi1O8LE7xsjjFy+IUL4tTvCxO8bI4xcviFC+LU7wsTvGyOMXL4hQvi1O8LE7xsjjFy+IU776fZHGKl8UpXhaneFmc4mVxipfFKV4Wp3hZnOJlcYqXxSleFqd4WZziZXGKl8UpXhaneFmc4mVxipfFKV4Wp3hVB1bIq41FLMSyAAAAAElFTkSuQmCC\"/>"
      ]
     },
     "execution_count": 6,
     "metadata": {},
     "output_type": "execute_result"
    }
   ],
   "source": [
    "graph.D"
   ]
  },
  {
   "cell_type": "code",
   "execution_count": 7,
   "metadata": {
    "scrolled": true
   },
   "outputs": [
    {
     "data": {
      "text/html": [
       "<img src=\"data:image/jpg;base64,iVBORw0KGgoAAAANSUhEUgAAADwAAAA8CAIAAAC1nk4lAAAA4UlEQVR4XtXPIQ4AIAzFUO5/afDUlEw0NM/M/a01aA9kcYqXxSleFqd4WZziZXGKl8UpXhaneFmc4mVxipfFKV4Wp3hZnOJlcYqXxSleFqd4WZziZXGKl8UpXhaneF/GN7wsTvGyOMXL4hQvi1O8LE7xsjjFy+IUL4tTvCxO8bI4xcviFC+LU7wsTvGyOMXL4hQvi1O8LE7xsjjFy+IU776fZHGKl8UpXhaneFmc4mVxipfFKV4Wp3hZnOJlcYqXxSleFqd4WZziZXGKl8UpXhaneFmc4mVxipfFKV4Wp3hVB1bIq41FLMSyAAAAAElFTkSuQmCC\"/>"
      ]
     },
     "execution_count": 7,
     "metadata": {},
     "output_type": "execute_result"
    }
   ],
   "source": [
    "graph.A"
   ]
  },
  {
   "cell_type": "code",
   "execution_count": 8,
   "metadata": {},
   "outputs": [
    {
     "data": {
      "text/html": [
       "<svg width=\"134px\" height=\"118px\"\n",
       " viewBox=\"0.00 0.00 134.00 118.00\" xmlns=\"http://www.w3.org/2000/svg\" xmlns:xlink=\"http://www.w3.org/1999/xlink\">\n",
       "<g id=\"graph0\" class=\"graph\" transform=\"scale(1.0 1.0) rotate(0) translate(4 114)\">\n",
       "<title>%3</title>\n",
       "<polygon fill=\"#ffffff\" stroke=\"transparent\" points=\"-4,4 -4,-114 130,-114 130,4 -4,4\"/>\n",
       "<!-- d08ed -->\n",
       "<g id=\"node1\" class=\"node\">\n",
       "<title>d08ed</title>\n",
       "<path fill=\"none\" stroke=\"#000000\" stroke-width=\"4\" d=\"M48,-73.5C48,-73.5 78,-73.5 78,-73.5 84,-73.5 90,-79.5 90,-85.5 90,-85.5 90,-97.5 90,-97.5 90,-103.5 84,-109.5 78,-109.5 78,-109.5 48,-109.5 48,-109.5 42,-109.5 36,-103.5 36,-97.5 36,-97.5 36,-85.5 36,-85.5 36,-79.5 42,-73.5 48,-73.5\"/>\n",
       "<text text-anchor=\"middle\" x=\"63\" y=\"-86.5\" font-family=\"Helvetica,sans-Serif\" font-size=\"20.00\" fill=\"#000000\">+</text>\n",
       "</g>\n",
       "<!-- a -->\n",
       "<g id=\"node2\" class=\"node\">\n",
       "<title>a</title>\n",
       "<path fill=\"none\" stroke=\"#000000\" stroke-width=\"4\" d=\"M12,-.5C12,-.5 42,-.5 42,-.5 48,-.5 54,-6.5 54,-12.5 54,-12.5 54,-24.5 54,-24.5 54,-30.5 48,-36.5 42,-36.5 42,-36.5 12,-36.5 12,-36.5 6,-36.5 0,-30.5 0,-24.5 0,-24.5 0,-12.5 0,-12.5 0,-6.5 6,-.5 12,-.5\"/>\n",
       "<text text-anchor=\"middle\" x=\"27\" y=\"-13.5\" font-family=\"Helvetica,sans-Serif\" font-size=\"20.00\" fill=\"#000000\">a</text>\n",
       "</g>\n",
       "<!-- d08ed&#45;&gt;a -->\n",
       "<g id=\"edge1\" class=\"edge\">\n",
       "<title>d08ed&#45;&gt;a</title>\n",
       "<path fill=\"none\" stroke=\"#000000\" stroke-width=\"4\" d=\"M54.1011,-73.4551C49.9905,-65.1196 45.0205,-55.0416 40.4651,-45.8042\"/>\n",
       "<polygon fill=\"#000000\" stroke=\"#000000\" stroke-width=\"4\" points=\"43.4833,-44.011 35.9213,-36.5904 37.2052,-47.1071 43.4833,-44.011\"/>\n",
       "</g>\n",
       "<!-- b -->\n",
       "<g id=\"node3\" class=\"node\">\n",
       "<title>b</title>\n",
       "<path fill=\"none\" stroke=\"#000000\" stroke-width=\"4\" d=\"M84,-.5C84,-.5 114,-.5 114,-.5 120,-.5 126,-6.5 126,-12.5 126,-12.5 126,-24.5 126,-24.5 126,-30.5 120,-36.5 114,-36.5 114,-36.5 84,-36.5 84,-36.5 78,-36.5 72,-30.5 72,-24.5 72,-24.5 72,-12.5 72,-12.5 72,-6.5 78,-.5 84,-.5\"/>\n",
       "<text text-anchor=\"middle\" x=\"99\" y=\"-13.5\" font-family=\"Helvetica,sans-Serif\" font-size=\"20.00\" fill=\"#000000\">b</text>\n",
       "</g>\n",
       "<!-- d08ed&#45;&gt;b -->\n",
       "<g id=\"edge2\" class=\"edge\">\n",
       "<title>d08ed&#45;&gt;b</title>\n",
       "<path fill=\"none\" stroke=\"#000000\" stroke-width=\"4\" d=\"M71.8989,-73.4551C76.0095,-65.1196 80.9795,-55.0416 85.5349,-45.8042\"/>\n",
       "<polygon fill=\"#000000\" stroke=\"#000000\" stroke-width=\"4\" points=\"88.7948,-47.1071 90.0787,-36.5904 82.5167,-44.011 88.7948,-47.1071\"/>\n",
       "</g>\n",
       "</g>\n",
       "</svg>\n"
      ]
     },
     "execution_count": 8,
     "metadata": {},
     "output_type": "execute_result"
    }
   ],
   "source": [
    "a + b"
   ]
  },
  {
   "cell_type": "code",
   "execution_count": 9,
   "metadata": {},
   "outputs": [],
   "source": [
    "val g1 = a + b + c\n",
    "val g2 = b + a + c"
   ]
  },
  {
   "cell_type": "code",
   "execution_count": 10,
   "metadata": {},
   "outputs": [
    {
     "data": {
      "text/html": [
       "<svg width=\"170px\" height=\"191px\"\n",
       " viewBox=\"0.00 0.00 170.00 191.00\" xmlns=\"http://www.w3.org/2000/svg\" xmlns:xlink=\"http://www.w3.org/1999/xlink\">\n",
       "<g id=\"graph0\" class=\"graph\" transform=\"scale(1.0 1.0) rotate(0) translate(4 187)\">\n",
       "<title>%3</title>\n",
       "<polygon fill=\"#ffffff\" stroke=\"transparent\" points=\"-4,4 -4,-187 166,-187 166,4 -4,4\"/>\n",
       "<!-- e8939 -->\n",
       "<g id=\"node1\" class=\"node\">\n",
       "<title>e8939</title>\n",
       "<path fill=\"none\" stroke=\"#000000\" stroke-width=\"4\" d=\"M48,-73.5C48,-73.5 78,-73.5 78,-73.5 84,-73.5 90,-79.5 90,-85.5 90,-85.5 90,-97.5 90,-97.5 90,-103.5 84,-109.5 78,-109.5 78,-109.5 48,-109.5 48,-109.5 42,-109.5 36,-103.5 36,-97.5 36,-97.5 36,-85.5 36,-85.5 36,-79.5 42,-73.5 48,-73.5\"/>\n",
       "<text text-anchor=\"middle\" x=\"63\" y=\"-86.5\" font-family=\"Helvetica,sans-Serif\" font-size=\"20.00\" fill=\"#000000\">+</text>\n",
       "</g>\n",
       "<!-- a -->\n",
       "<g id=\"node2\" class=\"node\">\n",
       "<title>a</title>\n",
       "<path fill=\"none\" stroke=\"#000000\" stroke-width=\"4\" d=\"M12,-.5C12,-.5 42,-.5 42,-.5 48,-.5 54,-6.5 54,-12.5 54,-12.5 54,-24.5 54,-24.5 54,-30.5 48,-36.5 42,-36.5 42,-36.5 12,-36.5 12,-36.5 6,-36.5 0,-30.5 0,-24.5 0,-24.5 0,-12.5 0,-12.5 0,-6.5 6,-.5 12,-.5\"/>\n",
       "<text text-anchor=\"middle\" x=\"27\" y=\"-13.5\" font-family=\"Helvetica,sans-Serif\" font-size=\"20.00\" fill=\"#000000\">a</text>\n",
       "</g>\n",
       "<!-- e8939&#45;&gt;a -->\n",
       "<g id=\"edge1\" class=\"edge\">\n",
       "<title>e8939&#45;&gt;a</title>\n",
       "<path fill=\"none\" stroke=\"#000000\" stroke-width=\"4\" d=\"M54.1011,-73.4551C49.9905,-65.1196 45.0205,-55.0416 40.4651,-45.8042\"/>\n",
       "<polygon fill=\"#000000\" stroke=\"#000000\" stroke-width=\"4\" points=\"43.4833,-44.011 35.9213,-36.5904 37.2052,-47.1071 43.4833,-44.011\"/>\n",
       "</g>\n",
       "<!-- b -->\n",
       "<g id=\"node3\" class=\"node\">\n",
       "<title>b</title>\n",
       "<path fill=\"none\" stroke=\"#000000\" stroke-width=\"4\" d=\"M84,-.5C84,-.5 114,-.5 114,-.5 120,-.5 126,-6.5 126,-12.5 126,-12.5 126,-24.5 126,-24.5 126,-30.5 120,-36.5 114,-36.5 114,-36.5 84,-36.5 84,-36.5 78,-36.5 72,-30.5 72,-24.5 72,-24.5 72,-12.5 72,-12.5 72,-6.5 78,-.5 84,-.5\"/>\n",
       "<text text-anchor=\"middle\" x=\"99\" y=\"-13.5\" font-family=\"Helvetica,sans-Serif\" font-size=\"20.00\" fill=\"#000000\">b</text>\n",
       "</g>\n",
       "<!-- e8939&#45;&gt;b -->\n",
       "<g id=\"edge2\" class=\"edge\">\n",
       "<title>e8939&#45;&gt;b</title>\n",
       "<path fill=\"none\" stroke=\"#000000\" stroke-width=\"4\" d=\"M71.8989,-73.4551C76.0095,-65.1196 80.9795,-55.0416 85.5349,-45.8042\"/>\n",
       "<polygon fill=\"#000000\" stroke=\"#000000\" stroke-width=\"4\" points=\"88.7948,-47.1071 90.0787,-36.5904 82.5167,-44.011 88.7948,-47.1071\"/>\n",
       "</g>\n",
       "<!-- 05921 -->\n",
       "<g id=\"node4\" class=\"node\">\n",
       "<title>05921</title>\n",
       "<path fill=\"none\" stroke=\"#000000\" stroke-width=\"4\" d=\"M84,-146.5C84,-146.5 114,-146.5 114,-146.5 120,-146.5 126,-152.5 126,-158.5 126,-158.5 126,-170.5 126,-170.5 126,-176.5 120,-182.5 114,-182.5 114,-182.5 84,-182.5 84,-182.5 78,-182.5 72,-176.5 72,-170.5 72,-170.5 72,-158.5 72,-158.5 72,-152.5 78,-146.5 84,-146.5\"/>\n",
       "<text text-anchor=\"middle\" x=\"99\" y=\"-159.5\" font-family=\"Helvetica,sans-Serif\" font-size=\"20.00\" fill=\"#000000\">+</text>\n",
       "</g>\n",
       "<!-- 05921&#45;&gt;e8939 -->\n",
       "<g id=\"edge3\" class=\"edge\">\n",
       "<title>05921&#45;&gt;e8939</title>\n",
       "<path fill=\"none\" stroke=\"#000000\" stroke-width=\"4\" d=\"M90.1011,-146.4551C85.9905,-138.1196 81.0205,-128.0416 76.4651,-118.8042\"/>\n",
       "<polygon fill=\"#000000\" stroke=\"#000000\" stroke-width=\"4\" points=\"79.4833,-117.011 71.9213,-109.5904 73.2052,-120.1071 79.4833,-117.011\"/>\n",
       "</g>\n",
       "<!-- c -->\n",
       "<g id=\"node5\" class=\"node\">\n",
       "<title>c</title>\n",
       "<path fill=\"none\" stroke=\"#000000\" stroke-width=\"4\" d=\"M120,-73.5C120,-73.5 150,-73.5 150,-73.5 156,-73.5 162,-79.5 162,-85.5 162,-85.5 162,-97.5 162,-97.5 162,-103.5 156,-109.5 150,-109.5 150,-109.5 120,-109.5 120,-109.5 114,-109.5 108,-103.5 108,-97.5 108,-97.5 108,-85.5 108,-85.5 108,-79.5 114,-73.5 120,-73.5\"/>\n",
       "<text text-anchor=\"middle\" x=\"135\" y=\"-86.5\" font-family=\"Helvetica,sans-Serif\" font-size=\"20.00\" fill=\"#000000\">c</text>\n",
       "</g>\n",
       "<!-- 05921&#45;&gt;c -->\n",
       "<g id=\"edge4\" class=\"edge\">\n",
       "<title>05921&#45;&gt;c</title>\n",
       "<path fill=\"none\" stroke=\"#000000\" stroke-width=\"4\" d=\"M107.8989,-146.4551C112.0095,-138.1196 116.9795,-128.0416 121.5349,-118.8042\"/>\n",
       "<polygon fill=\"#000000\" stroke=\"#000000\" stroke-width=\"4\" points=\"124.7948,-120.1071 126.0787,-109.5904 118.5167,-117.011 124.7948,-120.1071\"/>\n",
       "</g>\n",
       "</g>\n",
       "</svg>\n"
      ]
     },
     "execution_count": 10,
     "metadata": {},
     "output_type": "execute_result"
    }
   ],
   "source": [
    "g1"
   ]
  },
  {
   "cell_type": "code",
   "execution_count": 11,
   "metadata": {},
   "outputs": [
    {
     "data": {
      "text/html": [
       "<svg width=\"170px\" height=\"191px\"\n",
       " viewBox=\"0.00 0.00 170.00 191.00\" xmlns=\"http://www.w3.org/2000/svg\" xmlns:xlink=\"http://www.w3.org/1999/xlink\">\n",
       "<g id=\"graph0\" class=\"graph\" transform=\"scale(1.0 1.0) rotate(0) translate(4 187)\">\n",
       "<title>%3</title>\n",
       "<polygon fill=\"#ffffff\" stroke=\"transparent\" points=\"-4,4 -4,-187 166,-187 166,4 -4,4\"/>\n",
       "<!-- 1d742 -->\n",
       "<g id=\"node1\" class=\"node\">\n",
       "<title>1d742</title>\n",
       "<path fill=\"none\" stroke=\"#000000\" stroke-width=\"4\" d=\"M48,-73.5C48,-73.5 78,-73.5 78,-73.5 84,-73.5 90,-79.5 90,-85.5 90,-85.5 90,-97.5 90,-97.5 90,-103.5 84,-109.5 78,-109.5 78,-109.5 48,-109.5 48,-109.5 42,-109.5 36,-103.5 36,-97.5 36,-97.5 36,-85.5 36,-85.5 36,-79.5 42,-73.5 48,-73.5\"/>\n",
       "<text text-anchor=\"middle\" x=\"63\" y=\"-86.5\" font-family=\"Helvetica,sans-Serif\" font-size=\"20.00\" fill=\"#000000\">+</text>\n",
       "</g>\n",
       "<!-- b -->\n",
       "<g id=\"node2\" class=\"node\">\n",
       "<title>b</title>\n",
       "<path fill=\"none\" stroke=\"#000000\" stroke-width=\"4\" d=\"M12,-.5C12,-.5 42,-.5 42,-.5 48,-.5 54,-6.5 54,-12.5 54,-12.5 54,-24.5 54,-24.5 54,-30.5 48,-36.5 42,-36.5 42,-36.5 12,-36.5 12,-36.5 6,-36.5 0,-30.5 0,-24.5 0,-24.5 0,-12.5 0,-12.5 0,-6.5 6,-.5 12,-.5\"/>\n",
       "<text text-anchor=\"middle\" x=\"27\" y=\"-13.5\" font-family=\"Helvetica,sans-Serif\" font-size=\"20.00\" fill=\"#000000\">b</text>\n",
       "</g>\n",
       "<!-- 1d742&#45;&gt;b -->\n",
       "<g id=\"edge1\" class=\"edge\">\n",
       "<title>1d742&#45;&gt;b</title>\n",
       "<path fill=\"none\" stroke=\"#000000\" stroke-width=\"4\" d=\"M54.1011,-73.4551C49.9905,-65.1196 45.0205,-55.0416 40.4651,-45.8042\"/>\n",
       "<polygon fill=\"#000000\" stroke=\"#000000\" stroke-width=\"4\" points=\"43.4833,-44.011 35.9213,-36.5904 37.2052,-47.1071 43.4833,-44.011\"/>\n",
       "</g>\n",
       "<!-- a -->\n",
       "<g id=\"node3\" class=\"node\">\n",
       "<title>a</title>\n",
       "<path fill=\"none\" stroke=\"#000000\" stroke-width=\"4\" d=\"M84,-.5C84,-.5 114,-.5 114,-.5 120,-.5 126,-6.5 126,-12.5 126,-12.5 126,-24.5 126,-24.5 126,-30.5 120,-36.5 114,-36.5 114,-36.5 84,-36.5 84,-36.5 78,-36.5 72,-30.5 72,-24.5 72,-24.5 72,-12.5 72,-12.5 72,-6.5 78,-.5 84,-.5\"/>\n",
       "<text text-anchor=\"middle\" x=\"99\" y=\"-13.5\" font-family=\"Helvetica,sans-Serif\" font-size=\"20.00\" fill=\"#000000\">a</text>\n",
       "</g>\n",
       "<!-- 1d742&#45;&gt;a -->\n",
       "<g id=\"edge2\" class=\"edge\">\n",
       "<title>1d742&#45;&gt;a</title>\n",
       "<path fill=\"none\" stroke=\"#000000\" stroke-width=\"4\" d=\"M71.8989,-73.4551C76.0095,-65.1196 80.9795,-55.0416 85.5349,-45.8042\"/>\n",
       "<polygon fill=\"#000000\" stroke=\"#000000\" stroke-width=\"4\" points=\"88.7948,-47.1071 90.0787,-36.5904 82.5167,-44.011 88.7948,-47.1071\"/>\n",
       "</g>\n",
       "<!-- b0c1e -->\n",
       "<g id=\"node4\" class=\"node\">\n",
       "<title>b0c1e</title>\n",
       "<path fill=\"none\" stroke=\"#000000\" stroke-width=\"4\" d=\"M84,-146.5C84,-146.5 114,-146.5 114,-146.5 120,-146.5 126,-152.5 126,-158.5 126,-158.5 126,-170.5 126,-170.5 126,-176.5 120,-182.5 114,-182.5 114,-182.5 84,-182.5 84,-182.5 78,-182.5 72,-176.5 72,-170.5 72,-170.5 72,-158.5 72,-158.5 72,-152.5 78,-146.5 84,-146.5\"/>\n",
       "<text text-anchor=\"middle\" x=\"99\" y=\"-159.5\" font-family=\"Helvetica,sans-Serif\" font-size=\"20.00\" fill=\"#000000\">+</text>\n",
       "</g>\n",
       "<!-- b0c1e&#45;&gt;1d742 -->\n",
       "<g id=\"edge3\" class=\"edge\">\n",
       "<title>b0c1e&#45;&gt;1d742</title>\n",
       "<path fill=\"none\" stroke=\"#000000\" stroke-width=\"4\" d=\"M90.1011,-146.4551C85.9905,-138.1196 81.0205,-128.0416 76.4651,-118.8042\"/>\n",
       "<polygon fill=\"#000000\" stroke=\"#000000\" stroke-width=\"4\" points=\"79.4833,-117.011 71.9213,-109.5904 73.2052,-120.1071 79.4833,-117.011\"/>\n",
       "</g>\n",
       "<!-- c -->\n",
       "<g id=\"node5\" class=\"node\">\n",
       "<title>c</title>\n",
       "<path fill=\"none\" stroke=\"#000000\" stroke-width=\"4\" d=\"M120,-73.5C120,-73.5 150,-73.5 150,-73.5 156,-73.5 162,-79.5 162,-85.5 162,-85.5 162,-97.5 162,-97.5 162,-103.5 156,-109.5 150,-109.5 150,-109.5 120,-109.5 120,-109.5 114,-109.5 108,-103.5 108,-97.5 108,-97.5 108,-85.5 108,-85.5 108,-79.5 114,-73.5 120,-73.5\"/>\n",
       "<text text-anchor=\"middle\" x=\"135\" y=\"-86.5\" font-family=\"Helvetica,sans-Serif\" font-size=\"20.00\" fill=\"#000000\">c</text>\n",
       "</g>\n",
       "<!-- b0c1e&#45;&gt;c -->\n",
       "<g id=\"edge4\" class=\"edge\">\n",
       "<title>b0c1e&#45;&gt;c</title>\n",
       "<path fill=\"none\" stroke=\"#000000\" stroke-width=\"4\" d=\"M107.8989,-146.4551C112.0095,-138.1196 116.9795,-128.0416 121.5349,-118.8042\"/>\n",
       "<polygon fill=\"#000000\" stroke=\"#000000\" stroke-width=\"4\" points=\"124.7948,-120.1071 126.0787,-109.5904 118.5167,-117.011 124.7948,-120.1071\"/>\n",
       "</g>\n",
       "</g>\n",
       "</svg>\n"
      ]
     },
     "execution_count": 11,
     "metadata": {},
     "output_type": "execute_result"
    }
   ],
   "source": [
    "g2"
   ]
  },
  {
   "cell_type": "code",
   "execution_count": 12,
   "metadata": {},
   "outputs": [
    {
     "data": {
      "text/plain": [
       "false"
      ]
     },
     "execution_count": 12,
     "metadata": {},
     "output_type": "execute_result"
    }
   ],
   "source": [
    "g1 == g2"
   ]
  },
  {
   "cell_type": "code",
   "execution_count": 13,
   "metadata": {},
   "outputs": [
    {
     "data": {
      "text/plain": [
       "true"
      ]
     },
     "execution_count": 13,
     "metadata": {},
     "output_type": "execute_result"
    }
   ],
   "source": [
    "g1.toGraph() == g2.toGraph()"
   ]
  },
  {
   "cell_type": "code",
   "execution_count": 14,
   "metadata": {},
   "outputs": [
    {
     "data": {
      "text/html": [
       "<svg width=\"206px\" height=\"264px\"\n",
       " viewBox=\"0.00 0.00 206.00 264.00\" xmlns=\"http://www.w3.org/2000/svg\" xmlns:xlink=\"http://www.w3.org/1999/xlink\">\n",
       "<g id=\"graph0\" class=\"graph\" transform=\"scale(1.0 1.0) rotate(0) translate(4 260)\">\n",
       "<title>%3</title>\n",
       "<polygon fill=\"#ffffff\" stroke=\"transparent\" points=\"-4,4 -4,-260 202,-260 202,4 -4,4\"/>\n",
       "<!-- b0c1e -->\n",
       "<g id=\"node1\" class=\"node\">\n",
       "<title>b0c1e</title>\n",
       "<path fill=\"none\" stroke=\"#000000\" stroke-width=\"4\" d=\"M84,-146.5C84,-146.5 114,-146.5 114,-146.5 120,-146.5 126,-152.5 126,-158.5 126,-158.5 126,-170.5 126,-170.5 126,-176.5 120,-182.5 114,-182.5 114,-182.5 84,-182.5 84,-182.5 78,-182.5 72,-176.5 72,-170.5 72,-170.5 72,-158.5 72,-158.5 72,-152.5 78,-146.5 84,-146.5\"/>\n",
       "<text text-anchor=\"middle\" x=\"99\" y=\"-159.5\" font-family=\"Helvetica,sans-Serif\" font-size=\"20.00\" fill=\"#000000\">+</text>\n",
       "</g>\n",
       "<!-- 1d742 -->\n",
       "<g id=\"node2\" class=\"node\">\n",
       "<title>1d742</title>\n",
       "<path fill=\"none\" stroke=\"#000000\" stroke-width=\"4\" d=\"M48,-73.5C48,-73.5 78,-73.5 78,-73.5 84,-73.5 90,-79.5 90,-85.5 90,-85.5 90,-97.5 90,-97.5 90,-103.5 84,-109.5 78,-109.5 78,-109.5 48,-109.5 48,-109.5 42,-109.5 36,-103.5 36,-97.5 36,-97.5 36,-85.5 36,-85.5 36,-79.5 42,-73.5 48,-73.5\"/>\n",
       "<text text-anchor=\"middle\" x=\"63\" y=\"-86.5\" font-family=\"Helvetica,sans-Serif\" font-size=\"20.00\" fill=\"#000000\">+</text>\n",
       "</g>\n",
       "<!-- b0c1e&#45;&gt;1d742 -->\n",
       "<g id=\"edge1\" class=\"edge\">\n",
       "<title>b0c1e&#45;&gt;1d742</title>\n",
       "<path fill=\"none\" stroke=\"#000000\" stroke-width=\"4\" d=\"M90.1011,-146.4551C85.9905,-138.1196 81.0205,-128.0416 76.4651,-118.8042\"/>\n",
       "<polygon fill=\"#000000\" stroke=\"#000000\" stroke-width=\"4\" points=\"79.4833,-117.011 71.9213,-109.5904 73.2052,-120.1071 79.4833,-117.011\"/>\n",
       "</g>\n",
       "<!-- c -->\n",
       "<g id=\"node5\" class=\"node\">\n",
       "<title>c</title>\n",
       "<path fill=\"none\" stroke=\"#000000\" stroke-width=\"4\" d=\"M120,-73.5C120,-73.5 150,-73.5 150,-73.5 156,-73.5 162,-79.5 162,-85.5 162,-85.5 162,-97.5 162,-97.5 162,-103.5 156,-109.5 150,-109.5 150,-109.5 120,-109.5 120,-109.5 114,-109.5 108,-103.5 108,-97.5 108,-97.5 108,-85.5 108,-85.5 108,-79.5 114,-73.5 120,-73.5\"/>\n",
       "<text text-anchor=\"middle\" x=\"135\" y=\"-86.5\" font-family=\"Helvetica,sans-Serif\" font-size=\"20.00\" fill=\"#000000\">c</text>\n",
       "</g>\n",
       "<!-- b0c1e&#45;&gt;c -->\n",
       "<g id=\"edge2\" class=\"edge\">\n",
       "<title>b0c1e&#45;&gt;c</title>\n",
       "<path fill=\"none\" stroke=\"#000000\" stroke-width=\"4\" d=\"M107.8989,-146.4551C112.0095,-138.1196 116.9795,-128.0416 121.5349,-118.8042\"/>\n",
       "<polygon fill=\"#000000\" stroke=\"#000000\" stroke-width=\"4\" points=\"124.7948,-120.1071 126.0787,-109.5904 118.5167,-117.011 124.7948,-120.1071\"/>\n",
       "</g>\n",
       "<!-- b -->\n",
       "<g id=\"node3\" class=\"node\">\n",
       "<title>b</title>\n",
       "<path fill=\"none\" stroke=\"#000000\" stroke-width=\"4\" d=\"M12,-.5C12,-.5 42,-.5 42,-.5 48,-.5 54,-6.5 54,-12.5 54,-12.5 54,-24.5 54,-24.5 54,-30.5 48,-36.5 42,-36.5 42,-36.5 12,-36.5 12,-36.5 6,-36.5 0,-30.5 0,-24.5 0,-24.5 0,-12.5 0,-12.5 0,-6.5 6,-.5 12,-.5\"/>\n",
       "<text text-anchor=\"middle\" x=\"27\" y=\"-13.5\" font-family=\"Helvetica,sans-Serif\" font-size=\"20.00\" fill=\"#000000\">b</text>\n",
       "</g>\n",
       "<!-- 1d742&#45;&gt;b -->\n",
       "<g id=\"edge3\" class=\"edge\">\n",
       "<title>1d742&#45;&gt;b</title>\n",
       "<path fill=\"none\" stroke=\"#000000\" stroke-width=\"4\" d=\"M54.1011,-73.4551C49.9905,-65.1196 45.0205,-55.0416 40.4651,-45.8042\"/>\n",
       "<polygon fill=\"#000000\" stroke=\"#000000\" stroke-width=\"4\" points=\"43.4833,-44.011 35.9213,-36.5904 37.2052,-47.1071 43.4833,-44.011\"/>\n",
       "</g>\n",
       "<!-- a -->\n",
       "<g id=\"node4\" class=\"node\">\n",
       "<title>a</title>\n",
       "<path fill=\"none\" stroke=\"#000000\" stroke-width=\"4\" d=\"M84,-.5C84,-.5 114,-.5 114,-.5 120,-.5 126,-6.5 126,-12.5 126,-12.5 126,-24.5 126,-24.5 126,-30.5 120,-36.5 114,-36.5 114,-36.5 84,-36.5 84,-36.5 78,-36.5 72,-30.5 72,-24.5 72,-24.5 72,-12.5 72,-12.5 72,-6.5 78,-.5 84,-.5\"/>\n",
       "<text text-anchor=\"middle\" x=\"99\" y=\"-13.5\" font-family=\"Helvetica,sans-Serif\" font-size=\"20.00\" fill=\"#000000\">a</text>\n",
       "</g>\n",
       "<!-- 1d742&#45;&gt;a -->\n",
       "<g id=\"edge4\" class=\"edge\">\n",
       "<title>1d742&#45;&gt;a</title>\n",
       "<path fill=\"none\" stroke=\"#000000\" stroke-width=\"4\" d=\"M71.8989,-73.4551C76.0095,-65.1196 80.9795,-55.0416 85.5349,-45.8042\"/>\n",
       "<polygon fill=\"#000000\" stroke=\"#000000\" stroke-width=\"4\" points=\"88.7948,-47.1071 90.0787,-36.5904 82.5167,-44.011 88.7948,-47.1071\"/>\n",
       "</g>\n",
       "<!-- c27e8 -->\n",
       "<g id=\"node6\" class=\"node\">\n",
       "<title>c27e8</title>\n",
       "<path fill=\"none\" stroke=\"#000000\" stroke-width=\"4\" d=\"M120,-219.5C120,-219.5 150,-219.5 150,-219.5 156,-219.5 162,-225.5 162,-231.5 162,-231.5 162,-243.5 162,-243.5 162,-249.5 156,-255.5 150,-255.5 150,-255.5 120,-255.5 120,-255.5 114,-255.5 108,-249.5 108,-243.5 108,-243.5 108,-231.5 108,-231.5 108,-225.5 114,-219.5 120,-219.5\"/>\n",
       "<text text-anchor=\"middle\" x=\"135\" y=\"-232.5\" font-family=\"Helvetica,sans-Serif\" font-size=\"20.00\" fill=\"#000000\">*</text>\n",
       "</g>\n",
       "<!-- c27e8&#45;&gt;b0c1e -->\n",
       "<g id=\"edge6\" class=\"edge\">\n",
       "<title>c27e8&#45;&gt;b0c1e</title>\n",
       "<path fill=\"none\" stroke=\"#000000\" stroke-width=\"4\" d=\"M126.1011,-219.4551C121.9905,-211.1196 117.0205,-201.0416 112.4651,-191.8042\"/>\n",
       "<polygon fill=\"#000000\" stroke=\"#000000\" stroke-width=\"4\" points=\"115.4833,-190.011 107.9213,-182.5904 109.2052,-193.1071 115.4833,-190.011\"/>\n",
       "</g>\n",
       "<!-- 519b4 -->\n",
       "<g id=\"node7\" class=\"node\">\n",
       "<title>519b4</title>\n",
       "<path fill=\"none\" stroke=\"#000000\" stroke-width=\"4\" d=\"M156,-146.5C156,-146.5 186,-146.5 186,-146.5 192,-146.5 198,-152.5 198,-158.5 198,-158.5 198,-170.5 198,-170.5 198,-176.5 192,-182.5 186,-182.5 186,-182.5 156,-182.5 156,-182.5 150,-182.5 144,-176.5 144,-170.5 144,-170.5 144,-158.5 144,-158.5 144,-152.5 150,-146.5 156,-146.5\"/>\n",
       "<text text-anchor=\"middle\" x=\"171\" y=\"-159.5\" font-family=\"Helvetica,sans-Serif\" font-size=\"20.00\" fill=\"#000000\">2</text>\n",
       "</g>\n",
       "<!-- c27e8&#45;&gt;519b4 -->\n",
       "<g id=\"edge5\" class=\"edge\">\n",
       "<title>c27e8&#45;&gt;519b4</title>\n",
       "<path fill=\"none\" stroke=\"#000000\" stroke-width=\"4\" d=\"M143.8989,-219.4551C148.0095,-211.1196 152.9795,-201.0416 157.5349,-191.8042\"/>\n",
       "<polygon fill=\"#000000\" stroke=\"#000000\" stroke-width=\"4\" points=\"160.7948,-193.1071 162.0787,-182.5904 154.5167,-190.011 160.7948,-193.1071\"/>\n",
       "</g>\n",
       "</g>\n",
       "</svg>\n"
      ]
     },
     "execution_count": 14,
     "metadata": {},
     "output_type": "execute_result"
    }
   ],
   "source": [
    "val g3 = 2 * g2; g3"
   ]
  },
  {
   "cell_type": "code",
   "execution_count": 15,
   "metadata": {},
   "outputs": [
    {
     "data": {
      "text/plain": [
       "false"
      ]
     },
     "execution_count": 15,
     "metadata": {},
     "output_type": "execute_result"
    }
   ],
   "source": [
    "g3.toGraph() == g2.toGraph()"
   ]
  },
  {
   "cell_type": "code",
   "execution_count": 16,
   "metadata": {},
   "outputs": [],
   "source": [
    "val func = def (b, c) { b * c }"
   ]
  },
  {
   "cell_type": "code",
   "execution_count": 17,
   "metadata": {},
   "outputs": [
    {
     "data": {
      "text/html": [
       "<svg width=\"252px\" height=\"337px\"\n",
       " viewBox=\"0.00 0.00 252.00 337.00\" xmlns=\"http://www.w3.org/2000/svg\" xmlns:xlink=\"http://www.w3.org/1999/xlink\">\n",
       "<g id=\"graph0\" class=\"graph\" transform=\"scale(1.0 1.0) rotate(0) translate(4 333)\">\n",
       "<title>%3</title>\n",
       "<polygon fill=\"#ffffff\" stroke=\"transparent\" points=\"-4,4 -4,-333 248,-333 248,4 -4,4\"/>\n",
       "<!-- 552e0 -->\n",
       "<g id=\"node1\" class=\"node\">\n",
       "<title>552e0</title>\n",
       "<path fill=\"none\" stroke=\"#000000\" stroke-width=\"4\" d=\"M38.5,-219.5C38.5,-219.5 87.5,-219.5 87.5,-219.5 93.5,-219.5 99.5,-225.5 99.5,-231.5 99.5,-231.5 99.5,-243.5 99.5,-243.5 99.5,-249.5 93.5,-255.5 87.5,-255.5 87.5,-255.5 38.5,-255.5 38.5,-255.5 32.5,-255.5 26.5,-249.5 26.5,-243.5 26.5,-243.5 26.5,-231.5 26.5,-231.5 26.5,-225.5 32.5,-219.5 38.5,-219.5\"/>\n",
       "<text text-anchor=\"middle\" x=\"63\" y=\"-232.5\" font-family=\"Helvetica,sans-Serif\" font-size=\"20.00\" fill=\"#000000\">880d6</text>\n",
       "</g>\n",
       "<!-- 43b56 -->\n",
       "<g id=\"node2\" class=\"node\">\n",
       "<title>43b56</title>\n",
       "<path fill=\"none\" stroke=\"#000000\" stroke-width=\"4\" d=\"M48,-146.5C48,-146.5 78,-146.5 78,-146.5 84,-146.5 90,-152.5 90,-158.5 90,-158.5 90,-170.5 90,-170.5 90,-176.5 84,-182.5 78,-182.5 78,-182.5 48,-182.5 48,-182.5 42,-182.5 36,-176.5 36,-170.5 36,-170.5 36,-158.5 36,-158.5 36,-152.5 42,-146.5 48,-146.5\"/>\n",
       "<text text-anchor=\"middle\" x=\"63\" y=\"-159.5\" font-family=\"Helvetica,sans-Serif\" font-size=\"20.00\" fill=\"#000000\">=</text>\n",
       "</g>\n",
       "<!-- 552e0&#45;&gt;43b56 -->\n",
       "<g id=\"edge1\" class=\"edge\">\n",
       "<title>552e0&#45;&gt;43b56</title>\n",
       "<path fill=\"none\" stroke=\"#000000\" stroke-width=\"4\" d=\"M63,-219.4551C63,-211.3828 63,-201.6764 63,-192.6817\"/>\n",
       "<polygon fill=\"#000000\" stroke=\"#000000\" stroke-width=\"4\" points=\"66.5001,-192.5903 63,-182.5904 59.5001,-192.5904 66.5001,-192.5903\"/>\n",
       "</g>\n",
       "<!-- 9422c -->\n",
       "<g id=\"node3\" class=\"node\">\n",
       "<title>9422c</title>\n",
       "<path fill=\"none\" stroke=\"#000000\" stroke-width=\"4\" d=\"M48,-73.5C48,-73.5 78,-73.5 78,-73.5 84,-73.5 90,-79.5 90,-85.5 90,-85.5 90,-97.5 90,-97.5 90,-103.5 84,-109.5 78,-109.5 78,-109.5 48,-109.5 48,-109.5 42,-109.5 36,-103.5 36,-97.5 36,-97.5 36,-85.5 36,-85.5 36,-79.5 42,-73.5 48,-73.5\"/>\n",
       "<text text-anchor=\"middle\" x=\"63\" y=\"-86.5\" font-family=\"Helvetica,sans-Serif\" font-size=\"20.00\" fill=\"#000000\">*</text>\n",
       "</g>\n",
       "<!-- 43b56&#45;&gt;9422c -->\n",
       "<g id=\"edge2\" class=\"edge\">\n",
       "<title>43b56&#45;&gt;9422c</title>\n",
       "<path fill=\"none\" stroke=\"#000000\" stroke-width=\"4\" d=\"M63,-146.4551C63,-138.3828 63,-128.6764 63,-119.6817\"/>\n",
       "<polygon fill=\"#000000\" stroke=\"#000000\" stroke-width=\"4\" points=\"66.5001,-119.5903 63,-109.5904 59.5001,-119.5904 66.5001,-119.5903\"/>\n",
       "</g>\n",
       "<!-- b -->\n",
       "<g id=\"node4\" class=\"node\">\n",
       "<title>b</title>\n",
       "<path fill=\"none\" stroke=\"#000000\" stroke-width=\"4\" d=\"M12,-.5C12,-.5 42,-.5 42,-.5 48,-.5 54,-6.5 54,-12.5 54,-12.5 54,-24.5 54,-24.5 54,-30.5 48,-36.5 42,-36.5 42,-36.5 12,-36.5 12,-36.5 6,-36.5 0,-30.5 0,-24.5 0,-24.5 0,-12.5 0,-12.5 0,-6.5 6,-.5 12,-.5\"/>\n",
       "<text text-anchor=\"middle\" x=\"27\" y=\"-13.5\" font-family=\"Helvetica,sans-Serif\" font-size=\"20.00\" fill=\"#000000\">b</text>\n",
       "</g>\n",
       "<!-- 9422c&#45;&gt;b -->\n",
       "<g id=\"edge3\" class=\"edge\">\n",
       "<title>9422c&#45;&gt;b</title>\n",
       "<path fill=\"none\" stroke=\"#000000\" stroke-width=\"4\" d=\"M54.1011,-73.4551C49.9905,-65.1196 45.0205,-55.0416 40.4651,-45.8042\"/>\n",
       "<polygon fill=\"#000000\" stroke=\"#000000\" stroke-width=\"4\" points=\"43.4833,-44.011 35.9213,-36.5904 37.2052,-47.1071 43.4833,-44.011\"/>\n",
       "</g>\n",
       "<!-- c -->\n",
       "<g id=\"node5\" class=\"node\">\n",
       "<title>c</title>\n",
       "<path fill=\"none\" stroke=\"#000000\" stroke-width=\"4\" d=\"M84,-.5C84,-.5 114,-.5 114,-.5 120,-.5 126,-6.5 126,-12.5 126,-12.5 126,-24.5 126,-24.5 126,-30.5 120,-36.5 114,-36.5 114,-36.5 84,-36.5 84,-36.5 78,-36.5 72,-30.5 72,-24.5 72,-24.5 72,-12.5 72,-12.5 72,-6.5 78,-.5 84,-.5\"/>\n",
       "<text text-anchor=\"middle\" x=\"99\" y=\"-13.5\" font-family=\"Helvetica,sans-Serif\" font-size=\"20.00\" fill=\"#000000\">c</text>\n",
       "</g>\n",
       "<!-- 9422c&#45;&gt;c -->\n",
       "<g id=\"edge4\" class=\"edge\">\n",
       "<title>9422c&#45;&gt;c</title>\n",
       "<path fill=\"none\" stroke=\"#000000\" stroke-width=\"4\" d=\"M71.8989,-73.4551C76.0095,-65.1196 80.9795,-55.0416 85.5349,-45.8042\"/>\n",
       "<polygon fill=\"#000000\" stroke=\"#000000\" stroke-width=\"4\" points=\"88.7948,-47.1071 90.0787,-36.5904 82.5167,-44.011 88.7948,-47.1071\"/>\n",
       "</g>\n",
       "<!-- c9efa -->\n",
       "<g id=\"node6\" class=\"node\">\n",
       "<title>c9efa</title>\n",
       "<path fill=\"none\" stroke=\"#000000\" stroke-width=\"4\" d=\"M130,-292.5C130,-292.5 160,-292.5 160,-292.5 166,-292.5 172,-298.5 172,-304.5 172,-304.5 172,-316.5 172,-316.5 172,-322.5 166,-328.5 160,-328.5 160,-328.5 130,-328.5 130,-328.5 124,-328.5 118,-322.5 118,-316.5 118,-316.5 118,-304.5 118,-304.5 118,-298.5 124,-292.5 130,-292.5\"/>\n",
       "<text text-anchor=\"middle\" x=\"145\" y=\"-305.5\" font-family=\"Helvetica,sans-Serif\" font-size=\"20.00\" fill=\"#000000\">λ</text>\n",
       "</g>\n",
       "<!-- c9efa&#45;&gt;552e0 -->\n",
       "<g id=\"edge7\" class=\"edge\">\n",
       "<title>c9efa&#45;&gt;552e0</title>\n",
       "<path fill=\"none\" stroke=\"#000000\" stroke-width=\"4\" d=\"M124.7303,-292.4551C114.5788,-283.4177 102.1262,-272.3319 91.0709,-262.4899\"/>\n",
       "<polygon fill=\"#000000\" stroke=\"#000000\" stroke-width=\"4\" points=\"93.117,-259.6255 83.3207,-255.5904 88.4625,-264.8539 93.117,-259.6255\"/>\n",
       "</g>\n",
       "<!-- 745ef -->\n",
       "<g id=\"node7\" class=\"node\">\n",
       "<title>745ef</title>\n",
       "<path fill=\"none\" stroke=\"#000000\" stroke-width=\"4\" d=\"M130,-219.5C130,-219.5 160,-219.5 160,-219.5 166,-219.5 172,-225.5 172,-231.5 172,-231.5 172,-243.5 172,-243.5 172,-249.5 166,-255.5 160,-255.5 160,-255.5 130,-255.5 130,-255.5 124,-255.5 118,-249.5 118,-243.5 118,-243.5 118,-231.5 118,-231.5 118,-225.5 124,-219.5 130,-219.5\"/>\n",
       "<text text-anchor=\"middle\" x=\"145\" y=\"-232.5\" font-family=\"Helvetica,sans-Serif\" font-size=\"20.00\" fill=\"#000000\">1</text>\n",
       "</g>\n",
       "<!-- c9efa&#45;&gt;745ef -->\n",
       "<g id=\"edge5\" class=\"edge\">\n",
       "<title>c9efa&#45;&gt;745ef</title>\n",
       "<path fill=\"none\" stroke=\"#000000\" stroke-width=\"4\" d=\"M145,-292.4551C145,-284.3828 145,-274.6764 145,-265.6817\"/>\n",
       "<polygon fill=\"#000000\" stroke=\"#000000\" stroke-width=\"4\" points=\"148.5001,-265.5903 145,-255.5904 141.5001,-265.5904 148.5001,-265.5903\"/>\n",
       "</g>\n",
       "<!-- 0b3ed -->\n",
       "<g id=\"node8\" class=\"node\">\n",
       "<title>0b3ed</title>\n",
       "<path fill=\"none\" stroke=\"#000000\" stroke-width=\"4\" d=\"M202,-219.5C202,-219.5 232,-219.5 232,-219.5 238,-219.5 244,-225.5 244,-231.5 244,-231.5 244,-243.5 244,-243.5 244,-249.5 238,-255.5 232,-255.5 232,-255.5 202,-255.5 202,-255.5 196,-255.5 190,-249.5 190,-243.5 190,-243.5 190,-231.5 190,-231.5 190,-225.5 196,-219.5 202,-219.5\"/>\n",
       "<text text-anchor=\"middle\" x=\"217\" y=\"-232.5\" font-family=\"Helvetica,sans-Serif\" font-size=\"20.00\" fill=\"#000000\">2</text>\n",
       "</g>\n",
       "<!-- c9efa&#45;&gt;0b3ed -->\n",
       "<g id=\"edge6\" class=\"edge\">\n",
       "<title>c9efa&#45;&gt;0b3ed</title>\n",
       "<path fill=\"none\" stroke=\"#000000\" stroke-width=\"4\" d=\"M162.7978,-292.4551C171.6248,-283.5054 182.4331,-272.547 192.0693,-262.7769\"/>\n",
       "<polygon fill=\"#000000\" stroke=\"#000000\" stroke-width=\"4\" points=\"194.6272,-265.1678 199.1575,-255.5904 189.6434,-260.2523 194.6272,-265.1678\"/>\n",
       "</g>\n",
       "</g>\n",
       "</svg>\n"
      ]
     },
     "execution_count": 17,
     "metadata": {},
     "output_type": "execute_result"
    }
   ],
   "source": [
    "func(1, 2)"
   ]
  },
  {
   "cell_type": "code",
   "execution_count": 18,
   "metadata": {},
   "outputs": [
    {
     "data": {
      "text/plain": [
       "true"
      ]
     },
     "execution_count": 18,
     "metadata": {},
     "output_type": "execute_result"
    }
   ],
   "source": [
    "func(1, 3).toGraph() == func(1, 2).toGraph()"
   ]
  }
 ],
 "metadata": {
  "kernelspec": {
   "display_name": "Kotlin",
   "language": "kotlin",
   "name": "kotlin"
  },
  "language_info": {
   "codemirror_mode": "text/x-kotlin",
   "file_extension": ".kt",
   "mimetype": "text/x-kotlin",
   "name": "kotlin",
   "pygments_lexer": "kotlin",
   "version": "1.4.20-dev-2342"
  }
 },
 "nbformat": 4,
 "nbformat_minor": 2
}
