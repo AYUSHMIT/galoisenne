{
 "cells": [
  {
   "cell_type": "code",
   "execution_count": 1,
   "metadata": {},
   "outputs": [],
   "source": [
    "%use kaliningraph"
   ]
  },
  {
   "cell_type": "code",
   "execution_count": 2,
   "metadata": {},
   "outputs": [],
   "source": [
    "val graph = Graph { a - b - c - a }"
   ]
  },
  {
   "cell_type": "code",
   "execution_count": 3,
   "metadata": {},
   "outputs": [
    {
     "data": {
      "text/html": [
       "<svg width=\"89px\" height=\"207px\"\n",
       " viewBox=\"0.00 0.00 89.00 207.28\" xmlns=\"http://www.w3.org/2000/svg\" xmlns:xlink=\"http://www.w3.org/1999/xlink\">\n",
       "<g id=\"graph0\" class=\"graph\" transform=\"scale(1.0 1.0) rotate(0) translate(4 203.2792)\">\n",
       "<title>%3</title>\n",
       "<polygon fill=\"#ffffff\" stroke=\"transparent\" points=\"-4,4 -4,-203.2792 85,-203.2792 85,4 -4,4\"/>\n",
       "<!-- a -->\n",
       "<g id=\"node1\" class=\"node\">\n",
       "<title>a</title>\n",
       "<ellipse fill=\"none\" stroke=\"#000000\" stroke-width=\"2\" cx=\"54\" cy=\"-178.066\" rx=\"27\" ry=\"21.4286\"/>\n",
       "<text text-anchor=\"middle\" x=\"54\" y=\"-173.066\" font-family=\"Helvetica,sans-Serif\" font-size=\"20.00\" fill=\"#000000\">a</text>\n",
       "</g>\n",
       "<!-- b -->\n",
       "<g id=\"node2\" class=\"node\">\n",
       "<title>b</title>\n",
       "<ellipse fill=\"none\" stroke=\"#000000\" stroke-width=\"2\" cx=\"27\" cy=\"-99.6396\" rx=\"27\" ry=\"21.4286\"/>\n",
       "<text text-anchor=\"middle\" x=\"27\" y=\"-94.6396\" font-family=\"Helvetica,sans-Serif\" font-size=\"20.00\" fill=\"#000000\">b</text>\n",
       "</g>\n",
       "<!-- a&#45;&gt;b -->\n",
       "<g id=\"edge1\" class=\"edge\">\n",
       "<title>a&#45;&gt;b</title>\n",
       "<path fill=\"none\" stroke=\"#000000\" stroke-width=\"2\" d=\"M46.9061,-157.4604C44.0146,-149.0616 40.6127,-139.1802 37.4472,-129.9853\"/>\n",
       "<polygon fill=\"#000000\" stroke=\"#000000\" stroke-width=\"2\" points=\"40.7049,-128.6959 34.1403,-120.3799 34.0862,-130.9746 40.7049,-128.6959\"/>\n",
       "</g>\n",
       "<!-- c -->\n",
       "<g id=\"node3\" class=\"node\">\n",
       "<title>c</title>\n",
       "<ellipse fill=\"none\" stroke=\"#000000\" stroke-width=\"2\" cx=\"54\" cy=\"-21.2132\" rx=\"27\" ry=\"21.4286\"/>\n",
       "<text text-anchor=\"middle\" x=\"54\" y=\"-16.2132\" font-family=\"Helvetica,sans-Serif\" font-size=\"20.00\" fill=\"#000000\">c</text>\n",
       "</g>\n",
       "<!-- b&#45;&gt;c -->\n",
       "<g id=\"edge2\" class=\"edge\">\n",
       "<title>b&#45;&gt;c</title>\n",
       "<path fill=\"none\" stroke=\"#000000\" stroke-width=\"2\" d=\"M34.0939,-79.034C36.9854,-70.6352 40.3873,-60.7538 43.5528,-51.5589\"/>\n",
       "<polygon fill=\"#000000\" stroke=\"#000000\" stroke-width=\"2\" points=\"46.9138,-52.5482 46.8597,-41.9535 40.2951,-50.2695 46.9138,-52.5482\"/>\n",
       "</g>\n",
       "<!-- c&#45;&gt;a -->\n",
       "<g id=\"edge3\" class=\"edge\">\n",
       "<title>c&#45;&gt;a</title>\n",
       "<path fill=\"none\" stroke=\"#000000\" stroke-width=\"2\" d=\"M58.1251,-42.3132C60.0233,-53.074 62.0596,-66.3971 63,-78.4264 64.4696,-97.2252 64.4696,-102.054 63,-120.8528 62.3315,-129.4049 61.109,-138.6109 59.776,-147.0852\"/>\n",
       "<polygon fill=\"#000000\" stroke=\"#000000\" stroke-width=\"2\" points=\"56.3211,-146.5259 58.1251,-156.966 63.2253,-147.6795 56.3211,-146.5259\"/>\n",
       "</g>\n",
       "</g>\n",
       "</svg>\n"
      ]
     },
     "execution_count": 3,
     "metadata": {},
     "output_type": "execute_result"
    }
   ],
   "source": [
    "graph"
   ]
  },
  {
   "cell_type": "code",
   "execution_count": 4,
   "metadata": {},
   "outputs": [
    {
     "data": {
      "text/html": [
       "<svg width=\"239px\" height=\"364px\"\n",
       " viewBox=\"0.00 0.00 239.06 364.13\" xmlns=\"http://www.w3.org/2000/svg\" xmlns:xlink=\"http://www.w3.org/1999/xlink\">\n",
       "<g id=\"graph0\" class=\"graph\" transform=\"scale(1.0 1.0) rotate(0) translate(4 360.132)\">\n",
       "<title>%3</title>\n",
       "<polygon fill=\"#ffffff\" stroke=\"transparent\" points=\"-4,4 -4,-360.132 235.056,-360.132 235.056,4 -4,4\"/>\n",
       "<!-- 105d2 -->\n",
       "<g id=\"node1\" class=\"node\">\n",
       "<title>105d2</title>\n",
       "<ellipse fill=\"none\" stroke=\"#000000\" stroke-width=\"2\" cx=\"179.4373\" cy=\"-256.4924\" rx=\"51.7379\" ry=\"21.4286\"/>\n",
       "<text text-anchor=\"middle\" x=\"179.4373\" y=\"-251.4924\" font-family=\"Helvetica,sans-Serif\" font-size=\"20.00\" fill=\"#000000\">105d2</text>\n",
       "</g>\n",
       "<!-- b -->\n",
       "<g id=\"node2\" class=\"node\">\n",
       "<title>b</title>\n",
       "<ellipse fill=\"none\" stroke=\"#000000\" stroke-width=\"2\" cx=\"131.4373\" cy=\"-178.066\" rx=\"27\" ry=\"21.4286\"/>\n",
       "<text text-anchor=\"middle\" x=\"131.4373\" y=\"-173.066\" font-family=\"Helvetica,sans-Serif\" font-size=\"20.00\" fill=\"#000000\">b</text>\n",
       "</g>\n",
       "<!-- 105d2&#45;&gt;b -->\n",
       "<g id=\"edge1\" class=\"edge\">\n",
       "<title>105d2&#45;&gt;b</title>\n",
       "<path fill=\"none\" stroke=\"#000000\" stroke-width=\"2\" d=\"M166.8258,-235.8868C161.2115,-226.7137 154.5147,-215.7719 148.4652,-205.8876\"/>\n",
       "<polygon fill=\"#000000\" stroke=\"#000000\" stroke-width=\"2\" points=\"151.3466,-203.8908 143.141,-197.1886 145.376,-207.545 151.3466,-203.8908\"/>\n",
       "</g>\n",
       "<!-- a -->\n",
       "<g id=\"node4\" class=\"node\">\n",
       "<title>a</title>\n",
       "<ellipse fill=\"none\" stroke=\"#000000\" stroke-width=\"2\" cx=\"107.4373\" cy=\"-21.2132\" rx=\"27\" ry=\"21.4286\"/>\n",
       "<text text-anchor=\"middle\" x=\"107.4373\" y=\"-16.2132\" font-family=\"Helvetica,sans-Serif\" font-size=\"20.00\" fill=\"#000000\">a</text>\n",
       "</g>\n",
       "<!-- 105d2&#45;&gt;a -->\n",
       "<g id=\"edge2\" class=\"edge\">\n",
       "<title>105d2&#45;&gt;a</title>\n",
       "<path fill=\"none\" stroke=\"#000000\" stroke-width=\"2\" d=\"M178.0197,-234.9169C176.4076,-214.6023 173.2155,-183.4122 167.4373,-156.8528 159.6599,-121.1048 157.6482,-111.6986 142.4373,-78.4264 137.7778,-68.2345 131.675,-57.6195 125.8727,-48.3401\"/>\n",
       "<polygon fill=\"#000000\" stroke=\"#000000\" stroke-width=\"2\" points=\"128.8075,-46.4328 120.4586,-39.91 122.9175,-50.2155 128.8075,-46.4328\"/>\n",
       "</g>\n",
       "<!-- c -->\n",
       "<g id=\"node3\" class=\"node\">\n",
       "<title>c</title>\n",
       "<ellipse fill=\"none\" stroke=\"#000000\" stroke-width=\"2\" cx=\"75.4373\" cy=\"-99.6396\" rx=\"27\" ry=\"21.4286\"/>\n",
       "<text text-anchor=\"middle\" x=\"75.4373\" y=\"-94.6396\" font-family=\"Helvetica,sans-Serif\" font-size=\"20.00\" fill=\"#000000\">c</text>\n",
       "</g>\n",
       "<!-- b&#45;&gt;c -->\n",
       "<g id=\"edge3\" class=\"edge\">\n",
       "<title>b&#45;&gt;c</title>\n",
       "<path fill=\"none\" stroke=\"#000000\" stroke-width=\"2\" d=\"M113.9251,-161.4338C106.0153,-151.8544 96.9285,-139.5478 89.4696,-128.4422\"/>\n",
       "<polygon fill=\"#000000\" stroke=\"#000000\" stroke-width=\"2\" points=\"92.2781,-126.341 83.8904,-119.8682 86.411,-130.1589 92.2781,-126.341\"/>\n",
       "</g>\n",
       "<!-- b&#45;&gt;a -->\n",
       "<g id=\"edge4\" class=\"edge\">\n",
       "<title>b&#45;&gt;a</title>\n",
       "<path fill=\"none\" stroke=\"#000000\" stroke-width=\"2\" d=\"M123.5684,-157.5603C117.1004,-130.8928 109.6615,-84.0385 106.7319,-52.8116\"/>\n",
       "<polygon fill=\"#000000\" stroke=\"#000000\" stroke-width=\"2\" points=\"110.1907,-52.1606 105.8927,-42.4767 103.2136,-52.7272 110.1907,-52.1606\"/>\n",
       "</g>\n",
       "<!-- c&#45;&gt;b -->\n",
       "<g id=\"edge6\" class=\"edge\">\n",
       "<title>c&#45;&gt;b</title>\n",
       "<path fill=\"none\" stroke=\"#000000\" stroke-width=\"2\" d=\"M92.785,-116.0729C100.728,-125.6743 109.8827,-138.065 117.3906,-149.2421\"/>\n",
       "<polygon fill=\"#000000\" stroke=\"#000000\" stroke-width=\"2\" points=\"114.6165,-151.3963 123.0041,-157.8693 120.4838,-147.5786 114.6165,-151.3963\"/>\n",
       "</g>\n",
       "<!-- c&#45;&gt;a -->\n",
       "<g id=\"edge5\" class=\"edge\">\n",
       "<title>c&#45;&gt;a</title>\n",
       "<path fill=\"none\" stroke=\"#000000\" stroke-width=\"2\" d=\"M78.0906,-78.2092C81.0632,-69.1614 85.2781,-58.511 89.6653,-48.8807\"/>\n",
       "<polygon fill=\"#000000\" stroke=\"#000000\" stroke-width=\"2\" points=\"92.9055,-50.2181 94.0703,-39.6875 86.5927,-47.1932 92.9055,-50.2181\"/>\n",
       "</g>\n",
       "<!-- a&#45;&gt;b -->\n",
       "<g id=\"edge7\" class=\"edge\">\n",
       "<title>a&#45;&gt;b</title>\n",
       "<path fill=\"none\" stroke=\"#000000\" stroke-width=\"2\" d=\"M115.3586,-41.9358C121.8007,-68.5833 129.1896,-115.1281 132.124,-146.2701\"/>\n",
       "<polygon fill=\"#000000\" stroke=\"#000000\" stroke-width=\"2\" points=\"128.664,-146.9037 132.9673,-156.5852 135.6408,-146.3332 128.664,-146.9037\"/>\n",
       "</g>\n",
       "<!-- a&#45;&gt;c -->\n",
       "<g id=\"edge8\" class=\"edge\">\n",
       "<title>a&#45;&gt;c</title>\n",
       "<path fill=\"none\" stroke=\"#000000\" stroke-width=\"2\" d=\"M104.8518,-42.4365C101.8909,-51.4824 97.6731,-62.1589 93.2767,-71.8238\"/>\n",
       "<polygon fill=\"#000000\" stroke=\"#000000\" stroke-width=\"2\" points=\"90.0195,-70.5224 88.8607,-81.0536 96.334,-73.5436 90.0195,-70.5224\"/>\n",
       "</g>\n",
       "<!-- e164f -->\n",
       "<g id=\"node5\" class=\"node\">\n",
       "<title>e164f</title>\n",
       "<ellipse fill=\"none\" stroke=\"#000000\" stroke-width=\"2\" cx=\"84.4373\" cy=\"-334.9188\" rx=\"47.2526\" ry=\"21.4286\"/>\n",
       "<text text-anchor=\"middle\" x=\"84.4373\" y=\"-329.9188\" font-family=\"Helvetica,sans-Serif\" font-size=\"20.00\" fill=\"#000000\">e164f</text>\n",
       "</g>\n",
       "<!-- e164f&#45;&gt;105d2 -->\n",
       "<g id=\"edge10\" class=\"edge\">\n",
       "<title>e164f&#45;&gt;105d2</title>\n",
       "<path fill=\"none\" stroke=\"#000000\" stroke-width=\"2\" d=\"M107.4341,-315.934C119.7123,-305.7978 134.9985,-293.1784 148.3238,-282.1778\"/>\n",
       "<polygon fill=\"#000000\" stroke=\"#000000\" stroke-width=\"2\" points=\"150.8394,-284.6397 156.3229,-275.5743 146.383,-279.2415 150.8394,-284.6397\"/>\n",
       "</g>\n",
       "<!-- e164f&#45;&gt;c -->\n",
       "<g id=\"edge9\" class=\"edge\">\n",
       "<title>e164f&#45;&gt;c</title>\n",
       "<path fill=\"none\" stroke=\"#000000\" stroke-width=\"2\" d=\"M51.5548,-319.3558C35.4044,-309.8007 17.5056,-295.883 8.4373,-277.7056 -17.7038,-225.3061 24.4948,-160.0833 52.9159,-124.9287\"/>\n",
       "<polygon fill=\"#000000\" stroke=\"#000000\" stroke-width=\"2\" points=\"55.7428,-127.0032 59.4435,-117.0757 50.3596,-122.5287 55.7428,-127.0032\"/>\n",
       "</g>\n",
       "<!-- dacf2 -->\n",
       "<g id=\"node6\" class=\"node\">\n",
       "<title>dacf2</title>\n",
       "<ellipse fill=\"none\" stroke=\"#000000\" stroke-width=\"2\" cx=\"63.4373\" cy=\"-256.4924\" rx=\"45.9239\" ry=\"21.4286\"/>\n",
       "<text text-anchor=\"middle\" x=\"63.4373\" y=\"-251.4924\" font-family=\"Helvetica,sans-Serif\" font-size=\"20.00\" fill=\"#000000\">dacf2</text>\n",
       "</g>\n",
       "<!-- dacf2&#45;&gt;b -->\n",
       "<g id=\"edge13\" class=\"edge\">\n",
       "<title>dacf2&#45;&gt;b</title>\n",
       "<path fill=\"none\" stroke=\"#000000\" stroke-width=\"2\" d=\"M80.5965,-236.7021C89.3126,-226.6496 100.0041,-214.3188 109.3298,-203.5632\"/>\n",
       "<polygon fill=\"#000000\" stroke=\"#000000\" stroke-width=\"2\" points=\"112.233,-205.5575 116.1396,-195.7092 106.9442,-200.9718 112.233,-205.5575\"/>\n",
       "</g>\n",
       "<!-- dacf2&#45;&gt;c -->\n",
       "<g id=\"edge12\" class=\"edge\">\n",
       "<title>dacf2&#45;&gt;c</title>\n",
       "<path fill=\"none\" stroke=\"#000000\" stroke-width=\"2\" d=\"M65.0806,-235.0116C67.1363,-208.1425 70.6721,-161.9254 73.0323,-131.0753\"/>\n",
       "<polygon fill=\"#000000\" stroke=\"#000000\" stroke-width=\"2\" points=\"76.5406,-131.0989 73.8137,-120.861 69.561,-130.5649 76.5406,-131.0989\"/>\n",
       "</g>\n",
       "<!-- dacf2&#45;&gt;a -->\n",
       "<g id=\"edge11\" class=\"edge\">\n",
       "<title>dacf2&#45;&gt;a</title>\n",
       "<path fill=\"none\" stroke=\"#000000\" stroke-width=\"2\" d=\"M53.5431,-235.6309C38.7162,-201.1922 14.9518,-131.0271 39.4373,-78.4264 47.1477,-61.8626 62.2756,-48.3803 76.3087,-38.6731\"/>\n",
       "<polygon fill=\"#000000\" stroke=\"#000000\" stroke-width=\"2\" points=\"78.3601,-41.514 84.8287,-33.123 74.5393,-35.6487 78.3601,-41.514\"/>\n",
       "</g>\n",
       "</g>\n",
       "</svg>\n"
      ]
     },
     "execution_count": 4,
     "metadata": {},
     "output_type": "execute_result"
    }
   ],
   "source": [
    "(1..3).fold(graph) {it, _ -> it.attachRandomVertex(3)}"
   ]
  },
  {
   "cell_type": "code",
   "execution_count": 5,
   "metadata": {},
   "outputs": [
    {
     "data": {
      "text/plain": [
       "{a=1107296225, b=1107296225, c=1107296225}"
      ]
     },
     "execution_count": 5,
     "metadata": {},
     "output_type": "execute_result"
    }
   ],
   "source": [
    "graph.wl()"
   ]
  },
  {
   "cell_type": "code",
   "execution_count": 6,
   "metadata": {},
   "outputs": [
    {
     "data": {
      "text/plain": [
       "Type = DDRM , rows = 3 , cols = 3\n",
       " 1.0000E+00  0.0000E+00  0.0000E+00 \n",
       " 0.0000E+00  1.0000E+00  0.0000E+00 \n",
       " 0.0000E+00  0.0000E+00  1.0000E+00 \n"
      ]
     },
     "execution_count": 6,
     "metadata": {},
     "output_type": "execute_result"
    }
   ],
   "source": [
    "graph.D"
   ]
  },
  {
   "cell_type": "code",
   "execution_count": 7,
   "metadata": {
    "scrolled": true
   },
   "outputs": [
    {
     "data": {
      "text/plain": [
       "Type = DDRM , rows = 3 , cols = 3\n",
       " 0.0000E+00  1.0000E+00  0.0000E+00 \n",
       " 0.0000E+00  0.0000E+00  1.0000E+00 \n",
       " 1.0000E+00  0.0000E+00  0.0000E+00 \n"
      ]
     },
     "execution_count": 7,
     "metadata": {},
     "output_type": "execute_result"
    }
   ],
   "source": [
    "graph.A"
   ]
  },
  {
   "cell_type": "code",
   "execution_count": 8,
   "metadata": {
    "pycharm": {
     "name": "#%%\n"
    }
   },
   "outputs": [],
   "source": [
    "import edu.mcgill.kaliningraph.*"
   ]
  },
  {
   "cell_type": "code",
   "execution_count": 9,
   "metadata": {
    "pycharm": {
     "name": "#%%\n"
    },
    "scrolled": true
   },
   "outputs": [
    {
     "data": {
      "text/plain": [
       "graphtraversalsource[tinkergraph[vertices:3 edges:3], standard]"
      ]
     },
     "execution_count": 9,
     "metadata": {},
     "output_type": "execute_result"
    }
   ],
   "source": [
    "graph.toTinkerpop()"
   ]
  },
  {
   "cell_type": "code",
   "execution_count": null,
   "outputs": [],
   "source": [
    "graph.toJGraphT()"
   ],
   "metadata": {
    "collapsed": false,
    "pycharm": {
     "name": "#%%\n"
    }
   }
  },
  {
   "cell_type": "code",
   "execution_count": 10,
   "metadata": {},
   "outputs": [
    {
     "data": {
      "text/plain": [
       "([a, b, c], [(a,b), (b,c), (c,a)])"
      ]
     },
     "execution_count": 10,
     "metadata": {},
     "output_type": "execute_result"
    }
   ],
   "source": [
    "graph.toJGraphT()"
   ]
  }
 ],
 "metadata": {
  "kernelspec": {
   "display_name": "Kotlin",
   "language": "kotlin",
   "name": "kotlin"
  },
  "language_info": {
   "codemirror_mode": "text/x-kotlin",
   "file_extension": ".kt",
   "mimetype": "text/x-kotlin",
   "name": "kotlin",
   "pygments_lexer": "kotlin",
   "version": "1.4.0-dev-7568"
  }
 },
 "nbformat": 4,
 "nbformat_minor": 2
}