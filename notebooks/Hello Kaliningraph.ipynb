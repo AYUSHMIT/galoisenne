{
 "cells": [
  {
   "cell_type": "code",
   "execution_count": 9,
   "metadata": {
    "scrolled": true
   },
   "outputs": [],
   "source": [
    "@file:Repository(\"https://jitpack.io\")\n",
    "@file:DependsOn(\"com.github.breandan:kaliningraph:0.1.5\")"
   ]
  },
  {
   "cell_type": "code",
   "execution_count": 2,
   "metadata": {},
   "outputs": [
    {
     "data": {
      "text/html": [
       "<svg width=\"242px\" height=\"69px\"\n",
       " viewBox=\"0.00 0.00 242.00 69.00\" xmlns=\"http://www.w3.org/2000/svg\" xmlns:xlink=\"http://www.w3.org/1999/xlink\">\n",
       "<g id=\"graph0\" class=\"graph\" transform=\"scale(1.0 1.0) rotate(0.0) translate(4.0 65.0)\">\n",
       "<title>%3</title>\n",
       "<!-- a -->\n",
       "<g id=\"node1\" class=\"node\">\n",
       "<title>a</title>\n",
       "<path fill=\"none\" stroke=\"#000000\" stroke-width=\"4\" d=\"M12,-.5C12,-.5 42,-.5 42,-.5 48,-.5 54,-6.5 54,-12.5 54,-12.5 54,-24.5 54,-24.5 54,-30.5 48,-36.5 42,-36.5 42,-36.5 12,-36.5 12,-36.5 6,-36.5 0,-30.5 0,-24.5 0,-24.5 0,-12.5 0,-12.5 0,-6.5 6,-.5 12,-.5\"/>\n",
       "<text text-anchor=\"middle\" x=\"27\" y=\"-13.5\" font-family=\"Helvetica,sans-Serif\" font-size=\"20.00\" fill=\"#000000\">a</text>\n",
       "</g>\n",
       "<!-- c -->\n",
       "<g id=\"node2\" class=\"node\">\n",
       "<title>c</title>\n",
       "<path fill=\"none\" stroke=\"#000000\" stroke-width=\"4\" d=\"M102,-24.5C102,-24.5 132,-24.5 132,-24.5 138,-24.5 144,-30.5 144,-36.5 144,-36.5 144,-48.5 144,-48.5 144,-54.5 138,-60.5 132,-60.5 132,-60.5 102,-60.5 102,-60.5 96,-60.5 90,-54.5 90,-48.5 90,-48.5 90,-36.5 90,-36.5 90,-30.5 96,-24.5 102,-24.5\"/>\n",
       "<text text-anchor=\"middle\" x=\"117\" y=\"-37.5\" font-family=\"Helvetica,sans-Serif\" font-size=\"20.00\" fill=\"#000000\">c</text>\n",
       "</g>\n",
       "<!-- a&#45;&gt;c -->\n",
       "<g id=\"edge1\" class=\"edge\">\n",
       "<title>a&#45;&gt;c</title>\n",
       "<path fill=\"none\" stroke=\"#000000\" stroke-width=\"4\" d=\"M54.003,-25.7008C62.1158,-27.8642 71.1631,-30.2768 79.8131,-32.5835\"/>\n",
       "<polygon fill=\"#000000\" stroke=\"#000000\" stroke-width=\"4\" points=\"79.1408,-36.0265 89.705,-35.2213 80.9445,-29.2628 79.1408,-36.0265\"/>\n",
       "</g>\n",
       "<!-- b -->\n",
       "<g id=\"node3\" class=\"node\">\n",
       "<title>b</title>\n",
       "<path fill=\"none\" stroke=\"#000000\" stroke-width=\"4\" d=\"M192,-.5C192,-.5 222,-.5 222,-.5 228,-.5 234,-6.5 234,-12.5 234,-12.5 234,-24.5 234,-24.5 234,-30.5 228,-36.5 222,-36.5 222,-36.5 192,-36.5 192,-36.5 186,-36.5 180,-30.5 180,-24.5 180,-24.5 180,-12.5 180,-12.5 180,-6.5 186,-.5 192,-.5\"/>\n",
       "<text text-anchor=\"middle\" x=\"207\" y=\"-13.5\" font-family=\"Helvetica,sans-Serif\" font-size=\"20.00\" fill=\"#000000\">b</text>\n",
       "</g>\n",
       "<!-- c&#45;&gt;b -->\n",
       "<g id=\"edge2\" class=\"edge\">\n",
       "<title>c&#45;&gt;b</title>\n",
       "<path fill=\"none\" stroke=\"#000000\" stroke-width=\"4\" d=\"M144.003,-35.2992C152.1158,-33.1358 161.1631,-30.7232 169.8131,-28.4165\"/>\n",
       "<polygon fill=\"#000000\" stroke=\"#000000\" stroke-width=\"4\" points=\"170.9445,-31.7372 179.705,-25.7787 169.1408,-24.9735 170.9445,-31.7372\"/>\n",
       "</g>\n",
       "<!-- b&#45;&gt;a -->\n",
       "<g id=\"edge3\" class=\"edge\">\n",
       "<title>b&#45;&gt;a</title>\n",
       "<path fill=\"none\" stroke=\"#000000\" stroke-width=\"4\" d=\"M179.7214,-16.9174C168.6407,-16.3485 155.7131,-15.7787 144,-15.5 120.0068,-14.9291 113.9932,-14.9291 90,-15.5 81.6727,-15.6982 72.7316,-16.0434 64.2767,-16.4309\"/>\n",
       "<polygon fill=\"#000000\" stroke=\"#000000\" stroke-width=\"4\" points=\"64.0967,-12.9354 54.2786,-16.9174 64.437,-19.9272 64.0967,-12.9354\"/>\n",
       "</g>\n",
       "</g>\n",
       "</svg>\n"
      ]
     },
     "execution_count": 2,
     "metadata": {},
     "output_type": "execute_result"
    }
   ],
   "source": [
    "val g1 = LabeledGraph { a - b - c - a }; g1"
   ]
  },
  {
   "cell_type": "code",
   "execution_count": 3,
   "metadata": {},
   "outputs": [
    {
     "data": {
      "text/html": [
       "<svg width=\"512px\" height=\"134px\"\n",
       " viewBox=\"0.00 0.00 512.00 134.00\" xmlns=\"http://www.w3.org/2000/svg\" xmlns:xlink=\"http://www.w3.org/1999/xlink\">\n",
       "<g id=\"graph0\" class=\"graph\" transform=\"scale(1.0 1.0) rotate(0.0) translate(4.0 130.0)\">\n",
       "<title>%3</title>\n",
       "<!-- 3 -->\n",
       "<g id=\"node1\" class=\"node\">\n",
       "<title>3</title>\n",
       "<path fill=\"none\" stroke=\"#000000\" stroke-width=\"4\" d=\"M192,-47.5C192,-47.5 222,-47.5 222,-47.5 228,-47.5 234,-53.5 234,-59.5 234,-59.5 234,-71.5 234,-71.5 234,-77.5 228,-83.5 222,-83.5 222,-83.5 192,-83.5 192,-83.5 186,-83.5 180,-77.5 180,-71.5 180,-71.5 180,-59.5 180,-59.5 180,-53.5 186,-47.5 192,-47.5\"/>\n",
       "<text text-anchor=\"middle\" x=\"207\" y=\"-60.5\" font-family=\"Helvetica,sans-Serif\" font-size=\"20.00\" fill=\"#000000\">3</text>\n",
       "</g>\n",
       "<!-- a -->\n",
       "<g id=\"node2\" class=\"node\">\n",
       "<title>a</title>\n",
       "<path fill=\"none\" stroke=\"#000000\" stroke-width=\"4\" d=\"M282,-47.5C282,-47.5 312,-47.5 312,-47.5 318,-47.5 324,-53.5 324,-59.5 324,-59.5 324,-71.5 324,-71.5 324,-77.5 318,-83.5 312,-83.5 312,-83.5 282,-83.5 282,-83.5 276,-83.5 270,-77.5 270,-71.5 270,-71.5 270,-59.5 270,-59.5 270,-53.5 276,-47.5 282,-47.5\"/>\n",
       "<text text-anchor=\"middle\" x=\"297\" y=\"-60.5\" font-family=\"Helvetica,sans-Serif\" font-size=\"20.00\" fill=\"#000000\">a</text>\n",
       "</g>\n",
       "<!-- 3&#45;&gt;a -->\n",
       "<g id=\"edge1\" class=\"edge\">\n",
       "<title>3&#45;&gt;a</title>\n",
       "<path fill=\"none\" stroke=\"#000000\" stroke-width=\"4\" d=\"M234.003,-65.5C242.0277,-65.5 250.9665,-65.5 259.5309,-65.5\"/>\n",
       "<polygon fill=\"#000000\" stroke=\"#000000\" stroke-width=\"4\" points=\"259.7051,-69.0001 269.705,-65.5 259.705,-62.0001 259.7051,-69.0001\"/>\n",
       "</g>\n",
       "<!-- c -->\n",
       "<g id=\"node3\" class=\"node\">\n",
       "<title>c</title>\n",
       "<path fill=\"none\" stroke=\"#000000\" stroke-width=\"4\" d=\"M372,-89.5C372,-89.5 402,-89.5 402,-89.5 408,-89.5 414,-95.5 414,-101.5 414,-101.5 414,-113.5 414,-113.5 414,-119.5 408,-125.5 402,-125.5 402,-125.5 372,-125.5 372,-125.5 366,-125.5 360,-119.5 360,-113.5 360,-113.5 360,-101.5 360,-101.5 360,-95.5 366,-89.5 372,-89.5\"/>\n",
       "<text text-anchor=\"middle\" x=\"387\" y=\"-102.5\" font-family=\"Helvetica,sans-Serif\" font-size=\"20.00\" fill=\"#000000\">c</text>\n",
       "</g>\n",
       "<!-- 3&#45;&gt;c -->\n",
       "<g id=\"edge2\" class=\"edge\">\n",
       "<title>3&#45;&gt;c</title>\n",
       "<path fill=\"none\" stroke=\"#000000\" stroke-width=\"4\" d=\"M234.2521,-79.751C245.1077,-84.8543 257.8833,-90.1641 270,-93.5 295.9981,-100.6576 326.2421,-104.1561 349.4672,-105.8659\"/>\n",
       "<polygon fill=\"#000000\" stroke=\"#000000\" stroke-width=\"4\" points=\"349.3957,-109.3686 359.6038,-106.5323 349.855,-102.3837 349.3957,-109.3686\"/>\n",
       "</g>\n",
       "<!-- a&#45;&gt;c -->\n",
       "<g id=\"edge3\" class=\"edge\">\n",
       "<title>a&#45;&gt;c</title>\n",
       "<path fill=\"none\" stroke=\"#000000\" stroke-width=\"4\" d=\"M324.003,-78.1014C332.2922,-81.9697 341.5569,-86.2932 350.3766,-90.4091\"/>\n",
       "<polygon fill=\"#000000\" stroke=\"#000000\" stroke-width=\"4\" points=\"349.1631,-93.7051 359.705,-94.7623 352.1233,-87.3618 349.1631,-93.7051\"/>\n",
       "</g>\n",
       "<!-- b -->\n",
       "<g id=\"node4\" class=\"node\">\n",
       "<title>b</title>\n",
       "<path fill=\"none\" stroke=\"#000000\" stroke-width=\"4\" d=\"M462,-42.5C462,-42.5 492,-42.5 492,-42.5 498,-42.5 504,-48.5 504,-54.5 504,-54.5 504,-66.5 504,-66.5 504,-72.5 498,-78.5 492,-78.5 492,-78.5 462,-78.5 462,-78.5 456,-78.5 450,-72.5 450,-66.5 450,-66.5 450,-54.5 450,-54.5 450,-48.5 456,-42.5 462,-42.5\"/>\n",
       "<text text-anchor=\"middle\" x=\"477\" y=\"-55.5\" font-family=\"Helvetica,sans-Serif\" font-size=\"20.00\" fill=\"#000000\">b</text>\n",
       "</g>\n",
       "<!-- c&#45;&gt;b -->\n",
       "<g id=\"edge4\" class=\"edge\">\n",
       "<title>c&#45;&gt;b</title>\n",
       "<path fill=\"none\" stroke=\"#000000\" stroke-width=\"4\" d=\"M414.003,-93.3985C422.3804,-89.0236 431.7541,-84.1284 440.6579,-79.4786\"/>\n",
       "<polygon fill=\"#000000\" stroke=\"#000000\" stroke-width=\"4\" points=\"442.4611,-82.4856 449.705,-74.754 439.2207,-76.2807 442.4611,-82.4856\"/>\n",
       "</g>\n",
       "<!-- b&#45;&gt;a -->\n",
       "<g id=\"edge5\" class=\"edge\">\n",
       "<title>b&#45;&gt;a</title>\n",
       "<path fill=\"none\" stroke=\"#000000\" stroke-width=\"4\" d=\"M449.9944,-61.2502C419.2968,-62.1029 368.9858,-63.5004 334.495,-64.4585\"/>\n",
       "<polygon fill=\"#000000\" stroke=\"#000000\" stroke-width=\"4\" points=\"334.2371,-60.9642 324.3381,-64.7406 334.4315,-67.9615 334.2371,-60.9642\"/>\n",
       "</g>\n",
       "<!-- 4 -->\n",
       "<g id=\"node5\" class=\"node\">\n",
       "<title>4</title>\n",
       "<path fill=\"none\" stroke=\"#000000\" stroke-width=\"4\" d=\"M102,-.5C102,-.5 132,-.5 132,-.5 138,-.5 144,-6.5 144,-12.5 144,-12.5 144,-24.5 144,-24.5 144,-30.5 138,-36.5 132,-36.5 132,-36.5 102,-36.5 102,-36.5 96,-36.5 90,-30.5 90,-24.5 90,-24.5 90,-12.5 90,-12.5 90,-6.5 96,-.5 102,-.5\"/>\n",
       "<text text-anchor=\"middle\" x=\"117\" y=\"-13.5\" font-family=\"Helvetica,sans-Serif\" font-size=\"20.00\" fill=\"#000000\">4</text>\n",
       "</g>\n",
       "<!-- 4&#45;&gt;3 -->\n",
       "<g id=\"edge6\" class=\"edge\">\n",
       "<title>4&#45;&gt;3</title>\n",
       "<path fill=\"none\" stroke=\"#000000\" stroke-width=\"4\" d=\"M144.003,-32.6015C152.3804,-36.9764 161.7541,-41.8716 170.6579,-46.5214\"/>\n",
       "<polygon fill=\"#000000\" stroke=\"#000000\" stroke-width=\"4\" points=\"169.2207,-49.7193 179.705,-51.246 172.4611,-43.5144 169.2207,-49.7193\"/>\n",
       "</g>\n",
       "<!-- 4&#45;&gt;a -->\n",
       "<g id=\"edge7\" class=\"edge\">\n",
       "<title>4&#45;&gt;a</title>\n",
       "<path fill=\"none\" stroke=\"#000000\" stroke-width=\"4\" d=\"M207,-18.5C227.8002,-21.1708 248.7048,-31.5097 265.1245,-41.8128\"/>\n",
       "<polygon fill=\"#000000\" stroke=\"#000000\" stroke-width=\"4\" points=\"263.4767,-44.9179 273.7561,-47.4841 267.3206,-39.0677 263.4767,-44.9179\"/>\n",
       "</g>\n",
       "<!-- 4&#45;&gt;b -->\n",
       "<g id=\"edge8\" class=\"edge\">\n",
       "<title>4&#45;&gt;b</title>\n",
       "<path fill=\"none\" stroke=\"#000000\" stroke-width=\"4\" d=\"M144.2901,-16.6995C162.194,-15.9605 186.078,-15.8136 207,-18.5\"/>\n",
       "<path fill=\"none\" stroke=\"#000000\" stroke-width=\"4\" d=\"M207,-18.5C290.4175,-29.2111 387.7869,-45.2295 439.778,-54.0675\"/>\n",
       "<polygon fill=\"#000000\" stroke=\"#000000\" stroke-width=\"4\" points=\"439.4117,-57.5555 449.858,-55.7878 440.5894,-50.6553 439.4117,-57.5555\"/>\n",
       "</g>\n",
       "<!-- 5 -->\n",
       "<g id=\"node6\" class=\"node\">\n",
       "<title>5</title>\n",
       "<path fill=\"none\" stroke=\"#000000\" stroke-width=\"4\" d=\"M12,-23.5C12,-23.5 42,-23.5 42,-23.5 48,-23.5 54,-29.5 54,-35.5 54,-35.5 54,-47.5 54,-47.5 54,-53.5 48,-59.5 42,-59.5 42,-59.5 12,-59.5 12,-59.5 6,-59.5 0,-53.5 0,-47.5 0,-47.5 0,-35.5 0,-35.5 0,-29.5 6,-23.5 12,-23.5\"/>\n",
       "<text text-anchor=\"middle\" x=\"27\" y=\"-36.5\" font-family=\"Helvetica,sans-Serif\" font-size=\"20.00\" fill=\"#000000\">5</text>\n",
       "</g>\n",
       "<!-- 5&#45;&gt;3 -->\n",
       "<g id=\"edge10\" class=\"edge\">\n",
       "<title>5&#45;&gt;3</title>\n",
       "<path fill=\"none\" stroke=\"#000000\" stroke-width=\"4\" d=\"M54.3381,-45.1451C85.1765,-49.2569 135.5008,-55.9668 169.8771,-60.5503\"/>\n",
       "<polygon fill=\"#000000\" stroke=\"#000000\" stroke-width=\"4\" points=\"169.6195,-64.0468 179.9944,-61.8993 170.5447,-57.1082 169.6195,-64.0468\"/>\n",
       "</g>\n",
       "<!-- 5&#45;&gt;4 -->\n",
       "<g id=\"edge9\" class=\"edge\">\n",
       "<title>5&#45;&gt;4</title>\n",
       "<path fill=\"none\" stroke=\"#000000\" stroke-width=\"4\" d=\"M54.003,-34.5992C62.1158,-32.5259 71.1631,-30.2139 79.8131,-28.0033\"/>\n",
       "<polygon fill=\"#000000\" stroke=\"#000000\" stroke-width=\"4\" points=\"80.883,-31.3425 89.705,-25.4754 79.1498,-24.5604 80.883,-31.3425\"/>\n",
       "</g>\n",
       "</g>\n",
       "</svg>\n"
      ]
     },
     "execution_count": 3,
     "metadata": {},
     "output_type": "execute_result"
    }
   ],
   "source": [
    "(1..3).fold(g1) { it, _ -> it.attachRandomT(3) }"
   ]
  },
  {
   "cell_type": "code",
   "execution_count": 4,
   "metadata": {},
   "outputs": [
    {
     "data": {
      "text/plain": [
       "{a=187, b=187, c=187}"
      ]
     },
     "execution_count": 4,
     "metadata": {},
     "output_type": "execute_result"
    }
   ],
   "source": [
    "g1.wl()"
   ]
  },
  {
   "cell_type": "code",
   "execution_count": 5,
   "metadata": {
    "scrolled": true
   },
   "outputs": [
    {
     "data": {
      "text/html": [
       "<img src=\"data:image/jpg;base64,iVBORw0KGgoAAAANSUhEUgAAADwAAAA8CAIAAAC1nk4lAAAA4UlEQVR4XtXPIQ4AIAzFUO5/afDUlEw0NM/M/a0VtQeyOMXL4hQvi1O8LE7xsjjFy+IUL4tTvCxO8bI4xcviFC+LU7wsTvGyOMXL4hQvi1O8LE7xsjjFy+IUL4tTvPt+ksUpXhaneFmc4mVxipfFKV4Wp3hZnOJlcYqXxSleFqd4WZziZXGKl8UpXhaneFmc4mVxipfFKV4Wp3hZnOJ9Gd/wsjjFy+IUL4tTvCxO8bI4xcviFC+LU7wsTvGyOMXL4hQvi1O8LE7xsjjFy+IUL4tTvCxO8bI4xcviFC+LU7xJB1bIq41IVJglAAAAAElFTkSuQmCC\"/>"
      ]
     },
     "execution_count": 5,
     "metadata": {},
     "output_type": "execute_result"
    }
   ],
   "source": [
    "g1.A"
   ]
  },
  {
   "cell_type": "code",
   "execution_count": 6,
   "metadata": {},
   "outputs": [
    {
     "data": {
      "text/html": [
       "<svg width=\"242px\" height=\"69px\"\n",
       " viewBox=\"0.00 0.00 242.00 69.00\" xmlns=\"http://www.w3.org/2000/svg\" xmlns:xlink=\"http://www.w3.org/1999/xlink\">\n",
       "<g id=\"graph0\" class=\"graph\" transform=\"scale(1.0 1.0) rotate(0.0) translate(4.0 65.0)\">\n",
       "<title>%3</title>\n",
       "<!-- b -->\n",
       "<g id=\"node1\" class=\"node\">\n",
       "<title>b</title>\n",
       "<path fill=\"none\" stroke=\"#000000\" stroke-width=\"4\" d=\"M12,-.5C12,-.5 42,-.5 42,-.5 48,-.5 54,-6.5 54,-12.5 54,-12.5 54,-24.5 54,-24.5 54,-30.5 48,-36.5 42,-36.5 42,-36.5 12,-36.5 12,-36.5 6,-36.5 0,-30.5 0,-24.5 0,-24.5 0,-12.5 0,-12.5 0,-6.5 6,-.5 12,-.5\"/>\n",
       "<text text-anchor=\"middle\" x=\"27\" y=\"-13.5\" font-family=\"Helvetica,sans-Serif\" font-size=\"20.00\" fill=\"#000000\">b</text>\n",
       "</g>\n",
       "<!-- e -->\n",
       "<g id=\"node2\" class=\"node\">\n",
       "<title>e</title>\n",
       "<path fill=\"none\" stroke=\"#000000\" stroke-width=\"4\" d=\"M102,-24.5C102,-24.5 132,-24.5 132,-24.5 138,-24.5 144,-30.5 144,-36.5 144,-36.5 144,-48.5 144,-48.5 144,-54.5 138,-60.5 132,-60.5 132,-60.5 102,-60.5 102,-60.5 96,-60.5 90,-54.5 90,-48.5 90,-48.5 90,-36.5 90,-36.5 90,-30.5 96,-24.5 102,-24.5\"/>\n",
       "<text text-anchor=\"middle\" x=\"117\" y=\"-37.5\" font-family=\"Helvetica,sans-Serif\" font-size=\"20.00\" fill=\"#000000\">e</text>\n",
       "</g>\n",
       "<!-- b&#45;&gt;e -->\n",
       "<g id=\"edge1\" class=\"edge\">\n",
       "<title>b&#45;&gt;e</title>\n",
       "<path fill=\"none\" stroke=\"#000000\" stroke-width=\"4\" d=\"M54.003,-25.7008C62.1158,-27.8642 71.1631,-30.2768 79.8131,-32.5835\"/>\n",
       "<polygon fill=\"#000000\" stroke=\"#000000\" stroke-width=\"4\" points=\"79.1408,-36.0265 89.705,-35.2213 80.9445,-29.2628 79.1408,-36.0265\"/>\n",
       "</g>\n",
       "<!-- d -->\n",
       "<g id=\"node3\" class=\"node\">\n",
       "<title>d</title>\n",
       "<path fill=\"none\" stroke=\"#000000\" stroke-width=\"4\" d=\"M192,-.5C192,-.5 222,-.5 222,-.5 228,-.5 234,-6.5 234,-12.5 234,-12.5 234,-24.5 234,-24.5 234,-30.5 228,-36.5 222,-36.5 222,-36.5 192,-36.5 192,-36.5 186,-36.5 180,-30.5 180,-24.5 180,-24.5 180,-12.5 180,-12.5 180,-6.5 186,-.5 192,-.5\"/>\n",
       "<text text-anchor=\"middle\" x=\"207\" y=\"-13.5\" font-family=\"Helvetica,sans-Serif\" font-size=\"20.00\" fill=\"#000000\">d</text>\n",
       "</g>\n",
       "<!-- e&#45;&gt;d -->\n",
       "<g id=\"edge2\" class=\"edge\">\n",
       "<title>e&#45;&gt;d</title>\n",
       "<path fill=\"none\" stroke=\"#000000\" stroke-width=\"4\" d=\"M144.003,-35.2992C152.1158,-33.1358 161.1631,-30.7232 169.8131,-28.4165\"/>\n",
       "<polygon fill=\"#000000\" stroke=\"#000000\" stroke-width=\"4\" points=\"170.9445,-31.7372 179.705,-25.7787 169.1408,-24.9735 170.9445,-31.7372\"/>\n",
       "</g>\n",
       "<!-- d&#45;&gt;b -->\n",
       "<g id=\"edge3\" class=\"edge\">\n",
       "<title>d&#45;&gt;b</title>\n",
       "<path fill=\"none\" stroke=\"#000000\" stroke-width=\"4\" d=\"M179.7214,-16.9174C168.6407,-16.3485 155.7131,-15.7787 144,-15.5 120.0068,-14.9291 113.9932,-14.9291 90,-15.5 81.6727,-15.6982 72.7316,-16.0434 64.2767,-16.4309\"/>\n",
       "<polygon fill=\"#000000\" stroke=\"#000000\" stroke-width=\"4\" points=\"64.0967,-12.9354 54.2786,-16.9174 64.437,-19.9272 64.0967,-12.9354\"/>\n",
       "</g>\n",
       "</g>\n",
       "</svg>\n"
      ]
     },
     "execution_count": 6,
     "metadata": {},
     "output_type": "execute_result"
    }
   ],
   "source": [
    "val g2 = LabeledGraph { b  - d - e - b }; g2"
   ]
  },
  {
   "cell_type": "code",
   "execution_count": 7,
   "metadata": {},
   "outputs": [
    {
     "data": {
      "text/html": [
       "<svg width=\"422px\" height=\"69px\"\n",
       " viewBox=\"0.00 0.00 422.00 69.00\" xmlns=\"http://www.w3.org/2000/svg\" xmlns:xlink=\"http://www.w3.org/1999/xlink\">\n",
       "<g id=\"graph0\" class=\"graph\" transform=\"scale(1.0 1.0) rotate(0.0) translate(4.0 65.0)\">\n",
       "<title>%3</title>\n",
       "<!-- a -->\n",
       "<g id=\"node1\" class=\"node\">\n",
       "<title>a</title>\n",
       "<path fill=\"none\" stroke=\"#000000\" stroke-width=\"4\" d=\"M12,-.5C12,-.5 42,-.5 42,-.5 48,-.5 54,-6.5 54,-12.5 54,-12.5 54,-24.5 54,-24.5 54,-30.5 48,-36.5 42,-36.5 42,-36.5 12,-36.5 12,-36.5 6,-36.5 0,-30.5 0,-24.5 0,-24.5 0,-12.5 0,-12.5 0,-6.5 6,-.5 12,-.5\"/>\n",
       "<text text-anchor=\"middle\" x=\"27\" y=\"-13.5\" font-family=\"Helvetica,sans-Serif\" font-size=\"20.00\" fill=\"#000000\">a</text>\n",
       "</g>\n",
       "<!-- c -->\n",
       "<g id=\"node2\" class=\"node\">\n",
       "<title>c</title>\n",
       "<path fill=\"none\" stroke=\"#000000\" stroke-width=\"4\" d=\"M102,-24.5C102,-24.5 132,-24.5 132,-24.5 138,-24.5 144,-30.5 144,-36.5 144,-36.5 144,-48.5 144,-48.5 144,-54.5 138,-60.5 132,-60.5 132,-60.5 102,-60.5 102,-60.5 96,-60.5 90,-54.5 90,-48.5 90,-48.5 90,-36.5 90,-36.5 90,-30.5 96,-24.5 102,-24.5\"/>\n",
       "<text text-anchor=\"middle\" x=\"117\" y=\"-37.5\" font-family=\"Helvetica,sans-Serif\" font-size=\"20.00\" fill=\"#000000\">c</text>\n",
       "</g>\n",
       "<!-- a&#45;&gt;c -->\n",
       "<g id=\"edge1\" class=\"edge\">\n",
       "<title>a&#45;&gt;c</title>\n",
       "<path fill=\"none\" stroke=\"#000000\" stroke-width=\"4\" d=\"M54.003,-25.7008C62.1158,-27.8642 71.1631,-30.2768 79.8131,-32.5835\"/>\n",
       "<polygon fill=\"#000000\" stroke=\"#000000\" stroke-width=\"4\" points=\"79.1408,-36.0265 89.705,-35.2213 80.9445,-29.2628 79.1408,-36.0265\"/>\n",
       "</g>\n",
       "<!-- b -->\n",
       "<g id=\"node3\" class=\"node\">\n",
       "<title>b</title>\n",
       "<path fill=\"none\" stroke=\"#000000\" stroke-width=\"4\" d=\"M192,-.5C192,-.5 222,-.5 222,-.5 228,-.5 234,-6.5 234,-12.5 234,-12.5 234,-24.5 234,-24.5 234,-30.5 228,-36.5 222,-36.5 222,-36.5 192,-36.5 192,-36.5 186,-36.5 180,-30.5 180,-24.5 180,-24.5 180,-12.5 180,-12.5 180,-6.5 186,-.5 192,-.5\"/>\n",
       "<text text-anchor=\"middle\" x=\"207\" y=\"-13.5\" font-family=\"Helvetica,sans-Serif\" font-size=\"20.00\" fill=\"#000000\">b</text>\n",
       "</g>\n",
       "<!-- c&#45;&gt;b -->\n",
       "<g id=\"edge2\" class=\"edge\">\n",
       "<title>c&#45;&gt;b</title>\n",
       "<path fill=\"none\" stroke=\"#000000\" stroke-width=\"4\" d=\"M144.003,-35.2992C152.1158,-33.1358 161.1631,-30.7232 169.8131,-28.4165\"/>\n",
       "<polygon fill=\"#000000\" stroke=\"#000000\" stroke-width=\"4\" points=\"170.9445,-31.7372 179.705,-25.7787 169.1408,-24.9735 170.9445,-31.7372\"/>\n",
       "</g>\n",
       "<!-- b&#45;&gt;a -->\n",
       "<g id=\"edge3\" class=\"edge\">\n",
       "<title>b&#45;&gt;a</title>\n",
       "<path fill=\"none\" stroke=\"#000000\" stroke-width=\"4\" d=\"M179.7214,-16.9174C168.6407,-16.3485 155.7131,-15.7787 144,-15.5 120.0068,-14.9291 113.9932,-14.9291 90,-15.5 81.6727,-15.6982 72.7316,-16.0434 64.2767,-16.4309\"/>\n",
       "<polygon fill=\"#000000\" stroke=\"#000000\" stroke-width=\"4\" points=\"64.0967,-12.9354 54.2786,-16.9174 64.437,-19.9272 64.0967,-12.9354\"/>\n",
       "</g>\n",
       "<!-- e -->\n",
       "<g id=\"node4\" class=\"node\">\n",
       "<title>e</title>\n",
       "<path fill=\"none\" stroke=\"#000000\" stroke-width=\"4\" d=\"M282,-24.5C282,-24.5 312,-24.5 312,-24.5 318,-24.5 324,-30.5 324,-36.5 324,-36.5 324,-48.5 324,-48.5 324,-54.5 318,-60.5 312,-60.5 312,-60.5 282,-60.5 282,-60.5 276,-60.5 270,-54.5 270,-48.5 270,-48.5 270,-36.5 270,-36.5 270,-30.5 276,-24.5 282,-24.5\"/>\n",
       "<text text-anchor=\"middle\" x=\"297\" y=\"-37.5\" font-family=\"Helvetica,sans-Serif\" font-size=\"20.00\" fill=\"#000000\">e</text>\n",
       "</g>\n",
       "<!-- b&#45;&gt;e -->\n",
       "<g id=\"edge4\" class=\"edge\">\n",
       "<title>b&#45;&gt;e</title>\n",
       "<path fill=\"none\" stroke=\"#000000\" stroke-width=\"4\" d=\"M234.003,-25.7008C242.1158,-27.8642 251.1631,-30.2768 259.8131,-32.5835\"/>\n",
       "<polygon fill=\"#000000\" stroke=\"#000000\" stroke-width=\"4\" points=\"259.1408,-36.0265 269.705,-35.2213 260.9445,-29.2628 259.1408,-36.0265\"/>\n",
       "</g>\n",
       "<!-- d -->\n",
       "<g id=\"node5\" class=\"node\">\n",
       "<title>d</title>\n",
       "<path fill=\"none\" stroke=\"#000000\" stroke-width=\"4\" d=\"M372,-.5C372,-.5 402,-.5 402,-.5 408,-.5 414,-6.5 414,-12.5 414,-12.5 414,-24.5 414,-24.5 414,-30.5 408,-36.5 402,-36.5 402,-36.5 372,-36.5 372,-36.5 366,-36.5 360,-30.5 360,-24.5 360,-24.5 360,-12.5 360,-12.5 360,-6.5 366,-.5 372,-.5\"/>\n",
       "<text text-anchor=\"middle\" x=\"387\" y=\"-13.5\" font-family=\"Helvetica,sans-Serif\" font-size=\"20.00\" fill=\"#000000\">d</text>\n",
       "</g>\n",
       "<!-- e&#45;&gt;d -->\n",
       "<g id=\"edge5\" class=\"edge\">\n",
       "<title>e&#45;&gt;d</title>\n",
       "<path fill=\"none\" stroke=\"#000000\" stroke-width=\"4\" d=\"M324.003,-35.2992C332.1158,-33.1358 341.1631,-30.7232 349.8131,-28.4165\"/>\n",
       "<polygon fill=\"#000000\" stroke=\"#000000\" stroke-width=\"4\" points=\"350.9445,-31.7372 359.705,-25.7787 349.1408,-24.9735 350.9445,-31.7372\"/>\n",
       "</g>\n",
       "<!-- d&#45;&gt;b -->\n",
       "<g id=\"edge6\" class=\"edge\">\n",
       "<title>d&#45;&gt;b</title>\n",
       "<path fill=\"none\" stroke=\"#000000\" stroke-width=\"4\" d=\"M359.7214,-16.9174C348.6407,-16.3485 335.7131,-15.7787 324,-15.5 300.0068,-14.9291 293.9932,-14.9291 270,-15.5 261.6727,-15.6982 252.7316,-16.0434 244.2767,-16.4309\"/>\n",
       "<polygon fill=\"#000000\" stroke=\"#000000\" stroke-width=\"4\" points=\"244.0967,-12.9354 234.2786,-16.9174 244.437,-19.9272 244.0967,-12.9354\"/>\n",
       "</g>\n",
       "</g>\n",
       "</svg>\n"
      ]
     },
     "execution_count": 7,
     "metadata": {},
     "output_type": "execute_result"
    }
   ],
   "source": [
    "g1 + g2"
   ]
  },
  {
   "cell_type": "code",
   "execution_count": 8,
   "metadata": {},
   "outputs": [
    {
     "data": {
      "text/plain": [
       "true"
      ]
     },
     "execution_count": 8,
     "metadata": {},
     "output_type": "execute_result"
    }
   ],
   "source": [
    "g1 == g2"
   ]
  }
 ],
 "metadata": {
  "kernelspec": {
   "display_name": "Kotlin",
   "language": "kotlin",
   "name": "kotlin"
  },
  "language_info": {
   "codemirror_mode": "text/x-kotlin",
   "file_extension": ".kt",
   "mimetype": "text/x-kotlin",
   "name": "kotlin",
   "nbconvert_exporter": "",
   "pygments_lexer": "kotlin",
   "version": "1.4.30"
  }
 },
 "nbformat": 4,
 "nbformat_minor": 2
}