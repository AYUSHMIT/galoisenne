{
 "cells": [
  {
   "cell_type": "code",
   "execution_count": 1,
   "metadata": {},
   "outputs": [
    {
     "name": "stdout",
     "output_type": "stream",
     "text": [
      ":: problems summary ::\n",
      ":::: ERRORS\n",
      "\tunknown resolver \n",
      "\n",
      "\tunknown resolver \n",
      "\n"
     ]
    }
   ],
   "source": [
    "%use @https://raw.githubusercontent.com/breandan/kaliningraph/master/kaliningraph.json"
   ]
  },
  {
   "cell_type": "code",
   "execution_count": 2,
   "metadata": {},
   "outputs": [
    {
     "data": {
      "text/html": [
       "<svg width=\"242px\" height=\"69px\"\n",
       " viewBox=\"0.00 0.00 242.00 69.00\" xmlns=\"http://www.w3.org/2000/svg\" xmlns:xlink=\"http://www.w3.org/1999/xlink\">\n",
       "<g id=\"graph0\" class=\"graph\" transform=\"scale(1.0 1.0) rotate(0) translate(4 65)\">\n",
       "<title>%3</title>\n",
       "<!-- a -->\n",
       "<g id=\"node1\" class=\"node\">\n",
       "<title>a</title>\n",
       "<path fill=\"none\" stroke=\"#000000\" stroke-width=\"4\" d=\"M12,-.5C12,-.5 42,-.5 42,-.5 48,-.5 54,-6.5 54,-12.5 54,-12.5 54,-24.5 54,-24.5 54,-30.5 48,-36.5 42,-36.5 42,-36.5 12,-36.5 12,-36.5 6,-36.5 0,-30.5 0,-24.5 0,-24.5 0,-12.5 0,-12.5 0,-6.5 6,-.5 12,-.5\"/>\n",
       "<text text-anchor=\"middle\" x=\"27\" y=\"-13.5\" font-family=\"Helvetica,sans-Serif\" font-size=\"20.00\" fill=\"#000000\">a</text>\n",
       "</g>\n",
       "<!-- c -->\n",
       "<g id=\"node2\" class=\"node\">\n",
       "<title>c</title>\n",
       "<path fill=\"none\" stroke=\"#000000\" stroke-width=\"4\" d=\"M102,-24.5C102,-24.5 132,-24.5 132,-24.5 138,-24.5 144,-30.5 144,-36.5 144,-36.5 144,-48.5 144,-48.5 144,-54.5 138,-60.5 132,-60.5 132,-60.5 102,-60.5 102,-60.5 96,-60.5 90,-54.5 90,-48.5 90,-48.5 90,-36.5 90,-36.5 90,-30.5 96,-24.5 102,-24.5\"/>\n",
       "<text text-anchor=\"middle\" x=\"117\" y=\"-37.5\" font-family=\"Helvetica,sans-Serif\" font-size=\"20.00\" fill=\"#000000\">c</text>\n",
       "</g>\n",
       "<!-- a&#45;&gt;c -->\n",
       "<g id=\"edge1\" class=\"edge\">\n",
       "<title>a&#45;&gt;c</title>\n",
       "<path fill=\"none\" stroke=\"#000000\" stroke-width=\"4\" d=\"M54.003,-25.7008C62.1158,-27.8642 71.1631,-30.2768 79.8131,-32.5835\"/>\n",
       "<polygon fill=\"#000000\" stroke=\"#000000\" stroke-width=\"4\" points=\"79.1408,-36.0265 89.705,-35.2213 80.9445,-29.2628 79.1408,-36.0265\"/>\n",
       "</g>\n",
       "<!-- b -->\n",
       "<g id=\"node3\" class=\"node\">\n",
       "<title>b</title>\n",
       "<path fill=\"none\" stroke=\"#000000\" stroke-width=\"4\" d=\"M192,-.5C192,-.5 222,-.5 222,-.5 228,-.5 234,-6.5 234,-12.5 234,-12.5 234,-24.5 234,-24.5 234,-30.5 228,-36.5 222,-36.5 222,-36.5 192,-36.5 192,-36.5 186,-36.5 180,-30.5 180,-24.5 180,-24.5 180,-12.5 180,-12.5 180,-6.5 186,-.5 192,-.5\"/>\n",
       "<text text-anchor=\"middle\" x=\"207\" y=\"-13.5\" font-family=\"Helvetica,sans-Serif\" font-size=\"20.00\" fill=\"#000000\">b</text>\n",
       "</g>\n",
       "<!-- c&#45;&gt;b -->\n",
       "<g id=\"edge2\" class=\"edge\">\n",
       "<title>c&#45;&gt;b</title>\n",
       "<path fill=\"none\" stroke=\"#000000\" stroke-width=\"4\" d=\"M144.003,-35.2992C152.1158,-33.1358 161.1631,-30.7232 169.8131,-28.4165\"/>\n",
       "<polygon fill=\"#000000\" stroke=\"#000000\" stroke-width=\"4\" points=\"170.9445,-31.7372 179.705,-25.7787 169.1408,-24.9735 170.9445,-31.7372\"/>\n",
       "</g>\n",
       "<!-- b&#45;&gt;a -->\n",
       "<g id=\"edge3\" class=\"edge\">\n",
       "<title>b&#45;&gt;a</title>\n",
       "<path fill=\"none\" stroke=\"#000000\" stroke-width=\"4\" d=\"M179.7214,-16.9174C168.6407,-16.3485 155.7131,-15.7787 144,-15.5 120.0068,-14.9291 113.9932,-14.9291 90,-15.5 81.6727,-15.6982 72.7316,-16.0434 64.2767,-16.4309\"/>\n",
       "<polygon fill=\"#000000\" stroke=\"#000000\" stroke-width=\"4\" points=\"64.0967,-12.9354 54.2786,-16.9174 64.437,-19.9272 64.0967,-12.9354\"/>\n",
       "</g>\n",
       "</g>\n",
       "</svg>\n"
      ]
     },
     "execution_count": 2,
     "metadata": {
      "new_classpath": []
     },
     "output_type": "execute_result"
    }
   ],
   "source": [
    "val graph = LabeledGraphBuilder { a - b - c - a }; graph"
   ]
  },
  {
   "cell_type": "code",
   "execution_count": 3,
   "metadata": {},
   "outputs": [
    {
     "data": {
      "text/html": [
       "<svg width=\"422px\" height=\"144px\"\n",
       " viewBox=\"0.00 0.00 422.00 144.18\" xmlns=\"http://www.w3.org/2000/svg\" xmlns:xlink=\"http://www.w3.org/1999/xlink\">\n",
       "<g id=\"graph0\" class=\"graph\" transform=\"scale(1.0 1.0) rotate(0) translate(4 140.1846)\">\n",
       "<title>%3</title>\n",
       "<!-- 4 -->\n",
       "<g id=\"node1\" class=\"node\">\n",
       "<title>4</title>\n",
       "<path fill=\"none\" stroke=\"#000000\" stroke-width=\"4\" d=\"M12,-89.06C12,-89.06 42,-89.06 42,-89.06 48,-89.06 54,-95.06 54,-101.06 54,-101.06 54,-113.06 54,-113.06 54,-119.06 48,-125.06 42,-125.06 42,-125.06 12,-125.06 12,-125.06 6,-125.06 0,-119.06 0,-113.06 0,-113.06 0,-101.06 0,-101.06 0,-95.06 6,-89.06 12,-89.06\"/>\n",
       "<text text-anchor=\"middle\" x=\"27\" y=\"-102.06\" font-family=\"Helvetica,sans-Serif\" font-size=\"20.00\" fill=\"#000000\">4</text>\n",
       "</g>\n",
       "<!-- 3 -->\n",
       "<g id=\"node2\" class=\"node\">\n",
       "<title>3</title>\n",
       "<path fill=\"none\" stroke=\"#000000\" stroke-width=\"4\" d=\"M102,-31.06C102,-31.06 132,-31.06 132,-31.06 138,-31.06 144,-37.06 144,-43.06 144,-43.06 144,-55.06 144,-55.06 144,-61.06 138,-67.06 132,-67.06 132,-67.06 102,-67.06 102,-67.06 96,-67.06 90,-61.06 90,-55.06 90,-55.06 90,-43.06 90,-43.06 90,-37.06 96,-31.06 102,-31.06\"/>\n",
       "<text text-anchor=\"middle\" x=\"117\" y=\"-44.06\" font-family=\"Helvetica,sans-Serif\" font-size=\"20.00\" fill=\"#000000\">3</text>\n",
       "</g>\n",
       "<!-- 4&#45;&gt;3 -->\n",
       "<g id=\"edge1\" class=\"edge\">\n",
       "<title>4&#45;&gt;3</title>\n",
       "<path fill=\"none\" stroke=\"#000000\" stroke-width=\"4\" d=\"M54.003,-89.6581C62.5568,-84.1457 72.1493,-77.9638 81.2196,-72.1185\"/>\n",
       "<polygon fill=\"#000000\" stroke=\"#000000\" stroke-width=\"4\" points=\"83.1953,-75.0092 89.705,-66.6501 79.4033,-69.1252 83.1953,-75.0092\"/>\n",
       "</g>\n",
       "<!-- c -->\n",
       "<g id=\"node4\" class=\"node\">\n",
       "<title>c</title>\n",
       "<path fill=\"none\" stroke=\"#000000\" stroke-width=\"4\" d=\"M282,-69.06C282,-69.06 312,-69.06 312,-69.06 318,-69.06 324,-75.06 324,-81.06 324,-81.06 324,-93.06 324,-93.06 324,-99.06 318,-105.06 312,-105.06 312,-105.06 282,-105.06 282,-105.06 276,-105.06 270,-99.06 270,-93.06 270,-93.06 270,-81.06 270,-81.06 270,-75.06 276,-69.06 282,-69.06\"/>\n",
       "<text text-anchor=\"middle\" x=\"297\" y=\"-82.06\" font-family=\"Helvetica,sans-Serif\" font-size=\"20.00\" fill=\"#000000\">c</text>\n",
       "</g>\n",
       "<!-- 4&#45;&gt;c -->\n",
       "<g id=\"edge3\" class=\"edge\">\n",
       "<title>4&#45;&gt;c</title>\n",
       "<path fill=\"none\" stroke=\"#000000\" stroke-width=\"4\" d=\"M54.0904,-115.8405C89.2728,-126.1587 152.6211,-141.0424 207,-134.06\"/>\n",
       "<path fill=\"none\" stroke=\"#000000\" stroke-width=\"4\" d=\"M207,-134.06C228.0143,-131.9525 249.0721,-121.5228 265.5297,-111.0224\"/>\n",
       "<polygon fill=\"#000000\" stroke=\"#000000\" stroke-width=\"4\" points=\"267.8101,-113.7076 274.1701,-105.234 263.9141,-107.892 267.8101,-113.7076\"/>\n",
       "</g>\n",
       "<!-- b -->\n",
       "<g id=\"node5\" class=\"node\">\n",
       "<title>b</title>\n",
       "<path fill=\"none\" stroke=\"#000000\" stroke-width=\"4\" d=\"M372,-45.06C372,-45.06 402,-45.06 402,-45.06 408,-45.06 414,-51.06 414,-57.06 414,-57.06 414,-69.06 414,-69.06 414,-75.06 408,-81.06 402,-81.06 402,-81.06 372,-81.06 372,-81.06 366,-81.06 360,-75.06 360,-69.06 360,-69.06 360,-57.06 360,-57.06 360,-51.06 366,-45.06 372,-45.06\"/>\n",
       "<text text-anchor=\"middle\" x=\"387\" y=\"-58.06\" font-family=\"Helvetica,sans-Serif\" font-size=\"20.00\" fill=\"#000000\">b</text>\n",
       "</g>\n",
       "<!-- 4&#45;&gt;b -->\n",
       "<g id=\"edge2\" class=\"edge\">\n",
       "<title>4&#45;&gt;b</title>\n",
       "<path fill=\"none\" stroke=\"#000000\" stroke-width=\"4\" d=\"M207,-134.06C259.4182,-128.803 276.0165,-136.8062 324,-115.06 338.2404,-108.6063 351.8991,-98.0678 362.8362,-88.1594\"/>\n",
       "<polygon fill=\"#000000\" stroke=\"#000000\" stroke-width=\"4\" points=\"365.4201,-90.5334 370.2886,-81.1234 360.6145,-85.4435 365.4201,-90.5334\"/>\n",
       "</g>\n",
       "<!-- a -->\n",
       "<g id=\"node3\" class=\"node\">\n",
       "<title>a</title>\n",
       "<path fill=\"none\" stroke=\"#000000\" stroke-width=\"4\" d=\"M192,-31.06C192,-31.06 222,-31.06 222,-31.06 228,-31.06 234,-37.06 234,-43.06 234,-43.06 234,-55.06 234,-55.06 234,-61.06 228,-67.06 222,-67.06 222,-67.06 192,-67.06 192,-67.06 186,-67.06 180,-61.06 180,-55.06 180,-55.06 180,-43.06 180,-43.06 180,-37.06 186,-31.06 192,-31.06\"/>\n",
       "<text text-anchor=\"middle\" x=\"207\" y=\"-44.06\" font-family=\"Helvetica,sans-Serif\" font-size=\"20.00\" fill=\"#000000\">a</text>\n",
       "</g>\n",
       "<!-- 3&#45;&gt;a -->\n",
       "<g id=\"edge4\" class=\"edge\">\n",
       "<title>3&#45;&gt;a</title>\n",
       "<path fill=\"none\" stroke=\"#000000\" stroke-width=\"4\" d=\"M144.003,-49.06C152.0277,-49.06 160.9665,-49.06 169.5309,-49.06\"/>\n",
       "<polygon fill=\"#000000\" stroke=\"#000000\" stroke-width=\"4\" points=\"169.7051,-52.5601 179.705,-49.06 169.705,-45.5601 169.7051,-52.5601\"/>\n",
       "</g>\n",
       "<!-- 3&#45;&gt;c -->\n",
       "<g id=\"edge6\" class=\"edge\">\n",
       "<title>3&#45;&gt;c</title>\n",
       "<path fill=\"none\" stroke=\"#000000\" stroke-width=\"4\" d=\"M144.2608,-62.9417C155.1176,-67.881 167.8917,-72.9771 180,-76.06 206.061,-82.6955 236.3032,-85.4141 259.5116,-86.4903\"/>\n",
       "<polygon fill=\"#000000\" stroke=\"#000000\" stroke-width=\"4\" points=\"259.5134,-89.9928 269.6397,-86.8773 259.7807,-82.9979 259.5134,-89.9928\"/>\n",
       "</g>\n",
       "<!-- 3&#45;&gt;b -->\n",
       "<g id=\"edge5\" class=\"edge\">\n",
       "<title>3&#45;&gt;b</title>\n",
       "<path fill=\"none\" stroke=\"#000000\" stroke-width=\"4\" d=\"M140.2439,-31.0441C157.5492,-19.1619 182.3479,-5.2254 207,-2.06\"/>\n",
       "</g>\n",
       "<!-- a&#45;&gt;c -->\n",
       "<g id=\"edge7\" class=\"edge\">\n",
       "<title>a&#45;&gt;c</title>\n",
       "<path fill=\"none\" stroke=\"#000000\" stroke-width=\"4\" d=\"M234.003,-60.4613C242.2922,-63.9612 251.5569,-67.8729 260.3766,-71.5968\"/>\n",
       "<polygon fill=\"#000000\" stroke=\"#000000\" stroke-width=\"4\" points=\"259.1311,-74.8701 269.705,-75.5355 261.8539,-68.4213 259.1311,-74.8701\"/>\n",
       "</g>\n",
       "<!-- c&#45;&gt;b -->\n",
       "<g id=\"edge8\" class=\"edge\">\n",
       "<title>c&#45;&gt;b</title>\n",
       "<path fill=\"none\" stroke=\"#000000\" stroke-width=\"4\" d=\"M324.003,-79.8592C332.1158,-77.6958 341.1631,-75.2832 349.8131,-72.9765\"/>\n",
       "<polygon fill=\"#000000\" stroke=\"#000000\" stroke-width=\"4\" points=\"350.9445,-76.2972 359.705,-70.3387 349.1408,-69.5336 350.9445,-76.2972\"/>\n",
       "</g>\n",
       "<!-- b&#45;&gt;a -->\n",
       "<g id=\"edge9\" class=\"edge\">\n",
       "<title>b&#45;&gt;a</title>\n",
       "<path fill=\"none\" stroke=\"#000000\" stroke-width=\"4\" d=\"M359.9944,-60.9596C329.2968,-58.572 278.9858,-54.6589 244.495,-51.9763\"/>\n",
       "<polygon fill=\"#000000\" stroke=\"#000000\" stroke-width=\"4\" points=\"244.5794,-48.4724 234.3381,-51.1863 244.0366,-55.4513 244.5794,-48.4724\"/>\n",
       "</g>\n",
       "<!-- 5 -->\n",
       "<g id=\"node6\" class=\"node\">\n",
       "<title>5</title>\n",
       "<path fill=\"none\" stroke=\"#000000\" stroke-width=\"4\" d=\"M12,-7.06C12,-7.06 42,-7.06 42,-7.06 48,-7.06 54,-13.06 54,-19.06 54,-19.06 54,-31.06 54,-31.06 54,-37.06 48,-43.06 42,-43.06 42,-43.06 12,-43.06 12,-43.06 6,-43.06 0,-37.06 0,-31.06 0,-31.06 0,-19.06 0,-19.06 0,-13.06 6,-7.06 12,-7.06\"/>\n",
       "<text text-anchor=\"middle\" x=\"27\" y=\"-20.06\" font-family=\"Helvetica,sans-Serif\" font-size=\"20.00\" fill=\"#000000\">5</text>\n",
       "</g>\n",
       "<!-- 5&#45;&gt;3 -->\n",
       "<g id=\"edge11\" class=\"edge\">\n",
       "<title>5&#45;&gt;3</title>\n",
       "<path fill=\"none\" stroke=\"#000000\" stroke-width=\"4\" d=\"M54.003,-32.2608C62.1158,-34.4243 71.1631,-36.8369 79.8131,-39.1435\"/>\n",
       "<polygon fill=\"#000000\" stroke=\"#000000\" stroke-width=\"4\" points=\"79.1408,-42.5865 89.705,-41.7814 80.9445,-35.8228 79.1408,-42.5865\"/>\n",
       "</g>\n",
       "<!-- 5&#45;&gt;b -->\n",
       "<g id=\"edge10\" class=\"edge\">\n",
       "<title>5&#45;&gt;b</title>\n",
       "<path fill=\"none\" stroke=\"#000000\" stroke-width=\"4\" d=\"M54.1416,-21.6025C89.3788,-17.1113 152.7855,-9.0213 207,-2.06\"/>\n",
       "<path fill=\"none\" stroke=\"#000000\" stroke-width=\"4\" d=\"M207,-2.06C258.5947,6.1801 315.2307,-19.1128 350.9309,-39.6075\"/>\n",
       "<polygon fill=\"#000000\" stroke=\"#000000\" stroke-width=\"4\" points=\"349.5923,-42.8821 359.9814,-44.9595 353.1554,-36.8567 349.5923,-42.8821\"/>\n",
       "</g>\n",
       "</g>\n",
       "</svg>\n"
      ]
     },
     "execution_count": 3,
     "metadata": {
      "new_classpath": []
     },
     "output_type": "execute_result"
    }
   ],
   "source": [
    "(1..3).fold(graph) { it, _ -> it.attachRandomT(3) }"
   ]
  },
  {
   "cell_type": "code",
   "execution_count": 4,
   "metadata": {},
   "outputs": [
    {
     "data": {
      "text/plain": [
       "{a=187, b=187, c=187}"
      ]
     },
     "execution_count": 4,
     "metadata": {
      "new_classpath": []
     },
     "output_type": "execute_result"
    }
   ],
   "source": [
    "graph.wl()"
   ]
  },
  {
   "cell_type": "code",
   "execution_count": 5,
   "metadata": {},
   "outputs": [
    {
     "name": "stderr",
     "output_type": "stream",
     "text": [
      "Line_7.jupyter.kts (1:26 - 59) No cast needed\n",
      "Line_7.jupyter.kts (1:61 - 69) Unresolved reference. None of the following candidates is applicable because of receiver type mismatch: \n",
      "public fun BMat.matToImg(f: Int = ...): String defined in edu.mcgill.kaliningraph"
     ]
    }
   ],
   "source": [
    "graph.D"
   ]
  },
  {
   "cell_type": "code",
   "execution_count": 18,
   "metadata": {
    "scrolled": true
   },
   "outputs": [
    {
     "name": "stderr",
     "output_type": "stream",
     "text": [
      "Line_53.jupyter.kts (1:27 - 60) No cast needed\n",
      "Line_53.jupyter.kts (1:62 - 70) Unresolved reference. None of the following candidates is applicable because of receiver type mismatch: \n",
      "public fun BMat.matToImg(f: Int = ...): String defined in edu.mcgill.kaliningraph"
     ]
    }
   ],
   "source": [
    "graph.A.toEJMLSparse()"
   ]
  },
  {
   "cell_type": "code",
   "execution_count": 7,
   "metadata": {},
   "outputs": [
    {
     "data": {
      "text/html": [
       "<svg width=\"152px\" height=\"100px\"\n",
       " viewBox=\"0.00 0.00 152.00 100.00\" xmlns=\"http://www.w3.org/2000/svg\" xmlns:xlink=\"http://www.w3.org/1999/xlink\">\n",
       "<g id=\"graph0\" class=\"graph\" transform=\"scale(1.0 1.0) rotate(0) translate(4 96)\">\n",
       "<title>%3</title>\n",
       "<!-- a -->\n",
       "<g id=\"node1\" class=\"node\">\n",
       "<title>a</title>\n",
       "<path fill=\"none\" stroke=\"#000000\" stroke-width=\"4\" d=\"M12,-55.5C12,-55.5 42,-55.5 42,-55.5 48,-55.5 54,-61.5 54,-67.5 54,-67.5 54,-79.5 54,-79.5 54,-85.5 48,-91.5 42,-91.5 42,-91.5 12,-91.5 12,-91.5 6,-91.5 0,-85.5 0,-79.5 0,-79.5 0,-67.5 0,-67.5 0,-61.5 6,-55.5 12,-55.5\"/>\n",
       "<text text-anchor=\"middle\" x=\"27\" y=\"-68.5\" font-family=\"Helvetica,sans-Serif\" font-size=\"20.00\" fill=\"#000000\">a</text>\n",
       "</g>\n",
       "<!-- a542e -->\n",
       "<g id=\"node2\" class=\"node\">\n",
       "<title>a542e</title>\n",
       "<path fill=\"none\" stroke=\"#000000\" stroke-width=\"4\" d=\"M102,-27.5C102,-27.5 132,-27.5 132,-27.5 138,-27.5 144,-33.5 144,-39.5 144,-39.5 144,-51.5 144,-51.5 144,-57.5 138,-63.5 132,-63.5 132,-63.5 102,-63.5 102,-63.5 96,-63.5 90,-57.5 90,-51.5 90,-51.5 90,-39.5 90,-39.5 90,-33.5 96,-27.5 102,-27.5\"/>\n",
       "<text text-anchor=\"middle\" x=\"117\" y=\"-40.5\" font-family=\"Helvetica,sans-Serif\" font-size=\"20.00\" fill=\"#000000\">+</text>\n",
       "</g>\n",
       "<!-- a&#45;&gt;a542e -->\n",
       "<g id=\"edge1\" class=\"edge\">\n",
       "<title>a&#45;&gt;a542e</title>\n",
       "<path fill=\"none\" stroke=\"#0000ff\" stroke-width=\"4\" d=\"M54.003,-65.0991C62.204,-62.5476 71.3599,-59.6991 80.095,-56.9816\"/>\n",
       "<polygon fill=\"#0000ff\" stroke=\"#0000ff\" stroke-width=\"4\" points=\"81.1962,-60.3045 89.705,-53.9918 79.1167,-53.6205 81.1962,-60.3045\"/>\n",
       "</g>\n",
       "<!-- b -->\n",
       "<g id=\"node3\" class=\"node\">\n",
       "<title>b</title>\n",
       "<path fill=\"none\" stroke=\"#000000\" stroke-width=\"4\" d=\"M12,-.5C12,-.5 42,-.5 42,-.5 48,-.5 54,-6.5 54,-12.5 54,-12.5 54,-24.5 54,-24.5 54,-30.5 48,-36.5 42,-36.5 42,-36.5 12,-36.5 12,-36.5 6,-36.5 0,-30.5 0,-24.5 0,-24.5 0,-12.5 0,-12.5 0,-6.5 6,-.5 12,-.5\"/>\n",
       "<text text-anchor=\"middle\" x=\"27\" y=\"-13.5\" font-family=\"Helvetica,sans-Serif\" font-size=\"20.00\" fill=\"#000000\">b</text>\n",
       "</g>\n",
       "<!-- b&#45;&gt;a542e -->\n",
       "<g id=\"edge2\" class=\"edge\">\n",
       "<title>b&#45;&gt;a542e</title>\n",
       "<path fill=\"none\" stroke=\"#ff0000\" stroke-width=\"4\" d=\"M54.003,-26.6009C62.204,-29.0612 71.3599,-31.808 80.095,-34.4285\"/>\n",
       "<polygon fill=\"#ff0000\" stroke=\"#ff0000\" stroke-width=\"4\" points=\"79.121,-37.7904 89.705,-37.3115 81.1325,-31.0856 79.121,-37.7904\"/>\n",
       "</g>\n",
       "</g>\n",
       "</svg>\n"
      ]
     },
     "execution_count": 7,
     "metadata": {
      "new_classpath": []
     },
     "output_type": "execute_result"
    }
   ],
   "source": [
    "a + b"
   ]
  },
  {
   "cell_type": "code",
   "execution_count": 8,
   "metadata": {},
   "outputs": [],
   "source": [
    "val g1 = a + b + c\n",
    "val g2 = b + a + c"
   ]
  },
  {
   "cell_type": "code",
   "execution_count": 9,
   "metadata": {},
   "outputs": [
    {
     "data": {
      "text/html": [
       "<svg width=\"242px\" height=\"127px\"\n",
       " viewBox=\"0.00 0.00 242.00 127.00\" xmlns=\"http://www.w3.org/2000/svg\" xmlns:xlink=\"http://www.w3.org/1999/xlink\">\n",
       "<g id=\"graph0\" class=\"graph\" transform=\"scale(1.0 1.0) rotate(0) translate(4 123)\">\n",
       "<title>%3</title>\n",
       "<!-- a -->\n",
       "<g id=\"node1\" class=\"node\">\n",
       "<title>a</title>\n",
       "<path fill=\"none\" stroke=\"#000000\" stroke-width=\"4\" d=\"M12,-82.5C12,-82.5 42,-82.5 42,-82.5 48,-82.5 54,-88.5 54,-94.5 54,-94.5 54,-106.5 54,-106.5 54,-112.5 48,-118.5 42,-118.5 42,-118.5 12,-118.5 12,-118.5 6,-118.5 0,-112.5 0,-106.5 0,-106.5 0,-94.5 0,-94.5 0,-88.5 6,-82.5 12,-82.5\"/>\n",
       "<text text-anchor=\"middle\" x=\"27\" y=\"-95.5\" font-family=\"Helvetica,sans-Serif\" font-size=\"20.00\" fill=\"#000000\">a</text>\n",
       "</g>\n",
       "<!-- e8791 -->\n",
       "<g id=\"node2\" class=\"node\">\n",
       "<title>e8791</title>\n",
       "<path fill=\"none\" stroke=\"#000000\" stroke-width=\"4\" d=\"M102,-55.5C102,-55.5 132,-55.5 132,-55.5 138,-55.5 144,-61.5 144,-67.5 144,-67.5 144,-79.5 144,-79.5 144,-85.5 138,-91.5 132,-91.5 132,-91.5 102,-91.5 102,-91.5 96,-91.5 90,-85.5 90,-79.5 90,-79.5 90,-67.5 90,-67.5 90,-61.5 96,-55.5 102,-55.5\"/>\n",
       "<text text-anchor=\"middle\" x=\"117\" y=\"-68.5\" font-family=\"Helvetica,sans-Serif\" font-size=\"20.00\" fill=\"#000000\">+</text>\n",
       "</g>\n",
       "<!-- a&#45;&gt;e8791 -->\n",
       "<g id=\"edge1\" class=\"edge\">\n",
       "<title>a&#45;&gt;e8791</title>\n",
       "<path fill=\"none\" stroke=\"#0000ff\" stroke-width=\"4\" d=\"M54.003,-92.3991C62.204,-89.9388 71.3599,-87.192 80.095,-84.5715\"/>\n",
       "<polygon fill=\"#0000ff\" stroke=\"#0000ff\" stroke-width=\"4\" points=\"81.1325,-87.9144 89.705,-81.6885 79.121,-81.2096 81.1325,-87.9144\"/>\n",
       "</g>\n",
       "<!-- 66500 -->\n",
       "<g id=\"node3\" class=\"node\">\n",
       "<title>66500</title>\n",
       "<path fill=\"none\" stroke=\"#000000\" stroke-width=\"4\" d=\"M192,-27.5C192,-27.5 222,-27.5 222,-27.5 228,-27.5 234,-33.5 234,-39.5 234,-39.5 234,-51.5 234,-51.5 234,-57.5 228,-63.5 222,-63.5 222,-63.5 192,-63.5 192,-63.5 186,-63.5 180,-57.5 180,-51.5 180,-51.5 180,-39.5 180,-39.5 180,-33.5 186,-27.5 192,-27.5\"/>\n",
       "<text text-anchor=\"middle\" x=\"207\" y=\"-40.5\" font-family=\"Helvetica,sans-Serif\" font-size=\"20.00\" fill=\"#000000\">+</text>\n",
       "</g>\n",
       "<!-- e8791&#45;&gt;66500 -->\n",
       "<g id=\"edge2\" class=\"edge\">\n",
       "<title>e8791&#45;&gt;66500</title>\n",
       "<path fill=\"none\" stroke=\"#0000ff\" stroke-width=\"4\" d=\"M144.003,-65.0991C152.204,-62.5476 161.3599,-59.6991 170.095,-56.9816\"/>\n",
       "<polygon fill=\"#0000ff\" stroke=\"#0000ff\" stroke-width=\"4\" points=\"171.1962,-60.3045 179.705,-53.9918 169.1167,-53.6205 171.1962,-60.3045\"/>\n",
       "</g>\n",
       "<!-- b -->\n",
       "<g id=\"node4\" class=\"node\">\n",
       "<title>b</title>\n",
       "<path fill=\"none\" stroke=\"#000000\" stroke-width=\"4\" d=\"M12,-27.5C12,-27.5 42,-27.5 42,-27.5 48,-27.5 54,-33.5 54,-39.5 54,-39.5 54,-51.5 54,-51.5 54,-57.5 48,-63.5 42,-63.5 42,-63.5 12,-63.5 12,-63.5 6,-63.5 0,-57.5 0,-51.5 0,-51.5 0,-39.5 0,-39.5 0,-33.5 6,-27.5 12,-27.5\"/>\n",
       "<text text-anchor=\"middle\" x=\"27\" y=\"-40.5\" font-family=\"Helvetica,sans-Serif\" font-size=\"20.00\" fill=\"#000000\">b</text>\n",
       "</g>\n",
       "<!-- b&#45;&gt;e8791 -->\n",
       "<g id=\"edge3\" class=\"edge\">\n",
       "<title>b&#45;&gt;e8791</title>\n",
       "<path fill=\"none\" stroke=\"#ff0000\" stroke-width=\"4\" d=\"M54.003,-53.9009C62.204,-56.4524 71.3599,-59.3009 80.095,-62.0184\"/>\n",
       "<polygon fill=\"#ff0000\" stroke=\"#ff0000\" stroke-width=\"4\" points=\"79.1167,-65.3795 89.705,-65.0082 81.1962,-58.6955 79.1167,-65.3795\"/>\n",
       "</g>\n",
       "<!-- c -->\n",
       "<g id=\"node5\" class=\"node\">\n",
       "<title>c</title>\n",
       "<path fill=\"none\" stroke=\"#000000\" stroke-width=\"4\" d=\"M102,-.5C102,-.5 132,-.5 132,-.5 138,-.5 144,-6.5 144,-12.5 144,-12.5 144,-24.5 144,-24.5 144,-30.5 138,-36.5 132,-36.5 132,-36.5 102,-36.5 102,-36.5 96,-36.5 90,-30.5 90,-24.5 90,-24.5 90,-12.5 90,-12.5 90,-6.5 96,-.5 102,-.5\"/>\n",
       "<text text-anchor=\"middle\" x=\"117\" y=\"-13.5\" font-family=\"Helvetica,sans-Serif\" font-size=\"20.00\" fill=\"#000000\">c</text>\n",
       "</g>\n",
       "<!-- c&#45;&gt;66500 -->\n",
       "<g id=\"edge4\" class=\"edge\">\n",
       "<title>c&#45;&gt;66500</title>\n",
       "<path fill=\"none\" stroke=\"#ff0000\" stroke-width=\"4\" d=\"M144.003,-26.6009C152.204,-29.0612 161.3599,-31.808 170.095,-34.4285\"/>\n",
       "<polygon fill=\"#ff0000\" stroke=\"#ff0000\" stroke-width=\"4\" points=\"169.121,-37.7904 179.705,-37.3115 171.1325,-31.0856 169.121,-37.7904\"/>\n",
       "</g>\n",
       "</g>\n",
       "</svg>\n"
      ]
     },
     "execution_count": 9,
     "metadata": {
      "new_classpath": []
     },
     "output_type": "execute_result"
    }
   ],
   "source": [
    "g1"
   ]
  },
  {
   "cell_type": "code",
   "execution_count": 10,
   "metadata": {},
   "outputs": [
    {
     "data": {
      "text/html": [
       "<svg width=\"242px\" height=\"127px\"\n",
       " viewBox=\"0.00 0.00 242.00 127.00\" xmlns=\"http://www.w3.org/2000/svg\" xmlns:xlink=\"http://www.w3.org/1999/xlink\">\n",
       "<g id=\"graph0\" class=\"graph\" transform=\"scale(1.0 1.0) rotate(0) translate(4 123)\">\n",
       "<title>%3</title>\n",
       "<!-- b -->\n",
       "<g id=\"node1\" class=\"node\">\n",
       "<title>b</title>\n",
       "<path fill=\"none\" stroke=\"#000000\" stroke-width=\"4\" d=\"M12,-82.5C12,-82.5 42,-82.5 42,-82.5 48,-82.5 54,-88.5 54,-94.5 54,-94.5 54,-106.5 54,-106.5 54,-112.5 48,-118.5 42,-118.5 42,-118.5 12,-118.5 12,-118.5 6,-118.5 0,-112.5 0,-106.5 0,-106.5 0,-94.5 0,-94.5 0,-88.5 6,-82.5 12,-82.5\"/>\n",
       "<text text-anchor=\"middle\" x=\"27\" y=\"-95.5\" font-family=\"Helvetica,sans-Serif\" font-size=\"20.00\" fill=\"#000000\">b</text>\n",
       "</g>\n",
       "<!-- 01744 -->\n",
       "<g id=\"node2\" class=\"node\">\n",
       "<title>01744</title>\n",
       "<path fill=\"none\" stroke=\"#000000\" stroke-width=\"4\" d=\"M102,-55.5C102,-55.5 132,-55.5 132,-55.5 138,-55.5 144,-61.5 144,-67.5 144,-67.5 144,-79.5 144,-79.5 144,-85.5 138,-91.5 132,-91.5 132,-91.5 102,-91.5 102,-91.5 96,-91.5 90,-85.5 90,-79.5 90,-79.5 90,-67.5 90,-67.5 90,-61.5 96,-55.5 102,-55.5\"/>\n",
       "<text text-anchor=\"middle\" x=\"117\" y=\"-68.5\" font-family=\"Helvetica,sans-Serif\" font-size=\"20.00\" fill=\"#000000\">+</text>\n",
       "</g>\n",
       "<!-- b&#45;&gt;01744 -->\n",
       "<g id=\"edge1\" class=\"edge\">\n",
       "<title>b&#45;&gt;01744</title>\n",
       "<path fill=\"none\" stroke=\"#0000ff\" stroke-width=\"4\" d=\"M54.003,-92.3991C62.204,-89.9388 71.3599,-87.192 80.095,-84.5715\"/>\n",
       "<polygon fill=\"#0000ff\" stroke=\"#0000ff\" stroke-width=\"4\" points=\"81.1325,-87.9144 89.705,-81.6885 79.121,-81.2096 81.1325,-87.9144\"/>\n",
       "</g>\n",
       "<!-- e5ca4 -->\n",
       "<g id=\"node3\" class=\"node\">\n",
       "<title>e5ca4</title>\n",
       "<path fill=\"none\" stroke=\"#000000\" stroke-width=\"4\" d=\"M192,-27.5C192,-27.5 222,-27.5 222,-27.5 228,-27.5 234,-33.5 234,-39.5 234,-39.5 234,-51.5 234,-51.5 234,-57.5 228,-63.5 222,-63.5 222,-63.5 192,-63.5 192,-63.5 186,-63.5 180,-57.5 180,-51.5 180,-51.5 180,-39.5 180,-39.5 180,-33.5 186,-27.5 192,-27.5\"/>\n",
       "<text text-anchor=\"middle\" x=\"207\" y=\"-40.5\" font-family=\"Helvetica,sans-Serif\" font-size=\"20.00\" fill=\"#000000\">+</text>\n",
       "</g>\n",
       "<!-- 01744&#45;&gt;e5ca4 -->\n",
       "<g id=\"edge2\" class=\"edge\">\n",
       "<title>01744&#45;&gt;e5ca4</title>\n",
       "<path fill=\"none\" stroke=\"#0000ff\" stroke-width=\"4\" d=\"M144.003,-65.0991C152.204,-62.5476 161.3599,-59.6991 170.095,-56.9816\"/>\n",
       "<polygon fill=\"#0000ff\" stroke=\"#0000ff\" stroke-width=\"4\" points=\"171.1962,-60.3045 179.705,-53.9918 169.1167,-53.6205 171.1962,-60.3045\"/>\n",
       "</g>\n",
       "<!-- a -->\n",
       "<g id=\"node4\" class=\"node\">\n",
       "<title>a</title>\n",
       "<path fill=\"none\" stroke=\"#000000\" stroke-width=\"4\" d=\"M12,-27.5C12,-27.5 42,-27.5 42,-27.5 48,-27.5 54,-33.5 54,-39.5 54,-39.5 54,-51.5 54,-51.5 54,-57.5 48,-63.5 42,-63.5 42,-63.5 12,-63.5 12,-63.5 6,-63.5 0,-57.5 0,-51.5 0,-51.5 0,-39.5 0,-39.5 0,-33.5 6,-27.5 12,-27.5\"/>\n",
       "<text text-anchor=\"middle\" x=\"27\" y=\"-40.5\" font-family=\"Helvetica,sans-Serif\" font-size=\"20.00\" fill=\"#000000\">a</text>\n",
       "</g>\n",
       "<!-- a&#45;&gt;01744 -->\n",
       "<g id=\"edge3\" class=\"edge\">\n",
       "<title>a&#45;&gt;01744</title>\n",
       "<path fill=\"none\" stroke=\"#ff0000\" stroke-width=\"4\" d=\"M54.003,-53.9009C62.204,-56.4524 71.3599,-59.3009 80.095,-62.0184\"/>\n",
       "<polygon fill=\"#ff0000\" stroke=\"#ff0000\" stroke-width=\"4\" points=\"79.1167,-65.3795 89.705,-65.0082 81.1962,-58.6955 79.1167,-65.3795\"/>\n",
       "</g>\n",
       "<!-- c -->\n",
       "<g id=\"node5\" class=\"node\">\n",
       "<title>c</title>\n",
       "<path fill=\"none\" stroke=\"#000000\" stroke-width=\"4\" d=\"M102,-.5C102,-.5 132,-.5 132,-.5 138,-.5 144,-6.5 144,-12.5 144,-12.5 144,-24.5 144,-24.5 144,-30.5 138,-36.5 132,-36.5 132,-36.5 102,-36.5 102,-36.5 96,-36.5 90,-30.5 90,-24.5 90,-24.5 90,-12.5 90,-12.5 90,-6.5 96,-.5 102,-.5\"/>\n",
       "<text text-anchor=\"middle\" x=\"117\" y=\"-13.5\" font-family=\"Helvetica,sans-Serif\" font-size=\"20.00\" fill=\"#000000\">c</text>\n",
       "</g>\n",
       "<!-- c&#45;&gt;e5ca4 -->\n",
       "<g id=\"edge4\" class=\"edge\">\n",
       "<title>c&#45;&gt;e5ca4</title>\n",
       "<path fill=\"none\" stroke=\"#ff0000\" stroke-width=\"4\" d=\"M144.003,-26.6009C152.204,-29.0612 161.3599,-31.808 170.095,-34.4285\"/>\n",
       "<polygon fill=\"#ff0000\" stroke=\"#ff0000\" stroke-width=\"4\" points=\"169.121,-37.7904 179.705,-37.3115 171.1325,-31.0856 169.121,-37.7904\"/>\n",
       "</g>\n",
       "</g>\n",
       "</svg>\n"
      ]
     },
     "execution_count": 10,
     "metadata": {
      "new_classpath": []
     },
     "output_type": "execute_result"
    }
   ],
   "source": [
    "g2"
   ]
  },
  {
   "cell_type": "code",
   "execution_count": 11,
   "metadata": {},
   "outputs": [
    {
     "data": {
      "text/plain": [
       "false"
      ]
     },
     "execution_count": 11,
     "metadata": {
      "new_classpath": []
     },
     "output_type": "execute_result"
    }
   ],
   "source": [
    "g1 == g2"
   ]
  },
  {
   "cell_type": "code",
   "execution_count": 12,
   "metadata": {},
   "outputs": [
    {
     "data": {
      "text/plain": [
       "true"
      ]
     },
     "execution_count": 12,
     "metadata": {
      "new_classpath": []
     },
     "output_type": "execute_result"
    }
   ],
   "source": [
    "g1.graph == g2.graph"
   ]
  },
  {
   "cell_type": "code",
   "execution_count": 13,
   "metadata": {},
   "outputs": [
    {
     "data": {
      "text/html": [
       "<svg width=\"332px\" height=\"154px\"\n",
       " viewBox=\"0.00 0.00 332.00 154.00\" xmlns=\"http://www.w3.org/2000/svg\" xmlns:xlink=\"http://www.w3.org/1999/xlink\">\n",
       "<g id=\"graph0\" class=\"graph\" transform=\"scale(1.0 1.0) rotate(0) translate(4 150)\">\n",
       "<title>%3</title>\n",
       "<!-- 01744 -->\n",
       "<g id=\"node1\" class=\"node\">\n",
       "<title>01744</title>\n",
       "<path fill=\"none\" stroke=\"#000000\" stroke-width=\"4\" d=\"M102,-27.5C102,-27.5 132,-27.5 132,-27.5 138,-27.5 144,-33.5 144,-39.5 144,-39.5 144,-51.5 144,-51.5 144,-57.5 138,-63.5 132,-63.5 132,-63.5 102,-63.5 102,-63.5 96,-63.5 90,-57.5 90,-51.5 90,-51.5 90,-39.5 90,-39.5 90,-33.5 96,-27.5 102,-27.5\"/>\n",
       "<text text-anchor=\"middle\" x=\"117\" y=\"-40.5\" font-family=\"Helvetica,sans-Serif\" font-size=\"20.00\" fill=\"#000000\">+</text>\n",
       "</g>\n",
       "<!-- e5ca4 -->\n",
       "<g id=\"node2\" class=\"node\">\n",
       "<title>e5ca4</title>\n",
       "<path fill=\"none\" stroke=\"#000000\" stroke-width=\"4\" d=\"M192,-54.5C192,-54.5 222,-54.5 222,-54.5 228,-54.5 234,-60.5 234,-66.5 234,-66.5 234,-78.5 234,-78.5 234,-84.5 228,-90.5 222,-90.5 222,-90.5 192,-90.5 192,-90.5 186,-90.5 180,-84.5 180,-78.5 180,-78.5 180,-66.5 180,-66.5 180,-60.5 186,-54.5 192,-54.5\"/>\n",
       "<text text-anchor=\"middle\" x=\"207\" y=\"-67.5\" font-family=\"Helvetica,sans-Serif\" font-size=\"20.00\" fill=\"#000000\">+</text>\n",
       "</g>\n",
       "<!-- 01744&#45;&gt;e5ca4 -->\n",
       "<g id=\"edge1\" class=\"edge\">\n",
       "<title>01744&#45;&gt;e5ca4</title>\n",
       "<path fill=\"none\" stroke=\"#0000ff\" stroke-width=\"4\" d=\"M144.003,-53.6009C152.204,-56.0612 161.3599,-58.808 170.095,-61.4285\"/>\n",
       "<polygon fill=\"#0000ff\" stroke=\"#0000ff\" stroke-width=\"4\" points=\"169.121,-64.7904 179.705,-64.3115 171.1325,-58.0856 169.121,-64.7904\"/>\n",
       "</g>\n",
       "<!-- 17936 -->\n",
       "<g id=\"node3\" class=\"node\">\n",
       "<title>17936</title>\n",
       "<path fill=\"none\" stroke=\"#000000\" stroke-width=\"4\" d=\"M282,-81.5C282,-81.5 312,-81.5 312,-81.5 318,-81.5 324,-87.5 324,-93.5 324,-93.5 324,-105.5 324,-105.5 324,-111.5 318,-117.5 312,-117.5 312,-117.5 282,-117.5 282,-117.5 276,-117.5 270,-111.5 270,-105.5 270,-105.5 270,-93.5 270,-93.5 270,-87.5 276,-81.5 282,-81.5\"/>\n",
       "<text text-anchor=\"middle\" x=\"297\" y=\"-94.5\" font-family=\"Helvetica,sans-Serif\" font-size=\"20.00\" fill=\"#000000\">*</text>\n",
       "</g>\n",
       "<!-- e5ca4&#45;&gt;17936 -->\n",
       "<g id=\"edge2\" class=\"edge\">\n",
       "<title>e5ca4&#45;&gt;17936</title>\n",
       "<path fill=\"none\" stroke=\"#ff0000\" stroke-width=\"4\" d=\"M234.003,-80.6009C242.204,-83.0612 251.3599,-85.808 260.095,-88.4285\"/>\n",
       "<polygon fill=\"#ff0000\" stroke=\"#ff0000\" stroke-width=\"4\" points=\"259.121,-91.7904 269.705,-91.3115 261.1325,-85.0856 259.121,-91.7904\"/>\n",
       "</g>\n",
       "<!-- c -->\n",
       "<g id=\"node4\" class=\"node\">\n",
       "<title>c</title>\n",
       "<path fill=\"none\" stroke=\"#000000\" stroke-width=\"4\" d=\"M102,-82.5C102,-82.5 132,-82.5 132,-82.5 138,-82.5 144,-88.5 144,-94.5 144,-94.5 144,-106.5 144,-106.5 144,-112.5 138,-118.5 132,-118.5 132,-118.5 102,-118.5 102,-118.5 96,-118.5 90,-112.5 90,-106.5 90,-106.5 90,-94.5 90,-94.5 90,-88.5 96,-82.5 102,-82.5\"/>\n",
       "<text text-anchor=\"middle\" x=\"117\" y=\"-95.5\" font-family=\"Helvetica,sans-Serif\" font-size=\"20.00\" fill=\"#000000\">c</text>\n",
       "</g>\n",
       "<!-- c&#45;&gt;e5ca4 -->\n",
       "<g id=\"edge3\" class=\"edge\">\n",
       "<title>c&#45;&gt;e5ca4</title>\n",
       "<path fill=\"none\" stroke=\"#ff0000\" stroke-width=\"4\" d=\"M144.003,-92.0991C152.204,-89.5476 161.3599,-86.6991 170.095,-83.9816\"/>\n",
       "<polygon fill=\"#ff0000\" stroke=\"#ff0000\" stroke-width=\"4\" points=\"171.1962,-87.3045 179.705,-80.9918 169.1167,-80.6205 171.1962,-87.3045\"/>\n",
       "</g>\n",
       "<!-- 2 -->\n",
       "<g id=\"node5\" class=\"node\">\n",
       "<title>2</title>\n",
       "<path fill=\"none\" stroke=\"#000000\" stroke-width=\"4\" d=\"M192,-109.5C192,-109.5 222,-109.5 222,-109.5 228,-109.5 234,-115.5 234,-121.5 234,-121.5 234,-133.5 234,-133.5 234,-139.5 228,-145.5 222,-145.5 222,-145.5 192,-145.5 192,-145.5 186,-145.5 180,-139.5 180,-133.5 180,-133.5 180,-121.5 180,-121.5 180,-115.5 186,-109.5 192,-109.5\"/>\n",
       "<text text-anchor=\"middle\" x=\"207\" y=\"-122.5\" font-family=\"Helvetica,sans-Serif\" font-size=\"20.00\" fill=\"#000000\">2</text>\n",
       "</g>\n",
       "<!-- 2&#45;&gt;17936 -->\n",
       "<g id=\"edge4\" class=\"edge\">\n",
       "<title>2&#45;&gt;17936</title>\n",
       "<path fill=\"none\" stroke=\"#0000ff\" stroke-width=\"4\" d=\"M234.003,-119.0991C242.204,-116.5476 251.3599,-113.6991 260.095,-110.9816\"/>\n",
       "<polygon fill=\"#0000ff\" stroke=\"#0000ff\" stroke-width=\"4\" points=\"261.1962,-114.3045 269.705,-107.9918 259.1167,-107.6205 261.1962,-114.3045\"/>\n",
       "</g>\n",
       "<!-- b -->\n",
       "<g id=\"node6\" class=\"node\">\n",
       "<title>b</title>\n",
       "<path fill=\"none\" stroke=\"#000000\" stroke-width=\"4\" d=\"M12,-55.5C12,-55.5 42,-55.5 42,-55.5 48,-55.5 54,-61.5 54,-67.5 54,-67.5 54,-79.5 54,-79.5 54,-85.5 48,-91.5 42,-91.5 42,-91.5 12,-91.5 12,-91.5 6,-91.5 0,-85.5 0,-79.5 0,-79.5 0,-67.5 0,-67.5 0,-61.5 6,-55.5 12,-55.5\"/>\n",
       "<text text-anchor=\"middle\" x=\"27\" y=\"-68.5\" font-family=\"Helvetica,sans-Serif\" font-size=\"20.00\" fill=\"#000000\">b</text>\n",
       "</g>\n",
       "<!-- b&#45;&gt;01744 -->\n",
       "<g id=\"edge5\" class=\"edge\">\n",
       "<title>b&#45;&gt;01744</title>\n",
       "<path fill=\"none\" stroke=\"#0000ff\" stroke-width=\"4\" d=\"M54.003,-65.0991C62.204,-62.5476 71.3599,-59.6991 80.095,-56.9816\"/>\n",
       "<polygon fill=\"#0000ff\" stroke=\"#0000ff\" stroke-width=\"4\" points=\"81.1962,-60.3045 89.705,-53.9918 79.1167,-53.6205 81.1962,-60.3045\"/>\n",
       "</g>\n",
       "<!-- a -->\n",
       "<g id=\"node7\" class=\"node\">\n",
       "<title>a</title>\n",
       "<path fill=\"none\" stroke=\"#000000\" stroke-width=\"4\" d=\"M12,-.5C12,-.5 42,-.5 42,-.5 48,-.5 54,-6.5 54,-12.5 54,-12.5 54,-24.5 54,-24.5 54,-30.5 48,-36.5 42,-36.5 42,-36.5 12,-36.5 12,-36.5 6,-36.5 0,-30.5 0,-24.5 0,-24.5 0,-12.5 0,-12.5 0,-6.5 6,-.5 12,-.5\"/>\n",
       "<text text-anchor=\"middle\" x=\"27\" y=\"-13.5\" font-family=\"Helvetica,sans-Serif\" font-size=\"20.00\" fill=\"#000000\">a</text>\n",
       "</g>\n",
       "<!-- a&#45;&gt;01744 -->\n",
       "<g id=\"edge6\" class=\"edge\">\n",
       "<title>a&#45;&gt;01744</title>\n",
       "<path fill=\"none\" stroke=\"#ff0000\" stroke-width=\"4\" d=\"M54.003,-26.6009C62.204,-29.0612 71.3599,-31.808 80.095,-34.4285\"/>\n",
       "<polygon fill=\"#ff0000\" stroke=\"#ff0000\" stroke-width=\"4\" points=\"79.121,-37.7904 89.705,-37.3115 81.1325,-31.0856 79.121,-37.7904\"/>\n",
       "</g>\n",
       "</g>\n",
       "</svg>\n"
      ]
     },
     "execution_count": 13,
     "metadata": {
      "new_classpath": []
     },
     "output_type": "execute_result"
    }
   ],
   "source": [
    "val g3 = 2 * g2; g3"
   ]
  },
  {
   "cell_type": "code",
   "execution_count": 14,
   "metadata": {},
   "outputs": [
    {
     "data": {
      "text/plain": [
       "false"
      ]
     },
     "execution_count": 14,
     "metadata": {
      "new_classpath": []
     },
     "output_type": "execute_result"
    }
   ],
   "source": [
    "g3.graph == g2.graph"
   ]
  },
  {
   "cell_type": "code",
   "execution_count": 15,
   "metadata": {},
   "outputs": [],
   "source": [
    "val func = def (b, c) { b * c }"
   ]
  },
  {
   "cell_type": "code",
   "execution_count": 16,
   "metadata": {},
   "outputs": [
    {
     "data": {
      "text/html": [
       "<svg width=\"429px\" height=\"182px\"\n",
       " viewBox=\"0.00 0.00 429.00 182.00\" xmlns=\"http://www.w3.org/2000/svg\" xmlns:xlink=\"http://www.w3.org/1999/xlink\">\n",
       "<g id=\"graph0\" class=\"graph\" transform=\"scale(1.0 1.0) rotate(0) translate(4 178)\">\n",
       "<title>%3</title>\n",
       "<!-- 0862c -->\n",
       "<g id=\"node1\" class=\"node\">\n",
       "<title>0862c</title>\n",
       "<path fill=\"none\" stroke=\"#000000\" stroke-width=\"4\" d=\"M192,-27.5C192,-27.5 222,-27.5 222,-27.5 228,-27.5 234,-33.5 234,-39.5 234,-39.5 234,-51.5 234,-51.5 234,-57.5 228,-63.5 222,-63.5 222,-63.5 192,-63.5 192,-63.5 186,-63.5 180,-57.5 180,-51.5 180,-51.5 180,-39.5 180,-39.5 180,-33.5 186,-27.5 192,-27.5\"/>\n",
       "<text text-anchor=\"middle\" x=\"207\" y=\"-40.5\" font-family=\"Helvetica,sans-Serif\" font-size=\"20.00\" fill=\"#000000\">=</text>\n",
       "</g>\n",
       "<!-- 9ff5d -->\n",
       "<g id=\"node2\" class=\"node\">\n",
       "<title>9ff5d</title>\n",
       "<path fill=\"none\" stroke=\"#000000\" stroke-width=\"4\" d=\"M282,-27.5C282,-27.5 319,-27.5 319,-27.5 325,-27.5 331,-33.5 331,-39.5 331,-39.5 331,-51.5 331,-51.5 331,-57.5 325,-63.5 319,-63.5 319,-63.5 282,-63.5 282,-63.5 276,-63.5 270,-57.5 270,-51.5 270,-51.5 270,-39.5 270,-39.5 270,-33.5 276,-27.5 282,-27.5\"/>\n",
       "<text text-anchor=\"middle\" x=\"300.5\" y=\"-40.5\" font-family=\"Helvetica,sans-Serif\" font-size=\"20.00\" fill=\"#000000\">9ff5d</text>\n",
       "</g>\n",
       "<!-- 0862c&#45;&gt;9ff5d -->\n",
       "<g id=\"edge1\" class=\"edge\">\n",
       "<title>0862c&#45;&gt;9ff5d</title>\n",
       "<path fill=\"none\" stroke=\"#000000\" stroke-width=\"4\" d=\"M234.0441,-45.5C242.1072,-45.5 251.1275,-45.5 259.8587,-45.5\"/>\n",
       "<polygon fill=\"#000000\" stroke=\"#000000\" stroke-width=\"4\" points=\"259.9008,-49.0001 269.9008,-45.5 259.9007,-42.0001 259.9008,-49.0001\"/>\n",
       "</g>\n",
       "<!-- fc9b5 -->\n",
       "<g id=\"node3\" class=\"node\">\n",
       "<title>fc9b5</title>\n",
       "<path fill=\"none\" stroke=\"#000000\" stroke-width=\"4\" d=\"M379,-82.5C379,-82.5 409,-82.5 409,-82.5 415,-82.5 421,-88.5 421,-94.5 421,-94.5 421,-106.5 421,-106.5 421,-112.5 415,-118.5 409,-118.5 409,-118.5 379,-118.5 379,-118.5 373,-118.5 367,-112.5 367,-106.5 367,-106.5 367,-94.5 367,-94.5 367,-88.5 373,-82.5 379,-82.5\"/>\n",
       "<text text-anchor=\"middle\" x=\"394\" y=\"-95.5\" font-family=\"Helvetica,sans-Serif\" font-size=\"20.00\" fill=\"#000000\">λ</text>\n",
       "</g>\n",
       "<!-- 9ff5d&#45;&gt;fc9b5 -->\n",
       "<g id=\"edge2\" class=\"edge\">\n",
       "<title>9ff5d&#45;&gt;fc9b5</title>\n",
       "<path fill=\"none\" stroke=\"#0000ff\" stroke-width=\"4\" d=\"M331.1154,-63.5091C339.7433,-68.5843 349.207,-74.1512 358.1137,-79.3904\"/>\n",
       "<polygon fill=\"#0000ff\" stroke=\"#0000ff\" stroke-width=\"4\" points=\"356.3892,-82.4366 366.7832,-84.4901 359.9384,-76.4031 356.3892,-82.4366\"/>\n",
       "</g>\n",
       "<!-- 1 -->\n",
       "<g id=\"node4\" class=\"node\">\n",
       "<title>1</title>\n",
       "<path fill=\"none\" stroke=\"#000000\" stroke-width=\"4\" d=\"M285.5,-137.5C285.5,-137.5 315.5,-137.5 315.5,-137.5 321.5,-137.5 327.5,-143.5 327.5,-149.5 327.5,-149.5 327.5,-161.5 327.5,-161.5 327.5,-167.5 321.5,-173.5 315.5,-173.5 315.5,-173.5 285.5,-173.5 285.5,-173.5 279.5,-173.5 273.5,-167.5 273.5,-161.5 273.5,-161.5 273.5,-149.5 273.5,-149.5 273.5,-143.5 279.5,-137.5 285.5,-137.5\"/>\n",
       "<text text-anchor=\"middle\" x=\"300.5\" y=\"-150.5\" font-family=\"Helvetica,sans-Serif\" font-size=\"20.00\" fill=\"#000000\">1</text>\n",
       "</g>\n",
       "<!-- 1&#45;&gt;fc9b5 -->\n",
       "<g id=\"edge3\" class=\"edge\">\n",
       "<title>1&#45;&gt;fc9b5</title>\n",
       "<path fill=\"none\" stroke=\"#0000ff\" stroke-width=\"4\" d=\"M327.5441,-139.5917C337.055,-133.9971 347.8978,-127.619 358.0267,-121.6607\"/>\n",
       "<polygon fill=\"#0000ff\" stroke=\"#0000ff\" stroke-width=\"4\" points=\"359.848,-124.6501 366.6928,-116.5631 356.2988,-118.6165 359.848,-124.6501\"/>\n",
       "</g>\n",
       "<!-- 2 -->\n",
       "<g id=\"node5\" class=\"node\">\n",
       "<title>2</title>\n",
       "<path fill=\"none\" stroke=\"#000000\" stroke-width=\"4\" d=\"M285.5,-82.5C285.5,-82.5 315.5,-82.5 315.5,-82.5 321.5,-82.5 327.5,-88.5 327.5,-94.5 327.5,-94.5 327.5,-106.5 327.5,-106.5 327.5,-112.5 321.5,-118.5 315.5,-118.5 315.5,-118.5 285.5,-118.5 285.5,-118.5 279.5,-118.5 273.5,-112.5 273.5,-106.5 273.5,-106.5 273.5,-94.5 273.5,-94.5 273.5,-88.5 279.5,-82.5 285.5,-82.5\"/>\n",
       "<text text-anchor=\"middle\" x=\"300.5\" y=\"-95.5\" font-family=\"Helvetica,sans-Serif\" font-size=\"20.00\" fill=\"#000000\">2</text>\n",
       "</g>\n",
       "<!-- 2&#45;&gt;fc9b5 -->\n",
       "<g id=\"edge4\" class=\"edge\">\n",
       "<title>2&#45;&gt;fc9b5</title>\n",
       "<path fill=\"none\" stroke=\"#ff0000\" stroke-width=\"4\" d=\"M327.5441,-100.5C336.5746,-100.5 346.8059,-100.5 356.4868,-100.5\"/>\n",
       "<polygon fill=\"#ff0000\" stroke=\"#ff0000\" stroke-width=\"4\" points=\"356.6928,-104.0001 366.6928,-100.5 356.6927,-97.0001 356.6928,-104.0001\"/>\n",
       "</g>\n",
       "<!-- 70ff3 -->\n",
       "<g id=\"node6\" class=\"node\">\n",
       "<title>70ff3</title>\n",
       "<path fill=\"none\" stroke=\"#000000\" stroke-width=\"4\" d=\"M102,-27.5C102,-27.5 132,-27.5 132,-27.5 138,-27.5 144,-33.5 144,-39.5 144,-39.5 144,-51.5 144,-51.5 144,-57.5 138,-63.5 132,-63.5 132,-63.5 102,-63.5 102,-63.5 96,-63.5 90,-57.5 90,-51.5 90,-51.5 90,-39.5 90,-39.5 90,-33.5 96,-27.5 102,-27.5\"/>\n",
       "<text text-anchor=\"middle\" x=\"117\" y=\"-40.5\" font-family=\"Helvetica,sans-Serif\" font-size=\"20.00\" fill=\"#000000\">*</text>\n",
       "</g>\n",
       "<!-- 70ff3&#45;&gt;0862c -->\n",
       "<g id=\"edge5\" class=\"edge\">\n",
       "<title>70ff3&#45;&gt;0862c</title>\n",
       "<path fill=\"none\" stroke=\"#000000\" stroke-width=\"4\" d=\"M144.003,-45.5C152.0277,-45.5 160.9665,-45.5 169.5309,-45.5\"/>\n",
       "<polygon fill=\"#000000\" stroke=\"#000000\" stroke-width=\"4\" points=\"169.7051,-49.0001 179.705,-45.5 169.705,-42.0001 169.7051,-49.0001\"/>\n",
       "</g>\n",
       "<!-- b -->\n",
       "<g id=\"node7\" class=\"node\">\n",
       "<title>b</title>\n",
       "<path fill=\"none\" stroke=\"#000000\" stroke-width=\"4\" d=\"M12,-55.5C12,-55.5 42,-55.5 42,-55.5 48,-55.5 54,-61.5 54,-67.5 54,-67.5 54,-79.5 54,-79.5 54,-85.5 48,-91.5 42,-91.5 42,-91.5 12,-91.5 12,-91.5 6,-91.5 0,-85.5 0,-79.5 0,-79.5 0,-67.5 0,-67.5 0,-61.5 6,-55.5 12,-55.5\"/>\n",
       "<text text-anchor=\"middle\" x=\"27\" y=\"-68.5\" font-family=\"Helvetica,sans-Serif\" font-size=\"20.00\" fill=\"#000000\">b</text>\n",
       "</g>\n",
       "<!-- b&#45;&gt;70ff3 -->\n",
       "<g id=\"edge6\" class=\"edge\">\n",
       "<title>b&#45;&gt;70ff3</title>\n",
       "<path fill=\"none\" stroke=\"#0000ff\" stroke-width=\"4\" d=\"M54.003,-65.0991C62.204,-62.5476 71.3599,-59.6991 80.095,-56.9816\"/>\n",
       "<polygon fill=\"#0000ff\" stroke=\"#0000ff\" stroke-width=\"4\" points=\"81.1962,-60.3045 89.705,-53.9918 79.1167,-53.6205 81.1962,-60.3045\"/>\n",
       "</g>\n",
       "<!-- c -->\n",
       "<g id=\"node8\" class=\"node\">\n",
       "<title>c</title>\n",
       "<path fill=\"none\" stroke=\"#000000\" stroke-width=\"4\" d=\"M12,-.5C12,-.5 42,-.5 42,-.5 48,-.5 54,-6.5 54,-12.5 54,-12.5 54,-24.5 54,-24.5 54,-30.5 48,-36.5 42,-36.5 42,-36.5 12,-36.5 12,-36.5 6,-36.5 0,-30.5 0,-24.5 0,-24.5 0,-12.5 0,-12.5 0,-6.5 6,-.5 12,-.5\"/>\n",
       "<text text-anchor=\"middle\" x=\"27\" y=\"-13.5\" font-family=\"Helvetica,sans-Serif\" font-size=\"20.00\" fill=\"#000000\">c</text>\n",
       "</g>\n",
       "<!-- c&#45;&gt;70ff3 -->\n",
       "<g id=\"edge7\" class=\"edge\">\n",
       "<title>c&#45;&gt;70ff3</title>\n",
       "<path fill=\"none\" stroke=\"#ff0000\" stroke-width=\"4\" d=\"M54.003,-26.6009C62.204,-29.0612 71.3599,-31.808 80.095,-34.4285\"/>\n",
       "<polygon fill=\"#ff0000\" stroke=\"#ff0000\" stroke-width=\"4\" points=\"79.121,-37.7904 89.705,-37.3115 81.1325,-31.0856 79.121,-37.7904\"/>\n",
       "</g>\n",
       "</g>\n",
       "</svg>\n"
      ]
     },
     "execution_count": 16,
     "metadata": {
      "new_classpath": []
     },
     "output_type": "execute_result"
    }
   ],
   "source": [
    "func(1, 2)"
   ]
  },
  {
   "cell_type": "code",
   "execution_count": 17,
   "metadata": {},
   "outputs": [
    {
     "data": {
      "text/plain": [
       "true"
      ]
     },
     "execution_count": 17,
     "metadata": {
      "new_classpath": []
     },
     "output_type": "execute_result"
    }
   ],
   "source": [
    "func(1, 3).graph == func(1, 2).graph"
   ]
  },
  {
   "cell_type": "code",
   "execution_count": null,
   "metadata": {},
   "outputs": [],
   "source": []
  },
  {
   "cell_type": "code",
   "execution_count": null,
   "metadata": {},
   "outputs": [],
   "source": []
  }
 ],
 "metadata": {
  "kernelspec": {
   "display_name": "Kotlin",
   "language": "kotlin",
   "name": "kotlin"
  },
  "language_info": {
   "codemirror_mode": "text/x-kotlin",
   "file_extension": ".kt",
   "mimetype": "text/x-kotlin",
   "name": "kotlin",
   "pygments_lexer": "kotlin",
   "version": "1.4.30-M1"
  }
 },
 "nbformat": 4,
 "nbformat_minor": 2
}
