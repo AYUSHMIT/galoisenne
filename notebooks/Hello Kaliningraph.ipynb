{
 "cells": [
  {
   "cell_type": "code",
   "execution_count": 1,
   "metadata": {},
   "outputs": [],
   "source": [
    "%use @https://raw.githubusercontent.com/breandan/kaliningraph/master/kaliningraph.json"
   ]
  },
  {
   "cell_type": "code",
   "execution_count": 2,
   "metadata": {},
   "outputs": [
    {
     "data": {
      "text/html": [
       "<svg width=\"242px\" height=\"69px\"\n",
       " viewBox=\"0.00 0.00 242.00 69.00\" xmlns=\"http://www.w3.org/2000/svg\" xmlns:xlink=\"http://www.w3.org/1999/xlink\">\n",
       "<g id=\"graph0\" class=\"graph\" transform=\"scale(1.0 1.0) rotate(0) translate(4 65)\">\n",
       "<title>%3</title>\n",
       "<!-- a -->\n",
       "<g id=\"node1\" class=\"node\">\n",
       "<title>a</title>\n",
       "<path fill=\"none\" stroke=\"#000000\" stroke-width=\"4\" d=\"M12,-.5C12,-.5 42,-.5 42,-.5 48,-.5 54,-6.5 54,-12.5 54,-12.5 54,-24.5 54,-24.5 54,-30.5 48,-36.5 42,-36.5 42,-36.5 12,-36.5 12,-36.5 6,-36.5 0,-30.5 0,-24.5 0,-24.5 0,-12.5 0,-12.5 0,-6.5 6,-.5 12,-.5\"/>\n",
       "<text text-anchor=\"middle\" x=\"27\" y=\"-13.5\" font-family=\"Helvetica,sans-Serif\" font-size=\"20.00\" fill=\"#000000\">a</text>\n",
       "</g>\n",
       "<!-- c -->\n",
       "<g id=\"node2\" class=\"node\">\n",
       "<title>c</title>\n",
       "<path fill=\"none\" stroke=\"#000000\" stroke-width=\"4\" d=\"M102,-24.5C102,-24.5 132,-24.5 132,-24.5 138,-24.5 144,-30.5 144,-36.5 144,-36.5 144,-48.5 144,-48.5 144,-54.5 138,-60.5 132,-60.5 132,-60.5 102,-60.5 102,-60.5 96,-60.5 90,-54.5 90,-48.5 90,-48.5 90,-36.5 90,-36.5 90,-30.5 96,-24.5 102,-24.5\"/>\n",
       "<text text-anchor=\"middle\" x=\"117\" y=\"-37.5\" font-family=\"Helvetica,sans-Serif\" font-size=\"20.00\" fill=\"#000000\">c</text>\n",
       "</g>\n",
       "<!-- a&#45;&gt;c -->\n",
       "<g id=\"edge1\" class=\"edge\">\n",
       "<title>a&#45;&gt;c</title>\n",
       "<path fill=\"none\" stroke=\"#000000\" stroke-width=\"4\" d=\"M54.003,-25.7008C62.1158,-27.8642 71.1631,-30.2768 79.8131,-32.5835\"/>\n",
       "<polygon fill=\"#000000\" stroke=\"#000000\" stroke-width=\"4\" points=\"79.1408,-36.0265 89.705,-35.2213 80.9445,-29.2628 79.1408,-36.0265\"/>\n",
       "</g>\n",
       "<!-- b -->\n",
       "<g id=\"node3\" class=\"node\">\n",
       "<title>b</title>\n",
       "<path fill=\"none\" stroke=\"#000000\" stroke-width=\"4\" d=\"M192,-.5C192,-.5 222,-.5 222,-.5 228,-.5 234,-6.5 234,-12.5 234,-12.5 234,-24.5 234,-24.5 234,-30.5 228,-36.5 222,-36.5 222,-36.5 192,-36.5 192,-36.5 186,-36.5 180,-30.5 180,-24.5 180,-24.5 180,-12.5 180,-12.5 180,-6.5 186,-.5 192,-.5\"/>\n",
       "<text text-anchor=\"middle\" x=\"207\" y=\"-13.5\" font-family=\"Helvetica,sans-Serif\" font-size=\"20.00\" fill=\"#000000\">b</text>\n",
       "</g>\n",
       "<!-- c&#45;&gt;b -->\n",
       "<g id=\"edge2\" class=\"edge\">\n",
       "<title>c&#45;&gt;b</title>\n",
       "<path fill=\"none\" stroke=\"#000000\" stroke-width=\"4\" d=\"M144.003,-35.2992C152.1158,-33.1358 161.1631,-30.7232 169.8131,-28.4165\"/>\n",
       "<polygon fill=\"#000000\" stroke=\"#000000\" stroke-width=\"4\" points=\"170.9445,-31.7372 179.705,-25.7787 169.1408,-24.9735 170.9445,-31.7372\"/>\n",
       "</g>\n",
       "<!-- b&#45;&gt;a -->\n",
       "<g id=\"edge3\" class=\"edge\">\n",
       "<title>b&#45;&gt;a</title>\n",
       "<path fill=\"none\" stroke=\"#000000\" stroke-width=\"4\" d=\"M179.7214,-16.9174C168.6407,-16.3485 155.7131,-15.7787 144,-15.5 120.0068,-14.9291 113.9932,-14.9291 90,-15.5 81.6727,-15.6982 72.7316,-16.0434 64.2767,-16.4309\"/>\n",
       "<polygon fill=\"#000000\" stroke=\"#000000\" stroke-width=\"4\" points=\"64.0967,-12.9354 54.2786,-16.9174 64.437,-19.9272 64.0967,-12.9354\"/>\n",
       "</g>\n",
       "</g>\n",
       "</svg>\n"
      ]
     },
     "execution_count": 2,
     "metadata": {
      "new_classpath": []
     },
     "output_type": "execute_result"
    }
   ],
   "source": [
    "val graph = LabeledGraphBuilder { a - b - c - a }; graph"
   ]
  },
  {
   "cell_type": "code",
   "execution_count": 3,
   "metadata": {},
   "outputs": [
    {
     "data": {
      "text/html": [
       "<svg width=\"512px\" height=\"105px\"\n",
       " viewBox=\"0.00 0.00 512.00 105.24\" xmlns=\"http://www.w3.org/2000/svg\" xmlns:xlink=\"http://www.w3.org/1999/xlink\">\n",
       "<g id=\"graph0\" class=\"graph\" transform=\"scale(1.0 1.0) rotate(0) translate(4 101.2366)\">\n",
       "<title>%3</title>\n",
       "<!-- 3 -->\n",
       "<g id=\"node1\" class=\"node\">\n",
       "<title>3</title>\n",
       "<path fill=\"none\" stroke=\"#000000\" stroke-width=\"4\" d=\"M192,-13.7366C192,-13.7366 222,-13.7366 222,-13.7366 228,-13.7366 234,-19.7366 234,-25.7366 234,-25.7366 234,-37.7366 234,-37.7366 234,-43.7366 228,-49.7366 222,-49.7366 222,-49.7366 192,-49.7366 192,-49.7366 186,-49.7366 180,-43.7366 180,-37.7366 180,-37.7366 180,-25.7366 180,-25.7366 180,-19.7366 186,-13.7366 192,-13.7366\"/>\n",
       "<text text-anchor=\"middle\" x=\"207\" y=\"-26.7366\" font-family=\"Helvetica,sans-Serif\" font-size=\"20.00\" fill=\"#000000\">3</text>\n",
       "</g>\n",
       "<!-- b -->\n",
       "<g id=\"node2\" class=\"node\">\n",
       "<title>b</title>\n",
       "<path fill=\"none\" stroke=\"#000000\" stroke-width=\"4\" d=\"M282,-13.7366C282,-13.7366 312,-13.7366 312,-13.7366 318,-13.7366 324,-19.7366 324,-25.7366 324,-25.7366 324,-37.7366 324,-37.7366 324,-43.7366 318,-49.7366 312,-49.7366 312,-49.7366 282,-49.7366 282,-49.7366 276,-49.7366 270,-43.7366 270,-37.7366 270,-37.7366 270,-25.7366 270,-25.7366 270,-19.7366 276,-13.7366 282,-13.7366\"/>\n",
       "<text text-anchor=\"middle\" x=\"297\" y=\"-26.7366\" font-family=\"Helvetica,sans-Serif\" font-size=\"20.00\" fill=\"#000000\">b</text>\n",
       "</g>\n",
       "<!-- 3&#45;&gt;b -->\n",
       "<g id=\"edge1\" class=\"edge\">\n",
       "<title>3&#45;&gt;b</title>\n",
       "<path fill=\"none\" stroke=\"#000000\" stroke-width=\"4\" d=\"M234.003,-31.7366C242.0277,-31.7366 250.9665,-31.7366 259.5309,-31.7366\"/>\n",
       "<polygon fill=\"#000000\" stroke=\"#000000\" stroke-width=\"4\" points=\"259.7051,-35.2367 269.705,-31.7366 259.705,-28.2367 259.7051,-35.2367\"/>\n",
       "</g>\n",
       "<!-- a -->\n",
       "<g id=\"node3\" class=\"node\">\n",
       "<title>a</title>\n",
       "<path fill=\"none\" stroke=\"#000000\" stroke-width=\"4\" d=\"M372,-60.7366C372,-60.7366 402,-60.7366 402,-60.7366 408,-60.7366 414,-66.7366 414,-72.7366 414,-72.7366 414,-84.7366 414,-84.7366 414,-90.7366 408,-96.7366 402,-96.7366 402,-96.7366 372,-96.7366 372,-96.7366 366,-96.7366 360,-90.7366 360,-84.7366 360,-84.7366 360,-72.7366 360,-72.7366 360,-66.7366 366,-60.7366 372,-60.7366\"/>\n",
       "<text text-anchor=\"middle\" x=\"387\" y=\"-73.7366\" font-family=\"Helvetica,sans-Serif\" font-size=\"20.00\" fill=\"#000000\">a</text>\n",
       "</g>\n",
       "<!-- 3&#45;&gt;a -->\n",
       "<g id=\"edge2\" class=\"edge\">\n",
       "<title>3&#45;&gt;a</title>\n",
       "<path fill=\"none\" stroke=\"#000000\" stroke-width=\"4\" d=\"M230.2439,-49.7526C247.5492,-61.6348 272.3479,-75.5712 297,-78.7366\"/>\n",
       "<path fill=\"none\" stroke=\"#000000\" stroke-width=\"4\" d=\"M297,-78.7366C314.1626,-80.9404 333.3183,-81.2375 349.5312,-80.8652\"/>\n",
       "<polygon fill=\"#000000\" stroke=\"#000000\" stroke-width=\"4\" points=\"349.8278,-84.3575 359.7099,-80.5371 349.6023,-77.3612 349.8278,-84.3575\"/>\n",
       "</g>\n",
       "<!-- b&#45;&gt;a -->\n",
       "<g id=\"edge3\" class=\"edge\">\n",
       "<title>b&#45;&gt;a</title>\n",
       "<path fill=\"none\" stroke=\"#000000\" stroke-width=\"4\" d=\"M324.003,-45.8382C332.3804,-50.2131 341.7541,-55.1083 350.6579,-59.758\"/>\n",
       "<polygon fill=\"#000000\" stroke=\"#000000\" stroke-width=\"4\" points=\"349.2207,-62.956 359.705,-64.4826 352.4611,-56.7511 349.2207,-62.956\"/>\n",
       "</g>\n",
       "<!-- c -->\n",
       "<g id=\"node4\" class=\"node\">\n",
       "<title>c</title>\n",
       "<path fill=\"none\" stroke=\"#000000\" stroke-width=\"4\" d=\"M462,-36.7366C462,-36.7366 492,-36.7366 492,-36.7366 498,-36.7366 504,-42.7366 504,-48.7366 504,-48.7366 504,-60.7366 504,-60.7366 504,-66.7366 498,-72.7366 492,-72.7366 492,-72.7366 462,-72.7366 462,-72.7366 456,-72.7366 450,-66.7366 450,-60.7366 450,-60.7366 450,-48.7366 450,-48.7366 450,-42.7366 456,-36.7366 462,-36.7366\"/>\n",
       "<text text-anchor=\"middle\" x=\"477\" y=\"-49.7366\" font-family=\"Helvetica,sans-Serif\" font-size=\"20.00\" fill=\"#000000\">c</text>\n",
       "</g>\n",
       "<!-- a&#45;&gt;c -->\n",
       "<g id=\"edge4\" class=\"edge\">\n",
       "<title>a&#45;&gt;c</title>\n",
       "<path fill=\"none\" stroke=\"#000000\" stroke-width=\"4\" d=\"M414.003,-71.5359C422.1158,-69.3724 431.1631,-66.9598 439.8131,-64.6532\"/>\n",
       "<polygon fill=\"#000000\" stroke=\"#000000\" stroke-width=\"4\" points=\"440.9445,-67.9738 449.705,-62.0153 439.1408,-61.2102 440.9445,-67.9738\"/>\n",
       "</g>\n",
       "<!-- c&#45;&gt;b -->\n",
       "<g id=\"edge5\" class=\"edge\">\n",
       "<title>c&#45;&gt;b</title>\n",
       "<path fill=\"none\" stroke=\"#000000\" stroke-width=\"4\" d=\"M449.9944,-51.2859C419.2968,-47.3635 368.9858,-40.9348 334.495,-36.5277\"/>\n",
       "<polygon fill=\"#000000\" stroke=\"#000000\" stroke-width=\"4\" points=\"334.7011,-33.0256 324.3381,-35.2299 333.8138,-39.9692 334.7011,-33.0256\"/>\n",
       "</g>\n",
       "<!-- 4 -->\n",
       "<g id=\"node5\" class=\"node\">\n",
       "<title>4</title>\n",
       "<path fill=\"none\" stroke=\"#000000\" stroke-width=\"4\" d=\"M102,-13.7366C102,-13.7366 132,-13.7366 132,-13.7366 138,-13.7366 144,-19.7366 144,-25.7366 144,-25.7366 144,-37.7366 144,-37.7366 144,-43.7366 138,-49.7366 132,-49.7366 132,-49.7366 102,-49.7366 102,-49.7366 96,-49.7366 90,-43.7366 90,-37.7366 90,-37.7366 90,-25.7366 90,-25.7366 90,-19.7366 96,-13.7366 102,-13.7366\"/>\n",
       "<text text-anchor=\"middle\" x=\"117\" y=\"-26.7366\" font-family=\"Helvetica,sans-Serif\" font-size=\"20.00\" fill=\"#000000\">4</text>\n",
       "</g>\n",
       "<!-- 4&#45;&gt;3 -->\n",
       "<g id=\"edge6\" class=\"edge\">\n",
       "<title>4&#45;&gt;3</title>\n",
       "<path fill=\"none\" stroke=\"#000000\" stroke-width=\"4\" d=\"M144.003,-31.7366C152.0277,-31.7366 160.9665,-31.7366 169.5309,-31.7366\"/>\n",
       "<polygon fill=\"#000000\" stroke=\"#000000\" stroke-width=\"4\" points=\"169.7051,-35.2367 179.705,-31.7366 169.705,-28.2367 169.7051,-35.2367\"/>\n",
       "</g>\n",
       "<!-- 4&#45;&gt;b -->\n",
       "<g id=\"edge7\" class=\"edge\">\n",
       "<title>4&#45;&gt;b</title>\n",
       "<path fill=\"none\" stroke=\"#000000\" stroke-width=\"4\" d=\"M144.0673,-16.7269C154.8988,-11.5247 167.7062,-6.3456 180,-3.7366 203.4772,1.2455 210.5228,1.2455 234,-3.7366 242.9322,-5.6322 252.1355,-8.8846 260.6552,-12.5167\"/>\n",
       "<polygon fill=\"#000000\" stroke=\"#000000\" stroke-width=\"4\" points=\"259.3801,-15.7816 269.9327,-16.7269 262.2729,-9.4072 259.3801,-15.7816\"/>\n",
       "</g>\n",
       "<!-- 5 -->\n",
       "<g id=\"node6\" class=\"node\">\n",
       "<title>5</title>\n",
       "<path fill=\"none\" stroke=\"#000000\" stroke-width=\"4\" d=\"M12,-36.7366C12,-36.7366 42,-36.7366 42,-36.7366 48,-36.7366 54,-42.7366 54,-48.7366 54,-48.7366 54,-60.7366 54,-60.7366 54,-66.7366 48,-72.7366 42,-72.7366 42,-72.7366 12,-72.7366 12,-72.7366 6,-72.7366 0,-66.7366 0,-60.7366 0,-60.7366 0,-48.7366 0,-48.7366 0,-42.7366 6,-36.7366 12,-36.7366\"/>\n",
       "<text text-anchor=\"middle\" x=\"27\" y=\"-49.7366\" font-family=\"Helvetica,sans-Serif\" font-size=\"20.00\" fill=\"#000000\">5</text>\n",
       "</g>\n",
       "<!-- 5&#45;&gt;3 -->\n",
       "<g id=\"edge8\" class=\"edge\">\n",
       "<title>5&#45;&gt;3</title>\n",
       "<path fill=\"none\" stroke=\"#000000\" stroke-width=\"4\" d=\"M54.0743,-65.8552C71.6878,-72.1073 95.3309,-78.6804 117,-78.7366\"/>\n",
       "<path fill=\"none\" stroke=\"#000000\" stroke-width=\"4\" d=\"M117,-78.7366C139.2158,-78.7943 161.3707,-67.4039 178.1402,-55.8234\"/>\n",
       "<polygon fill=\"#000000\" stroke=\"#000000\" stroke-width=\"4\" points=\"180.371,-58.5285 186.3905,-49.8098 176.2478,-52.8717 180.371,-58.5285\"/>\n",
       "</g>\n",
       "<!-- 5&#45;&gt;a -->\n",
       "<g id=\"edge10\" class=\"edge\">\n",
       "<title>5&#45;&gt;a</title>\n",
       "<path fill=\"none\" stroke=\"#000000\" stroke-width=\"4\" d=\"M117,-78.7366C196.9997,-78.9444 217.6514,-68.5481 297,-78.7366\"/>\n",
       "</g>\n",
       "<!-- 5&#45;&gt;4 -->\n",
       "<g id=\"edge9\" class=\"edge\">\n",
       "<title>5&#45;&gt;4</title>\n",
       "<path fill=\"none\" stroke=\"#000000\" stroke-width=\"4\" d=\"M54.003,-47.8359C62.1158,-45.7626 71.1631,-43.4505 79.8131,-41.24\"/>\n",
       "<polygon fill=\"#000000\" stroke=\"#000000\" stroke-width=\"4\" points=\"80.883,-44.5791 89.705,-38.712 79.1498,-37.7971 80.883,-44.5791\"/>\n",
       "</g>\n",
       "</g>\n",
       "</svg>\n"
      ]
     },
     "execution_count": 3,
     "metadata": {
      "new_classpath": []
     },
     "output_type": "execute_result"
    }
   ],
   "source": [
    "(1..3).fold(graph) { it, _ -> it.attachRandomT(3) }"
   ]
  },
  {
   "cell_type": "code",
   "execution_count": 4,
   "metadata": {},
   "outputs": [
    {
     "data": {
      "text/plain": [
       "{a=187, b=187, c=187}"
      ]
     },
     "execution_count": 4,
     "metadata": {
      "new_classpath": []
     },
     "output_type": "execute_result"
    }
   ],
   "source": [
    "graph.wl()"
   ]
  },
  {
   "cell_type": "code",
   "execution_count": 5,
   "metadata": {},
   "outputs": [
    {
     "name": "stderr",
     "output_type": "stream",
     "text": [
      "Line_7.jupyter.kts (1:26 - 59) No cast needed\n",
      "Line_7.jupyter.kts (1:61 - 69) Unresolved reference. None of the following candidates is applicable because of receiver type mismatch: \n",
      "public fun BMat.matToImg(f: Int = ...): String defined in edu.mcgill.kaliningraph"
     ]
    }
   ],
   "source": [
    "graph.D"
   ]
  },
  {
   "cell_type": "code",
   "execution_count": 18,
   "metadata": {
    "scrolled": true
   },
   "outputs": [
    {
     "name": "stderr",
     "output_type": "stream",
     "text": [
      "Line_53.jupyter.kts (1:27 - 60) No cast needed\n",
      "Line_53.jupyter.kts (1:62 - 70) Unresolved reference. None of the following candidates is applicable because of receiver type mismatch: \n",
      "public fun BMat.matToImg(f: Int = ...): String defined in edu.mcgill.kaliningraph"
     ]
    }
   ],
   "source": [
    "graph.A.toEJMLSparse()"
   ]
  },
  {
   "cell_type": "code",
   "execution_count": 7,
   "metadata": {},
   "outputs": [
    {
     "data": {
      "text/html": [
       "<svg width=\"152px\" height=\"100px\"\n",
       " viewBox=\"0.00 0.00 152.00 100.00\" xmlns=\"http://www.w3.org/2000/svg\" xmlns:xlink=\"http://www.w3.org/1999/xlink\">\n",
       "<g id=\"graph0\" class=\"graph\" transform=\"scale(1.0 1.0) rotate(0) translate(4 96)\">\n",
       "<title>%3</title>\n",
       "<!-- a -->\n",
       "<g id=\"node1\" class=\"node\">\n",
       "<title>a</title>\n",
       "<path fill=\"none\" stroke=\"#000000\" stroke-width=\"4\" d=\"M12,-55.5C12,-55.5 42,-55.5 42,-55.5 48,-55.5 54,-61.5 54,-67.5 54,-67.5 54,-79.5 54,-79.5 54,-85.5 48,-91.5 42,-91.5 42,-91.5 12,-91.5 12,-91.5 6,-91.5 0,-85.5 0,-79.5 0,-79.5 0,-67.5 0,-67.5 0,-61.5 6,-55.5 12,-55.5\"/>\n",
       "<text text-anchor=\"middle\" x=\"27\" y=\"-68.5\" font-family=\"Helvetica,sans-Serif\" font-size=\"20.00\" fill=\"#000000\">a</text>\n",
       "</g>\n",
       "<!-- a542e -->\n",
       "<g id=\"node2\" class=\"node\">\n",
       "<title>a542e</title>\n",
       "<path fill=\"none\" stroke=\"#000000\" stroke-width=\"4\" d=\"M102,-27.5C102,-27.5 132,-27.5 132,-27.5 138,-27.5 144,-33.5 144,-39.5 144,-39.5 144,-51.5 144,-51.5 144,-57.5 138,-63.5 132,-63.5 132,-63.5 102,-63.5 102,-63.5 96,-63.5 90,-57.5 90,-51.5 90,-51.5 90,-39.5 90,-39.5 90,-33.5 96,-27.5 102,-27.5\"/>\n",
       "<text text-anchor=\"middle\" x=\"117\" y=\"-40.5\" font-family=\"Helvetica,sans-Serif\" font-size=\"20.00\" fill=\"#000000\">+</text>\n",
       "</g>\n",
       "<!-- a&#45;&gt;a542e -->\n",
       "<g id=\"edge1\" class=\"edge\">\n",
       "<title>a&#45;&gt;a542e</title>\n",
       "<path fill=\"none\" stroke=\"#0000ff\" stroke-width=\"4\" d=\"M54.003,-65.0991C62.204,-62.5476 71.3599,-59.6991 80.095,-56.9816\"/>\n",
       "<polygon fill=\"#0000ff\" stroke=\"#0000ff\" stroke-width=\"4\" points=\"81.1962,-60.3045 89.705,-53.9918 79.1167,-53.6205 81.1962,-60.3045\"/>\n",
       "</g>\n",
       "<!-- b -->\n",
       "<g id=\"node3\" class=\"node\">\n",
       "<title>b</title>\n",
       "<path fill=\"none\" stroke=\"#000000\" stroke-width=\"4\" d=\"M12,-.5C12,-.5 42,-.5 42,-.5 48,-.5 54,-6.5 54,-12.5 54,-12.5 54,-24.5 54,-24.5 54,-30.5 48,-36.5 42,-36.5 42,-36.5 12,-36.5 12,-36.5 6,-36.5 0,-30.5 0,-24.5 0,-24.5 0,-12.5 0,-12.5 0,-6.5 6,-.5 12,-.5\"/>\n",
       "<text text-anchor=\"middle\" x=\"27\" y=\"-13.5\" font-family=\"Helvetica,sans-Serif\" font-size=\"20.00\" fill=\"#000000\">b</text>\n",
       "</g>\n",
       "<!-- b&#45;&gt;a542e -->\n",
       "<g id=\"edge2\" class=\"edge\">\n",
       "<title>b&#45;&gt;a542e</title>\n",
       "<path fill=\"none\" stroke=\"#ff0000\" stroke-width=\"4\" d=\"M54.003,-26.6009C62.204,-29.0612 71.3599,-31.808 80.095,-34.4285\"/>\n",
       "<polygon fill=\"#ff0000\" stroke=\"#ff0000\" stroke-width=\"4\" points=\"79.121,-37.7904 89.705,-37.3115 81.1325,-31.0856 79.121,-37.7904\"/>\n",
       "</g>\n",
       "</g>\n",
       "</svg>\n"
      ]
     },
     "execution_count": 7,
     "metadata": {
      "new_classpath": []
     },
     "output_type": "execute_result"
    }
   ],
   "source": [
    "a + b"
   ]
  },
  {
   "cell_type": "code",
   "execution_count": 8,
   "metadata": {},
   "outputs": [],
   "source": [
    "val g1 = a + b + c\n",
    "val g2 = b + a + c"
   ]
  },
  {
   "cell_type": "code",
   "execution_count": 9,
   "metadata": {},
   "outputs": [
    {
     "data": {
      "text/html": [
       "<svg width=\"242px\" height=\"127px\"\n",
       " viewBox=\"0.00 0.00 242.00 127.00\" xmlns=\"http://www.w3.org/2000/svg\" xmlns:xlink=\"http://www.w3.org/1999/xlink\">\n",
       "<g id=\"graph0\" class=\"graph\" transform=\"scale(1.0 1.0) rotate(0) translate(4 123)\">\n",
       "<title>%3</title>\n",
       "<!-- a -->\n",
       "<g id=\"node1\" class=\"node\">\n",
       "<title>a</title>\n",
       "<path fill=\"none\" stroke=\"#000000\" stroke-width=\"4\" d=\"M12,-82.5C12,-82.5 42,-82.5 42,-82.5 48,-82.5 54,-88.5 54,-94.5 54,-94.5 54,-106.5 54,-106.5 54,-112.5 48,-118.5 42,-118.5 42,-118.5 12,-118.5 12,-118.5 6,-118.5 0,-112.5 0,-106.5 0,-106.5 0,-94.5 0,-94.5 0,-88.5 6,-82.5 12,-82.5\"/>\n",
       "<text text-anchor=\"middle\" x=\"27\" y=\"-95.5\" font-family=\"Helvetica,sans-Serif\" font-size=\"20.00\" fill=\"#000000\">a</text>\n",
       "</g>\n",
       "<!-- e8791 -->\n",
       "<g id=\"node2\" class=\"node\">\n",
       "<title>e8791</title>\n",
       "<path fill=\"none\" stroke=\"#000000\" stroke-width=\"4\" d=\"M102,-55.5C102,-55.5 132,-55.5 132,-55.5 138,-55.5 144,-61.5 144,-67.5 144,-67.5 144,-79.5 144,-79.5 144,-85.5 138,-91.5 132,-91.5 132,-91.5 102,-91.5 102,-91.5 96,-91.5 90,-85.5 90,-79.5 90,-79.5 90,-67.5 90,-67.5 90,-61.5 96,-55.5 102,-55.5\"/>\n",
       "<text text-anchor=\"middle\" x=\"117\" y=\"-68.5\" font-family=\"Helvetica,sans-Serif\" font-size=\"20.00\" fill=\"#000000\">+</text>\n",
       "</g>\n",
       "<!-- a&#45;&gt;e8791 -->\n",
       "<g id=\"edge1\" class=\"edge\">\n",
       "<title>a&#45;&gt;e8791</title>\n",
       "<path fill=\"none\" stroke=\"#0000ff\" stroke-width=\"4\" d=\"M54.003,-92.3991C62.204,-89.9388 71.3599,-87.192 80.095,-84.5715\"/>\n",
       "<polygon fill=\"#0000ff\" stroke=\"#0000ff\" stroke-width=\"4\" points=\"81.1325,-87.9144 89.705,-81.6885 79.121,-81.2096 81.1325,-87.9144\"/>\n",
       "</g>\n",
       "<!-- 66500 -->\n",
       "<g id=\"node3\" class=\"node\">\n",
       "<title>66500</title>\n",
       "<path fill=\"none\" stroke=\"#000000\" stroke-width=\"4\" d=\"M192,-27.5C192,-27.5 222,-27.5 222,-27.5 228,-27.5 234,-33.5 234,-39.5 234,-39.5 234,-51.5 234,-51.5 234,-57.5 228,-63.5 222,-63.5 222,-63.5 192,-63.5 192,-63.5 186,-63.5 180,-57.5 180,-51.5 180,-51.5 180,-39.5 180,-39.5 180,-33.5 186,-27.5 192,-27.5\"/>\n",
       "<text text-anchor=\"middle\" x=\"207\" y=\"-40.5\" font-family=\"Helvetica,sans-Serif\" font-size=\"20.00\" fill=\"#000000\">+</text>\n",
       "</g>\n",
       "<!-- e8791&#45;&gt;66500 -->\n",
       "<g id=\"edge2\" class=\"edge\">\n",
       "<title>e8791&#45;&gt;66500</title>\n",
       "<path fill=\"none\" stroke=\"#0000ff\" stroke-width=\"4\" d=\"M144.003,-65.0991C152.204,-62.5476 161.3599,-59.6991 170.095,-56.9816\"/>\n",
       "<polygon fill=\"#0000ff\" stroke=\"#0000ff\" stroke-width=\"4\" points=\"171.1962,-60.3045 179.705,-53.9918 169.1167,-53.6205 171.1962,-60.3045\"/>\n",
       "</g>\n",
       "<!-- b -->\n",
       "<g id=\"node4\" class=\"node\">\n",
       "<title>b</title>\n",
       "<path fill=\"none\" stroke=\"#000000\" stroke-width=\"4\" d=\"M12,-27.5C12,-27.5 42,-27.5 42,-27.5 48,-27.5 54,-33.5 54,-39.5 54,-39.5 54,-51.5 54,-51.5 54,-57.5 48,-63.5 42,-63.5 42,-63.5 12,-63.5 12,-63.5 6,-63.5 0,-57.5 0,-51.5 0,-51.5 0,-39.5 0,-39.5 0,-33.5 6,-27.5 12,-27.5\"/>\n",
       "<text text-anchor=\"middle\" x=\"27\" y=\"-40.5\" font-family=\"Helvetica,sans-Serif\" font-size=\"20.00\" fill=\"#000000\">b</text>\n",
       "</g>\n",
       "<!-- b&#45;&gt;e8791 -->\n",
       "<g id=\"edge3\" class=\"edge\">\n",
       "<title>b&#45;&gt;e8791</title>\n",
       "<path fill=\"none\" stroke=\"#ff0000\" stroke-width=\"4\" d=\"M54.003,-53.9009C62.204,-56.4524 71.3599,-59.3009 80.095,-62.0184\"/>\n",
       "<polygon fill=\"#ff0000\" stroke=\"#ff0000\" stroke-width=\"4\" points=\"79.1167,-65.3795 89.705,-65.0082 81.1962,-58.6955 79.1167,-65.3795\"/>\n",
       "</g>\n",
       "<!-- c -->\n",
       "<g id=\"node5\" class=\"node\">\n",
       "<title>c</title>\n",
       "<path fill=\"none\" stroke=\"#000000\" stroke-width=\"4\" d=\"M102,-.5C102,-.5 132,-.5 132,-.5 138,-.5 144,-6.5 144,-12.5 144,-12.5 144,-24.5 144,-24.5 144,-30.5 138,-36.5 132,-36.5 132,-36.5 102,-36.5 102,-36.5 96,-36.5 90,-30.5 90,-24.5 90,-24.5 90,-12.5 90,-12.5 90,-6.5 96,-.5 102,-.5\"/>\n",
       "<text text-anchor=\"middle\" x=\"117\" y=\"-13.5\" font-family=\"Helvetica,sans-Serif\" font-size=\"20.00\" fill=\"#000000\">c</text>\n",
       "</g>\n",
       "<!-- c&#45;&gt;66500 -->\n",
       "<g id=\"edge4\" class=\"edge\">\n",
       "<title>c&#45;&gt;66500</title>\n",
       "<path fill=\"none\" stroke=\"#ff0000\" stroke-width=\"4\" d=\"M144.003,-26.6009C152.204,-29.0612 161.3599,-31.808 170.095,-34.4285\"/>\n",
       "<polygon fill=\"#ff0000\" stroke=\"#ff0000\" stroke-width=\"4\" points=\"169.121,-37.7904 179.705,-37.3115 171.1325,-31.0856 169.121,-37.7904\"/>\n",
       "</g>\n",
       "</g>\n",
       "</svg>\n"
      ]
     },
     "execution_count": 9,
     "metadata": {
      "new_classpath": []
     },
     "output_type": "execute_result"
    }
   ],
   "source": [
    "g1"
   ]
  },
  {
   "cell_type": "code",
   "execution_count": 10,
   "metadata": {},
   "outputs": [
    {
     "data": {
      "text/html": [
       "<svg width=\"242px\" height=\"127px\"\n",
       " viewBox=\"0.00 0.00 242.00 127.00\" xmlns=\"http://www.w3.org/2000/svg\" xmlns:xlink=\"http://www.w3.org/1999/xlink\">\n",
       "<g id=\"graph0\" class=\"graph\" transform=\"scale(1.0 1.0) rotate(0) translate(4 123)\">\n",
       "<title>%3</title>\n",
       "<!-- b -->\n",
       "<g id=\"node1\" class=\"node\">\n",
       "<title>b</title>\n",
       "<path fill=\"none\" stroke=\"#000000\" stroke-width=\"4\" d=\"M12,-82.5C12,-82.5 42,-82.5 42,-82.5 48,-82.5 54,-88.5 54,-94.5 54,-94.5 54,-106.5 54,-106.5 54,-112.5 48,-118.5 42,-118.5 42,-118.5 12,-118.5 12,-118.5 6,-118.5 0,-112.5 0,-106.5 0,-106.5 0,-94.5 0,-94.5 0,-88.5 6,-82.5 12,-82.5\"/>\n",
       "<text text-anchor=\"middle\" x=\"27\" y=\"-95.5\" font-family=\"Helvetica,sans-Serif\" font-size=\"20.00\" fill=\"#000000\">b</text>\n",
       "</g>\n",
       "<!-- 01744 -->\n",
       "<g id=\"node2\" class=\"node\">\n",
       "<title>01744</title>\n",
       "<path fill=\"none\" stroke=\"#000000\" stroke-width=\"4\" d=\"M102,-55.5C102,-55.5 132,-55.5 132,-55.5 138,-55.5 144,-61.5 144,-67.5 144,-67.5 144,-79.5 144,-79.5 144,-85.5 138,-91.5 132,-91.5 132,-91.5 102,-91.5 102,-91.5 96,-91.5 90,-85.5 90,-79.5 90,-79.5 90,-67.5 90,-67.5 90,-61.5 96,-55.5 102,-55.5\"/>\n",
       "<text text-anchor=\"middle\" x=\"117\" y=\"-68.5\" font-family=\"Helvetica,sans-Serif\" font-size=\"20.00\" fill=\"#000000\">+</text>\n",
       "</g>\n",
       "<!-- b&#45;&gt;01744 -->\n",
       "<g id=\"edge1\" class=\"edge\">\n",
       "<title>b&#45;&gt;01744</title>\n",
       "<path fill=\"none\" stroke=\"#0000ff\" stroke-width=\"4\" d=\"M54.003,-92.3991C62.204,-89.9388 71.3599,-87.192 80.095,-84.5715\"/>\n",
       "<polygon fill=\"#0000ff\" stroke=\"#0000ff\" stroke-width=\"4\" points=\"81.1325,-87.9144 89.705,-81.6885 79.121,-81.2096 81.1325,-87.9144\"/>\n",
       "</g>\n",
       "<!-- e5ca4 -->\n",
       "<g id=\"node3\" class=\"node\">\n",
       "<title>e5ca4</title>\n",
       "<path fill=\"none\" stroke=\"#000000\" stroke-width=\"4\" d=\"M192,-27.5C192,-27.5 222,-27.5 222,-27.5 228,-27.5 234,-33.5 234,-39.5 234,-39.5 234,-51.5 234,-51.5 234,-57.5 228,-63.5 222,-63.5 222,-63.5 192,-63.5 192,-63.5 186,-63.5 180,-57.5 180,-51.5 180,-51.5 180,-39.5 180,-39.5 180,-33.5 186,-27.5 192,-27.5\"/>\n",
       "<text text-anchor=\"middle\" x=\"207\" y=\"-40.5\" font-family=\"Helvetica,sans-Serif\" font-size=\"20.00\" fill=\"#000000\">+</text>\n",
       "</g>\n",
       "<!-- 01744&#45;&gt;e5ca4 -->\n",
       "<g id=\"edge2\" class=\"edge\">\n",
       "<title>01744&#45;&gt;e5ca4</title>\n",
       "<path fill=\"none\" stroke=\"#0000ff\" stroke-width=\"4\" d=\"M144.003,-65.0991C152.204,-62.5476 161.3599,-59.6991 170.095,-56.9816\"/>\n",
       "<polygon fill=\"#0000ff\" stroke=\"#0000ff\" stroke-width=\"4\" points=\"171.1962,-60.3045 179.705,-53.9918 169.1167,-53.6205 171.1962,-60.3045\"/>\n",
       "</g>\n",
       "<!-- a -->\n",
       "<g id=\"node4\" class=\"node\">\n",
       "<title>a</title>\n",
       "<path fill=\"none\" stroke=\"#000000\" stroke-width=\"4\" d=\"M12,-27.5C12,-27.5 42,-27.5 42,-27.5 48,-27.5 54,-33.5 54,-39.5 54,-39.5 54,-51.5 54,-51.5 54,-57.5 48,-63.5 42,-63.5 42,-63.5 12,-63.5 12,-63.5 6,-63.5 0,-57.5 0,-51.5 0,-51.5 0,-39.5 0,-39.5 0,-33.5 6,-27.5 12,-27.5\"/>\n",
       "<text text-anchor=\"middle\" x=\"27\" y=\"-40.5\" font-family=\"Helvetica,sans-Serif\" font-size=\"20.00\" fill=\"#000000\">a</text>\n",
       "</g>\n",
       "<!-- a&#45;&gt;01744 -->\n",
       "<g id=\"edge3\" class=\"edge\">\n",
       "<title>a&#45;&gt;01744</title>\n",
       "<path fill=\"none\" stroke=\"#ff0000\" stroke-width=\"4\" d=\"M54.003,-53.9009C62.204,-56.4524 71.3599,-59.3009 80.095,-62.0184\"/>\n",
       "<polygon fill=\"#ff0000\" stroke=\"#ff0000\" stroke-width=\"4\" points=\"79.1167,-65.3795 89.705,-65.0082 81.1962,-58.6955 79.1167,-65.3795\"/>\n",
       "</g>\n",
       "<!-- c -->\n",
       "<g id=\"node5\" class=\"node\">\n",
       "<title>c</title>\n",
       "<path fill=\"none\" stroke=\"#000000\" stroke-width=\"4\" d=\"M102,-.5C102,-.5 132,-.5 132,-.5 138,-.5 144,-6.5 144,-12.5 144,-12.5 144,-24.5 144,-24.5 144,-30.5 138,-36.5 132,-36.5 132,-36.5 102,-36.5 102,-36.5 96,-36.5 90,-30.5 90,-24.5 90,-24.5 90,-12.5 90,-12.5 90,-6.5 96,-.5 102,-.5\"/>\n",
       "<text text-anchor=\"middle\" x=\"117\" y=\"-13.5\" font-family=\"Helvetica,sans-Serif\" font-size=\"20.00\" fill=\"#000000\">c</text>\n",
       "</g>\n",
       "<!-- c&#45;&gt;e5ca4 -->\n",
       "<g id=\"edge4\" class=\"edge\">\n",
       "<title>c&#45;&gt;e5ca4</title>\n",
       "<path fill=\"none\" stroke=\"#ff0000\" stroke-width=\"4\" d=\"M144.003,-26.6009C152.204,-29.0612 161.3599,-31.808 170.095,-34.4285\"/>\n",
       "<polygon fill=\"#ff0000\" stroke=\"#ff0000\" stroke-width=\"4\" points=\"169.121,-37.7904 179.705,-37.3115 171.1325,-31.0856 169.121,-37.7904\"/>\n",
       "</g>\n",
       "</g>\n",
       "</svg>\n"
      ]
     },
     "execution_count": 10,
     "metadata": {
      "new_classpath": []
     },
     "output_type": "execute_result"
    }
   ],
   "source": [
    "g2"
   ]
  },
  {
   "cell_type": "code",
   "execution_count": 11,
   "metadata": {},
   "outputs": [
    {
     "data": {
      "text/plain": [
       "false"
      ]
     },
     "execution_count": 11,
     "metadata": {
      "new_classpath": []
     },
     "output_type": "execute_result"
    }
   ],
   "source": [
    "g1 == g2"
   ]
  },
  {
   "cell_type": "code",
   "execution_count": 12,
   "metadata": {},
   "outputs": [
    {
     "data": {
      "text/plain": [
       "true"
      ]
     },
     "execution_count": 12,
     "metadata": {
      "new_classpath": []
     },
     "output_type": "execute_result"
    }
   ],
   "source": [
    "g1.graph == g2.graph"
   ]
  },
  {
   "cell_type": "code",
   "execution_count": 13,
   "metadata": {},
   "outputs": [
    {
     "data": {
      "text/html": [
       "<svg width=\"332px\" height=\"154px\"\n",
       " viewBox=\"0.00 0.00 332.00 154.00\" xmlns=\"http://www.w3.org/2000/svg\" xmlns:xlink=\"http://www.w3.org/1999/xlink\">\n",
       "<g id=\"graph0\" class=\"graph\" transform=\"scale(1.0 1.0) rotate(0) translate(4 150)\">\n",
       "<title>%3</title>\n",
       "<!-- 01744 -->\n",
       "<g id=\"node1\" class=\"node\">\n",
       "<title>01744</title>\n",
       "<path fill=\"none\" stroke=\"#000000\" stroke-width=\"4\" d=\"M102,-27.5C102,-27.5 132,-27.5 132,-27.5 138,-27.5 144,-33.5 144,-39.5 144,-39.5 144,-51.5 144,-51.5 144,-57.5 138,-63.5 132,-63.5 132,-63.5 102,-63.5 102,-63.5 96,-63.5 90,-57.5 90,-51.5 90,-51.5 90,-39.5 90,-39.5 90,-33.5 96,-27.5 102,-27.5\"/>\n",
       "<text text-anchor=\"middle\" x=\"117\" y=\"-40.5\" font-family=\"Helvetica,sans-Serif\" font-size=\"20.00\" fill=\"#000000\">+</text>\n",
       "</g>\n",
       "<!-- e5ca4 -->\n",
       "<g id=\"node2\" class=\"node\">\n",
       "<title>e5ca4</title>\n",
       "<path fill=\"none\" stroke=\"#000000\" stroke-width=\"4\" d=\"M192,-54.5C192,-54.5 222,-54.5 222,-54.5 228,-54.5 234,-60.5 234,-66.5 234,-66.5 234,-78.5 234,-78.5 234,-84.5 228,-90.5 222,-90.5 222,-90.5 192,-90.5 192,-90.5 186,-90.5 180,-84.5 180,-78.5 180,-78.5 180,-66.5 180,-66.5 180,-60.5 186,-54.5 192,-54.5\"/>\n",
       "<text text-anchor=\"middle\" x=\"207\" y=\"-67.5\" font-family=\"Helvetica,sans-Serif\" font-size=\"20.00\" fill=\"#000000\">+</text>\n",
       "</g>\n",
       "<!-- 01744&#45;&gt;e5ca4 -->\n",
       "<g id=\"edge1\" class=\"edge\">\n",
       "<title>01744&#45;&gt;e5ca4</title>\n",
       "<path fill=\"none\" stroke=\"#0000ff\" stroke-width=\"4\" d=\"M144.003,-53.6009C152.204,-56.0612 161.3599,-58.808 170.095,-61.4285\"/>\n",
       "<polygon fill=\"#0000ff\" stroke=\"#0000ff\" stroke-width=\"4\" points=\"169.121,-64.7904 179.705,-64.3115 171.1325,-58.0856 169.121,-64.7904\"/>\n",
       "</g>\n",
       "<!-- 17936 -->\n",
       "<g id=\"node3\" class=\"node\">\n",
       "<title>17936</title>\n",
       "<path fill=\"none\" stroke=\"#000000\" stroke-width=\"4\" d=\"M282,-81.5C282,-81.5 312,-81.5 312,-81.5 318,-81.5 324,-87.5 324,-93.5 324,-93.5 324,-105.5 324,-105.5 324,-111.5 318,-117.5 312,-117.5 312,-117.5 282,-117.5 282,-117.5 276,-117.5 270,-111.5 270,-105.5 270,-105.5 270,-93.5 270,-93.5 270,-87.5 276,-81.5 282,-81.5\"/>\n",
       "<text text-anchor=\"middle\" x=\"297\" y=\"-94.5\" font-family=\"Helvetica,sans-Serif\" font-size=\"20.00\" fill=\"#000000\">*</text>\n",
       "</g>\n",
       "<!-- e5ca4&#45;&gt;17936 -->\n",
       "<g id=\"edge2\" class=\"edge\">\n",
       "<title>e5ca4&#45;&gt;17936</title>\n",
       "<path fill=\"none\" stroke=\"#ff0000\" stroke-width=\"4\" d=\"M234.003,-80.6009C242.204,-83.0612 251.3599,-85.808 260.095,-88.4285\"/>\n",
       "<polygon fill=\"#ff0000\" stroke=\"#ff0000\" stroke-width=\"4\" points=\"259.121,-91.7904 269.705,-91.3115 261.1325,-85.0856 259.121,-91.7904\"/>\n",
       "</g>\n",
       "<!-- c -->\n",
       "<g id=\"node4\" class=\"node\">\n",
       "<title>c</title>\n",
       "<path fill=\"none\" stroke=\"#000000\" stroke-width=\"4\" d=\"M102,-82.5C102,-82.5 132,-82.5 132,-82.5 138,-82.5 144,-88.5 144,-94.5 144,-94.5 144,-106.5 144,-106.5 144,-112.5 138,-118.5 132,-118.5 132,-118.5 102,-118.5 102,-118.5 96,-118.5 90,-112.5 90,-106.5 90,-106.5 90,-94.5 90,-94.5 90,-88.5 96,-82.5 102,-82.5\"/>\n",
       "<text text-anchor=\"middle\" x=\"117\" y=\"-95.5\" font-family=\"Helvetica,sans-Serif\" font-size=\"20.00\" fill=\"#000000\">c</text>\n",
       "</g>\n",
       "<!-- c&#45;&gt;e5ca4 -->\n",
       "<g id=\"edge3\" class=\"edge\">\n",
       "<title>c&#45;&gt;e5ca4</title>\n",
       "<path fill=\"none\" stroke=\"#ff0000\" stroke-width=\"4\" d=\"M144.003,-92.0991C152.204,-89.5476 161.3599,-86.6991 170.095,-83.9816\"/>\n",
       "<polygon fill=\"#ff0000\" stroke=\"#ff0000\" stroke-width=\"4\" points=\"171.1962,-87.3045 179.705,-80.9918 169.1167,-80.6205 171.1962,-87.3045\"/>\n",
       "</g>\n",
       "<!-- 2 -->\n",
       "<g id=\"node5\" class=\"node\">\n",
       "<title>2</title>\n",
       "<path fill=\"none\" stroke=\"#000000\" stroke-width=\"4\" d=\"M192,-109.5C192,-109.5 222,-109.5 222,-109.5 228,-109.5 234,-115.5 234,-121.5 234,-121.5 234,-133.5 234,-133.5 234,-139.5 228,-145.5 222,-145.5 222,-145.5 192,-145.5 192,-145.5 186,-145.5 180,-139.5 180,-133.5 180,-133.5 180,-121.5 180,-121.5 180,-115.5 186,-109.5 192,-109.5\"/>\n",
       "<text text-anchor=\"middle\" x=\"207\" y=\"-122.5\" font-family=\"Helvetica,sans-Serif\" font-size=\"20.00\" fill=\"#000000\">2</text>\n",
       "</g>\n",
       "<!-- 2&#45;&gt;17936 -->\n",
       "<g id=\"edge4\" class=\"edge\">\n",
       "<title>2&#45;&gt;17936</title>\n",
       "<path fill=\"none\" stroke=\"#0000ff\" stroke-width=\"4\" d=\"M234.003,-119.0991C242.204,-116.5476 251.3599,-113.6991 260.095,-110.9816\"/>\n",
       "<polygon fill=\"#0000ff\" stroke=\"#0000ff\" stroke-width=\"4\" points=\"261.1962,-114.3045 269.705,-107.9918 259.1167,-107.6205 261.1962,-114.3045\"/>\n",
       "</g>\n",
       "<!-- b -->\n",
       "<g id=\"node6\" class=\"node\">\n",
       "<title>b</title>\n",
       "<path fill=\"none\" stroke=\"#000000\" stroke-width=\"4\" d=\"M12,-55.5C12,-55.5 42,-55.5 42,-55.5 48,-55.5 54,-61.5 54,-67.5 54,-67.5 54,-79.5 54,-79.5 54,-85.5 48,-91.5 42,-91.5 42,-91.5 12,-91.5 12,-91.5 6,-91.5 0,-85.5 0,-79.5 0,-79.5 0,-67.5 0,-67.5 0,-61.5 6,-55.5 12,-55.5\"/>\n",
       "<text text-anchor=\"middle\" x=\"27\" y=\"-68.5\" font-family=\"Helvetica,sans-Serif\" font-size=\"20.00\" fill=\"#000000\">b</text>\n",
       "</g>\n",
       "<!-- b&#45;&gt;01744 -->\n",
       "<g id=\"edge5\" class=\"edge\">\n",
       "<title>b&#45;&gt;01744</title>\n",
       "<path fill=\"none\" stroke=\"#0000ff\" stroke-width=\"4\" d=\"M54.003,-65.0991C62.204,-62.5476 71.3599,-59.6991 80.095,-56.9816\"/>\n",
       "<polygon fill=\"#0000ff\" stroke=\"#0000ff\" stroke-width=\"4\" points=\"81.1962,-60.3045 89.705,-53.9918 79.1167,-53.6205 81.1962,-60.3045\"/>\n",
       "</g>\n",
       "<!-- a -->\n",
       "<g id=\"node7\" class=\"node\">\n",
       "<title>a</title>\n",
       "<path fill=\"none\" stroke=\"#000000\" stroke-width=\"4\" d=\"M12,-.5C12,-.5 42,-.5 42,-.5 48,-.5 54,-6.5 54,-12.5 54,-12.5 54,-24.5 54,-24.5 54,-30.5 48,-36.5 42,-36.5 42,-36.5 12,-36.5 12,-36.5 6,-36.5 0,-30.5 0,-24.5 0,-24.5 0,-12.5 0,-12.5 0,-6.5 6,-.5 12,-.5\"/>\n",
       "<text text-anchor=\"middle\" x=\"27\" y=\"-13.5\" font-family=\"Helvetica,sans-Serif\" font-size=\"20.00\" fill=\"#000000\">a</text>\n",
       "</g>\n",
       "<!-- a&#45;&gt;01744 -->\n",
       "<g id=\"edge6\" class=\"edge\">\n",
       "<title>a&#45;&gt;01744</title>\n",
       "<path fill=\"none\" stroke=\"#ff0000\" stroke-width=\"4\" d=\"M54.003,-26.6009C62.204,-29.0612 71.3599,-31.808 80.095,-34.4285\"/>\n",
       "<polygon fill=\"#ff0000\" stroke=\"#ff0000\" stroke-width=\"4\" points=\"79.121,-37.7904 89.705,-37.3115 81.1325,-31.0856 79.121,-37.7904\"/>\n",
       "</g>\n",
       "</g>\n",
       "</svg>\n"
      ]
     },
     "execution_count": 13,
     "metadata": {
      "new_classpath": []
     },
     "output_type": "execute_result"
    }
   ],
   "source": [
    "val g3 = 2 * g2; g3"
   ]
  },
  {
   "cell_type": "code",
   "execution_count": 14,
   "metadata": {},
   "outputs": [
    {
     "data": {
      "text/plain": [
       "false"
      ]
     },
     "execution_count": 14,
     "metadata": {
      "new_classpath": []
     },
     "output_type": "execute_result"
    }
   ],
   "source": [
    "g3.graph == g2.graph"
   ]
  },
  {
   "cell_type": "code",
   "execution_count": 15,
   "metadata": {},
   "outputs": [],
   "source": [
    "val func = def (b, c) { b * c }"
   ]
  },
  {
   "cell_type": "code",
   "execution_count": 16,
   "metadata": {},
   "outputs": [
    {
     "data": {
      "text/html": [
       "<svg width=\"429px\" height=\"182px\"\n",
       " viewBox=\"0.00 0.00 429.00 182.00\" xmlns=\"http://www.w3.org/2000/svg\" xmlns:xlink=\"http://www.w3.org/1999/xlink\">\n",
       "<g id=\"graph0\" class=\"graph\" transform=\"scale(1.0 1.0) rotate(0) translate(4 178)\">\n",
       "<title>%3</title>\n",
       "<!-- 0862c -->\n",
       "<g id=\"node1\" class=\"node\">\n",
       "<title>0862c</title>\n",
       "<path fill=\"none\" stroke=\"#000000\" stroke-width=\"4\" d=\"M192,-27.5C192,-27.5 222,-27.5 222,-27.5 228,-27.5 234,-33.5 234,-39.5 234,-39.5 234,-51.5 234,-51.5 234,-57.5 228,-63.5 222,-63.5 222,-63.5 192,-63.5 192,-63.5 186,-63.5 180,-57.5 180,-51.5 180,-51.5 180,-39.5 180,-39.5 180,-33.5 186,-27.5 192,-27.5\"/>\n",
       "<text text-anchor=\"middle\" x=\"207\" y=\"-40.5\" font-family=\"Helvetica,sans-Serif\" font-size=\"20.00\" fill=\"#000000\">=</text>\n",
       "</g>\n",
       "<!-- 9ff5d -->\n",
       "<g id=\"node2\" class=\"node\">\n",
       "<title>9ff5d</title>\n",
       "<path fill=\"none\" stroke=\"#000000\" stroke-width=\"4\" d=\"M282,-27.5C282,-27.5 319,-27.5 319,-27.5 325,-27.5 331,-33.5 331,-39.5 331,-39.5 331,-51.5 331,-51.5 331,-57.5 325,-63.5 319,-63.5 319,-63.5 282,-63.5 282,-63.5 276,-63.5 270,-57.5 270,-51.5 270,-51.5 270,-39.5 270,-39.5 270,-33.5 276,-27.5 282,-27.5\"/>\n",
       "<text text-anchor=\"middle\" x=\"300.5\" y=\"-40.5\" font-family=\"Helvetica,sans-Serif\" font-size=\"20.00\" fill=\"#000000\">9ff5d</text>\n",
       "</g>\n",
       "<!-- 0862c&#45;&gt;9ff5d -->\n",
       "<g id=\"edge1\" class=\"edge\">\n",
       "<title>0862c&#45;&gt;9ff5d</title>\n",
       "<path fill=\"none\" stroke=\"#000000\" stroke-width=\"4\" d=\"M234.0441,-45.5C242.1072,-45.5 251.1275,-45.5 259.8587,-45.5\"/>\n",
       "<polygon fill=\"#000000\" stroke=\"#000000\" stroke-width=\"4\" points=\"259.9008,-49.0001 269.9008,-45.5 259.9007,-42.0001 259.9008,-49.0001\"/>\n",
       "</g>\n",
       "<!-- fc9b5 -->\n",
       "<g id=\"node3\" class=\"node\">\n",
       "<title>fc9b5</title>\n",
       "<path fill=\"none\" stroke=\"#000000\" stroke-width=\"4\" d=\"M379,-82.5C379,-82.5 409,-82.5 409,-82.5 415,-82.5 421,-88.5 421,-94.5 421,-94.5 421,-106.5 421,-106.5 421,-112.5 415,-118.5 409,-118.5 409,-118.5 379,-118.5 379,-118.5 373,-118.5 367,-112.5 367,-106.5 367,-106.5 367,-94.5 367,-94.5 367,-88.5 373,-82.5 379,-82.5\"/>\n",
       "<text text-anchor=\"middle\" x=\"394\" y=\"-95.5\" font-family=\"Helvetica,sans-Serif\" font-size=\"20.00\" fill=\"#000000\">λ</text>\n",
       "</g>\n",
       "<!-- 9ff5d&#45;&gt;fc9b5 -->\n",
       "<g id=\"edge2\" class=\"edge\">\n",
       "<title>9ff5d&#45;&gt;fc9b5</title>\n",
       "<path fill=\"none\" stroke=\"#0000ff\" stroke-width=\"4\" d=\"M331.1154,-63.5091C339.7433,-68.5843 349.207,-74.1512 358.1137,-79.3904\"/>\n",
       "<polygon fill=\"#0000ff\" stroke=\"#0000ff\" stroke-width=\"4\" points=\"356.3892,-82.4366 366.7832,-84.4901 359.9384,-76.4031 356.3892,-82.4366\"/>\n",
       "</g>\n",
       "<!-- 1 -->\n",
       "<g id=\"node4\" class=\"node\">\n",
       "<title>1</title>\n",
       "<path fill=\"none\" stroke=\"#000000\" stroke-width=\"4\" d=\"M285.5,-137.5C285.5,-137.5 315.5,-137.5 315.5,-137.5 321.5,-137.5 327.5,-143.5 327.5,-149.5 327.5,-149.5 327.5,-161.5 327.5,-161.5 327.5,-167.5 321.5,-173.5 315.5,-173.5 315.5,-173.5 285.5,-173.5 285.5,-173.5 279.5,-173.5 273.5,-167.5 273.5,-161.5 273.5,-161.5 273.5,-149.5 273.5,-149.5 273.5,-143.5 279.5,-137.5 285.5,-137.5\"/>\n",
       "<text text-anchor=\"middle\" x=\"300.5\" y=\"-150.5\" font-family=\"Helvetica,sans-Serif\" font-size=\"20.00\" fill=\"#000000\">1</text>\n",
       "</g>\n",
       "<!-- 1&#45;&gt;fc9b5 -->\n",
       "<g id=\"edge3\" class=\"edge\">\n",
       "<title>1&#45;&gt;fc9b5</title>\n",
       "<path fill=\"none\" stroke=\"#0000ff\" stroke-width=\"4\" d=\"M327.5441,-139.5917C337.055,-133.9971 347.8978,-127.619 358.0267,-121.6607\"/>\n",
       "<polygon fill=\"#0000ff\" stroke=\"#0000ff\" stroke-width=\"4\" points=\"359.848,-124.6501 366.6928,-116.5631 356.2988,-118.6165 359.848,-124.6501\"/>\n",
       "</g>\n",
       "<!-- 2 -->\n",
       "<g id=\"node5\" class=\"node\">\n",
       "<title>2</title>\n",
       "<path fill=\"none\" stroke=\"#000000\" stroke-width=\"4\" d=\"M285.5,-82.5C285.5,-82.5 315.5,-82.5 315.5,-82.5 321.5,-82.5 327.5,-88.5 327.5,-94.5 327.5,-94.5 327.5,-106.5 327.5,-106.5 327.5,-112.5 321.5,-118.5 315.5,-118.5 315.5,-118.5 285.5,-118.5 285.5,-118.5 279.5,-118.5 273.5,-112.5 273.5,-106.5 273.5,-106.5 273.5,-94.5 273.5,-94.5 273.5,-88.5 279.5,-82.5 285.5,-82.5\"/>\n",
       "<text text-anchor=\"middle\" x=\"300.5\" y=\"-95.5\" font-family=\"Helvetica,sans-Serif\" font-size=\"20.00\" fill=\"#000000\">2</text>\n",
       "</g>\n",
       "<!-- 2&#45;&gt;fc9b5 -->\n",
       "<g id=\"edge4\" class=\"edge\">\n",
       "<title>2&#45;&gt;fc9b5</title>\n",
       "<path fill=\"none\" stroke=\"#ff0000\" stroke-width=\"4\" d=\"M327.5441,-100.5C336.5746,-100.5 346.8059,-100.5 356.4868,-100.5\"/>\n",
       "<polygon fill=\"#ff0000\" stroke=\"#ff0000\" stroke-width=\"4\" points=\"356.6928,-104.0001 366.6928,-100.5 356.6927,-97.0001 356.6928,-104.0001\"/>\n",
       "</g>\n",
       "<!-- 70ff3 -->\n",
       "<g id=\"node6\" class=\"node\">\n",
       "<title>70ff3</title>\n",
       "<path fill=\"none\" stroke=\"#000000\" stroke-width=\"4\" d=\"M102,-27.5C102,-27.5 132,-27.5 132,-27.5 138,-27.5 144,-33.5 144,-39.5 144,-39.5 144,-51.5 144,-51.5 144,-57.5 138,-63.5 132,-63.5 132,-63.5 102,-63.5 102,-63.5 96,-63.5 90,-57.5 90,-51.5 90,-51.5 90,-39.5 90,-39.5 90,-33.5 96,-27.5 102,-27.5\"/>\n",
       "<text text-anchor=\"middle\" x=\"117\" y=\"-40.5\" font-family=\"Helvetica,sans-Serif\" font-size=\"20.00\" fill=\"#000000\">*</text>\n",
       "</g>\n",
       "<!-- 70ff3&#45;&gt;0862c -->\n",
       "<g id=\"edge5\" class=\"edge\">\n",
       "<title>70ff3&#45;&gt;0862c</title>\n",
       "<path fill=\"none\" stroke=\"#000000\" stroke-width=\"4\" d=\"M144.003,-45.5C152.0277,-45.5 160.9665,-45.5 169.5309,-45.5\"/>\n",
       "<polygon fill=\"#000000\" stroke=\"#000000\" stroke-width=\"4\" points=\"169.7051,-49.0001 179.705,-45.5 169.705,-42.0001 169.7051,-49.0001\"/>\n",
       "</g>\n",
       "<!-- b -->\n",
       "<g id=\"node7\" class=\"node\">\n",
       "<title>b</title>\n",
       "<path fill=\"none\" stroke=\"#000000\" stroke-width=\"4\" d=\"M12,-55.5C12,-55.5 42,-55.5 42,-55.5 48,-55.5 54,-61.5 54,-67.5 54,-67.5 54,-79.5 54,-79.5 54,-85.5 48,-91.5 42,-91.5 42,-91.5 12,-91.5 12,-91.5 6,-91.5 0,-85.5 0,-79.5 0,-79.5 0,-67.5 0,-67.5 0,-61.5 6,-55.5 12,-55.5\"/>\n",
       "<text text-anchor=\"middle\" x=\"27\" y=\"-68.5\" font-family=\"Helvetica,sans-Serif\" font-size=\"20.00\" fill=\"#000000\">b</text>\n",
       "</g>\n",
       "<!-- b&#45;&gt;70ff3 -->\n",
       "<g id=\"edge6\" class=\"edge\">\n",
       "<title>b&#45;&gt;70ff3</title>\n",
       "<path fill=\"none\" stroke=\"#0000ff\" stroke-width=\"4\" d=\"M54.003,-65.0991C62.204,-62.5476 71.3599,-59.6991 80.095,-56.9816\"/>\n",
       "<polygon fill=\"#0000ff\" stroke=\"#0000ff\" stroke-width=\"4\" points=\"81.1962,-60.3045 89.705,-53.9918 79.1167,-53.6205 81.1962,-60.3045\"/>\n",
       "</g>\n",
       "<!-- c -->\n",
       "<g id=\"node8\" class=\"node\">\n",
       "<title>c</title>\n",
       "<path fill=\"none\" stroke=\"#000000\" stroke-width=\"4\" d=\"M12,-.5C12,-.5 42,-.5 42,-.5 48,-.5 54,-6.5 54,-12.5 54,-12.5 54,-24.5 54,-24.5 54,-30.5 48,-36.5 42,-36.5 42,-36.5 12,-36.5 12,-36.5 6,-36.5 0,-30.5 0,-24.5 0,-24.5 0,-12.5 0,-12.5 0,-6.5 6,-.5 12,-.5\"/>\n",
       "<text text-anchor=\"middle\" x=\"27\" y=\"-13.5\" font-family=\"Helvetica,sans-Serif\" font-size=\"20.00\" fill=\"#000000\">c</text>\n",
       "</g>\n",
       "<!-- c&#45;&gt;70ff3 -->\n",
       "<g id=\"edge7\" class=\"edge\">\n",
       "<title>c&#45;&gt;70ff3</title>\n",
       "<path fill=\"none\" stroke=\"#ff0000\" stroke-width=\"4\" d=\"M54.003,-26.6009C62.204,-29.0612 71.3599,-31.808 80.095,-34.4285\"/>\n",
       "<polygon fill=\"#ff0000\" stroke=\"#ff0000\" stroke-width=\"4\" points=\"79.121,-37.7904 89.705,-37.3115 81.1325,-31.0856 79.121,-37.7904\"/>\n",
       "</g>\n",
       "</g>\n",
       "</svg>\n"
      ]
     },
     "execution_count": 16,
     "metadata": {
      "new_classpath": []
     },
     "output_type": "execute_result"
    }
   ],
   "source": [
    "func(1, 2)"
   ]
  },
  {
   "cell_type": "code",
   "execution_count": 17,
   "metadata": {},
   "outputs": [
    {
     "data": {
      "text/plain": [
       "true"
      ]
     },
     "execution_count": 17,
     "metadata": {
      "new_classpath": []
     },
     "output_type": "execute_result"
    }
   ],
   "source": [
    "func(1, 3).graph == func(1, 2).graph"
   ]
  },
  {
   "cell_type": "code",
   "execution_count": null,
   "metadata": {},
   "outputs": [],
   "source": []
  },
  {
   "cell_type": "code",
   "execution_count": null,
   "metadata": {},
   "outputs": [],
   "source": []
  }
 ],
 "metadata": {
  "kernelspec": {
   "display_name": "Kotlin",
   "language": "kotlin",
   "name": "kotlin"
  },
  "language_info": {
   "codemirror_mode": "text/x-kotlin",
   "file_extension": ".kt",
   "mimetype": "text/x-kotlin",
   "name": "kotlin",
   "pygments_lexer": "kotlin",
   "version": "1.4.30-M1"
  }
 },
 "nbformat": 4,
 "nbformat_minor": 2
}