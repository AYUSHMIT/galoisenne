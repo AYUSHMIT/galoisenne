{
 "cells": [
  {
   "cell_type": "code",
   "execution_count": 2,
   "metadata": {},
   "outputs": [],
   "source": [
    "%use kaliningraph"
   ]
  },
  {
   "cell_type": "code",
   "execution_count": 7,
   "metadata": {},
   "outputs": [
    {
     "data": {
      "text/html": [
       "<svg width=\"170px\" height=\"264px\"\n",
       " viewBox=\"0.00 0.00 170.00 264.00\" xmlns=\"http://www.w3.org/2000/svg\" xmlns:xlink=\"http://www.w3.org/1999/xlink\">\n",
       "<g id=\"graph0\" class=\"graph\" transform=\"scale(1.0 1.0) rotate(0) translate(4 260)\">\n",
       "<title>%3</title>\n",
       "<polygon fill=\"#ffffff\" stroke=\"transparent\" points=\"-4,4 -4,-260 166,-260 166,4 -4,4\"/>\n",
       "<!-- 417b5 -->\n",
       "<g id=\"node1\" class=\"node\">\n",
       "<title>417b5</title>\n",
       "<path fill=\"none\" stroke=\"#000000\" stroke-width=\"4\" d=\"M84,-146.5C84,-146.5 114,-146.5 114,-146.5 120,-146.5 126,-152.5 126,-158.5 126,-158.5 126,-170.5 126,-170.5 126,-176.5 120,-182.5 114,-182.5 114,-182.5 84,-182.5 84,-182.5 78,-182.5 72,-176.5 72,-170.5 72,-170.5 72,-158.5 72,-158.5 72,-152.5 78,-146.5 84,-146.5\"/>\n",
       "<text text-anchor=\"middle\" x=\"99\" y=\"-159.5\" font-family=\"Helvetica,sans-Serif\" font-size=\"20.00\" fill=\"#000000\">+</text>\n",
       "</g>\n",
       "<!-- 1ff39 -->\n",
       "<g id=\"node2\" class=\"node\">\n",
       "<title>1ff39</title>\n",
       "<path fill=\"none\" stroke=\"#000000\" stroke-width=\"4\" d=\"M48,-73.5C48,-73.5 78,-73.5 78,-73.5 84,-73.5 90,-79.5 90,-85.5 90,-85.5 90,-97.5 90,-97.5 90,-103.5 84,-109.5 78,-109.5 78,-109.5 48,-109.5 48,-109.5 42,-109.5 36,-103.5 36,-97.5 36,-97.5 36,-85.5 36,-85.5 36,-79.5 42,-73.5 48,-73.5\"/>\n",
       "<text text-anchor=\"middle\" x=\"63\" y=\"-86.5\" font-family=\"Helvetica,sans-Serif\" font-size=\"20.00\" fill=\"#000000\">+</text>\n",
       "</g>\n",
       "<!-- 417b5&#45;&gt;1ff39 -->\n",
       "<g id=\"edge1\" class=\"edge\">\n",
       "<title>417b5&#45;&gt;1ff39</title>\n",
       "<path fill=\"none\" stroke=\"#000000\" stroke-width=\"4\" d=\"M90.1011,-146.4551C85.9905,-138.1196 81.0205,-128.0416 76.4651,-118.8042\"/>\n",
       "<polygon fill=\"#000000\" stroke=\"#000000\" stroke-width=\"4\" points=\"79.4833,-117.011 71.9213,-109.5904 73.2052,-120.1071 79.4833,-117.011\"/>\n",
       "</g>\n",
       "<!-- c -->\n",
       "<g id=\"node5\" class=\"node\">\n",
       "<title>c</title>\n",
       "<path fill=\"none\" stroke=\"#000000\" stroke-width=\"4\" d=\"M120,-73.5C120,-73.5 150,-73.5 150,-73.5 156,-73.5 162,-79.5 162,-85.5 162,-85.5 162,-97.5 162,-97.5 162,-103.5 156,-109.5 150,-109.5 150,-109.5 120,-109.5 120,-109.5 114,-109.5 108,-103.5 108,-97.5 108,-97.5 108,-85.5 108,-85.5 108,-79.5 114,-73.5 120,-73.5\"/>\n",
       "<text text-anchor=\"middle\" x=\"135\" y=\"-86.5\" font-family=\"Helvetica,sans-Serif\" font-size=\"20.00\" fill=\"#000000\">c</text>\n",
       "</g>\n",
       "<!-- 417b5&#45;&gt;c -->\n",
       "<g id=\"edge2\" class=\"edge\">\n",
       "<title>417b5&#45;&gt;c</title>\n",
       "<path fill=\"none\" stroke=\"#000000\" stroke-width=\"4\" d=\"M107.8989,-146.4551C112.0095,-138.1196 116.9795,-128.0416 121.5349,-118.8042\"/>\n",
       "<polygon fill=\"#000000\" stroke=\"#000000\" stroke-width=\"4\" points=\"124.7948,-120.1071 126.0787,-109.5904 118.5167,-117.011 124.7948,-120.1071\"/>\n",
       "</g>\n",
       "<!-- a -->\n",
       "<g id=\"node3\" class=\"node\">\n",
       "<title>a</title>\n",
       "<path fill=\"none\" stroke=\"#000000\" stroke-width=\"4\" d=\"M12,-.5C12,-.5 42,-.5 42,-.5 48,-.5 54,-6.5 54,-12.5 54,-12.5 54,-24.5 54,-24.5 54,-30.5 48,-36.5 42,-36.5 42,-36.5 12,-36.5 12,-36.5 6,-36.5 0,-30.5 0,-24.5 0,-24.5 0,-12.5 0,-12.5 0,-6.5 6,-.5 12,-.5\"/>\n",
       "<text text-anchor=\"middle\" x=\"27\" y=\"-13.5\" font-family=\"Helvetica,sans-Serif\" font-size=\"20.00\" fill=\"#000000\">a</text>\n",
       "</g>\n",
       "<!-- 1ff39&#45;&gt;a -->\n",
       "<g id=\"edge3\" class=\"edge\">\n",
       "<title>1ff39&#45;&gt;a</title>\n",
       "<path fill=\"none\" stroke=\"#000000\" stroke-width=\"4\" d=\"M54.1011,-73.4551C49.9905,-65.1196 45.0205,-55.0416 40.4651,-45.8042\"/>\n",
       "<polygon fill=\"#000000\" stroke=\"#000000\" stroke-width=\"4\" points=\"43.4833,-44.011 35.9213,-36.5904 37.2052,-47.1071 43.4833,-44.011\"/>\n",
       "</g>\n",
       "<!-- b -->\n",
       "<g id=\"node4\" class=\"node\">\n",
       "<title>b</title>\n",
       "<path fill=\"none\" stroke=\"#000000\" stroke-width=\"4\" d=\"M84,-.5C84,-.5 114,-.5 114,-.5 120,-.5 126,-6.5 126,-12.5 126,-12.5 126,-24.5 126,-24.5 126,-30.5 120,-36.5 114,-36.5 114,-36.5 84,-36.5 84,-36.5 78,-36.5 72,-30.5 72,-24.5 72,-24.5 72,-12.5 72,-12.5 72,-6.5 78,-.5 84,-.5\"/>\n",
       "<text text-anchor=\"middle\" x=\"99\" y=\"-13.5\" font-family=\"Helvetica,sans-Serif\" font-size=\"20.00\" fill=\"#000000\">b</text>\n",
       "</g>\n",
       "<!-- 1ff39&#45;&gt;b -->\n",
       "<g id=\"edge4\" class=\"edge\">\n",
       "<title>1ff39&#45;&gt;b</title>\n",
       "<path fill=\"none\" stroke=\"#000000\" stroke-width=\"4\" d=\"M71.8989,-73.4551C76.0095,-65.1196 80.9795,-55.0416 85.5349,-45.8042\"/>\n",
       "<polygon fill=\"#000000\" stroke=\"#000000\" stroke-width=\"4\" points=\"88.7948,-47.1071 90.0787,-36.5904 82.5167,-44.011 88.7948,-47.1071\"/>\n",
       "</g>\n",
       "<!-- bf499 -->\n",
       "<g id=\"node6\" class=\"node\">\n",
       "<title>bf499</title>\n",
       "<path fill=\"none\" stroke=\"#000000\" stroke-width=\"4\" d=\"M77.5,-219.5C77.5,-219.5 120.5,-219.5 120.5,-219.5 126.5,-219.5 132.5,-225.5 132.5,-231.5 132.5,-231.5 132.5,-243.5 132.5,-243.5 132.5,-249.5 126.5,-255.5 120.5,-255.5 120.5,-255.5 77.5,-255.5 77.5,-255.5 71.5,-255.5 65.5,-249.5 65.5,-243.5 65.5,-243.5 65.5,-231.5 65.5,-231.5 65.5,-225.5 71.5,-219.5 77.5,-219.5\"/>\n",
       "<text text-anchor=\"middle\" x=\"99\" y=\"-232.5\" font-family=\"Helvetica,sans-Serif\" font-size=\"20.00\" fill=\"#000000\">bf499</text>\n",
       "</g>\n",
       "<!-- bf499&#45;&gt;417b5 -->\n",
       "<g id=\"edge5\" class=\"edge\">\n",
       "<title>bf499&#45;&gt;417b5</title>\n",
       "<path fill=\"none\" stroke=\"#000000\" stroke-width=\"4\" d=\"M99,-219.4551C99,-211.3828 99,-201.6764 99,-192.6817\"/>\n",
       "<polygon fill=\"#000000\" stroke=\"#000000\" stroke-width=\"4\" points=\"102.5001,-192.5903 99,-182.5904 95.5001,-192.5904 102.5001,-192.5903\"/>\n",
       "</g>\n",
       "</g>\n",
       "</svg>\n"
      ]
     },
     "execution_count": 7,
     "metadata": {},
     "output_type": "execute_result"
    }
   ],
   "source": [
    "val fun1 = def(a, b, c) { a + b + c }; fun1"
   ]
  },
  {
   "cell_type": "code",
   "execution_count": 8,
   "metadata": {},
   "outputs": [],
   "source": [
    "val fun2 = def(a, b, c) { b + c + a }"
   ]
  },
  {
   "cell_type": "code",
   "execution_count": 9,
   "metadata": {},
   "outputs": [
    {
     "data": {
      "text/plain": [
       "false"
      ]
     },
     "execution_count": 9,
     "metadata": {},
     "output_type": "execute_result"
    }
   ],
   "source": [
    "fun1 == fun2"
   ]
  },
  {
   "cell_type": "code",
   "execution_count": 10,
   "metadata": {},
   "outputs": [
    {
     "data": {
      "text/html": [
       "<svg width=\"170px\" height=\"264px\"\n",
       " viewBox=\"0.00 0.00 170.00 264.00\" xmlns=\"http://www.w3.org/2000/svg\" xmlns:xlink=\"http://www.w3.org/1999/xlink\">\n",
       "<g id=\"graph0\" class=\"graph\" transform=\"scale(1.0 1.0) rotate(0) translate(4 260)\">\n",
       "<title>%3</title>\n",
       "<polygon fill=\"#ffffff\" stroke=\"transparent\" points=\"-4,4 -4,-260 166,-260 166,4 -4,4\"/>\n",
       "<!-- dbf22 -->\n",
       "<g id=\"node1\" class=\"node\">\n",
       "<title>dbf22</title>\n",
       "<path fill=\"none\" stroke=\"#000000\" stroke-width=\"4\" d=\"M84,-146.5C84,-146.5 114,-146.5 114,-146.5 120,-146.5 126,-152.5 126,-158.5 126,-158.5 126,-170.5 126,-170.5 126,-176.5 120,-182.5 114,-182.5 114,-182.5 84,-182.5 84,-182.5 78,-182.5 72,-176.5 72,-170.5 72,-170.5 72,-158.5 72,-158.5 72,-152.5 78,-146.5 84,-146.5\"/>\n",
       "<text text-anchor=\"middle\" x=\"99\" y=\"-159.5\" font-family=\"Helvetica,sans-Serif\" font-size=\"20.00\" fill=\"#000000\">+</text>\n",
       "</g>\n",
       "<!-- 4b268 -->\n",
       "<g id=\"node2\" class=\"node\">\n",
       "<title>4b268</title>\n",
       "<path fill=\"none\" stroke=\"#000000\" stroke-width=\"4\" d=\"M48,-73.5C48,-73.5 78,-73.5 78,-73.5 84,-73.5 90,-79.5 90,-85.5 90,-85.5 90,-97.5 90,-97.5 90,-103.5 84,-109.5 78,-109.5 78,-109.5 48,-109.5 48,-109.5 42,-109.5 36,-103.5 36,-97.5 36,-97.5 36,-85.5 36,-85.5 36,-79.5 42,-73.5 48,-73.5\"/>\n",
       "<text text-anchor=\"middle\" x=\"63\" y=\"-86.5\" font-family=\"Helvetica,sans-Serif\" font-size=\"20.00\" fill=\"#000000\">+</text>\n",
       "</g>\n",
       "<!-- dbf22&#45;&gt;4b268 -->\n",
       "<g id=\"edge1\" class=\"edge\">\n",
       "<title>dbf22&#45;&gt;4b268</title>\n",
       "<path fill=\"none\" stroke=\"#000000\" stroke-width=\"4\" d=\"M90.1011,-146.4551C85.9905,-138.1196 81.0205,-128.0416 76.4651,-118.8042\"/>\n",
       "<polygon fill=\"#000000\" stroke=\"#000000\" stroke-width=\"4\" points=\"79.4833,-117.011 71.9213,-109.5904 73.2052,-120.1071 79.4833,-117.011\"/>\n",
       "</g>\n",
       "<!-- a -->\n",
       "<g id=\"node5\" class=\"node\">\n",
       "<title>a</title>\n",
       "<path fill=\"none\" stroke=\"#000000\" stroke-width=\"4\" d=\"M120,-73.5C120,-73.5 150,-73.5 150,-73.5 156,-73.5 162,-79.5 162,-85.5 162,-85.5 162,-97.5 162,-97.5 162,-103.5 156,-109.5 150,-109.5 150,-109.5 120,-109.5 120,-109.5 114,-109.5 108,-103.5 108,-97.5 108,-97.5 108,-85.5 108,-85.5 108,-79.5 114,-73.5 120,-73.5\"/>\n",
       "<text text-anchor=\"middle\" x=\"135\" y=\"-86.5\" font-family=\"Helvetica,sans-Serif\" font-size=\"20.00\" fill=\"#000000\">a</text>\n",
       "</g>\n",
       "<!-- dbf22&#45;&gt;a -->\n",
       "<g id=\"edge2\" class=\"edge\">\n",
       "<title>dbf22&#45;&gt;a</title>\n",
       "<path fill=\"none\" stroke=\"#000000\" stroke-width=\"4\" d=\"M107.8989,-146.4551C112.0095,-138.1196 116.9795,-128.0416 121.5349,-118.8042\"/>\n",
       "<polygon fill=\"#000000\" stroke=\"#000000\" stroke-width=\"4\" points=\"124.7948,-120.1071 126.0787,-109.5904 118.5167,-117.011 124.7948,-120.1071\"/>\n",
       "</g>\n",
       "<!-- b -->\n",
       "<g id=\"node3\" class=\"node\">\n",
       "<title>b</title>\n",
       "<path fill=\"none\" stroke=\"#000000\" stroke-width=\"4\" d=\"M12,-.5C12,-.5 42,-.5 42,-.5 48,-.5 54,-6.5 54,-12.5 54,-12.5 54,-24.5 54,-24.5 54,-30.5 48,-36.5 42,-36.5 42,-36.5 12,-36.5 12,-36.5 6,-36.5 0,-30.5 0,-24.5 0,-24.5 0,-12.5 0,-12.5 0,-6.5 6,-.5 12,-.5\"/>\n",
       "<text text-anchor=\"middle\" x=\"27\" y=\"-13.5\" font-family=\"Helvetica,sans-Serif\" font-size=\"20.00\" fill=\"#000000\">b</text>\n",
       "</g>\n",
       "<!-- 4b268&#45;&gt;b -->\n",
       "<g id=\"edge3\" class=\"edge\">\n",
       "<title>4b268&#45;&gt;b</title>\n",
       "<path fill=\"none\" stroke=\"#000000\" stroke-width=\"4\" d=\"M54.1011,-73.4551C49.9905,-65.1196 45.0205,-55.0416 40.4651,-45.8042\"/>\n",
       "<polygon fill=\"#000000\" stroke=\"#000000\" stroke-width=\"4\" points=\"43.4833,-44.011 35.9213,-36.5904 37.2052,-47.1071 43.4833,-44.011\"/>\n",
       "</g>\n",
       "<!-- c -->\n",
       "<g id=\"node4\" class=\"node\">\n",
       "<title>c</title>\n",
       "<path fill=\"none\" stroke=\"#000000\" stroke-width=\"4\" d=\"M84,-.5C84,-.5 114,-.5 114,-.5 120,-.5 126,-6.5 126,-12.5 126,-12.5 126,-24.5 126,-24.5 126,-30.5 120,-36.5 114,-36.5 114,-36.5 84,-36.5 84,-36.5 78,-36.5 72,-30.5 72,-24.5 72,-24.5 72,-12.5 72,-12.5 72,-6.5 78,-.5 84,-.5\"/>\n",
       "<text text-anchor=\"middle\" x=\"99\" y=\"-13.5\" font-family=\"Helvetica,sans-Serif\" font-size=\"20.00\" fill=\"#000000\">c</text>\n",
       "</g>\n",
       "<!-- 4b268&#45;&gt;c -->\n",
       "<g id=\"edge4\" class=\"edge\">\n",
       "<title>4b268&#45;&gt;c</title>\n",
       "<path fill=\"none\" stroke=\"#000000\" stroke-width=\"4\" d=\"M71.8989,-73.4551C76.0095,-65.1196 80.9795,-55.0416 85.5349,-45.8042\"/>\n",
       "<polygon fill=\"#000000\" stroke=\"#000000\" stroke-width=\"4\" points=\"88.7948,-47.1071 90.0787,-36.5904 82.5167,-44.011 88.7948,-47.1071\"/>\n",
       "</g>\n",
       "<!-- fa04a -->\n",
       "<g id=\"node6\" class=\"node\">\n",
       "<title>fa04a</title>\n",
       "<path fill=\"none\" stroke=\"#000000\" stroke-width=\"4\" d=\"M77.5,-219.5C77.5,-219.5 120.5,-219.5 120.5,-219.5 126.5,-219.5 132.5,-225.5 132.5,-231.5 132.5,-231.5 132.5,-243.5 132.5,-243.5 132.5,-249.5 126.5,-255.5 120.5,-255.5 120.5,-255.5 77.5,-255.5 77.5,-255.5 71.5,-255.5 65.5,-249.5 65.5,-243.5 65.5,-243.5 65.5,-231.5 65.5,-231.5 65.5,-225.5 71.5,-219.5 77.5,-219.5\"/>\n",
       "<text text-anchor=\"middle\" x=\"99\" y=\"-232.5\" font-family=\"Helvetica,sans-Serif\" font-size=\"20.00\" fill=\"#000000\">fa04a</text>\n",
       "</g>\n",
       "<!-- fa04a&#45;&gt;dbf22 -->\n",
       "<g id=\"edge5\" class=\"edge\">\n",
       "<title>fa04a&#45;&gt;dbf22</title>\n",
       "<path fill=\"none\" stroke=\"#000000\" stroke-width=\"4\" d=\"M99,-219.4551C99,-211.3828 99,-201.6764 99,-192.6817\"/>\n",
       "<polygon fill=\"#000000\" stroke=\"#000000\" stroke-width=\"4\" points=\"102.5001,-192.5903 99,-182.5904 95.5001,-192.5904 102.5001,-192.5903\"/>\n",
       "</g>\n",
       "</g>\n",
       "</svg>\n"
      ]
     },
     "execution_count": 10,
     "metadata": {},
     "output_type": "execute_result"
    }
   ],
   "source": [
    "fun2"
   ]
  },
  {
   "cell_type": "code",
   "execution_count": 11,
   "metadata": {},
   "outputs": [
    {
     "data": {
      "text/html": [
       "<img src=\"data:image/jpg;base64,iVBORw0KGgoAAAANSUhEUgAAAHgAAAB4CAIAAAC2BqGFAAABLUlEQVR4Xu3SwQnEAAwDwfTf9F0BS0D+KA/tsAUY4ef5yO+j5nCCTnM4Qac5nKDTHE7QaQ4n6DSHE3Sawwk6zeEEneZwgk5zOEGnOZyg0xxO0GkOJ+g0hxN0msMJOs3hBJ3mcIJOczhBpzmcoNNneEqeDjhfng44X54OOF+eDjhfng44X54OOF+eDjhfng44X54OOF+eDjhfng44X54OOF+eDjhfng44X54OOF+eDjhfng44X54OOF+eDjhfnvSK79JpDifoNIcTdJrDCTrN4QSd5nCCTnM4Qac5nKDTHE7QaQ4n6DSHE3Sawwk6zeEEneZwgk5zOEGnOZyg0xxO0GkOJ+g0hxN0msMJOkmSJEmSJEmSJEmSJEmSJEmSJEmSJEmSJEmSJEmSJEna9AfULsiarlkxWwAAAABJRU5ErkJggg==\"/>"
      ]
     },
     "execution_count": 11,
     "metadata": {},
     "output_type": "execute_result"
    }
   ],
   "source": [
    "fun1.toGraph().A"
   ]
  },
  {
   "cell_type": "code",
   "execution_count": 12,
   "metadata": {},
   "outputs": [
    {
     "data": {
      "text/plain": [
       "true"
      ]
     },
     "execution_count": 12,
     "metadata": {},
     "output_type": "execute_result"
    }
   ],
   "source": [
    "fun1.toGraph() == fun2.toGraph()"
   ]
  },
  {
   "cell_type": "code",
   "execution_count": 13,
   "metadata": {},
   "outputs": [
    {
     "data": {
      "text/html": [
       "<img src=\"data:image/jpg;base64,iVBORw0KGgoAAAANSUhEUgAAAHgAAAB4CAIAAAC2BqGFAAABLUlEQVR4Xu3SwQnEAAwDwfTf9F0BS0D+KA/tsAUY4ef5yO+j5nCCTnM4Qac5nKDTHE7QaQ4n6DSHE3Sawwk6zeEEneZwgk5zOEGnOZyg0xxO0GkOJ+g0hxN0msMJOs3hBJ3mcIJOczhBpzmcoNNneEqeDjhfng44X54OOF+eDjhfng44X54OOF+eDjhfng44X54OOF+eDjhfng44X54OOF+eDjhfng44X54OOF+eDjhfng44X54OOF+eDjhfnvSK79JpDifoNIcTdJrDCTrN4QSd5nCCTnM4Qac5nKDTHE7QaQ4n6DSHE3Sawwk6zeEEneZwgk5zOEGnOZyg0xxO0GkOJ+g0hxN0msMJOkmSJEmSJEmSJEmSJEmSJEmSJEmSJEmSJEmSJEmSJEna9AfULsiarlkxWwAAAABJRU5ErkJggg==\"/>"
      ]
     },
     "execution_count": 13,
     "metadata": {},
     "output_type": "execute_result"
    }
   ],
   "source": [
    "fun2.toGraph().A"
   ]
  },
  {
   "cell_type": "code",
   "execution_count": 14,
   "metadata": {},
   "outputs": [
    {
     "data": {
      "text/html": [
       "<svg width=\"220px\" height=\"337px\"\n",
       " viewBox=\"0.00 0.00 220.00 337.00\" xmlns=\"http://www.w3.org/2000/svg\" xmlns:xlink=\"http://www.w3.org/1999/xlink\">\n",
       "<g id=\"graph0\" class=\"graph\" transform=\"scale(1.0 1.0) rotate(0) translate(4 333)\">\n",
       "<title>%3</title>\n",
       "<polygon fill=\"#ffffff\" stroke=\"transparent\" points=\"-4,4 -4,-333 216,-333 216,4 -4,4\"/>\n",
       "<!-- fa04a -->\n",
       "<g id=\"node1\" class=\"node\">\n",
       "<title>fa04a</title>\n",
       "<path fill=\"none\" stroke=\"#000000\" stroke-width=\"4\" d=\"M34.5,-219.5C34.5,-219.5 77.5,-219.5 77.5,-219.5 83.5,-219.5 89.5,-225.5 89.5,-231.5 89.5,-231.5 89.5,-243.5 89.5,-243.5 89.5,-249.5 83.5,-255.5 77.5,-255.5 77.5,-255.5 34.5,-255.5 34.5,-255.5 28.5,-255.5 22.5,-249.5 22.5,-243.5 22.5,-243.5 22.5,-231.5 22.5,-231.5 22.5,-225.5 28.5,-219.5 34.5,-219.5\"/>\n",
       "<text text-anchor=\"middle\" x=\"56\" y=\"-232.5\" font-family=\"Helvetica,sans-Serif\" font-size=\"20.00\" fill=\"#000000\">fa04a</text>\n",
       "</g>\n",
       "<!-- dbf22 -->\n",
       "<g id=\"node2\" class=\"node\">\n",
       "<title>dbf22</title>\n",
       "<path fill=\"none\" stroke=\"#000000\" stroke-width=\"4\" d=\"M41,-146.5C41,-146.5 71,-146.5 71,-146.5 77,-146.5 83,-152.5 83,-158.5 83,-158.5 83,-170.5 83,-170.5 83,-176.5 77,-182.5 71,-182.5 71,-182.5 41,-182.5 41,-182.5 35,-182.5 29,-176.5 29,-170.5 29,-170.5 29,-158.5 29,-158.5 29,-152.5 35,-146.5 41,-146.5\"/>\n",
       "<text text-anchor=\"middle\" x=\"56\" y=\"-159.5\" font-family=\"Helvetica,sans-Serif\" font-size=\"20.00\" fill=\"#000000\">+</text>\n",
       "</g>\n",
       "<!-- fa04a&#45;&gt;dbf22 -->\n",
       "<g id=\"edge1\" class=\"edge\">\n",
       "<title>fa04a&#45;&gt;dbf22</title>\n",
       "<path fill=\"none\" stroke=\"#000000\" stroke-width=\"4\" d=\"M56,-219.4551C56,-211.3828 56,-201.6764 56,-192.6817\"/>\n",
       "<polygon fill=\"#000000\" stroke=\"#000000\" stroke-width=\"4\" points=\"59.5001,-192.5903 56,-182.5904 52.5001,-192.5904 59.5001,-192.5903\"/>\n",
       "</g>\n",
       "<!-- 4b268 -->\n",
       "<g id=\"node3\" class=\"node\">\n",
       "<title>4b268</title>\n",
       "<path fill=\"none\" stroke=\"#000000\" stroke-width=\"4\" d=\"M120,-73.5C120,-73.5 150,-73.5 150,-73.5 156,-73.5 162,-79.5 162,-85.5 162,-85.5 162,-97.5 162,-97.5 162,-103.5 156,-109.5 150,-109.5 150,-109.5 120,-109.5 120,-109.5 114,-109.5 108,-103.5 108,-97.5 108,-97.5 108,-85.5 108,-85.5 108,-79.5 114,-73.5 120,-73.5\"/>\n",
       "<text text-anchor=\"middle\" x=\"135\" y=\"-86.5\" font-family=\"Helvetica,sans-Serif\" font-size=\"20.00\" fill=\"#000000\">+</text>\n",
       "</g>\n",
       "<!-- dbf22&#45;&gt;4b268 -->\n",
       "<g id=\"edge2\" class=\"edge\">\n",
       "<title>dbf22&#45;&gt;4b268</title>\n",
       "<path fill=\"none\" stroke=\"#000000\" stroke-width=\"4\" d=\"M75.5281,-146.4551C85.3083,-137.4177 97.3052,-126.3319 107.9561,-116.4899\"/>\n",
       "<polygon fill=\"#000000\" stroke=\"#000000\" stroke-width=\"4\" points=\"110.4536,-118.9476 115.4228,-109.5904 105.7029,-113.8065 110.4536,-118.9476\"/>\n",
       "</g>\n",
       "<!-- a -->\n",
       "<g id=\"node6\" class=\"node\">\n",
       "<title>a</title>\n",
       "<path fill=\"none\" stroke=\"#000000\" stroke-width=\"4\" d=\"M12,-.5C12,-.5 42,-.5 42,-.5 48,-.5 54,-6.5 54,-12.5 54,-12.5 54,-24.5 54,-24.5 54,-30.5 48,-36.5 42,-36.5 42,-36.5 12,-36.5 12,-36.5 6,-36.5 0,-30.5 0,-24.5 0,-24.5 0,-12.5 0,-12.5 0,-6.5 6,-.5 12,-.5\"/>\n",
       "<text text-anchor=\"middle\" x=\"27\" y=\"-13.5\" font-family=\"Helvetica,sans-Serif\" font-size=\"20.00\" fill=\"#000000\">a</text>\n",
       "</g>\n",
       "<!-- dbf22&#45;&gt;a -->\n",
       "<g id=\"edge3\" class=\"edge\">\n",
       "<title>dbf22&#45;&gt;a</title>\n",
       "<path fill=\"none\" stroke=\"#000000\" stroke-width=\"4\" d=\"M43.3866,-146.2582C37.1217,-136.0847 30.2172,-122.895 27,-110 21.8246,-89.2563 22.0909,-65.0341 23.5076,-46.7242\"/>\n",
       "<polygon fill=\"#000000\" stroke=\"#000000\" stroke-width=\"4\" points=\"26.9989,-46.9795 24.4422,-36.6978 20.0291,-46.3297 26.9989,-46.9795\"/>\n",
       "</g>\n",
       "<!-- b -->\n",
       "<g id=\"node4\" class=\"node\">\n",
       "<title>b</title>\n",
       "<path fill=\"none\" stroke=\"#000000\" stroke-width=\"4\" d=\"M93,-.5C93,-.5 123,-.5 123,-.5 129,-.5 135,-6.5 135,-12.5 135,-12.5 135,-24.5 135,-24.5 135,-30.5 129,-36.5 123,-36.5 123,-36.5 93,-36.5 93,-36.5 87,-36.5 81,-30.5 81,-24.5 81,-24.5 81,-12.5 81,-12.5 81,-6.5 87,-.5 93,-.5\"/>\n",
       "<text text-anchor=\"middle\" x=\"108\" y=\"-13.5\" font-family=\"Helvetica,sans-Serif\" font-size=\"20.00\" fill=\"#000000\">b</text>\n",
       "</g>\n",
       "<!-- 4b268&#45;&gt;b -->\n",
       "<g id=\"edge4\" class=\"edge\">\n",
       "<title>4b268&#45;&gt;b</title>\n",
       "<path fill=\"none\" stroke=\"#000000\" stroke-width=\"4\" d=\"M128.3258,-73.4551C125.2753,-65.2074 121.5938,-55.2536 118.2068,-46.0962\"/>\n",
       "<polygon fill=\"#000000\" stroke=\"#000000\" stroke-width=\"4\" points=\"121.4426,-44.7552 114.691,-36.5904 114.8773,-47.1836 121.4426,-44.7552\"/>\n",
       "</g>\n",
       "<!-- c -->\n",
       "<g id=\"node5\" class=\"node\">\n",
       "<title>c</title>\n",
       "<path fill=\"none\" stroke=\"#000000\" stroke-width=\"4\" d=\"M170,-.5C170,-.5 200,-.5 200,-.5 206,-.5 212,-6.5 212,-12.5 212,-12.5 212,-24.5 212,-24.5 212,-30.5 206,-36.5 200,-36.5 200,-36.5 170,-36.5 170,-36.5 164,-36.5 158,-30.5 158,-24.5 158,-24.5 158,-12.5 158,-12.5 158,-6.5 164,-.5 170,-.5\"/>\n",
       "<text text-anchor=\"middle\" x=\"185\" y=\"-13.5\" font-family=\"Helvetica,sans-Serif\" font-size=\"20.00\" fill=\"#000000\">c</text>\n",
       "</g>\n",
       "<!-- 4b268&#45;&gt;c -->\n",
       "<g id=\"edge5\" class=\"edge\">\n",
       "<title>4b268&#45;&gt;c</title>\n",
       "<path fill=\"none\" stroke=\"#000000\" stroke-width=\"4\" d=\"M147.3596,-73.4551C153.2491,-64.8564 160.4087,-54.4034 166.8961,-44.9316\"/>\n",
       "<polygon fill=\"#000000\" stroke=\"#000000\" stroke-width=\"4\" points=\"169.846,-46.8185 172.6093,-36.5904 164.0708,-42.8628 169.846,-46.8185\"/>\n",
       "</g>\n",
       "<!-- bf499 -->\n",
       "<g id=\"node7\" class=\"node\">\n",
       "<title>bf499</title>\n",
       "<path fill=\"none\" stroke=\"#000000\" stroke-width=\"4\" d=\"M119.5,-219.5C119.5,-219.5 162.5,-219.5 162.5,-219.5 168.5,-219.5 174.5,-225.5 174.5,-231.5 174.5,-231.5 174.5,-243.5 174.5,-243.5 174.5,-249.5 168.5,-255.5 162.5,-255.5 162.5,-255.5 119.5,-255.5 119.5,-255.5 113.5,-255.5 107.5,-249.5 107.5,-243.5 107.5,-243.5 107.5,-231.5 107.5,-231.5 107.5,-225.5 113.5,-219.5 119.5,-219.5\"/>\n",
       "<text text-anchor=\"middle\" x=\"141\" y=\"-232.5\" font-family=\"Helvetica,sans-Serif\" font-size=\"20.00\" fill=\"#000000\">bf499</text>\n",
       "</g>\n",
       "<!-- 417b5 -->\n",
       "<g id=\"node8\" class=\"node\">\n",
       "<title>417b5</title>\n",
       "<path fill=\"none\" stroke=\"#000000\" stroke-width=\"4\" d=\"M126,-146.5C126,-146.5 156,-146.5 156,-146.5 162,-146.5 168,-152.5 168,-158.5 168,-158.5 168,-170.5 168,-170.5 168,-176.5 162,-182.5 156,-182.5 156,-182.5 126,-182.5 126,-182.5 120,-182.5 114,-176.5 114,-170.5 114,-170.5 114,-158.5 114,-158.5 114,-152.5 120,-146.5 126,-146.5\"/>\n",
       "<text text-anchor=\"middle\" x=\"141\" y=\"-159.5\" font-family=\"Helvetica,sans-Serif\" font-size=\"20.00\" fill=\"#000000\">+</text>\n",
       "</g>\n",
       "<!-- bf499&#45;&gt;417b5 -->\n",
       "<g id=\"edge6\" class=\"edge\">\n",
       "<title>bf499&#45;&gt;417b5</title>\n",
       "<path fill=\"none\" stroke=\"#000000\" stroke-width=\"4\" d=\"M141,-219.4551C141,-211.3828 141,-201.6764 141,-192.6817\"/>\n",
       "<polygon fill=\"#000000\" stroke=\"#000000\" stroke-width=\"4\" points=\"144.5001,-192.5903 141,-182.5904 137.5001,-192.5904 144.5001,-192.5903\"/>\n",
       "</g>\n",
       "<!-- 417b5&#45;&gt;c -->\n",
       "<g id=\"edge8\" class=\"edge\">\n",
       "<title>417b5&#45;&gt;c</title>\n",
       "<path fill=\"none\" stroke=\"#000000\" stroke-width=\"4\" d=\"M153.2666,-146.0874C159.5185,-135.8639 166.6917,-122.6808 171,-110 177.9576,-89.5213 181.469,-65.2855 183.2348,-46.903\"/>\n",
       "<polygon fill=\"#000000\" stroke=\"#000000\" stroke-width=\"4\" points=\"186.7316,-47.0878 184.0856,-36.8287 179.7564,-46.4987 186.7316,-47.0878\"/>\n",
       "</g>\n",
       "<!-- 1ff39 -->\n",
       "<g id=\"node9\" class=\"node\">\n",
       "<title>1ff39</title>\n",
       "<path fill=\"none\" stroke=\"#000000\" stroke-width=\"4\" d=\"M48,-73.5C48,-73.5 78,-73.5 78,-73.5 84,-73.5 90,-79.5 90,-85.5 90,-85.5 90,-97.5 90,-97.5 90,-103.5 84,-109.5 78,-109.5 78,-109.5 48,-109.5 48,-109.5 42,-109.5 36,-103.5 36,-97.5 36,-97.5 36,-85.5 36,-85.5 36,-79.5 42,-73.5 48,-73.5\"/>\n",
       "<text text-anchor=\"middle\" x=\"63\" y=\"-86.5\" font-family=\"Helvetica,sans-Serif\" font-size=\"20.00\" fill=\"#000000\">+</text>\n",
       "</g>\n",
       "<!-- 417b5&#45;&gt;1ff39 -->\n",
       "<g id=\"edge7\" class=\"edge\">\n",
       "<title>417b5&#45;&gt;1ff39</title>\n",
       "<path fill=\"none\" stroke=\"#000000\" stroke-width=\"4\" d=\"M121.7191,-146.4551C112.0627,-137.4177 100.2176,-126.3319 89.7016,-116.4899\"/>\n",
       "<polygon fill=\"#000000\" stroke=\"#000000\" stroke-width=\"4\" points=\"92.0223,-113.8681 82.3294,-109.5904 87.239,-118.979 92.0223,-113.8681\"/>\n",
       "</g>\n",
       "<!-- 1ff39&#45;&gt;b -->\n",
       "<g id=\"edge10\" class=\"edge\">\n",
       "<title>1ff39&#45;&gt;b</title>\n",
       "<path fill=\"none\" stroke=\"#000000\" stroke-width=\"4\" d=\"M74.1236,-73.4551C79.3701,-64.9441 85.7364,-54.6165 91.5276,-45.2219\"/>\n",
       "<polygon fill=\"#000000\" stroke=\"#000000\" stroke-width=\"4\" points=\"94.5803,-46.9396 96.8484,-36.5904 88.6215,-43.2663 94.5803,-46.9396\"/>\n",
       "</g>\n",
       "<!-- 1ff39&#45;&gt;a -->\n",
       "<g id=\"edge9\" class=\"edge\">\n",
       "<title>1ff39&#45;&gt;a</title>\n",
       "<path fill=\"none\" stroke=\"#000000\" stroke-width=\"4\" d=\"M54.1011,-73.4551C49.9905,-65.1196 45.0205,-55.0416 40.4651,-45.8042\"/>\n",
       "<polygon fill=\"#000000\" stroke=\"#000000\" stroke-width=\"4\" points=\"43.4833,-44.011 35.9213,-36.5904 37.2052,-47.1071 43.4833,-44.011\"/>\n",
       "</g>\n",
       "<!-- a43bf -->\n",
       "<g id=\"node10\" class=\"node\">\n",
       "<title>a43bf</title>\n",
       "<path fill=\"none\" stroke=\"#000000\" stroke-width=\"4\" d=\"M83,-292.5C83,-292.5 113,-292.5 113,-292.5 119,-292.5 125,-298.5 125,-304.5 125,-304.5 125,-316.5 125,-316.5 125,-322.5 119,-328.5 113,-328.5 113,-328.5 83,-328.5 83,-328.5 77,-328.5 71,-322.5 71,-316.5 71,-316.5 71,-304.5 71,-304.5 71,-298.5 77,-292.5 83,-292.5\"/>\n",
       "<text text-anchor=\"middle\" x=\"98\" y=\"-305.5\" font-family=\"Helvetica,sans-Serif\" font-size=\"20.00\" fill=\"#000000\">+</text>\n",
       "</g>\n",
       "<!-- a43bf&#45;&gt;fa04a -->\n",
       "<g id=\"edge11\" class=\"edge\">\n",
       "<title>a43bf&#45;&gt;fa04a</title>\n",
       "<path fill=\"none\" stroke=\"#000000\" stroke-width=\"4\" d=\"M87.618,-292.4551C82.7718,-284.0319 76.9018,-273.8292 71.5416,-264.5128\"/>\n",
       "<polygon fill=\"#000000\" stroke=\"#000000\" stroke-width=\"4\" points=\"74.4289,-262.5127 66.4082,-255.5904 68.3614,-266.0036 74.4289,-262.5127\"/>\n",
       "</g>\n",
       "<!-- a43bf&#45;&gt;bf499 -->\n",
       "<g id=\"edge12\" class=\"edge\">\n",
       "<title>a43bf&#45;&gt;bf499</title>\n",
       "<path fill=\"none\" stroke=\"#000000\" stroke-width=\"4\" d=\"M108.6292,-292.4551C113.6425,-283.9441 119.7259,-273.6165 125.2597,-264.2219\"/>\n",
       "<polygon fill=\"#000000\" stroke=\"#000000\" stroke-width=\"4\" points=\"128.2843,-265.9831 130.344,-255.5904 122.2529,-262.4303 128.2843,-265.9831\"/>\n",
       "</g>\n",
       "</g>\n",
       "</svg>\n"
      ]
     },
     "execution_count": 14,
     "metadata": {},
     "output_type": "execute_result"
    }
   ],
   "source": [
    "fun2 + fun1"
   ]
  },
  {
   "cell_type": "code",
   "execution_count": 15,
   "metadata": {},
   "outputs": [],
   "source": [
    "val a = fun2 + 5"
   ]
  },
  {
   "cell_type": "code",
   "execution_count": 16,
   "metadata": {},
   "outputs": [],
   "source": [
    "val b = fun1 * 3 + 5"
   ]
  },
  {
   "cell_type": "code",
   "execution_count": 17,
   "metadata": {},
   "outputs": [
    {
     "data": {
      "text/html": [
       "<svg width=\"213px\" height=\"337px\"\n",
       " viewBox=\"0.00 0.00 213.00 337.00\" xmlns=\"http://www.w3.org/2000/svg\" xmlns:xlink=\"http://www.w3.org/1999/xlink\">\n",
       "<g id=\"graph0\" class=\"graph\" transform=\"scale(1.0 1.0) rotate(0) translate(4 333)\">\n",
       "<title>%3</title>\n",
       "<polygon fill=\"#ffffff\" stroke=\"transparent\" points=\"-4,4 -4,-333 209,-333 209,4 -4,4\"/>\n",
       "<!-- fa04a -->\n",
       "<g id=\"node1\" class=\"node\">\n",
       "<title>fa04a</title>\n",
       "<path fill=\"none\" stroke=\"#000000\" stroke-width=\"4\" d=\"M77.5,-219.5C77.5,-219.5 120.5,-219.5 120.5,-219.5 126.5,-219.5 132.5,-225.5 132.5,-231.5 132.5,-231.5 132.5,-243.5 132.5,-243.5 132.5,-249.5 126.5,-255.5 120.5,-255.5 120.5,-255.5 77.5,-255.5 77.5,-255.5 71.5,-255.5 65.5,-249.5 65.5,-243.5 65.5,-243.5 65.5,-231.5 65.5,-231.5 65.5,-225.5 71.5,-219.5 77.5,-219.5\"/>\n",
       "<text text-anchor=\"middle\" x=\"99\" y=\"-232.5\" font-family=\"Helvetica,sans-Serif\" font-size=\"20.00\" fill=\"#000000\">fa04a</text>\n",
       "</g>\n",
       "<!-- dbf22 -->\n",
       "<g id=\"node2\" class=\"node\">\n",
       "<title>dbf22</title>\n",
       "<path fill=\"none\" stroke=\"#000000\" stroke-width=\"4\" d=\"M84,-146.5C84,-146.5 114,-146.5 114,-146.5 120,-146.5 126,-152.5 126,-158.5 126,-158.5 126,-170.5 126,-170.5 126,-176.5 120,-182.5 114,-182.5 114,-182.5 84,-182.5 84,-182.5 78,-182.5 72,-176.5 72,-170.5 72,-170.5 72,-158.5 72,-158.5 72,-152.5 78,-146.5 84,-146.5\"/>\n",
       "<text text-anchor=\"middle\" x=\"99\" y=\"-159.5\" font-family=\"Helvetica,sans-Serif\" font-size=\"20.00\" fill=\"#000000\">+</text>\n",
       "</g>\n",
       "<!-- fa04a&#45;&gt;dbf22 -->\n",
       "<g id=\"edge1\" class=\"edge\">\n",
       "<title>fa04a&#45;&gt;dbf22</title>\n",
       "<path fill=\"none\" stroke=\"#000000\" stroke-width=\"4\" d=\"M99,-219.4551C99,-211.3828 99,-201.6764 99,-192.6817\"/>\n",
       "<polygon fill=\"#000000\" stroke=\"#000000\" stroke-width=\"4\" points=\"102.5001,-192.5903 99,-182.5904 95.5001,-192.5904 102.5001,-192.5903\"/>\n",
       "</g>\n",
       "<!-- 4b268 -->\n",
       "<g id=\"node3\" class=\"node\">\n",
       "<title>4b268</title>\n",
       "<path fill=\"none\" stroke=\"#000000\" stroke-width=\"4\" d=\"M48,-73.5C48,-73.5 78,-73.5 78,-73.5 84,-73.5 90,-79.5 90,-85.5 90,-85.5 90,-97.5 90,-97.5 90,-103.5 84,-109.5 78,-109.5 78,-109.5 48,-109.5 48,-109.5 42,-109.5 36,-103.5 36,-97.5 36,-97.5 36,-85.5 36,-85.5 36,-79.5 42,-73.5 48,-73.5\"/>\n",
       "<text text-anchor=\"middle\" x=\"63\" y=\"-86.5\" font-family=\"Helvetica,sans-Serif\" font-size=\"20.00\" fill=\"#000000\">+</text>\n",
       "</g>\n",
       "<!-- dbf22&#45;&gt;4b268 -->\n",
       "<g id=\"edge2\" class=\"edge\">\n",
       "<title>dbf22&#45;&gt;4b268</title>\n",
       "<path fill=\"none\" stroke=\"#000000\" stroke-width=\"4\" d=\"M90.1011,-146.4551C85.9905,-138.1196 81.0205,-128.0416 76.4651,-118.8042\"/>\n",
       "<polygon fill=\"#000000\" stroke=\"#000000\" stroke-width=\"4\" points=\"79.4833,-117.011 71.9213,-109.5904 73.2052,-120.1071 79.4833,-117.011\"/>\n",
       "</g>\n",
       "<!-- a -->\n",
       "<g id=\"node6\" class=\"node\">\n",
       "<title>a</title>\n",
       "<path fill=\"none\" stroke=\"#000000\" stroke-width=\"4\" d=\"M120,-73.5C120,-73.5 150,-73.5 150,-73.5 156,-73.5 162,-79.5 162,-85.5 162,-85.5 162,-97.5 162,-97.5 162,-103.5 156,-109.5 150,-109.5 150,-109.5 120,-109.5 120,-109.5 114,-109.5 108,-103.5 108,-97.5 108,-97.5 108,-85.5 108,-85.5 108,-79.5 114,-73.5 120,-73.5\"/>\n",
       "<text text-anchor=\"middle\" x=\"135\" y=\"-86.5\" font-family=\"Helvetica,sans-Serif\" font-size=\"20.00\" fill=\"#000000\">a</text>\n",
       "</g>\n",
       "<!-- dbf22&#45;&gt;a -->\n",
       "<g id=\"edge3\" class=\"edge\">\n",
       "<title>dbf22&#45;&gt;a</title>\n",
       "<path fill=\"none\" stroke=\"#000000\" stroke-width=\"4\" d=\"M107.8989,-146.4551C112.0095,-138.1196 116.9795,-128.0416 121.5349,-118.8042\"/>\n",
       "<polygon fill=\"#000000\" stroke=\"#000000\" stroke-width=\"4\" points=\"124.7948,-120.1071 126.0787,-109.5904 118.5167,-117.011 124.7948,-120.1071\"/>\n",
       "</g>\n",
       "<!-- b -->\n",
       "<g id=\"node4\" class=\"node\">\n",
       "<title>b</title>\n",
       "<path fill=\"none\" stroke=\"#000000\" stroke-width=\"4\" d=\"M12,-.5C12,-.5 42,-.5 42,-.5 48,-.5 54,-6.5 54,-12.5 54,-12.5 54,-24.5 54,-24.5 54,-30.5 48,-36.5 42,-36.5 42,-36.5 12,-36.5 12,-36.5 6,-36.5 0,-30.5 0,-24.5 0,-24.5 0,-12.5 0,-12.5 0,-6.5 6,-.5 12,-.5\"/>\n",
       "<text text-anchor=\"middle\" x=\"27\" y=\"-13.5\" font-family=\"Helvetica,sans-Serif\" font-size=\"20.00\" fill=\"#000000\">b</text>\n",
       "</g>\n",
       "<!-- 4b268&#45;&gt;b -->\n",
       "<g id=\"edge4\" class=\"edge\">\n",
       "<title>4b268&#45;&gt;b</title>\n",
       "<path fill=\"none\" stroke=\"#000000\" stroke-width=\"4\" d=\"M54.1011,-73.4551C49.9905,-65.1196 45.0205,-55.0416 40.4651,-45.8042\"/>\n",
       "<polygon fill=\"#000000\" stroke=\"#000000\" stroke-width=\"4\" points=\"43.4833,-44.011 35.9213,-36.5904 37.2052,-47.1071 43.4833,-44.011\"/>\n",
       "</g>\n",
       "<!-- c -->\n",
       "<g id=\"node5\" class=\"node\">\n",
       "<title>c</title>\n",
       "<path fill=\"none\" stroke=\"#000000\" stroke-width=\"4\" d=\"M84,-.5C84,-.5 114,-.5 114,-.5 120,-.5 126,-6.5 126,-12.5 126,-12.5 126,-24.5 126,-24.5 126,-30.5 120,-36.5 114,-36.5 114,-36.5 84,-36.5 84,-36.5 78,-36.5 72,-30.5 72,-24.5 72,-24.5 72,-12.5 72,-12.5 72,-6.5 78,-.5 84,-.5\"/>\n",
       "<text text-anchor=\"middle\" x=\"99\" y=\"-13.5\" font-family=\"Helvetica,sans-Serif\" font-size=\"20.00\" fill=\"#000000\">c</text>\n",
       "</g>\n",
       "<!-- 4b268&#45;&gt;c -->\n",
       "<g id=\"edge5\" class=\"edge\">\n",
       "<title>4b268&#45;&gt;c</title>\n",
       "<path fill=\"none\" stroke=\"#000000\" stroke-width=\"4\" d=\"M71.8989,-73.4551C76.0095,-65.1196 80.9795,-55.0416 85.5349,-45.8042\"/>\n",
       "<polygon fill=\"#000000\" stroke=\"#000000\" stroke-width=\"4\" points=\"88.7948,-47.1071 90.0787,-36.5904 82.5167,-44.011 88.7948,-47.1071\"/>\n",
       "</g>\n",
       "<!-- cd27b -->\n",
       "<g id=\"node7\" class=\"node\">\n",
       "<title>cd27b</title>\n",
       "<path fill=\"none\" stroke=\"#000000\" stroke-width=\"4\" d=\"M123,-292.5C123,-292.5 153,-292.5 153,-292.5 159,-292.5 165,-298.5 165,-304.5 165,-304.5 165,-316.5 165,-316.5 165,-322.5 159,-328.5 153,-328.5 153,-328.5 123,-328.5 123,-328.5 117,-328.5 111,-322.5 111,-316.5 111,-316.5 111,-304.5 111,-304.5 111,-298.5 117,-292.5 123,-292.5\"/>\n",
       "<text text-anchor=\"middle\" x=\"138\" y=\"-305.5\" font-family=\"Helvetica,sans-Serif\" font-size=\"20.00\" fill=\"#000000\">+</text>\n",
       "</g>\n",
       "<!-- cd27b&#45;&gt;fa04a -->\n",
       "<g id=\"edge6\" class=\"edge\">\n",
       "<title>cd27b&#45;&gt;fa04a</title>\n",
       "<path fill=\"none\" stroke=\"#000000\" stroke-width=\"4\" d=\"M128.3595,-292.4551C123.8595,-284.0319 118.4088,-273.8292 113.4315,-264.5128\"/>\n",
       "<polygon fill=\"#000000\" stroke=\"#000000\" stroke-width=\"4\" points=\"116.464,-262.7613 108.6647,-255.5904 110.2898,-266.0598 116.464,-262.7613\"/>\n",
       "</g>\n",
       "<!-- fa45e -->\n",
       "<g id=\"node8\" class=\"node\">\n",
       "<title>fa45e</title>\n",
       "<path fill=\"none\" stroke=\"#000000\" stroke-width=\"4\" d=\"M163,-219.5C163,-219.5 193,-219.5 193,-219.5 199,-219.5 205,-225.5 205,-231.5 205,-231.5 205,-243.5 205,-243.5 205,-249.5 199,-255.5 193,-255.5 193,-255.5 163,-255.5 163,-255.5 157,-255.5 151,-249.5 151,-243.5 151,-243.5 151,-231.5 151,-231.5 151,-225.5 157,-219.5 163,-219.5\"/>\n",
       "<text text-anchor=\"middle\" x=\"178\" y=\"-232.5\" font-family=\"Helvetica,sans-Serif\" font-size=\"20.00\" fill=\"#000000\">5</text>\n",
       "</g>\n",
       "<!-- cd27b&#45;&gt;fa45e -->\n",
       "<g id=\"edge7\" class=\"edge\">\n",
       "<title>cd27b&#45;&gt;fa45e</title>\n",
       "<path fill=\"none\" stroke=\"#000000\" stroke-width=\"4\" d=\"M147.8876,-292.4551C152.5031,-284.0319 158.0936,-273.8292 163.1985,-264.5128\"/>\n",
       "<polygon fill=\"#000000\" stroke=\"#000000\" stroke-width=\"4\" points=\"166.3515,-266.042 168.0875,-255.5904 160.2127,-262.6782 166.3515,-266.042\"/>\n",
       "</g>\n",
       "</g>\n",
       "</svg>\n"
      ]
     },
     "execution_count": 17,
     "metadata": {},
     "output_type": "execute_result"
    }
   ],
   "source": [
    "a"
   ]
  },
  {
   "cell_type": "code",
   "execution_count": 18,
   "metadata": {},
   "outputs": [
    {
     "data": {
      "text/html": [
       "<svg width=\"245px\" height=\"410px\"\n",
       " viewBox=\"0.00 0.00 245.00 410.00\" xmlns=\"http://www.w3.org/2000/svg\" xmlns:xlink=\"http://www.w3.org/1999/xlink\">\n",
       "<g id=\"graph0\" class=\"graph\" transform=\"scale(1.0 1.0) rotate(0) translate(4 406)\">\n",
       "<title>%3</title>\n",
       "<polygon fill=\"#ffffff\" stroke=\"transparent\" points=\"-4,4 -4,-406 241,-406 241,4 -4,4\"/>\n",
       "<!-- 5c54c -->\n",
       "<g id=\"node1\" class=\"node\">\n",
       "<title>5c54c</title>\n",
       "<path fill=\"none\" stroke=\"#000000\" stroke-width=\"4\" d=\"M123,-292.5C123,-292.5 153,-292.5 153,-292.5 159,-292.5 165,-298.5 165,-304.5 165,-304.5 165,-316.5 165,-316.5 165,-322.5 159,-328.5 153,-328.5 153,-328.5 123,-328.5 123,-328.5 117,-328.5 111,-322.5 111,-316.5 111,-316.5 111,-304.5 111,-304.5 111,-298.5 117,-292.5 123,-292.5\"/>\n",
       "<text text-anchor=\"middle\" x=\"138\" y=\"-305.5\" font-family=\"Helvetica,sans-Serif\" font-size=\"20.00\" fill=\"#000000\">*</text>\n",
       "</g>\n",
       "<!-- bf499 -->\n",
       "<g id=\"node2\" class=\"node\">\n",
       "<title>bf499</title>\n",
       "<path fill=\"none\" stroke=\"#000000\" stroke-width=\"4\" d=\"M77.5,-219.5C77.5,-219.5 120.5,-219.5 120.5,-219.5 126.5,-219.5 132.5,-225.5 132.5,-231.5 132.5,-231.5 132.5,-243.5 132.5,-243.5 132.5,-249.5 126.5,-255.5 120.5,-255.5 120.5,-255.5 77.5,-255.5 77.5,-255.5 71.5,-255.5 65.5,-249.5 65.5,-243.5 65.5,-243.5 65.5,-231.5 65.5,-231.5 65.5,-225.5 71.5,-219.5 77.5,-219.5\"/>\n",
       "<text text-anchor=\"middle\" x=\"99\" y=\"-232.5\" font-family=\"Helvetica,sans-Serif\" font-size=\"20.00\" fill=\"#000000\">bf499</text>\n",
       "</g>\n",
       "<!-- 5c54c&#45;&gt;bf499 -->\n",
       "<g id=\"edge1\" class=\"edge\">\n",
       "<title>5c54c&#45;&gt;bf499</title>\n",
       "<path fill=\"none\" stroke=\"#000000\" stroke-width=\"4\" d=\"M128.3595,-292.4551C123.8595,-284.0319 118.4088,-273.8292 113.4315,-264.5128\"/>\n",
       "<polygon fill=\"#000000\" stroke=\"#000000\" stroke-width=\"4\" points=\"116.464,-262.7613 108.6647,-255.5904 110.2898,-266.0598 116.464,-262.7613\"/>\n",
       "</g>\n",
       "<!-- 17b4a -->\n",
       "<g id=\"node8\" class=\"node\">\n",
       "<title>17b4a</title>\n",
       "<path fill=\"none\" stroke=\"#000000\" stroke-width=\"4\" d=\"M163,-219.5C163,-219.5 193,-219.5 193,-219.5 199,-219.5 205,-225.5 205,-231.5 205,-231.5 205,-243.5 205,-243.5 205,-249.5 199,-255.5 193,-255.5 193,-255.5 163,-255.5 163,-255.5 157,-255.5 151,-249.5 151,-243.5 151,-243.5 151,-231.5 151,-231.5 151,-225.5 157,-219.5 163,-219.5\"/>\n",
       "<text text-anchor=\"middle\" x=\"178\" y=\"-232.5\" font-family=\"Helvetica,sans-Serif\" font-size=\"20.00\" fill=\"#000000\">3</text>\n",
       "</g>\n",
       "<!-- 5c54c&#45;&gt;17b4a -->\n",
       "<g id=\"edge2\" class=\"edge\">\n",
       "<title>5c54c&#45;&gt;17b4a</title>\n",
       "<path fill=\"none\" stroke=\"#000000\" stroke-width=\"4\" d=\"M147.8876,-292.4551C152.5031,-284.0319 158.0936,-273.8292 163.1985,-264.5128\"/>\n",
       "<polygon fill=\"#000000\" stroke=\"#000000\" stroke-width=\"4\" points=\"166.3515,-266.042 168.0875,-255.5904 160.2127,-262.6782 166.3515,-266.042\"/>\n",
       "</g>\n",
       "<!-- 417b5 -->\n",
       "<g id=\"node3\" class=\"node\">\n",
       "<title>417b5</title>\n",
       "<path fill=\"none\" stroke=\"#000000\" stroke-width=\"4\" d=\"M84,-146.5C84,-146.5 114,-146.5 114,-146.5 120,-146.5 126,-152.5 126,-158.5 126,-158.5 126,-170.5 126,-170.5 126,-176.5 120,-182.5 114,-182.5 114,-182.5 84,-182.5 84,-182.5 78,-182.5 72,-176.5 72,-170.5 72,-170.5 72,-158.5 72,-158.5 72,-152.5 78,-146.5 84,-146.5\"/>\n",
       "<text text-anchor=\"middle\" x=\"99\" y=\"-159.5\" font-family=\"Helvetica,sans-Serif\" font-size=\"20.00\" fill=\"#000000\">+</text>\n",
       "</g>\n",
       "<!-- bf499&#45;&gt;417b5 -->\n",
       "<g id=\"edge3\" class=\"edge\">\n",
       "<title>bf499&#45;&gt;417b5</title>\n",
       "<path fill=\"none\" stroke=\"#000000\" stroke-width=\"4\" d=\"M99,-219.4551C99,-211.3828 99,-201.6764 99,-192.6817\"/>\n",
       "<polygon fill=\"#000000\" stroke=\"#000000\" stroke-width=\"4\" points=\"102.5001,-192.5903 99,-182.5904 95.5001,-192.5904 102.5001,-192.5903\"/>\n",
       "</g>\n",
       "<!-- 1ff39 -->\n",
       "<g id=\"node4\" class=\"node\">\n",
       "<title>1ff39</title>\n",
       "<path fill=\"none\" stroke=\"#000000\" stroke-width=\"4\" d=\"M48,-73.5C48,-73.5 78,-73.5 78,-73.5 84,-73.5 90,-79.5 90,-85.5 90,-85.5 90,-97.5 90,-97.5 90,-103.5 84,-109.5 78,-109.5 78,-109.5 48,-109.5 48,-109.5 42,-109.5 36,-103.5 36,-97.5 36,-97.5 36,-85.5 36,-85.5 36,-79.5 42,-73.5 48,-73.5\"/>\n",
       "<text text-anchor=\"middle\" x=\"63\" y=\"-86.5\" font-family=\"Helvetica,sans-Serif\" font-size=\"20.00\" fill=\"#000000\">+</text>\n",
       "</g>\n",
       "<!-- 417b5&#45;&gt;1ff39 -->\n",
       "<g id=\"edge4\" class=\"edge\">\n",
       "<title>417b5&#45;&gt;1ff39</title>\n",
       "<path fill=\"none\" stroke=\"#000000\" stroke-width=\"4\" d=\"M90.1011,-146.4551C85.9905,-138.1196 81.0205,-128.0416 76.4651,-118.8042\"/>\n",
       "<polygon fill=\"#000000\" stroke=\"#000000\" stroke-width=\"4\" points=\"79.4833,-117.011 71.9213,-109.5904 73.2052,-120.1071 79.4833,-117.011\"/>\n",
       "</g>\n",
       "<!-- c -->\n",
       "<g id=\"node7\" class=\"node\">\n",
       "<title>c</title>\n",
       "<path fill=\"none\" stroke=\"#000000\" stroke-width=\"4\" d=\"M120,-73.5C120,-73.5 150,-73.5 150,-73.5 156,-73.5 162,-79.5 162,-85.5 162,-85.5 162,-97.5 162,-97.5 162,-103.5 156,-109.5 150,-109.5 150,-109.5 120,-109.5 120,-109.5 114,-109.5 108,-103.5 108,-97.5 108,-97.5 108,-85.5 108,-85.5 108,-79.5 114,-73.5 120,-73.5\"/>\n",
       "<text text-anchor=\"middle\" x=\"135\" y=\"-86.5\" font-family=\"Helvetica,sans-Serif\" font-size=\"20.00\" fill=\"#000000\">c</text>\n",
       "</g>\n",
       "<!-- 417b5&#45;&gt;c -->\n",
       "<g id=\"edge5\" class=\"edge\">\n",
       "<title>417b5&#45;&gt;c</title>\n",
       "<path fill=\"none\" stroke=\"#000000\" stroke-width=\"4\" d=\"M107.8989,-146.4551C112.0095,-138.1196 116.9795,-128.0416 121.5349,-118.8042\"/>\n",
       "<polygon fill=\"#000000\" stroke=\"#000000\" stroke-width=\"4\" points=\"124.7948,-120.1071 126.0787,-109.5904 118.5167,-117.011 124.7948,-120.1071\"/>\n",
       "</g>\n",
       "<!-- a -->\n",
       "<g id=\"node5\" class=\"node\">\n",
       "<title>a</title>\n",
       "<path fill=\"none\" stroke=\"#000000\" stroke-width=\"4\" d=\"M12,-.5C12,-.5 42,-.5 42,-.5 48,-.5 54,-6.5 54,-12.5 54,-12.5 54,-24.5 54,-24.5 54,-30.5 48,-36.5 42,-36.5 42,-36.5 12,-36.5 12,-36.5 6,-36.5 0,-30.5 0,-24.5 0,-24.5 0,-12.5 0,-12.5 0,-6.5 6,-.5 12,-.5\"/>\n",
       "<text text-anchor=\"middle\" x=\"27\" y=\"-13.5\" font-family=\"Helvetica,sans-Serif\" font-size=\"20.00\" fill=\"#000000\">a</text>\n",
       "</g>\n",
       "<!-- 1ff39&#45;&gt;a -->\n",
       "<g id=\"edge6\" class=\"edge\">\n",
       "<title>1ff39&#45;&gt;a</title>\n",
       "<path fill=\"none\" stroke=\"#000000\" stroke-width=\"4\" d=\"M54.1011,-73.4551C49.9905,-65.1196 45.0205,-55.0416 40.4651,-45.8042\"/>\n",
       "<polygon fill=\"#000000\" stroke=\"#000000\" stroke-width=\"4\" points=\"43.4833,-44.011 35.9213,-36.5904 37.2052,-47.1071 43.4833,-44.011\"/>\n",
       "</g>\n",
       "<!-- b -->\n",
       "<g id=\"node6\" class=\"node\">\n",
       "<title>b</title>\n",
       "<path fill=\"none\" stroke=\"#000000\" stroke-width=\"4\" d=\"M84,-.5C84,-.5 114,-.5 114,-.5 120,-.5 126,-6.5 126,-12.5 126,-12.5 126,-24.5 126,-24.5 126,-30.5 120,-36.5 114,-36.5 114,-36.5 84,-36.5 84,-36.5 78,-36.5 72,-30.5 72,-24.5 72,-24.5 72,-12.5 72,-12.5 72,-6.5 78,-.5 84,-.5\"/>\n",
       "<text text-anchor=\"middle\" x=\"99\" y=\"-13.5\" font-family=\"Helvetica,sans-Serif\" font-size=\"20.00\" fill=\"#000000\">b</text>\n",
       "</g>\n",
       "<!-- 1ff39&#45;&gt;b -->\n",
       "<g id=\"edge7\" class=\"edge\">\n",
       "<title>1ff39&#45;&gt;b</title>\n",
       "<path fill=\"none\" stroke=\"#000000\" stroke-width=\"4\" d=\"M71.8989,-73.4551C76.0095,-65.1196 80.9795,-55.0416 85.5349,-45.8042\"/>\n",
       "<polygon fill=\"#000000\" stroke=\"#000000\" stroke-width=\"4\" points=\"88.7948,-47.1071 90.0787,-36.5904 82.5167,-44.011 88.7948,-47.1071\"/>\n",
       "</g>\n",
       "<!-- fc07a -->\n",
       "<g id=\"node9\" class=\"node\">\n",
       "<title>fc07a</title>\n",
       "<path fill=\"none\" stroke=\"#000000\" stroke-width=\"4\" d=\"M159,-365.5C159,-365.5 189,-365.5 189,-365.5 195,-365.5 201,-371.5 201,-377.5 201,-377.5 201,-389.5 201,-389.5 201,-395.5 195,-401.5 189,-401.5 189,-401.5 159,-401.5 159,-401.5 153,-401.5 147,-395.5 147,-389.5 147,-389.5 147,-377.5 147,-377.5 147,-371.5 153,-365.5 159,-365.5\"/>\n",
       "<text text-anchor=\"middle\" x=\"174\" y=\"-378.5\" font-family=\"Helvetica,sans-Serif\" font-size=\"20.00\" fill=\"#000000\">+</text>\n",
       "</g>\n",
       "<!-- fc07a&#45;&gt;5c54c -->\n",
       "<g id=\"edge8\" class=\"edge\">\n",
       "<title>fc07a&#45;&gt;5c54c</title>\n",
       "<path fill=\"none\" stroke=\"#000000\" stroke-width=\"4\" d=\"M165.1011,-365.4551C160.9905,-357.1196 156.0205,-347.0416 151.4651,-337.8042\"/>\n",
       "<polygon fill=\"#000000\" stroke=\"#000000\" stroke-width=\"4\" points=\"154.4833,-336.011 146.9213,-328.5904 148.2052,-339.1071 154.4833,-336.011\"/>\n",
       "</g>\n",
       "<!-- fbaf7 -->\n",
       "<g id=\"node10\" class=\"node\">\n",
       "<title>fbaf7</title>\n",
       "<path fill=\"none\" stroke=\"#000000\" stroke-width=\"4\" d=\"M195,-292.5C195,-292.5 225,-292.5 225,-292.5 231,-292.5 237,-298.5 237,-304.5 237,-304.5 237,-316.5 237,-316.5 237,-322.5 231,-328.5 225,-328.5 225,-328.5 195,-328.5 195,-328.5 189,-328.5 183,-322.5 183,-316.5 183,-316.5 183,-304.5 183,-304.5 183,-298.5 189,-292.5 195,-292.5\"/>\n",
       "<text text-anchor=\"middle\" x=\"210\" y=\"-305.5\" font-family=\"Helvetica,sans-Serif\" font-size=\"20.00\" fill=\"#000000\">5</text>\n",
       "</g>\n",
       "<!-- fc07a&#45;&gt;fbaf7 -->\n",
       "<g id=\"edge9\" class=\"edge\">\n",
       "<title>fc07a&#45;&gt;fbaf7</title>\n",
       "<path fill=\"none\" stroke=\"#000000\" stroke-width=\"4\" d=\"M182.8989,-365.4551C187.0095,-357.1196 191.9795,-347.0416 196.5349,-337.8042\"/>\n",
       "<polygon fill=\"#000000\" stroke=\"#000000\" stroke-width=\"4\" points=\"199.7948,-339.1071 201.0787,-328.5904 193.5167,-336.011 199.7948,-339.1071\"/>\n",
       "</g>\n",
       "</g>\n",
       "</svg>\n"
      ]
     },
     "execution_count": 18,
     "metadata": {},
     "output_type": "execute_result"
    }
   ],
   "source": [
    "b"
   ]
  },
  {
   "cell_type": "code",
   "execution_count": 19,
   "metadata": {},
   "outputs": [
    {
     "data": {
      "text/plain": [
       "false"
      ]
     },
     "execution_count": 19,
     "metadata": {},
     "output_type": "execute_result"
    }
   ],
   "source": [
    "b.toGraph() == a.toGraph()"
   ]
  },
  {
   "cell_type": "code",
   "execution_count": 21,
   "metadata": {},
   "outputs": [
    {
     "data": {
      "text/plain": [
       "{*=-1999601991, 5=156, +=-2024355429, bf499=402653702, 3=156, +=19527988, +=461438, c=156, a=156, b=156}"
      ]
     },
     "execution_count": 21,
     "metadata": {},
     "output_type": "execute_result"
    }
   ],
   "source": [
    "b.toGraph().wl()"
   ]
  },
  {
   "cell_type": "code",
   "execution_count": 22,
   "metadata": {},
   "outputs": [
    {
     "data": {
      "text/plain": [
       "{fa04a=402653702, 5=156, +=-1999601991, +=19527988, +=461438, a=156, b=156, c=156}"
      ]
     },
     "execution_count": 22,
     "metadata": {},
     "output_type": "execute_result"
    }
   ],
   "source": [
    "a.toGraph().wl()"
   ]
  },
  {
   "cell_type": "code",
   "execution_count": 24,
   "metadata": {},
   "outputs": [
    {
     "data": {
      "text/plain": [
       "{+=19527988, bf499=402653702, +=461438, c=156, a=156, b=156}"
      ]
     },
     "execution_count": 24,
     "metadata": {},
     "output_type": "execute_result"
    }
   ],
   "source": [
    "fun1.toGraph().wl()"
   ]
  },
  {
   "cell_type": "code",
   "execution_count": 25,
   "metadata": {},
   "outputs": [
    {
     "data": {
      "text/plain": [
       "{+=19527988, fa04a=402653702, +=461438, a=156, b=156, c=156}"
      ]
     },
     "execution_count": 25,
     "metadata": {},
     "output_type": "execute_result"
    }
   ],
   "source": [
    "fun2.toGraph().wl()"
   ]
  },
  {
   "cell_type": "code",
   "execution_count": 26,
   "metadata": {},
   "outputs": [
    {
     "data": {
      "text/plain": [
       "{fa04a=402653702, 0=156, +=-1999601991, +=19527988, +=461438, a=156, b=156, c=156}"
      ]
     },
     "execution_count": 26,
     "metadata": {},
     "output_type": "execute_result"
    }
   ],
   "source": [
    "(fun2 + 0).toGraph().wl()"
   ]
  },
  {
   "cell_type": "code",
   "execution_count": 27,
   "metadata": {},
   "outputs": [
    {
     "data": {
      "text/html": [
       "<svg width=\"213px\" height=\"337px\"\n",
       " viewBox=\"0.00 0.00 213.00 337.00\" xmlns=\"http://www.w3.org/2000/svg\" xmlns:xlink=\"http://www.w3.org/1999/xlink\">\n",
       "<g id=\"graph0\" class=\"graph\" transform=\"scale(1.0 1.0) rotate(0) translate(4 333)\">\n",
       "<title>%3</title>\n",
       "<polygon fill=\"#ffffff\" stroke=\"transparent\" points=\"-4,4 -4,-333 209,-333 209,4 -4,4\"/>\n",
       "<!-- fa04a -->\n",
       "<g id=\"node1\" class=\"node\">\n",
       "<title>fa04a</title>\n",
       "<path fill=\"none\" stroke=\"#000000\" stroke-width=\"4\" d=\"M77.5,-219.5C77.5,-219.5 120.5,-219.5 120.5,-219.5 126.5,-219.5 132.5,-225.5 132.5,-231.5 132.5,-231.5 132.5,-243.5 132.5,-243.5 132.5,-249.5 126.5,-255.5 120.5,-255.5 120.5,-255.5 77.5,-255.5 77.5,-255.5 71.5,-255.5 65.5,-249.5 65.5,-243.5 65.5,-243.5 65.5,-231.5 65.5,-231.5 65.5,-225.5 71.5,-219.5 77.5,-219.5\"/>\n",
       "<text text-anchor=\"middle\" x=\"99\" y=\"-232.5\" font-family=\"Helvetica,sans-Serif\" font-size=\"20.00\" fill=\"#000000\">fa04a</text>\n",
       "</g>\n",
       "<!-- dbf22 -->\n",
       "<g id=\"node2\" class=\"node\">\n",
       "<title>dbf22</title>\n",
       "<path fill=\"none\" stroke=\"#000000\" stroke-width=\"4\" d=\"M84,-146.5C84,-146.5 114,-146.5 114,-146.5 120,-146.5 126,-152.5 126,-158.5 126,-158.5 126,-170.5 126,-170.5 126,-176.5 120,-182.5 114,-182.5 114,-182.5 84,-182.5 84,-182.5 78,-182.5 72,-176.5 72,-170.5 72,-170.5 72,-158.5 72,-158.5 72,-152.5 78,-146.5 84,-146.5\"/>\n",
       "<text text-anchor=\"middle\" x=\"99\" y=\"-159.5\" font-family=\"Helvetica,sans-Serif\" font-size=\"20.00\" fill=\"#000000\">+</text>\n",
       "</g>\n",
       "<!-- fa04a&#45;&gt;dbf22 -->\n",
       "<g id=\"edge1\" class=\"edge\">\n",
       "<title>fa04a&#45;&gt;dbf22</title>\n",
       "<path fill=\"none\" stroke=\"#000000\" stroke-width=\"4\" d=\"M99,-219.4551C99,-211.3828 99,-201.6764 99,-192.6817\"/>\n",
       "<polygon fill=\"#000000\" stroke=\"#000000\" stroke-width=\"4\" points=\"102.5001,-192.5903 99,-182.5904 95.5001,-192.5904 102.5001,-192.5903\"/>\n",
       "</g>\n",
       "<!-- 4b268 -->\n",
       "<g id=\"node3\" class=\"node\">\n",
       "<title>4b268</title>\n",
       "<path fill=\"none\" stroke=\"#000000\" stroke-width=\"4\" d=\"M48,-73.5C48,-73.5 78,-73.5 78,-73.5 84,-73.5 90,-79.5 90,-85.5 90,-85.5 90,-97.5 90,-97.5 90,-103.5 84,-109.5 78,-109.5 78,-109.5 48,-109.5 48,-109.5 42,-109.5 36,-103.5 36,-97.5 36,-97.5 36,-85.5 36,-85.5 36,-79.5 42,-73.5 48,-73.5\"/>\n",
       "<text text-anchor=\"middle\" x=\"63\" y=\"-86.5\" font-family=\"Helvetica,sans-Serif\" font-size=\"20.00\" fill=\"#000000\">+</text>\n",
       "</g>\n",
       "<!-- dbf22&#45;&gt;4b268 -->\n",
       "<g id=\"edge2\" class=\"edge\">\n",
       "<title>dbf22&#45;&gt;4b268</title>\n",
       "<path fill=\"none\" stroke=\"#000000\" stroke-width=\"4\" d=\"M90.1011,-146.4551C85.9905,-138.1196 81.0205,-128.0416 76.4651,-118.8042\"/>\n",
       "<polygon fill=\"#000000\" stroke=\"#000000\" stroke-width=\"4\" points=\"79.4833,-117.011 71.9213,-109.5904 73.2052,-120.1071 79.4833,-117.011\"/>\n",
       "</g>\n",
       "<!-- a -->\n",
       "<g id=\"node6\" class=\"node\">\n",
       "<title>a</title>\n",
       "<path fill=\"none\" stroke=\"#000000\" stroke-width=\"4\" d=\"M120,-73.5C120,-73.5 150,-73.5 150,-73.5 156,-73.5 162,-79.5 162,-85.5 162,-85.5 162,-97.5 162,-97.5 162,-103.5 156,-109.5 150,-109.5 150,-109.5 120,-109.5 120,-109.5 114,-109.5 108,-103.5 108,-97.5 108,-97.5 108,-85.5 108,-85.5 108,-79.5 114,-73.5 120,-73.5\"/>\n",
       "<text text-anchor=\"middle\" x=\"135\" y=\"-86.5\" font-family=\"Helvetica,sans-Serif\" font-size=\"20.00\" fill=\"#000000\">a</text>\n",
       "</g>\n",
       "<!-- dbf22&#45;&gt;a -->\n",
       "<g id=\"edge3\" class=\"edge\">\n",
       "<title>dbf22&#45;&gt;a</title>\n",
       "<path fill=\"none\" stroke=\"#000000\" stroke-width=\"4\" d=\"M107.8989,-146.4551C112.0095,-138.1196 116.9795,-128.0416 121.5349,-118.8042\"/>\n",
       "<polygon fill=\"#000000\" stroke=\"#000000\" stroke-width=\"4\" points=\"124.7948,-120.1071 126.0787,-109.5904 118.5167,-117.011 124.7948,-120.1071\"/>\n",
       "</g>\n",
       "<!-- b -->\n",
       "<g id=\"node4\" class=\"node\">\n",
       "<title>b</title>\n",
       "<path fill=\"none\" stroke=\"#000000\" stroke-width=\"4\" d=\"M12,-.5C12,-.5 42,-.5 42,-.5 48,-.5 54,-6.5 54,-12.5 54,-12.5 54,-24.5 54,-24.5 54,-30.5 48,-36.5 42,-36.5 42,-36.5 12,-36.5 12,-36.5 6,-36.5 0,-30.5 0,-24.5 0,-24.5 0,-12.5 0,-12.5 0,-6.5 6,-.5 12,-.5\"/>\n",
       "<text text-anchor=\"middle\" x=\"27\" y=\"-13.5\" font-family=\"Helvetica,sans-Serif\" font-size=\"20.00\" fill=\"#000000\">b</text>\n",
       "</g>\n",
       "<!-- 4b268&#45;&gt;b -->\n",
       "<g id=\"edge4\" class=\"edge\">\n",
       "<title>4b268&#45;&gt;b</title>\n",
       "<path fill=\"none\" stroke=\"#000000\" stroke-width=\"4\" d=\"M54.1011,-73.4551C49.9905,-65.1196 45.0205,-55.0416 40.4651,-45.8042\"/>\n",
       "<polygon fill=\"#000000\" stroke=\"#000000\" stroke-width=\"4\" points=\"43.4833,-44.011 35.9213,-36.5904 37.2052,-47.1071 43.4833,-44.011\"/>\n",
       "</g>\n",
       "<!-- c -->\n",
       "<g id=\"node5\" class=\"node\">\n",
       "<title>c</title>\n",
       "<path fill=\"none\" stroke=\"#000000\" stroke-width=\"4\" d=\"M84,-.5C84,-.5 114,-.5 114,-.5 120,-.5 126,-6.5 126,-12.5 126,-12.5 126,-24.5 126,-24.5 126,-30.5 120,-36.5 114,-36.5 114,-36.5 84,-36.5 84,-36.5 78,-36.5 72,-30.5 72,-24.5 72,-24.5 72,-12.5 72,-12.5 72,-6.5 78,-.5 84,-.5\"/>\n",
       "<text text-anchor=\"middle\" x=\"99\" y=\"-13.5\" font-family=\"Helvetica,sans-Serif\" font-size=\"20.00\" fill=\"#000000\">c</text>\n",
       "</g>\n",
       "<!-- 4b268&#45;&gt;c -->\n",
       "<g id=\"edge5\" class=\"edge\">\n",
       "<title>4b268&#45;&gt;c</title>\n",
       "<path fill=\"none\" stroke=\"#000000\" stroke-width=\"4\" d=\"M71.8989,-73.4551C76.0095,-65.1196 80.9795,-55.0416 85.5349,-45.8042\"/>\n",
       "<polygon fill=\"#000000\" stroke=\"#000000\" stroke-width=\"4\" points=\"88.7948,-47.1071 90.0787,-36.5904 82.5167,-44.011 88.7948,-47.1071\"/>\n",
       "</g>\n",
       "<!-- 37a2d -->\n",
       "<g id=\"node7\" class=\"node\">\n",
       "<title>37a2d</title>\n",
       "<path fill=\"none\" stroke=\"#000000\" stroke-width=\"4\" d=\"M123,-292.5C123,-292.5 153,-292.5 153,-292.5 159,-292.5 165,-298.5 165,-304.5 165,-304.5 165,-316.5 165,-316.5 165,-322.5 159,-328.5 153,-328.5 153,-328.5 123,-328.5 123,-328.5 117,-328.5 111,-322.5 111,-316.5 111,-316.5 111,-304.5 111,-304.5 111,-298.5 117,-292.5 123,-292.5\"/>\n",
       "<text text-anchor=\"middle\" x=\"138\" y=\"-305.5\" font-family=\"Helvetica,sans-Serif\" font-size=\"20.00\" fill=\"#000000\">+</text>\n",
       "</g>\n",
       "<!-- 37a2d&#45;&gt;fa04a -->\n",
       "<g id=\"edge6\" class=\"edge\">\n",
       "<title>37a2d&#45;&gt;fa04a</title>\n",
       "<path fill=\"none\" stroke=\"#000000\" stroke-width=\"4\" d=\"M128.3595,-292.4551C123.8595,-284.0319 118.4088,-273.8292 113.4315,-264.5128\"/>\n",
       "<polygon fill=\"#000000\" stroke=\"#000000\" stroke-width=\"4\" points=\"116.464,-262.7613 108.6647,-255.5904 110.2898,-266.0598 116.464,-262.7613\"/>\n",
       "</g>\n",
       "<!-- c553e -->\n",
       "<g id=\"node8\" class=\"node\">\n",
       "<title>c553e</title>\n",
       "<path fill=\"none\" stroke=\"#000000\" stroke-width=\"4\" d=\"M163,-219.5C163,-219.5 193,-219.5 193,-219.5 199,-219.5 205,-225.5 205,-231.5 205,-231.5 205,-243.5 205,-243.5 205,-249.5 199,-255.5 193,-255.5 193,-255.5 163,-255.5 163,-255.5 157,-255.5 151,-249.5 151,-243.5 151,-243.5 151,-231.5 151,-231.5 151,-225.5 157,-219.5 163,-219.5\"/>\n",
       "<text text-anchor=\"middle\" x=\"178\" y=\"-232.5\" font-family=\"Helvetica,sans-Serif\" font-size=\"20.00\" fill=\"#000000\">0</text>\n",
       "</g>\n",
       "<!-- 37a2d&#45;&gt;c553e -->\n",
       "<g id=\"edge7\" class=\"edge\">\n",
       "<title>37a2d&#45;&gt;c553e</title>\n",
       "<path fill=\"none\" stroke=\"#000000\" stroke-width=\"4\" d=\"M147.8876,-292.4551C152.5031,-284.0319 158.0936,-273.8292 163.1985,-264.5128\"/>\n",
       "<polygon fill=\"#000000\" stroke=\"#000000\" stroke-width=\"4\" points=\"166.3515,-266.042 168.0875,-255.5904 160.2127,-262.6782 166.3515,-266.042\"/>\n",
       "</g>\n",
       "</g>\n",
       "</svg>\n"
      ]
     },
     "execution_count": 27,
     "metadata": {},
     "output_type": "execute_result"
    }
   ],
   "source": [
    "(fun2 + 0).toGraph()"
   ]
  },
  {
   "cell_type": "code",
   "execution_count": 28,
   "metadata": {},
   "outputs": [
    {
     "data": {
      "text/html": [
       "<svg width=\"170px\" height=\"264px\"\n",
       " viewBox=\"0.00 0.00 170.00 264.00\" xmlns=\"http://www.w3.org/2000/svg\" xmlns:xlink=\"http://www.w3.org/1999/xlink\">\n",
       "<g id=\"graph0\" class=\"graph\" transform=\"scale(1.0 1.0) rotate(0) translate(4 260)\">\n",
       "<title>%3</title>\n",
       "<polygon fill=\"#ffffff\" stroke=\"transparent\" points=\"-4,4 -4,-260 166,-260 166,4 -4,4\"/>\n",
       "<!-- dbf22 -->\n",
       "<g id=\"node1\" class=\"node\">\n",
       "<title>dbf22</title>\n",
       "<path fill=\"none\" stroke=\"#000000\" stroke-width=\"4\" d=\"M84,-146.5C84,-146.5 114,-146.5 114,-146.5 120,-146.5 126,-152.5 126,-158.5 126,-158.5 126,-170.5 126,-170.5 126,-176.5 120,-182.5 114,-182.5 114,-182.5 84,-182.5 84,-182.5 78,-182.5 72,-176.5 72,-170.5 72,-170.5 72,-158.5 72,-158.5 72,-152.5 78,-146.5 84,-146.5\"/>\n",
       "<text text-anchor=\"middle\" x=\"99\" y=\"-159.5\" font-family=\"Helvetica,sans-Serif\" font-size=\"20.00\" fill=\"#000000\">+</text>\n",
       "</g>\n",
       "<!-- 4b268 -->\n",
       "<g id=\"node2\" class=\"node\">\n",
       "<title>4b268</title>\n",
       "<path fill=\"none\" stroke=\"#000000\" stroke-width=\"4\" d=\"M48,-73.5C48,-73.5 78,-73.5 78,-73.5 84,-73.5 90,-79.5 90,-85.5 90,-85.5 90,-97.5 90,-97.5 90,-103.5 84,-109.5 78,-109.5 78,-109.5 48,-109.5 48,-109.5 42,-109.5 36,-103.5 36,-97.5 36,-97.5 36,-85.5 36,-85.5 36,-79.5 42,-73.5 48,-73.5\"/>\n",
       "<text text-anchor=\"middle\" x=\"63\" y=\"-86.5\" font-family=\"Helvetica,sans-Serif\" font-size=\"20.00\" fill=\"#000000\">+</text>\n",
       "</g>\n",
       "<!-- dbf22&#45;&gt;4b268 -->\n",
       "<g id=\"edge1\" class=\"edge\">\n",
       "<title>dbf22&#45;&gt;4b268</title>\n",
       "<path fill=\"none\" stroke=\"#000000\" stroke-width=\"4\" d=\"M90.1011,-146.4551C85.9905,-138.1196 81.0205,-128.0416 76.4651,-118.8042\"/>\n",
       "<polygon fill=\"#000000\" stroke=\"#000000\" stroke-width=\"4\" points=\"79.4833,-117.011 71.9213,-109.5904 73.2052,-120.1071 79.4833,-117.011\"/>\n",
       "</g>\n",
       "<!-- a -->\n",
       "<g id=\"node5\" class=\"node\">\n",
       "<title>a</title>\n",
       "<path fill=\"none\" stroke=\"#000000\" stroke-width=\"4\" d=\"M120,-73.5C120,-73.5 150,-73.5 150,-73.5 156,-73.5 162,-79.5 162,-85.5 162,-85.5 162,-97.5 162,-97.5 162,-103.5 156,-109.5 150,-109.5 150,-109.5 120,-109.5 120,-109.5 114,-109.5 108,-103.5 108,-97.5 108,-97.5 108,-85.5 108,-85.5 108,-79.5 114,-73.5 120,-73.5\"/>\n",
       "<text text-anchor=\"middle\" x=\"135\" y=\"-86.5\" font-family=\"Helvetica,sans-Serif\" font-size=\"20.00\" fill=\"#000000\">a</text>\n",
       "</g>\n",
       "<!-- dbf22&#45;&gt;a -->\n",
       "<g id=\"edge2\" class=\"edge\">\n",
       "<title>dbf22&#45;&gt;a</title>\n",
       "<path fill=\"none\" stroke=\"#000000\" stroke-width=\"4\" d=\"M107.8989,-146.4551C112.0095,-138.1196 116.9795,-128.0416 121.5349,-118.8042\"/>\n",
       "<polygon fill=\"#000000\" stroke=\"#000000\" stroke-width=\"4\" points=\"124.7948,-120.1071 126.0787,-109.5904 118.5167,-117.011 124.7948,-120.1071\"/>\n",
       "</g>\n",
       "<!-- b -->\n",
       "<g id=\"node3\" class=\"node\">\n",
       "<title>b</title>\n",
       "<path fill=\"none\" stroke=\"#000000\" stroke-width=\"4\" d=\"M12,-.5C12,-.5 42,-.5 42,-.5 48,-.5 54,-6.5 54,-12.5 54,-12.5 54,-24.5 54,-24.5 54,-30.5 48,-36.5 42,-36.5 42,-36.5 12,-36.5 12,-36.5 6,-36.5 0,-30.5 0,-24.5 0,-24.5 0,-12.5 0,-12.5 0,-6.5 6,-.5 12,-.5\"/>\n",
       "<text text-anchor=\"middle\" x=\"27\" y=\"-13.5\" font-family=\"Helvetica,sans-Serif\" font-size=\"20.00\" fill=\"#000000\">b</text>\n",
       "</g>\n",
       "<!-- 4b268&#45;&gt;b -->\n",
       "<g id=\"edge3\" class=\"edge\">\n",
       "<title>4b268&#45;&gt;b</title>\n",
       "<path fill=\"none\" stroke=\"#000000\" stroke-width=\"4\" d=\"M54.1011,-73.4551C49.9905,-65.1196 45.0205,-55.0416 40.4651,-45.8042\"/>\n",
       "<polygon fill=\"#000000\" stroke=\"#000000\" stroke-width=\"4\" points=\"43.4833,-44.011 35.9213,-36.5904 37.2052,-47.1071 43.4833,-44.011\"/>\n",
       "</g>\n",
       "<!-- c -->\n",
       "<g id=\"node4\" class=\"node\">\n",
       "<title>c</title>\n",
       "<path fill=\"none\" stroke=\"#000000\" stroke-width=\"4\" d=\"M84,-.5C84,-.5 114,-.5 114,-.5 120,-.5 126,-6.5 126,-12.5 126,-12.5 126,-24.5 126,-24.5 126,-30.5 120,-36.5 114,-36.5 114,-36.5 84,-36.5 84,-36.5 78,-36.5 72,-30.5 72,-24.5 72,-24.5 72,-12.5 72,-12.5 72,-6.5 78,-.5 84,-.5\"/>\n",
       "<text text-anchor=\"middle\" x=\"99\" y=\"-13.5\" font-family=\"Helvetica,sans-Serif\" font-size=\"20.00\" fill=\"#000000\">c</text>\n",
       "</g>\n",
       "<!-- 4b268&#45;&gt;c -->\n",
       "<g id=\"edge4\" class=\"edge\">\n",
       "<title>4b268&#45;&gt;c</title>\n",
       "<path fill=\"none\" stroke=\"#000000\" stroke-width=\"4\" d=\"M71.8989,-73.4551C76.0095,-65.1196 80.9795,-55.0416 85.5349,-45.8042\"/>\n",
       "<polygon fill=\"#000000\" stroke=\"#000000\" stroke-width=\"4\" points=\"88.7948,-47.1071 90.0787,-36.5904 82.5167,-44.011 88.7948,-47.1071\"/>\n",
       "</g>\n",
       "<!-- fa04a -->\n",
       "<g id=\"node6\" class=\"node\">\n",
       "<title>fa04a</title>\n",
       "<path fill=\"none\" stroke=\"#000000\" stroke-width=\"4\" d=\"M77.5,-219.5C77.5,-219.5 120.5,-219.5 120.5,-219.5 126.5,-219.5 132.5,-225.5 132.5,-231.5 132.5,-231.5 132.5,-243.5 132.5,-243.5 132.5,-249.5 126.5,-255.5 120.5,-255.5 120.5,-255.5 77.5,-255.5 77.5,-255.5 71.5,-255.5 65.5,-249.5 65.5,-243.5 65.5,-243.5 65.5,-231.5 65.5,-231.5 65.5,-225.5 71.5,-219.5 77.5,-219.5\"/>\n",
       "<text text-anchor=\"middle\" x=\"99\" y=\"-232.5\" font-family=\"Helvetica,sans-Serif\" font-size=\"20.00\" fill=\"#000000\">fa04a</text>\n",
       "</g>\n",
       "<!-- fa04a&#45;&gt;dbf22 -->\n",
       "<g id=\"edge5\" class=\"edge\">\n",
       "<title>fa04a&#45;&gt;dbf22</title>\n",
       "<path fill=\"none\" stroke=\"#000000\" stroke-width=\"4\" d=\"M99,-219.4551C99,-211.3828 99,-201.6764 99,-192.6817\"/>\n",
       "<polygon fill=\"#000000\" stroke=\"#000000\" stroke-width=\"4\" points=\"102.5001,-192.5903 99,-182.5904 95.5001,-192.5904 102.5001,-192.5903\"/>\n",
       "</g>\n",
       "</g>\n",
       "</svg>\n"
      ]
     },
     "execution_count": 28,
     "metadata": {},
     "output_type": "execute_result"
    }
   ],
   "source": [
    "fun2"
   ]
  },
  {
   "cell_type": "code",
   "execution_count": 29,
   "metadata": {},
   "outputs": [
    {
     "data": {
      "text/plain": [
       "97136706"
      ]
     },
     "execution_count": 29,
     "metadata": {},
     "output_type": "execute_result"
    }
   ],
   "source": [
    "fun2.hashCode()"
   ]
  },
  {
   "cell_type": "code",
   "execution_count": 30,
   "metadata": {},
   "outputs": [
    {
     "data": {
      "text/plain": [
       "93595536"
      ]
     },
     "execution_count": 30,
     "metadata": {},
     "output_type": "execute_result"
    }
   ],
   "source": [
    "fun1.hashCode()"
   ]
  },
  {
   "cell_type": "code",
   "execution_count": null,
   "metadata": {},
   "outputs": [],
   "source": []
  }
 ],
 "metadata": {
  "kernelspec": {
   "display_name": "Kotlin",
   "language": "kotlin",
   "name": "kotlin"
  },
  "language_info": {
   "codemirror_mode": "text/x-kotlin",
   "file_extension": ".kt",
   "mimetype": "text/x-kotlin",
   "name": "kotlin",
   "pygments_lexer": "kotlin",
   "version": "1.4.20-dev-2342"
  }
 },
 "nbformat": 4,
 "nbformat_minor": 4
}
