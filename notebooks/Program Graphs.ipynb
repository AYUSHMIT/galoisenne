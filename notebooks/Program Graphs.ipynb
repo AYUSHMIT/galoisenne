{
 "cells": [
  {
   "cell_type": "code",
   "execution_count": 1,
   "metadata": {},
   "outputs": [],
   "source": [
    "%use @https://raw.githubusercontent.com/breandan/kaliningraph/master/kaliningraph.json"
   ]
  },
  {
   "cell_type": "code",
   "execution_count": 2,
   "metadata": {},
   "outputs": [
    {
     "data": {
      "text/html": [
       "<svg width=\"349px\" height=\"127px\"\n",
       " viewBox=\"0.00 0.00 349.00 127.00\" xmlns=\"http://www.w3.org/2000/svg\" xmlns:xlink=\"http://www.w3.org/1999/xlink\">\n",
       "<g id=\"graph0\" class=\"graph\" transform=\"scale(1.0 1.0) rotate(0) translate(4 123)\">\n",
       "<title>%3</title>\n",
       "<!-- ed1b3 -->\n",
       "<g id=\"node1\" class=\"node\">\n",
       "<title>ed1b3</title>\n",
       "<path fill=\"none\" stroke=\"#000000\" stroke-width=\"4\" d=\"M102,-27.5C102,-27.5 132,-27.5 132,-27.5 138,-27.5 144,-33.5 144,-39.5 144,-39.5 144,-51.5 144,-51.5 144,-57.5 138,-63.5 132,-63.5 132,-63.5 102,-63.5 102,-63.5 96,-63.5 90,-57.5 90,-51.5 90,-51.5 90,-39.5 90,-39.5 90,-33.5 96,-27.5 102,-27.5\"/>\n",
       "<text text-anchor=\"middle\" x=\"117\" y=\"-40.5\" font-family=\"Helvetica,sans-Serif\" font-size=\"20.00\" fill=\"#000000\">+</text>\n",
       "</g>\n",
       "<!-- 7ec0c -->\n",
       "<g id=\"node2\" class=\"node\">\n",
       "<title>7ec0c</title>\n",
       "<path fill=\"none\" stroke=\"#000000\" stroke-width=\"4\" d=\"M192,-54.5C192,-54.5 222,-54.5 222,-54.5 228,-54.5 234,-60.5 234,-66.5 234,-66.5 234,-78.5 234,-78.5 234,-84.5 228,-90.5 222,-90.5 222,-90.5 192,-90.5 192,-90.5 186,-90.5 180,-84.5 180,-78.5 180,-78.5 180,-66.5 180,-66.5 180,-60.5 186,-54.5 192,-54.5\"/>\n",
       "<text text-anchor=\"middle\" x=\"207\" y=\"-67.5\" font-family=\"Helvetica,sans-Serif\" font-size=\"20.00\" fill=\"#000000\">+</text>\n",
       "</g>\n",
       "<!-- ed1b3&#45;&gt;7ec0c -->\n",
       "<g id=\"edge1\" class=\"edge\">\n",
       "<title>ed1b3&#45;&gt;7ec0c</title>\n",
       "<path fill=\"none\" stroke=\"#0000ff\" stroke-width=\"4\" d=\"M144.003,-53.6009C152.204,-56.0612 161.3599,-58.808 170.095,-61.4285\"/>\n",
       "<polygon fill=\"#0000ff\" stroke=\"#0000ff\" stroke-width=\"4\" points=\"169.121,-64.7904 179.705,-64.3115 171.1325,-58.0856 169.121,-64.7904\"/>\n",
       "</g>\n",
       "<!-- eca4b -->\n",
       "<g id=\"node3\" class=\"node\">\n",
       "<title>eca4b</title>\n",
       "<path fill=\"none\" stroke=\"#000000\" stroke-width=\"4\" d=\"M282,-54.5C282,-54.5 329,-54.5 329,-54.5 335,-54.5 341,-60.5 341,-66.5 341,-66.5 341,-78.5 341,-78.5 341,-84.5 335,-90.5 329,-90.5 329,-90.5 282,-90.5 282,-90.5 276,-90.5 270,-84.5 270,-78.5 270,-78.5 270,-66.5 270,-66.5 270,-60.5 276,-54.5 282,-54.5\"/>\n",
       "<text text-anchor=\"middle\" x=\"305.5\" y=\"-67.5\" font-family=\"Helvetica,sans-Serif\" font-size=\"20.00\" fill=\"#000000\">eca4b</text>\n",
       "</g>\n",
       "<!-- 7ec0c&#45;&gt;eca4b -->\n",
       "<g id=\"edge2\" class=\"edge\">\n",
       "<title>7ec0c&#45;&gt;eca4b</title>\n",
       "<path fill=\"none\" stroke=\"#000000\" stroke-width=\"4\" d=\"M234.1763,-72.5C242.1165,-72.5 251.0218,-72.5 259.7776,-72.5\"/>\n",
       "<polygon fill=\"#000000\" stroke=\"#000000\" stroke-width=\"4\" points=\"259.9208,-76.0001 269.9207,-72.5 259.9207,-69.0001 259.9208,-76.0001\"/>\n",
       "</g>\n",
       "<!-- c -->\n",
       "<g id=\"node4\" class=\"node\">\n",
       "<title>c</title>\n",
       "<path fill=\"none\" stroke=\"#000000\" stroke-width=\"4\" d=\"M102,-82.5C102,-82.5 132,-82.5 132,-82.5 138,-82.5 144,-88.5 144,-94.5 144,-94.5 144,-106.5 144,-106.5 144,-112.5 138,-118.5 132,-118.5 132,-118.5 102,-118.5 102,-118.5 96,-118.5 90,-112.5 90,-106.5 90,-106.5 90,-94.5 90,-94.5 90,-88.5 96,-82.5 102,-82.5\"/>\n",
       "<text text-anchor=\"middle\" x=\"117\" y=\"-95.5\" font-family=\"Helvetica,sans-Serif\" font-size=\"20.00\" fill=\"#000000\">c</text>\n",
       "</g>\n",
       "<!-- c&#45;&gt;7ec0c -->\n",
       "<g id=\"edge3\" class=\"edge\">\n",
       "<title>c&#45;&gt;7ec0c</title>\n",
       "<path fill=\"none\" stroke=\"#ff0000\" stroke-width=\"4\" d=\"M144.003,-92.0991C152.204,-89.5476 161.3599,-86.6991 170.095,-83.9816\"/>\n",
       "<polygon fill=\"#ff0000\" stroke=\"#ff0000\" stroke-width=\"4\" points=\"171.1962,-87.3045 179.705,-80.9918 169.1167,-80.6205 171.1962,-87.3045\"/>\n",
       "</g>\n",
       "<!-- a -->\n",
       "<g id=\"node5\" class=\"node\">\n",
       "<title>a</title>\n",
       "<path fill=\"none\" stroke=\"#000000\" stroke-width=\"4\" d=\"M12,-55.5C12,-55.5 42,-55.5 42,-55.5 48,-55.5 54,-61.5 54,-67.5 54,-67.5 54,-79.5 54,-79.5 54,-85.5 48,-91.5 42,-91.5 42,-91.5 12,-91.5 12,-91.5 6,-91.5 0,-85.5 0,-79.5 0,-79.5 0,-67.5 0,-67.5 0,-61.5 6,-55.5 12,-55.5\"/>\n",
       "<text text-anchor=\"middle\" x=\"27\" y=\"-68.5\" font-family=\"Helvetica,sans-Serif\" font-size=\"20.00\" fill=\"#000000\">a</text>\n",
       "</g>\n",
       "<!-- a&#45;&gt;ed1b3 -->\n",
       "<g id=\"edge4\" class=\"edge\">\n",
       "<title>a&#45;&gt;ed1b3</title>\n",
       "<path fill=\"none\" stroke=\"#0000ff\" stroke-width=\"4\" d=\"M54.003,-65.0991C62.204,-62.5476 71.3599,-59.6991 80.095,-56.9816\"/>\n",
       "<polygon fill=\"#0000ff\" stroke=\"#0000ff\" stroke-width=\"4\" points=\"81.1962,-60.3045 89.705,-53.9918 79.1167,-53.6205 81.1962,-60.3045\"/>\n",
       "</g>\n",
       "<!-- b -->\n",
       "<g id=\"node6\" class=\"node\">\n",
       "<title>b</title>\n",
       "<path fill=\"none\" stroke=\"#000000\" stroke-width=\"4\" d=\"M12,-.5C12,-.5 42,-.5 42,-.5 48,-.5 54,-6.5 54,-12.5 54,-12.5 54,-24.5 54,-24.5 54,-30.5 48,-36.5 42,-36.5 42,-36.5 12,-36.5 12,-36.5 6,-36.5 0,-30.5 0,-24.5 0,-24.5 0,-12.5 0,-12.5 0,-6.5 6,-.5 12,-.5\"/>\n",
       "<text text-anchor=\"middle\" x=\"27\" y=\"-13.5\" font-family=\"Helvetica,sans-Serif\" font-size=\"20.00\" fill=\"#000000\">b</text>\n",
       "</g>\n",
       "<!-- b&#45;&gt;ed1b3 -->\n",
       "<g id=\"edge5\" class=\"edge\">\n",
       "<title>b&#45;&gt;ed1b3</title>\n",
       "<path fill=\"none\" stroke=\"#ff0000\" stroke-width=\"4\" d=\"M54.003,-26.6009C62.204,-29.0612 71.3599,-31.808 80.095,-34.4285\"/>\n",
       "<polygon fill=\"#ff0000\" stroke=\"#ff0000\" stroke-width=\"4\" points=\"79.121,-37.7904 89.705,-37.3115 81.1325,-31.0856 79.121,-37.7904\"/>\n",
       "</g>\n",
       "</g>\n",
       "</svg>\n"
      ]
     },
     "execution_count": 2,
     "metadata": {},
     "output_type": "execute_result"
    }
   ],
   "source": [
    "val fun1 = def(a, b, c) { a + b + c }; fun1"
   ]
  },
  {
   "cell_type": "code",
   "execution_count": 3,
   "metadata": {},
   "outputs": [],
   "source": [
    "val fun2 = def(a, b, c) { b + c + a }"
   ]
  },
  {
   "cell_type": "code",
   "execution_count": 4,
   "metadata": {},
   "outputs": [
    {
     "data": {
      "text/plain": [
       "false"
      ]
     },
     "execution_count": 4,
     "metadata": {},
     "output_type": "execute_result"
    }
   ],
   "source": [
    "fun1 == fun2"
   ]
  },
  {
   "cell_type": "code",
   "execution_count": 5,
   "metadata": {},
   "outputs": [
    {
     "data": {
      "text/html": [
       "<svg width=\"351px\" height=\"127px\"\n",
       " viewBox=\"0.00 0.00 351.00 127.00\" xmlns=\"http://www.w3.org/2000/svg\" xmlns:xlink=\"http://www.w3.org/1999/xlink\">\n",
       "<g id=\"graph0\" class=\"graph\" transform=\"scale(1.0 1.0) rotate(0) translate(4 123)\">\n",
       "<title>%3</title>\n",
       "<!-- 63ba4 -->\n",
       "<g id=\"node1\" class=\"node\">\n",
       "<title>63ba4</title>\n",
       "<path fill=\"none\" stroke=\"#000000\" stroke-width=\"4\" d=\"M102,-27.5C102,-27.5 132,-27.5 132,-27.5 138,-27.5 144,-33.5 144,-39.5 144,-39.5 144,-51.5 144,-51.5 144,-57.5 138,-63.5 132,-63.5 132,-63.5 102,-63.5 102,-63.5 96,-63.5 90,-57.5 90,-51.5 90,-51.5 90,-39.5 90,-39.5 90,-33.5 96,-27.5 102,-27.5\"/>\n",
       "<text text-anchor=\"middle\" x=\"117\" y=\"-40.5\" font-family=\"Helvetica,sans-Serif\" font-size=\"20.00\" fill=\"#000000\">+</text>\n",
       "</g>\n",
       "<!-- 567a9 -->\n",
       "<g id=\"node2\" class=\"node\">\n",
       "<title>567a9</title>\n",
       "<path fill=\"none\" stroke=\"#000000\" stroke-width=\"4\" d=\"M192,-54.5C192,-54.5 222,-54.5 222,-54.5 228,-54.5 234,-60.5 234,-66.5 234,-66.5 234,-78.5 234,-78.5 234,-84.5 228,-90.5 222,-90.5 222,-90.5 192,-90.5 192,-90.5 186,-90.5 180,-84.5 180,-78.5 180,-78.5 180,-66.5 180,-66.5 180,-60.5 186,-54.5 192,-54.5\"/>\n",
       "<text text-anchor=\"middle\" x=\"207\" y=\"-67.5\" font-family=\"Helvetica,sans-Serif\" font-size=\"20.00\" fill=\"#000000\">+</text>\n",
       "</g>\n",
       "<!-- 63ba4&#45;&gt;567a9 -->\n",
       "<g id=\"edge1\" class=\"edge\">\n",
       "<title>63ba4&#45;&gt;567a9</title>\n",
       "<path fill=\"none\" stroke=\"#0000ff\" stroke-width=\"4\" d=\"M144.003,-53.6009C152.204,-56.0612 161.3599,-58.808 170.095,-61.4285\"/>\n",
       "<polygon fill=\"#0000ff\" stroke=\"#0000ff\" stroke-width=\"4\" points=\"169.121,-64.7904 179.705,-64.3115 171.1325,-58.0856 169.121,-64.7904\"/>\n",
       "</g>\n",
       "<!-- e7b64 -->\n",
       "<g id=\"node3\" class=\"node\">\n",
       "<title>e7b64</title>\n",
       "<path fill=\"none\" stroke=\"#000000\" stroke-width=\"4\" d=\"M282,-54.5C282,-54.5 331,-54.5 331,-54.5 337,-54.5 343,-60.5 343,-66.5 343,-66.5 343,-78.5 343,-78.5 343,-84.5 337,-90.5 331,-90.5 331,-90.5 282,-90.5 282,-90.5 276,-90.5 270,-84.5 270,-78.5 270,-78.5 270,-66.5 270,-66.5 270,-60.5 276,-54.5 282,-54.5\"/>\n",
       "<text text-anchor=\"middle\" x=\"306.5\" y=\"-67.5\" font-family=\"Helvetica,sans-Serif\" font-size=\"20.00\" fill=\"#000000\">e7b64</text>\n",
       "</g>\n",
       "<!-- 567a9&#45;&gt;e7b64 -->\n",
       "<g id=\"edge2\" class=\"edge\">\n",
       "<title>567a9&#45;&gt;e7b64</title>\n",
       "<path fill=\"none\" stroke=\"#000000\" stroke-width=\"4\" d=\"M234.1888,-72.5C242.0465,-72.5 250.8569,-72.5 259.5527,-72.5\"/>\n",
       "<polygon fill=\"#000000\" stroke=\"#000000\" stroke-width=\"4\" points=\"259.6443,-76.0001 269.6443,-72.5 259.6442,-69.0001 259.6443,-76.0001\"/>\n",
       "</g>\n",
       "<!-- a -->\n",
       "<g id=\"node4\" class=\"node\">\n",
       "<title>a</title>\n",
       "<path fill=\"none\" stroke=\"#000000\" stroke-width=\"4\" d=\"M102,-82.5C102,-82.5 132,-82.5 132,-82.5 138,-82.5 144,-88.5 144,-94.5 144,-94.5 144,-106.5 144,-106.5 144,-112.5 138,-118.5 132,-118.5 132,-118.5 102,-118.5 102,-118.5 96,-118.5 90,-112.5 90,-106.5 90,-106.5 90,-94.5 90,-94.5 90,-88.5 96,-82.5 102,-82.5\"/>\n",
       "<text text-anchor=\"middle\" x=\"117\" y=\"-95.5\" font-family=\"Helvetica,sans-Serif\" font-size=\"20.00\" fill=\"#000000\">a</text>\n",
       "</g>\n",
       "<!-- a&#45;&gt;567a9 -->\n",
       "<g id=\"edge3\" class=\"edge\">\n",
       "<title>a&#45;&gt;567a9</title>\n",
       "<path fill=\"none\" stroke=\"#ff0000\" stroke-width=\"4\" d=\"M144.003,-92.0991C152.204,-89.5476 161.3599,-86.6991 170.095,-83.9816\"/>\n",
       "<polygon fill=\"#ff0000\" stroke=\"#ff0000\" stroke-width=\"4\" points=\"171.1962,-87.3045 179.705,-80.9918 169.1167,-80.6205 171.1962,-87.3045\"/>\n",
       "</g>\n",
       "<!-- b -->\n",
       "<g id=\"node5\" class=\"node\">\n",
       "<title>b</title>\n",
       "<path fill=\"none\" stroke=\"#000000\" stroke-width=\"4\" d=\"M12,-55.5C12,-55.5 42,-55.5 42,-55.5 48,-55.5 54,-61.5 54,-67.5 54,-67.5 54,-79.5 54,-79.5 54,-85.5 48,-91.5 42,-91.5 42,-91.5 12,-91.5 12,-91.5 6,-91.5 0,-85.5 0,-79.5 0,-79.5 0,-67.5 0,-67.5 0,-61.5 6,-55.5 12,-55.5\"/>\n",
       "<text text-anchor=\"middle\" x=\"27\" y=\"-68.5\" font-family=\"Helvetica,sans-Serif\" font-size=\"20.00\" fill=\"#000000\">b</text>\n",
       "</g>\n",
       "<!-- b&#45;&gt;63ba4 -->\n",
       "<g id=\"edge4\" class=\"edge\">\n",
       "<title>b&#45;&gt;63ba4</title>\n",
       "<path fill=\"none\" stroke=\"#0000ff\" stroke-width=\"4\" d=\"M54.003,-65.0991C62.204,-62.5476 71.3599,-59.6991 80.095,-56.9816\"/>\n",
       "<polygon fill=\"#0000ff\" stroke=\"#0000ff\" stroke-width=\"4\" points=\"81.1962,-60.3045 89.705,-53.9918 79.1167,-53.6205 81.1962,-60.3045\"/>\n",
       "</g>\n",
       "<!-- c -->\n",
       "<g id=\"node6\" class=\"node\">\n",
       "<title>c</title>\n",
       "<path fill=\"none\" stroke=\"#000000\" stroke-width=\"4\" d=\"M12,-.5C12,-.5 42,-.5 42,-.5 48,-.5 54,-6.5 54,-12.5 54,-12.5 54,-24.5 54,-24.5 54,-30.5 48,-36.5 42,-36.5 42,-36.5 12,-36.5 12,-36.5 6,-36.5 0,-30.5 0,-24.5 0,-24.5 0,-12.5 0,-12.5 0,-6.5 6,-.5 12,-.5\"/>\n",
       "<text text-anchor=\"middle\" x=\"27\" y=\"-13.5\" font-family=\"Helvetica,sans-Serif\" font-size=\"20.00\" fill=\"#000000\">c</text>\n",
       "</g>\n",
       "<!-- c&#45;&gt;63ba4 -->\n",
       "<g id=\"edge5\" class=\"edge\">\n",
       "<title>c&#45;&gt;63ba4</title>\n",
       "<path fill=\"none\" stroke=\"#ff0000\" stroke-width=\"4\" d=\"M54.003,-26.6009C62.204,-29.0612 71.3599,-31.808 80.095,-34.4285\"/>\n",
       "<polygon fill=\"#ff0000\" stroke=\"#ff0000\" stroke-width=\"4\" points=\"79.121,-37.7904 89.705,-37.3115 81.1325,-31.0856 79.121,-37.7904\"/>\n",
       "</g>\n",
       "</g>\n",
       "</svg>\n"
      ]
     },
     "execution_count": 5,
     "metadata": {},
     "output_type": "execute_result"
    }
   ],
   "source": [
    "fun2"
   ]
  },
  {
   "cell_type": "code",
   "execution_count": 6,
   "metadata": {},
   "outputs": [
    {
     "data": {
      "text/html": [
       "<img src=\"data:image/jpg;base64,iVBORw0KGgoAAAANSUhEUgAAAHgAAAB4CAIAAAC2BqGFAAAA2UlEQVR4Xu3ZMREAMAACsfo33QpgpwPJvQJWzvnkfmpOTtBpTk7QaU5O0GlOTtBpTk7QaU5O0GlOTtBpTk7QaU5O0GlOTtBpTk7QaU5O0GlOTtBpTk7QaU5O0GlOTtBpTk7QaU5O0GlOTtAJAAAAAAAAgIK8azvNyQk6zckJOs3JCTrNyQk6zckJOs3JCTrNyQk6zckJOs3JCTrNyQk6zckJOs3JCTrNyQk6zckJOs3JCTrNyQk6zckJOs3JCTrNyQk6AQAAAAAAAAAAAAAAAAAAAAAAAAAAmx7cXDobiYrisQAAAABJRU5ErkJggg==\"/>"
      ]
     },
     "execution_count": 6,
     "metadata": {},
     "output_type": "execute_result"
    }
   ],
   "source": [
    "fun1.graph.A"
   ]
  },
  {
   "cell_type": "code",
   "execution_count": 7,
   "metadata": {},
   "outputs": [
    {
     "data": {
      "text/plain": [
       "true"
      ]
     },
     "execution_count": 7,
     "metadata": {},
     "output_type": "execute_result"
    }
   ],
   "source": [
    "fun1.graph == fun2.graph"
   ]
  },
  {
   "cell_type": "code",
   "execution_count": 8,
   "metadata": {},
   "outputs": [
    {
     "data": {
      "text/html": [
       "<img src=\"data:image/jpg;base64,iVBORw0KGgoAAAANSUhEUgAAAHgAAAB4CAIAAAC2BqGFAAAA2UlEQVR4Xu3ZMREAMAACsfo33QpgpwPJvQJWzvnkfmpOTtBpTk7QaU5O0GlOTtBpTk7QaU5O0GlOTtBpTk7QaU5O0GlOTtBpTk7QaU5O0GlOTtBpTk7QaU5O0GlOTtBpTk7QaU5O0GlOTtAJAAAAAAAAgIK8azvNyQk6zckJOs3JCTrNyQk6zckJOs3JCTrNyQk6zckJOs3JCTrNyQk6zckJOs3JCTrNyQk6zckJOs3JCTrNyQk6zckJOs3JCTrNyQk6AQAAAAAAAAAAAAAAAAAAAAAAAAAAmx7cXDobiYrisQAAAABJRU5ErkJggg==\"/>"
      ]
     },
     "execution_count": 8,
     "metadata": {},
     "output_type": "execute_result"
    }
   ],
   "source": [
    "fun2.graph.A"
   ]
  },
  {
   "cell_type": "code",
   "execution_count": 9,
   "metadata": {},
   "outputs": [
    {
     "data": {
      "text/html": [
       "<svg width=\"441px\" height=\"170px\"\n",
       " viewBox=\"0.00 0.00 441.00 170.00\" xmlns=\"http://www.w3.org/2000/svg\" xmlns:xlink=\"http://www.w3.org/1999/xlink\">\n",
       "<g id=\"graph0\" class=\"graph\" transform=\"scale(1.0 1.0) rotate(0) translate(4 166)\">\n",
       "<title>%3</title>\n",
       "<!-- 567a9 -->\n",
       "<g id=\"node1\" class=\"node\">\n",
       "<title>567a9</title>\n",
       "<path fill=\"none\" stroke=\"#000000\" stroke-width=\"4\" d=\"M192,-83.5C192,-83.5 222,-83.5 222,-83.5 228,-83.5 234,-89.5 234,-95.5 234,-95.5 234,-107.5 234,-107.5 234,-113.5 228,-119.5 222,-119.5 222,-119.5 192,-119.5 192,-119.5 186,-119.5 180,-113.5 180,-107.5 180,-107.5 180,-95.5 180,-95.5 180,-89.5 186,-83.5 192,-83.5\"/>\n",
       "<text text-anchor=\"middle\" x=\"207\" y=\"-96.5\" font-family=\"Helvetica,sans-Serif\" font-size=\"20.00\" fill=\"#000000\">+</text>\n",
       "</g>\n",
       "<!-- e7b64 -->\n",
       "<g id=\"node2\" class=\"node\">\n",
       "<title>e7b64</title>\n",
       "<path fill=\"none\" stroke=\"#000000\" stroke-width=\"4\" d=\"M282,-83.5C282,-83.5 331,-83.5 331,-83.5 337,-83.5 343,-89.5 343,-95.5 343,-95.5 343,-107.5 343,-107.5 343,-113.5 337,-119.5 331,-119.5 331,-119.5 282,-119.5 282,-119.5 276,-119.5 270,-113.5 270,-107.5 270,-107.5 270,-95.5 270,-95.5 270,-89.5 276,-83.5 282,-83.5\"/>\n",
       "<text text-anchor=\"middle\" x=\"306.5\" y=\"-96.5\" font-family=\"Helvetica,sans-Serif\" font-size=\"20.00\" fill=\"#000000\">e7b64</text>\n",
       "</g>\n",
       "<!-- 567a9&#45;&gt;e7b64 -->\n",
       "<g id=\"edge1\" class=\"edge\">\n",
       "<title>567a9&#45;&gt;e7b64</title>\n",
       "<path fill=\"none\" stroke=\"#000000\" stroke-width=\"4\" d=\"M234.1888,-101.5C242.0465,-101.5 250.8569,-101.5 259.5527,-101.5\"/>\n",
       "<polygon fill=\"#000000\" stroke=\"#000000\" stroke-width=\"4\" points=\"259.6443,-105.0001 269.6443,-101.5 259.6442,-98.0001 259.6443,-105.0001\"/>\n",
       "</g>\n",
       "<!-- 13175 -->\n",
       "<g id=\"node3\" class=\"node\">\n",
       "<title>13175</title>\n",
       "<path fill=\"none\" stroke=\"#000000\" stroke-width=\"4\" d=\"M391,-55.5C391,-55.5 421,-55.5 421,-55.5 427,-55.5 433,-61.5 433,-67.5 433,-67.5 433,-79.5 433,-79.5 433,-85.5 427,-91.5 421,-91.5 421,-91.5 391,-91.5 391,-91.5 385,-91.5 379,-85.5 379,-79.5 379,-79.5 379,-67.5 379,-67.5 379,-61.5 385,-55.5 391,-55.5\"/>\n",
       "<text text-anchor=\"middle\" x=\"406\" y=\"-68.5\" font-family=\"Helvetica,sans-Serif\" font-size=\"20.00\" fill=\"#000000\">+</text>\n",
       "</g>\n",
       "<!-- e7b64&#45;&gt;13175 -->\n",
       "<g id=\"edge2\" class=\"edge\">\n",
       "<title>e7b64&#45;&gt;13175</title>\n",
       "<path fill=\"none\" stroke=\"#0000ff\" stroke-width=\"4\" d=\"M343.2674,-91.1534C351.6111,-88.8054 360.4785,-86.3101 368.8384,-83.9575\"/>\n",
       "<polygon fill=\"#0000ff\" stroke=\"#0000ff\" stroke-width=\"4\" points=\"370.0366,-87.2564 378.7146,-81.1783 368.1403,-80.5181 370.0366,-87.2564\"/>\n",
       "</g>\n",
       "<!-- 7ec0c -->\n",
       "<g id=\"node4\" class=\"node\">\n",
       "<title>7ec0c</title>\n",
       "<path fill=\"none\" stroke=\"#000000\" stroke-width=\"4\" d=\"M192,-28.5C192,-28.5 222,-28.5 222,-28.5 228,-28.5 234,-34.5 234,-40.5 234,-40.5 234,-52.5 234,-52.5 234,-58.5 228,-64.5 222,-64.5 222,-64.5 192,-64.5 192,-64.5 186,-64.5 180,-58.5 180,-52.5 180,-52.5 180,-40.5 180,-40.5 180,-34.5 186,-28.5 192,-28.5\"/>\n",
       "<text text-anchor=\"middle\" x=\"207\" y=\"-41.5\" font-family=\"Helvetica,sans-Serif\" font-size=\"20.00\" fill=\"#000000\">+</text>\n",
       "</g>\n",
       "<!-- eca4b -->\n",
       "<g id=\"node5\" class=\"node\">\n",
       "<title>eca4b</title>\n",
       "<path fill=\"none\" stroke=\"#000000\" stroke-width=\"4\" d=\"M283,-28.5C283,-28.5 330,-28.5 330,-28.5 336,-28.5 342,-34.5 342,-40.5 342,-40.5 342,-52.5 342,-52.5 342,-58.5 336,-64.5 330,-64.5 330,-64.5 283,-64.5 283,-64.5 277,-64.5 271,-58.5 271,-52.5 271,-52.5 271,-40.5 271,-40.5 271,-34.5 277,-28.5 283,-28.5\"/>\n",
       "<text text-anchor=\"middle\" x=\"306.5\" y=\"-41.5\" font-family=\"Helvetica,sans-Serif\" font-size=\"20.00\" fill=\"#000000\">eca4b</text>\n",
       "</g>\n",
       "<!-- 7ec0c&#45;&gt;eca4b -->\n",
       "<g id=\"edge3\" class=\"edge\">\n",
       "<title>7ec0c&#45;&gt;eca4b</title>\n",
       "<path fill=\"none\" stroke=\"#000000\" stroke-width=\"4\" d=\"M234.1888,-46.5C242.3828,-46.5 251.6126,-46.5 260.6683,-46.5\"/>\n",
       "<polygon fill=\"#000000\" stroke=\"#000000\" stroke-width=\"4\" points=\"260.754,-50.0001 270.7539,-46.5 260.7539,-43.0001 260.754,-50.0001\"/>\n",
       "</g>\n",
       "<!-- eca4b&#45;&gt;13175 -->\n",
       "<g id=\"edge4\" class=\"edge\">\n",
       "<title>eca4b&#45;&gt;13175</title>\n",
       "<path fill=\"none\" stroke=\"#ff0000\" stroke-width=\"4\" d=\"M342.1407,-56.1714C350.7979,-58.5205 360.0764,-61.0383 368.8035,-63.4065\"/>\n",
       "<polygon fill=\"#ff0000\" stroke=\"#ff0000\" stroke-width=\"4\" points=\"368.1572,-66.8576 378.7248,-66.0987 369.9905,-60.1019 368.1572,-66.8576\"/>\n",
       "</g>\n",
       "<!-- 63ba4 -->\n",
       "<g id=\"node6\" class=\"node\">\n",
       "<title>63ba4</title>\n",
       "<path fill=\"none\" stroke=\"#000000\" stroke-width=\"4\" d=\"M102,-28.5C102,-28.5 132,-28.5 132,-28.5 138,-28.5 144,-34.5 144,-40.5 144,-40.5 144,-52.5 144,-52.5 144,-58.5 138,-64.5 132,-64.5 132,-64.5 102,-64.5 102,-64.5 96,-64.5 90,-58.5 90,-52.5 90,-52.5 90,-40.5 90,-40.5 90,-34.5 96,-28.5 102,-28.5\"/>\n",
       "<text text-anchor=\"middle\" x=\"117\" y=\"-41.5\" font-family=\"Helvetica,sans-Serif\" font-size=\"20.00\" fill=\"#000000\">+</text>\n",
       "</g>\n",
       "<!-- 63ba4&#45;&gt;567a9 -->\n",
       "<g id=\"edge5\" class=\"edge\">\n",
       "<title>63ba4&#45;&gt;567a9</title>\n",
       "<path fill=\"none\" stroke=\"#0000ff\" stroke-width=\"4\" d=\"M144.003,-63.0018C152.4686,-68.1752 161.9516,-73.9704 170.9389,-79.4627\"/>\n",
       "<polygon fill=\"#0000ff\" stroke=\"#0000ff\" stroke-width=\"4\" points=\"169.3471,-82.5917 179.705,-84.8197 172.9973,-76.6187 169.3471,-82.5917\"/>\n",
       "</g>\n",
       "<!-- a -->\n",
       "<g id=\"node7\" class=\"node\">\n",
       "<title>a</title>\n",
       "<path fill=\"none\" stroke=\"#000000\" stroke-width=\"4\" d=\"M12,-125.5C12,-125.5 42,-125.5 42,-125.5 48,-125.5 54,-131.5 54,-137.5 54,-137.5 54,-149.5 54,-149.5 54,-155.5 48,-161.5 42,-161.5 42,-161.5 12,-161.5 12,-161.5 6,-161.5 0,-155.5 0,-149.5 0,-149.5 0,-137.5 0,-137.5 0,-131.5 6,-125.5 12,-125.5\"/>\n",
       "<text text-anchor=\"middle\" x=\"27\" y=\"-138.5\" font-family=\"Helvetica,sans-Serif\" font-size=\"20.00\" fill=\"#000000\">a</text>\n",
       "</g>\n",
       "<!-- a&#45;&gt;567a9 -->\n",
       "<g id=\"edge6\" class=\"edge\">\n",
       "<title>a&#45;&gt;567a9</title>\n",
       "<path fill=\"none\" stroke=\"#ff0000\" stroke-width=\"4\" d=\"M54.3962,-142.5323C78.3943,-141.1418 114.0202,-137.7539 144,-129.5 152.8036,-127.0763 161.9549,-123.6105 170.465,-119.939\"/>\n",
       "<polygon fill=\"#ff0000\" stroke=\"#ff0000\" stroke-width=\"4\" points=\"172.072,-123.0538 179.7479,-115.751 169.1933,-116.6731 172.072,-123.0538\"/>\n",
       "</g>\n",
       "<!-- ed1b3 -->\n",
       "<g id=\"node8\" class=\"node\">\n",
       "<title>ed1b3</title>\n",
       "<path fill=\"none\" stroke=\"#000000\" stroke-width=\"4\" d=\"M102,-83.5C102,-83.5 132,-83.5 132,-83.5 138,-83.5 144,-89.5 144,-95.5 144,-95.5 144,-107.5 144,-107.5 144,-113.5 138,-119.5 132,-119.5 132,-119.5 102,-119.5 102,-119.5 96,-119.5 90,-113.5 90,-107.5 90,-107.5 90,-95.5 90,-95.5 90,-89.5 96,-83.5 102,-83.5\"/>\n",
       "<text text-anchor=\"middle\" x=\"117\" y=\"-96.5\" font-family=\"Helvetica,sans-Serif\" font-size=\"20.00\" fill=\"#000000\">+</text>\n",
       "</g>\n",
       "<!-- a&#45;&gt;ed1b3 -->\n",
       "<g id=\"edge7\" class=\"edge\">\n",
       "<title>a&#45;&gt;ed1b3</title>\n",
       "<path fill=\"none\" stroke=\"#0000ff\" stroke-width=\"4\" d=\"M54.003,-130.8986C62.2922,-127.0303 71.5569,-122.7068 80.3766,-118.5909\"/>\n",
       "<polygon fill=\"#0000ff\" stroke=\"#0000ff\" stroke-width=\"4\" points=\"82.1233,-121.6382 89.705,-114.2377 79.1631,-115.2949 82.1233,-121.6382\"/>\n",
       "</g>\n",
       "<!-- ed1b3&#45;&gt;7ec0c -->\n",
       "<g id=\"edge8\" class=\"edge\">\n",
       "<title>ed1b3&#45;&gt;7ec0c</title>\n",
       "<path fill=\"none\" stroke=\"#0000ff\" stroke-width=\"4\" d=\"M144.003,-84.9982C152.4686,-79.8248 161.9516,-74.0296 170.9389,-68.5373\"/>\n",
       "<polygon fill=\"#0000ff\" stroke=\"#0000ff\" stroke-width=\"4\" points=\"172.9973,-71.3813 179.705,-63.1803 169.3471,-65.4083 172.9973,-71.3813\"/>\n",
       "</g>\n",
       "<!-- c -->\n",
       "<g id=\"node9\" class=\"node\">\n",
       "<title>c</title>\n",
       "<path fill=\"none\" stroke=\"#000000\" stroke-width=\"4\" d=\"M12,-.5C12,-.5 42,-.5 42,-.5 48,-.5 54,-6.5 54,-12.5 54,-12.5 54,-24.5 54,-24.5 54,-30.5 48,-36.5 42,-36.5 42,-36.5 12,-36.5 12,-36.5 6,-36.5 0,-30.5 0,-24.5 0,-24.5 0,-12.5 0,-12.5 0,-6.5 6,-.5 12,-.5\"/>\n",
       "<text text-anchor=\"middle\" x=\"27\" y=\"-13.5\" font-family=\"Helvetica,sans-Serif\" font-size=\"20.00\" fill=\"#000000\">c</text>\n",
       "</g>\n",
       "<!-- c&#45;&gt;7ec0c -->\n",
       "<g id=\"edge9\" class=\"edge\">\n",
       "<title>c&#45;&gt;7ec0c</title>\n",
       "<path fill=\"none\" stroke=\"#ff0000\" stroke-width=\"4\" d=\"M54.286,-15.3266C78.2135,-13.2924 113.7976,-12.0906 144,-18.5 152.9322,-20.3955 162.1355,-23.6479 170.6552,-27.2801\"/>\n",
       "<polygon fill=\"#ff0000\" stroke=\"#ff0000\" stroke-width=\"4\" points=\"169.3801,-30.545 179.9327,-31.4902 172.2729,-24.1706 169.3801,-30.545\"/>\n",
       "</g>\n",
       "<!-- c&#45;&gt;63ba4 -->\n",
       "<g id=\"edge10\" class=\"edge\">\n",
       "<title>c&#45;&gt;63ba4</title>\n",
       "<path fill=\"none\" stroke=\"#ff0000\" stroke-width=\"4\" d=\"M54.003,-26.9009C62.204,-29.4524 71.3599,-32.3009 80.095,-35.0184\"/>\n",
       "<polygon fill=\"#ff0000\" stroke=\"#ff0000\" stroke-width=\"4\" points=\"79.1167,-38.3795 89.705,-38.0082 81.1962,-31.6955 79.1167,-38.3795\"/>\n",
       "</g>\n",
       "<!-- b -->\n",
       "<g id=\"node10\" class=\"node\">\n",
       "<title>b</title>\n",
       "<path fill=\"none\" stroke=\"#000000\" stroke-width=\"4\" d=\"M12,-65.5C12,-65.5 42,-65.5 42,-65.5 48,-65.5 54,-71.5 54,-77.5 54,-77.5 54,-89.5 54,-89.5 54,-95.5 48,-101.5 42,-101.5 42,-101.5 12,-101.5 12,-101.5 6,-101.5 0,-95.5 0,-89.5 0,-89.5 0,-77.5 0,-77.5 0,-71.5 6,-65.5 12,-65.5\"/>\n",
       "<text text-anchor=\"middle\" x=\"27\" y=\"-78.5\" font-family=\"Helvetica,sans-Serif\" font-size=\"20.00\" fill=\"#000000\">b</text>\n",
       "</g>\n",
       "<!-- b&#45;&gt;63ba4 -->\n",
       "<g id=\"edge11\" class=\"edge\">\n",
       "<title>b&#45;&gt;63ba4</title>\n",
       "<path fill=\"none\" stroke=\"#0000ff\" stroke-width=\"4\" d=\"M54.003,-72.3988C62.2922,-68.991 71.5569,-65.1822 80.3766,-61.5563\"/>\n",
       "<polygon fill=\"#0000ff\" stroke=\"#0000ff\" stroke-width=\"4\" points=\"81.7869,-64.7608 89.705,-57.7213 79.1253,-58.2865 81.7869,-64.7608\"/>\n",
       "</g>\n",
       "<!-- b&#45;&gt;ed1b3 -->\n",
       "<g id=\"edge12\" class=\"edge\">\n",
       "<title>b&#45;&gt;ed1b3</title>\n",
       "<path fill=\"none\" stroke=\"#ff0000\" stroke-width=\"4\" d=\"M54.003,-88.9006C62.1158,-90.5232 71.1631,-92.3326 79.8131,-94.0626\"/>\n",
       "<polygon fill=\"#ff0000\" stroke=\"#ff0000\" stroke-width=\"4\" points=\"79.2128,-97.5118 89.705,-96.041 80.5857,-90.6477 79.2128,-97.5118\"/>\n",
       "</g>\n",
       "</g>\n",
       "</svg>\n"
      ]
     },
     "execution_count": 9,
     "metadata": {},
     "output_type": "execute_result"
    }
   ],
   "source": [
    "fun2 + fun1"
   ]
  },
  {
   "cell_type": "code",
   "execution_count": 10,
   "metadata": {},
   "outputs": [],
   "source": [
    "val a = fun2 + 5"
   ]
  },
  {
   "cell_type": "code",
   "execution_count": 11,
   "metadata": {},
   "outputs": [],
   "source": [
    "val b = fun1 * 3 + 5"
   ]
  },
  {
   "cell_type": "code",
   "execution_count": 12,
   "metadata": {},
   "outputs": [
    {
     "data": {
      "text/html": [
       "<svg width=\"441px\" height=\"127px\"\n",
       " viewBox=\"0.00 0.00 441.00 127.00\" xmlns=\"http://www.w3.org/2000/svg\" xmlns:xlink=\"http://www.w3.org/1999/xlink\">\n",
       "<g id=\"graph0\" class=\"graph\" transform=\"scale(1.0 1.0) rotate(0) translate(4 123)\">\n",
       "<title>%3</title>\n",
       "<!-- 567a9 -->\n",
       "<g id=\"node1\" class=\"node\">\n",
       "<title>567a9</title>\n",
       "<path fill=\"none\" stroke=\"#000000\" stroke-width=\"4\" d=\"M192,-27.5C192,-27.5 222,-27.5 222,-27.5 228,-27.5 234,-33.5 234,-39.5 234,-39.5 234,-51.5 234,-51.5 234,-57.5 228,-63.5 222,-63.5 222,-63.5 192,-63.5 192,-63.5 186,-63.5 180,-57.5 180,-51.5 180,-51.5 180,-39.5 180,-39.5 180,-33.5 186,-27.5 192,-27.5\"/>\n",
       "<text text-anchor=\"middle\" x=\"207\" y=\"-40.5\" font-family=\"Helvetica,sans-Serif\" font-size=\"20.00\" fill=\"#000000\">+</text>\n",
       "</g>\n",
       "<!-- e7b64 -->\n",
       "<g id=\"node2\" class=\"node\">\n",
       "<title>e7b64</title>\n",
       "<path fill=\"none\" stroke=\"#000000\" stroke-width=\"4\" d=\"M282,-27.5C282,-27.5 331,-27.5 331,-27.5 337,-27.5 343,-33.5 343,-39.5 343,-39.5 343,-51.5 343,-51.5 343,-57.5 337,-63.5 331,-63.5 331,-63.5 282,-63.5 282,-63.5 276,-63.5 270,-57.5 270,-51.5 270,-51.5 270,-39.5 270,-39.5 270,-33.5 276,-27.5 282,-27.5\"/>\n",
       "<text text-anchor=\"middle\" x=\"306.5\" y=\"-40.5\" font-family=\"Helvetica,sans-Serif\" font-size=\"20.00\" fill=\"#000000\">e7b64</text>\n",
       "</g>\n",
       "<!-- 567a9&#45;&gt;e7b64 -->\n",
       "<g id=\"edge1\" class=\"edge\">\n",
       "<title>567a9&#45;&gt;e7b64</title>\n",
       "<path fill=\"none\" stroke=\"#000000\" stroke-width=\"4\" d=\"M234.1888,-45.5C242.0465,-45.5 250.8569,-45.5 259.5527,-45.5\"/>\n",
       "<polygon fill=\"#000000\" stroke=\"#000000\" stroke-width=\"4\" points=\"259.6443,-49.0001 269.6443,-45.5 259.6442,-42.0001 259.6443,-49.0001\"/>\n",
       "</g>\n",
       "<!-- 95c13 -->\n",
       "<g id=\"node3\" class=\"node\">\n",
       "<title>95c13</title>\n",
       "<path fill=\"none\" stroke=\"#000000\" stroke-width=\"4\" d=\"M391,-54.5C391,-54.5 421,-54.5 421,-54.5 427,-54.5 433,-60.5 433,-66.5 433,-66.5 433,-78.5 433,-78.5 433,-84.5 427,-90.5 421,-90.5 421,-90.5 391,-90.5 391,-90.5 385,-90.5 379,-84.5 379,-78.5 379,-78.5 379,-66.5 379,-66.5 379,-60.5 385,-54.5 391,-54.5\"/>\n",
       "<text text-anchor=\"middle\" x=\"406\" y=\"-67.5\" font-family=\"Helvetica,sans-Serif\" font-size=\"20.00\" fill=\"#000000\">+</text>\n",
       "</g>\n",
       "<!-- e7b64&#45;&gt;95c13 -->\n",
       "<g id=\"edge2\" class=\"edge\">\n",
       "<title>e7b64&#45;&gt;95c13</title>\n",
       "<path fill=\"none\" stroke=\"#0000ff\" stroke-width=\"4\" d=\"M343.2674,-55.4771C351.6111,-57.7412 360.4785,-60.1474 368.8384,-62.416\"/>\n",
       "<polygon fill=\"#0000ff\" stroke=\"#0000ff\" stroke-width=\"4\" points=\"368.1469,-65.8548 378.7146,-65.0959 369.9802,-59.0991 368.1469,-65.8548\"/>\n",
       "</g>\n",
       "<!-- 5 -->\n",
       "<g id=\"node4\" class=\"node\">\n",
       "<title>5</title>\n",
       "<path fill=\"none\" stroke=\"#000000\" stroke-width=\"4\" d=\"M291.5,-82.5C291.5,-82.5 321.5,-82.5 321.5,-82.5 327.5,-82.5 333.5,-88.5 333.5,-94.5 333.5,-94.5 333.5,-106.5 333.5,-106.5 333.5,-112.5 327.5,-118.5 321.5,-118.5 321.5,-118.5 291.5,-118.5 291.5,-118.5 285.5,-118.5 279.5,-112.5 279.5,-106.5 279.5,-106.5 279.5,-94.5 279.5,-94.5 279.5,-88.5 285.5,-82.5 291.5,-82.5\"/>\n",
       "<text text-anchor=\"middle\" x=\"306.5\" y=\"-95.5\" font-family=\"Helvetica,sans-Serif\" font-size=\"20.00\" fill=\"#000000\">5</text>\n",
       "</g>\n",
       "<!-- 5&#45;&gt;95c13 -->\n",
       "<g id=\"edge3\" class=\"edge\">\n",
       "<title>5&#45;&gt;95c13</title>\n",
       "<path fill=\"none\" stroke=\"#ff0000\" stroke-width=\"4\" d=\"M333.6888,-92.8489C344.5476,-89.7932 357.2256,-86.2255 368.9065,-82.9384\"/>\n",
       "<polygon fill=\"#ff0000\" stroke=\"#ff0000\" stroke-width=\"4\" points=\"370.1661,-86.2199 378.8441,-80.1419 368.2698,-79.4817 370.1661,-86.2199\"/>\n",
       "</g>\n",
       "<!-- 63ba4 -->\n",
       "<g id=\"node5\" class=\"node\">\n",
       "<title>63ba4</title>\n",
       "<path fill=\"none\" stroke=\"#000000\" stroke-width=\"4\" d=\"M102,-55.5C102,-55.5 132,-55.5 132,-55.5 138,-55.5 144,-61.5 144,-67.5 144,-67.5 144,-79.5 144,-79.5 144,-85.5 138,-91.5 132,-91.5 132,-91.5 102,-91.5 102,-91.5 96,-91.5 90,-85.5 90,-79.5 90,-79.5 90,-67.5 90,-67.5 90,-61.5 96,-55.5 102,-55.5\"/>\n",
       "<text text-anchor=\"middle\" x=\"117\" y=\"-68.5\" font-family=\"Helvetica,sans-Serif\" font-size=\"20.00\" fill=\"#000000\">+</text>\n",
       "</g>\n",
       "<!-- 63ba4&#45;&gt;567a9 -->\n",
       "<g id=\"edge4\" class=\"edge\">\n",
       "<title>63ba4&#45;&gt;567a9</title>\n",
       "<path fill=\"none\" stroke=\"#0000ff\" stroke-width=\"4\" d=\"M144.003,-65.0991C152.204,-62.5476 161.3599,-59.6991 170.095,-56.9816\"/>\n",
       "<polygon fill=\"#0000ff\" stroke=\"#0000ff\" stroke-width=\"4\" points=\"171.1962,-60.3045 179.705,-53.9918 169.1167,-53.6205 171.1962,-60.3045\"/>\n",
       "</g>\n",
       "<!-- a -->\n",
       "<g id=\"node6\" class=\"node\">\n",
       "<title>a</title>\n",
       "<path fill=\"none\" stroke=\"#000000\" stroke-width=\"4\" d=\"M102,-.5C102,-.5 132,-.5 132,-.5 138,-.5 144,-6.5 144,-12.5 144,-12.5 144,-24.5 144,-24.5 144,-30.5 138,-36.5 132,-36.5 132,-36.5 102,-36.5 102,-36.5 96,-36.5 90,-30.5 90,-24.5 90,-24.5 90,-12.5 90,-12.5 90,-6.5 96,-.5 102,-.5\"/>\n",
       "<text text-anchor=\"middle\" x=\"117\" y=\"-13.5\" font-family=\"Helvetica,sans-Serif\" font-size=\"20.00\" fill=\"#000000\">a</text>\n",
       "</g>\n",
       "<!-- a&#45;&gt;567a9 -->\n",
       "<g id=\"edge5\" class=\"edge\">\n",
       "<title>a&#45;&gt;567a9</title>\n",
       "<path fill=\"none\" stroke=\"#ff0000\" stroke-width=\"4\" d=\"M144.003,-26.6009C152.204,-29.0612 161.3599,-31.808 170.095,-34.4285\"/>\n",
       "<polygon fill=\"#ff0000\" stroke=\"#ff0000\" stroke-width=\"4\" points=\"169.121,-37.7904 179.705,-37.3115 171.1325,-31.0856 169.121,-37.7904\"/>\n",
       "</g>\n",
       "<!-- b -->\n",
       "<g id=\"node7\" class=\"node\">\n",
       "<title>b</title>\n",
       "<path fill=\"none\" stroke=\"#000000\" stroke-width=\"4\" d=\"M12,-82.5C12,-82.5 42,-82.5 42,-82.5 48,-82.5 54,-88.5 54,-94.5 54,-94.5 54,-106.5 54,-106.5 54,-112.5 48,-118.5 42,-118.5 42,-118.5 12,-118.5 12,-118.5 6,-118.5 0,-112.5 0,-106.5 0,-106.5 0,-94.5 0,-94.5 0,-88.5 6,-82.5 12,-82.5\"/>\n",
       "<text text-anchor=\"middle\" x=\"27\" y=\"-95.5\" font-family=\"Helvetica,sans-Serif\" font-size=\"20.00\" fill=\"#000000\">b</text>\n",
       "</g>\n",
       "<!-- b&#45;&gt;63ba4 -->\n",
       "<g id=\"edge6\" class=\"edge\">\n",
       "<title>b&#45;&gt;63ba4</title>\n",
       "<path fill=\"none\" stroke=\"#0000ff\" stroke-width=\"4\" d=\"M54.003,-92.3991C62.204,-89.9388 71.3599,-87.192 80.095,-84.5715\"/>\n",
       "<polygon fill=\"#0000ff\" stroke=\"#0000ff\" stroke-width=\"4\" points=\"81.1325,-87.9144 89.705,-81.6885 79.121,-81.2096 81.1325,-87.9144\"/>\n",
       "</g>\n",
       "<!-- c -->\n",
       "<g id=\"node8\" class=\"node\">\n",
       "<title>c</title>\n",
       "<path fill=\"none\" stroke=\"#000000\" stroke-width=\"4\" d=\"M12,-27.5C12,-27.5 42,-27.5 42,-27.5 48,-27.5 54,-33.5 54,-39.5 54,-39.5 54,-51.5 54,-51.5 54,-57.5 48,-63.5 42,-63.5 42,-63.5 12,-63.5 12,-63.5 6,-63.5 0,-57.5 0,-51.5 0,-51.5 0,-39.5 0,-39.5 0,-33.5 6,-27.5 12,-27.5\"/>\n",
       "<text text-anchor=\"middle\" x=\"27\" y=\"-40.5\" font-family=\"Helvetica,sans-Serif\" font-size=\"20.00\" fill=\"#000000\">c</text>\n",
       "</g>\n",
       "<!-- c&#45;&gt;63ba4 -->\n",
       "<g id=\"edge7\" class=\"edge\">\n",
       "<title>c&#45;&gt;63ba4</title>\n",
       "<path fill=\"none\" stroke=\"#ff0000\" stroke-width=\"4\" d=\"M54.003,-53.9009C62.204,-56.4524 71.3599,-59.3009 80.095,-62.0184\"/>\n",
       "<polygon fill=\"#ff0000\" stroke=\"#ff0000\" stroke-width=\"4\" points=\"79.1167,-65.3795 89.705,-65.0082 81.1962,-58.6955 79.1167,-65.3795\"/>\n",
       "</g>\n",
       "</g>\n",
       "</svg>\n"
      ]
     },
     "execution_count": 12,
     "metadata": {},
     "output_type": "execute_result"
    }
   ],
   "source": [
    "a"
   ]
  },
  {
   "cell_type": "code",
   "execution_count": 13,
   "metadata": {},
   "outputs": [
    {
     "data": {
      "text/html": [
       "<svg width=\"529px\" height=\"154px\"\n",
       " viewBox=\"0.00 0.00 529.00 154.00\" xmlns=\"http://www.w3.org/2000/svg\" xmlns:xlink=\"http://www.w3.org/1999/xlink\">\n",
       "<g id=\"graph0\" class=\"graph\" transform=\"scale(1.0 1.0) rotate(0) translate(4 150)\">\n",
       "<title>%3</title>\n",
       "<!-- eca4b -->\n",
       "<g id=\"node1\" class=\"node\">\n",
       "<title>eca4b</title>\n",
       "<path fill=\"none\" stroke=\"#000000\" stroke-width=\"4\" d=\"M282,-27.5C282,-27.5 329,-27.5 329,-27.5 335,-27.5 341,-33.5 341,-39.5 341,-39.5 341,-51.5 341,-51.5 341,-57.5 335,-63.5 329,-63.5 329,-63.5 282,-63.5 282,-63.5 276,-63.5 270,-57.5 270,-51.5 270,-51.5 270,-39.5 270,-39.5 270,-33.5 276,-27.5 282,-27.5\"/>\n",
       "<text text-anchor=\"middle\" x=\"305.5\" y=\"-40.5\" font-family=\"Helvetica,sans-Serif\" font-size=\"20.00\" fill=\"#000000\">eca4b</text>\n",
       "</g>\n",
       "<!-- 2bb5c -->\n",
       "<g id=\"node2\" class=\"node\">\n",
       "<title>2bb5c</title>\n",
       "<path fill=\"none\" stroke=\"#000000\" stroke-width=\"4\" d=\"M389,-54.5C389,-54.5 419,-54.5 419,-54.5 425,-54.5 431,-60.5 431,-66.5 431,-66.5 431,-78.5 431,-78.5 431,-84.5 425,-90.5 419,-90.5 419,-90.5 389,-90.5 389,-90.5 383,-90.5 377,-84.5 377,-78.5 377,-78.5 377,-66.5 377,-66.5 377,-60.5 383,-54.5 389,-54.5\"/>\n",
       "<text text-anchor=\"middle\" x=\"404\" y=\"-67.5\" font-family=\"Helvetica,sans-Serif\" font-size=\"20.00\" fill=\"#000000\">*</text>\n",
       "</g>\n",
       "<!-- eca4b&#45;&gt;2bb5c -->\n",
       "<g id=\"edge1\" class=\"edge\">\n",
       "<title>eca4b&#45;&gt;2bb5c</title>\n",
       "<path fill=\"none\" stroke=\"#0000ff\" stroke-width=\"4\" d=\"M341.0608,-55.2476C349.5367,-57.571 358.6003,-60.0554 367.1334,-62.3944\"/>\n",
       "<polygon fill=\"#0000ff\" stroke=\"#0000ff\" stroke-width=\"4\" points=\"366.2705,-65.7869 376.84,-65.0551 368.1211,-59.036 366.2705,-65.7869\"/>\n",
       "</g>\n",
       "<!-- 119c0 -->\n",
       "<g id=\"node3\" class=\"node\">\n",
       "<title>119c0</title>\n",
       "<path fill=\"none\" stroke=\"#000000\" stroke-width=\"4\" d=\"M479,-81.5C479,-81.5 509,-81.5 509,-81.5 515,-81.5 521,-87.5 521,-93.5 521,-93.5 521,-105.5 521,-105.5 521,-111.5 515,-117.5 509,-117.5 509,-117.5 479,-117.5 479,-117.5 473,-117.5 467,-111.5 467,-105.5 467,-105.5 467,-93.5 467,-93.5 467,-87.5 473,-81.5 479,-81.5\"/>\n",
       "<text text-anchor=\"middle\" x=\"494\" y=\"-94.5\" font-family=\"Helvetica,sans-Serif\" font-size=\"20.00\" fill=\"#000000\">+</text>\n",
       "</g>\n",
       "<!-- 2bb5c&#45;&gt;119c0 -->\n",
       "<g id=\"edge2\" class=\"edge\">\n",
       "<title>2bb5c&#45;&gt;119c0</title>\n",
       "<path fill=\"none\" stroke=\"#0000ff\" stroke-width=\"4\" d=\"M431.003,-80.6009C439.204,-83.0612 448.3599,-85.808 457.095,-88.4285\"/>\n",
       "<polygon fill=\"#0000ff\" stroke=\"#0000ff\" stroke-width=\"4\" points=\"456.121,-91.7904 466.705,-91.3115 458.1325,-85.0856 456.121,-91.7904\"/>\n",
       "</g>\n",
       "<!-- 3 -->\n",
       "<g id=\"node4\" class=\"node\">\n",
       "<title>3</title>\n",
       "<path fill=\"none\" stroke=\"#000000\" stroke-width=\"4\" d=\"M290.5,-82.5C290.5,-82.5 320.5,-82.5 320.5,-82.5 326.5,-82.5 332.5,-88.5 332.5,-94.5 332.5,-94.5 332.5,-106.5 332.5,-106.5 332.5,-112.5 326.5,-118.5 320.5,-118.5 320.5,-118.5 290.5,-118.5 290.5,-118.5 284.5,-118.5 278.5,-112.5 278.5,-106.5 278.5,-106.5 278.5,-94.5 278.5,-94.5 278.5,-88.5 284.5,-82.5 290.5,-82.5\"/>\n",
       "<text text-anchor=\"middle\" x=\"305.5\" y=\"-95.5\" font-family=\"Helvetica,sans-Serif\" font-size=\"20.00\" fill=\"#000000\">3</text>\n",
       "</g>\n",
       "<!-- 3&#45;&gt;2bb5c -->\n",
       "<g id=\"edge3\" class=\"edge\">\n",
       "<title>3&#45;&gt;2bb5c</title>\n",
       "<path fill=\"none\" stroke=\"#ff0000\" stroke-width=\"4\" d=\"M332.6763,-92.7748C343.3346,-89.745 355.7321,-86.2208 367.1726,-82.9687\"/>\n",
       "<polygon fill=\"#ff0000\" stroke=\"#ff0000\" stroke-width=\"4\" points=\"368.2505,-86.301 376.9124,-80.2 366.3364,-79.5678 368.2505,-86.301\"/>\n",
       "</g>\n",
       "<!-- 5 -->\n",
       "<g id=\"node5\" class=\"node\">\n",
       "<title>5</title>\n",
       "<path fill=\"none\" stroke=\"#000000\" stroke-width=\"4\" d=\"M389,-109.5C389,-109.5 419,-109.5 419,-109.5 425,-109.5 431,-115.5 431,-121.5 431,-121.5 431,-133.5 431,-133.5 431,-139.5 425,-145.5 419,-145.5 419,-145.5 389,-145.5 389,-145.5 383,-145.5 377,-139.5 377,-133.5 377,-133.5 377,-121.5 377,-121.5 377,-115.5 383,-109.5 389,-109.5\"/>\n",
       "<text text-anchor=\"middle\" x=\"404\" y=\"-122.5\" font-family=\"Helvetica,sans-Serif\" font-size=\"20.00\" fill=\"#000000\">5</text>\n",
       "</g>\n",
       "<!-- 5&#45;&gt;119c0 -->\n",
       "<g id=\"edge4\" class=\"edge\">\n",
       "<title>5&#45;&gt;119c0</title>\n",
       "<path fill=\"none\" stroke=\"#ff0000\" stroke-width=\"4\" d=\"M431.003,-119.0991C439.204,-116.5476 448.3599,-113.6991 457.095,-110.9816\"/>\n",
       "<polygon fill=\"#ff0000\" stroke=\"#ff0000\" stroke-width=\"4\" points=\"458.1962,-114.3045 466.705,-107.9918 456.1167,-107.6205 458.1962,-114.3045\"/>\n",
       "</g>\n",
       "<!-- 7ec0c -->\n",
       "<g id=\"node6\" class=\"node\">\n",
       "<title>7ec0c</title>\n",
       "<path fill=\"none\" stroke=\"#000000\" stroke-width=\"4\" d=\"M192,-27.5C192,-27.5 222,-27.5 222,-27.5 228,-27.5 234,-33.5 234,-39.5 234,-39.5 234,-51.5 234,-51.5 234,-57.5 228,-63.5 222,-63.5 222,-63.5 192,-63.5 192,-63.5 186,-63.5 180,-57.5 180,-51.5 180,-51.5 180,-39.5 180,-39.5 180,-33.5 186,-27.5 192,-27.5\"/>\n",
       "<text text-anchor=\"middle\" x=\"207\" y=\"-40.5\" font-family=\"Helvetica,sans-Serif\" font-size=\"20.00\" fill=\"#000000\">+</text>\n",
       "</g>\n",
       "<!-- 7ec0c&#45;&gt;eca4b -->\n",
       "<g id=\"edge5\" class=\"edge\">\n",
       "<title>7ec0c&#45;&gt;eca4b</title>\n",
       "<path fill=\"none\" stroke=\"#000000\" stroke-width=\"4\" d=\"M234.1763,-45.5C242.1165,-45.5 251.0218,-45.5 259.7776,-45.5\"/>\n",
       "<polygon fill=\"#000000\" stroke=\"#000000\" stroke-width=\"4\" points=\"259.9208,-49.0001 269.9207,-45.5 259.9207,-42.0001 259.9208,-49.0001\"/>\n",
       "</g>\n",
       "<!-- ed1b3 -->\n",
       "<g id=\"node7\" class=\"node\">\n",
       "<title>ed1b3</title>\n",
       "<path fill=\"none\" stroke=\"#000000\" stroke-width=\"4\" d=\"M102,-55.5C102,-55.5 132,-55.5 132,-55.5 138,-55.5 144,-61.5 144,-67.5 144,-67.5 144,-79.5 144,-79.5 144,-85.5 138,-91.5 132,-91.5 132,-91.5 102,-91.5 102,-91.5 96,-91.5 90,-85.5 90,-79.5 90,-79.5 90,-67.5 90,-67.5 90,-61.5 96,-55.5 102,-55.5\"/>\n",
       "<text text-anchor=\"middle\" x=\"117\" y=\"-68.5\" font-family=\"Helvetica,sans-Serif\" font-size=\"20.00\" fill=\"#000000\">+</text>\n",
       "</g>\n",
       "<!-- ed1b3&#45;&gt;7ec0c -->\n",
       "<g id=\"edge6\" class=\"edge\">\n",
       "<title>ed1b3&#45;&gt;7ec0c</title>\n",
       "<path fill=\"none\" stroke=\"#0000ff\" stroke-width=\"4\" d=\"M144.003,-65.0991C152.204,-62.5476 161.3599,-59.6991 170.095,-56.9816\"/>\n",
       "<polygon fill=\"#0000ff\" stroke=\"#0000ff\" stroke-width=\"4\" points=\"171.1962,-60.3045 179.705,-53.9918 169.1167,-53.6205 171.1962,-60.3045\"/>\n",
       "</g>\n",
       "<!-- c -->\n",
       "<g id=\"node8\" class=\"node\">\n",
       "<title>c</title>\n",
       "<path fill=\"none\" stroke=\"#000000\" stroke-width=\"4\" d=\"M102,-.5C102,-.5 132,-.5 132,-.5 138,-.5 144,-6.5 144,-12.5 144,-12.5 144,-24.5 144,-24.5 144,-30.5 138,-36.5 132,-36.5 132,-36.5 102,-36.5 102,-36.5 96,-36.5 90,-30.5 90,-24.5 90,-24.5 90,-12.5 90,-12.5 90,-6.5 96,-.5 102,-.5\"/>\n",
       "<text text-anchor=\"middle\" x=\"117\" y=\"-13.5\" font-family=\"Helvetica,sans-Serif\" font-size=\"20.00\" fill=\"#000000\">c</text>\n",
       "</g>\n",
       "<!-- c&#45;&gt;7ec0c -->\n",
       "<g id=\"edge7\" class=\"edge\">\n",
       "<title>c&#45;&gt;7ec0c</title>\n",
       "<path fill=\"none\" stroke=\"#ff0000\" stroke-width=\"4\" d=\"M144.003,-26.6009C152.204,-29.0612 161.3599,-31.808 170.095,-34.4285\"/>\n",
       "<polygon fill=\"#ff0000\" stroke=\"#ff0000\" stroke-width=\"4\" points=\"169.121,-37.7904 179.705,-37.3115 171.1325,-31.0856 169.121,-37.7904\"/>\n",
       "</g>\n",
       "<!-- a -->\n",
       "<g id=\"node9\" class=\"node\">\n",
       "<title>a</title>\n",
       "<path fill=\"none\" stroke=\"#000000\" stroke-width=\"4\" d=\"M12,-82.5C12,-82.5 42,-82.5 42,-82.5 48,-82.5 54,-88.5 54,-94.5 54,-94.5 54,-106.5 54,-106.5 54,-112.5 48,-118.5 42,-118.5 42,-118.5 12,-118.5 12,-118.5 6,-118.5 0,-112.5 0,-106.5 0,-106.5 0,-94.5 0,-94.5 0,-88.5 6,-82.5 12,-82.5\"/>\n",
       "<text text-anchor=\"middle\" x=\"27\" y=\"-95.5\" font-family=\"Helvetica,sans-Serif\" font-size=\"20.00\" fill=\"#000000\">a</text>\n",
       "</g>\n",
       "<!-- a&#45;&gt;ed1b3 -->\n",
       "<g id=\"edge8\" class=\"edge\">\n",
       "<title>a&#45;&gt;ed1b3</title>\n",
       "<path fill=\"none\" stroke=\"#0000ff\" stroke-width=\"4\" d=\"M54.003,-92.3991C62.204,-89.9388 71.3599,-87.192 80.095,-84.5715\"/>\n",
       "<polygon fill=\"#0000ff\" stroke=\"#0000ff\" stroke-width=\"4\" points=\"81.1325,-87.9144 89.705,-81.6885 79.121,-81.2096 81.1325,-87.9144\"/>\n",
       "</g>\n",
       "<!-- b -->\n",
       "<g id=\"node10\" class=\"node\">\n",
       "<title>b</title>\n",
       "<path fill=\"none\" stroke=\"#000000\" stroke-width=\"4\" d=\"M12,-27.5C12,-27.5 42,-27.5 42,-27.5 48,-27.5 54,-33.5 54,-39.5 54,-39.5 54,-51.5 54,-51.5 54,-57.5 48,-63.5 42,-63.5 42,-63.5 12,-63.5 12,-63.5 6,-63.5 0,-57.5 0,-51.5 0,-51.5 0,-39.5 0,-39.5 0,-33.5 6,-27.5 12,-27.5\"/>\n",
       "<text text-anchor=\"middle\" x=\"27\" y=\"-40.5\" font-family=\"Helvetica,sans-Serif\" font-size=\"20.00\" fill=\"#000000\">b</text>\n",
       "</g>\n",
       "<!-- b&#45;&gt;ed1b3 -->\n",
       "<g id=\"edge9\" class=\"edge\">\n",
       "<title>b&#45;&gt;ed1b3</title>\n",
       "<path fill=\"none\" stroke=\"#ff0000\" stroke-width=\"4\" d=\"M54.003,-53.9009C62.204,-56.4524 71.3599,-59.3009 80.095,-62.0184\"/>\n",
       "<polygon fill=\"#ff0000\" stroke=\"#ff0000\" stroke-width=\"4\" points=\"79.1167,-65.3795 89.705,-65.0082 81.1962,-58.6955 79.1167,-65.3795\"/>\n",
       "</g>\n",
       "</g>\n",
       "</svg>\n"
      ]
     },
     "execution_count": 13,
     "metadata": {},
     "output_type": "execute_result"
    }
   ],
   "source": [
    "b"
   ]
  },
  {
   "cell_type": "code",
   "execution_count": 14,
   "metadata": {},
   "outputs": [
    {
     "data": {
      "text/plain": [
       "false"
      ]
     },
     "execution_count": 14,
     "metadata": {},
     "output_type": "execute_result"
    }
   ],
   "source": [
    "b.graph == a.graph"
   ]
  },
  {
   "cell_type": "code",
   "execution_count": 15,
   "metadata": {},
   "outputs": [
    {
     "data": {
      "text/plain": [
       "{*=3008, 5=1, +=4000, eca4b=2016, 3=1, +=1985, +=993, c=1, a=1, b=1}"
      ]
     },
     "execution_count": 15,
     "metadata": {},
     "output_type": "execute_result"
    }
   ],
   "source": [
    "b.graph.wl()"
   ]
  },
  {
   "cell_type": "code",
   "execution_count": 16,
   "metadata": {},
   "outputs": [
    {
     "data": {
      "text/plain": [
       "{e7b64=2016, 5=1, +=3008, +=1985, +=993, a=1, b=1, c=1}"
      ]
     },
     "execution_count": 16,
     "metadata": {},
     "output_type": "execute_result"
    }
   ],
   "source": [
    "a.graph.wl()"
   ]
  },
  {
   "cell_type": "code",
   "execution_count": 17,
   "metadata": {},
   "outputs": [
    {
     "data": {
      "text/plain": [
       "{+=1985, eca4b=2016, +=993, c=1, a=1, b=1}"
      ]
     },
     "execution_count": 17,
     "metadata": {},
     "output_type": "execute_result"
    }
   ],
   "source": [
    "fun1.graph.wl()"
   ]
  },
  {
   "cell_type": "code",
   "execution_count": 18,
   "metadata": {},
   "outputs": [
    {
     "data": {
      "text/plain": [
       "{+=1985, e7b64=2016, +=993, a=1, b=1, c=1}"
      ]
     },
     "execution_count": 18,
     "metadata": {},
     "output_type": "execute_result"
    }
   ],
   "source": [
    "fun2.graph.wl()"
   ]
  },
  {
   "cell_type": "code",
   "execution_count": 19,
   "metadata": {},
   "outputs": [
    {
     "data": {
      "text/plain": [
       "{e7b64=2016, 0=1, +=3008, +=1985, +=993, a=1, b=1, c=1}"
      ]
     },
     "execution_count": 19,
     "metadata": {},
     "output_type": "execute_result"
    }
   ],
   "source": [
    "(fun2 + 0).graph.wl()"
   ]
  },
  {
   "cell_type": "code",
   "execution_count": 20,
   "metadata": {},
   "outputs": [
    {
     "data": {
      "text/html": [
       "<svg width=\"441px\" height=\"127px\"\n",
       " viewBox=\"0.00 0.00 441.00 127.00\" xmlns=\"http://www.w3.org/2000/svg\" xmlns:xlink=\"http://www.w3.org/1999/xlink\">\n",
       "<g id=\"graph0\" class=\"graph\" transform=\"scale(1.0 1.0) rotate(0) translate(4 123)\">\n",
       "<title>%3</title>\n",
       "<!-- 567a9 -->\n",
       "<g id=\"node1\" class=\"node\">\n",
       "<title>567a9</title>\n",
       "<path fill=\"none\" stroke=\"#000000\" stroke-width=\"4\" d=\"M192,-27.5C192,-27.5 222,-27.5 222,-27.5 228,-27.5 234,-33.5 234,-39.5 234,-39.5 234,-51.5 234,-51.5 234,-57.5 228,-63.5 222,-63.5 222,-63.5 192,-63.5 192,-63.5 186,-63.5 180,-57.5 180,-51.5 180,-51.5 180,-39.5 180,-39.5 180,-33.5 186,-27.5 192,-27.5\"/>\n",
       "<text text-anchor=\"middle\" x=\"207\" y=\"-40.5\" font-family=\"Helvetica,sans-Serif\" font-size=\"20.00\" fill=\"#000000\">+</text>\n",
       "</g>\n",
       "<!-- e7b64 -->\n",
       "<g id=\"node2\" class=\"node\">\n",
       "<title>e7b64</title>\n",
       "<path fill=\"none\" stroke=\"#000000\" stroke-width=\"4\" d=\"M282,-27.5C282,-27.5 331,-27.5 331,-27.5 337,-27.5 343,-33.5 343,-39.5 343,-39.5 343,-51.5 343,-51.5 343,-57.5 337,-63.5 331,-63.5 331,-63.5 282,-63.5 282,-63.5 276,-63.5 270,-57.5 270,-51.5 270,-51.5 270,-39.5 270,-39.5 270,-33.5 276,-27.5 282,-27.5\"/>\n",
       "<text text-anchor=\"middle\" x=\"306.5\" y=\"-40.5\" font-family=\"Helvetica,sans-Serif\" font-size=\"20.00\" fill=\"#000000\">e7b64</text>\n",
       "</g>\n",
       "<!-- 567a9&#45;&gt;e7b64 -->\n",
       "<g id=\"edge1\" class=\"edge\">\n",
       "<title>567a9&#45;&gt;e7b64</title>\n",
       "<path fill=\"none\" stroke=\"#000000\" stroke-width=\"4\" d=\"M234.1888,-45.5C242.0465,-45.5 250.8569,-45.5 259.5527,-45.5\"/>\n",
       "<polygon fill=\"#000000\" stroke=\"#000000\" stroke-width=\"4\" points=\"259.6443,-49.0001 269.6443,-45.5 259.6442,-42.0001 259.6443,-49.0001\"/>\n",
       "</g>\n",
       "<!-- 61b43 -->\n",
       "<g id=\"node3\" class=\"node\">\n",
       "<title>61b43</title>\n",
       "<path fill=\"none\" stroke=\"#000000\" stroke-width=\"4\" d=\"M391,-54.5C391,-54.5 421,-54.5 421,-54.5 427,-54.5 433,-60.5 433,-66.5 433,-66.5 433,-78.5 433,-78.5 433,-84.5 427,-90.5 421,-90.5 421,-90.5 391,-90.5 391,-90.5 385,-90.5 379,-84.5 379,-78.5 379,-78.5 379,-66.5 379,-66.5 379,-60.5 385,-54.5 391,-54.5\"/>\n",
       "<text text-anchor=\"middle\" x=\"406\" y=\"-67.5\" font-family=\"Helvetica,sans-Serif\" font-size=\"20.00\" fill=\"#000000\">+</text>\n",
       "</g>\n",
       "<!-- e7b64&#45;&gt;61b43 -->\n",
       "<g id=\"edge2\" class=\"edge\">\n",
       "<title>e7b64&#45;&gt;61b43</title>\n",
       "<path fill=\"none\" stroke=\"#0000ff\" stroke-width=\"4\" d=\"M343.2674,-55.4771C351.6111,-57.7412 360.4785,-60.1474 368.8384,-62.416\"/>\n",
       "<polygon fill=\"#0000ff\" stroke=\"#0000ff\" stroke-width=\"4\" points=\"368.1469,-65.8548 378.7146,-65.0959 369.9802,-59.0991 368.1469,-65.8548\"/>\n",
       "</g>\n",
       "<!-- 0 -->\n",
       "<g id=\"node4\" class=\"node\">\n",
       "<title>0</title>\n",
       "<path fill=\"none\" stroke=\"#000000\" stroke-width=\"4\" d=\"M291.5,-82.5C291.5,-82.5 321.5,-82.5 321.5,-82.5 327.5,-82.5 333.5,-88.5 333.5,-94.5 333.5,-94.5 333.5,-106.5 333.5,-106.5 333.5,-112.5 327.5,-118.5 321.5,-118.5 321.5,-118.5 291.5,-118.5 291.5,-118.5 285.5,-118.5 279.5,-112.5 279.5,-106.5 279.5,-106.5 279.5,-94.5 279.5,-94.5 279.5,-88.5 285.5,-82.5 291.5,-82.5\"/>\n",
       "<text text-anchor=\"middle\" x=\"306.5\" y=\"-95.5\" font-family=\"Helvetica,sans-Serif\" font-size=\"20.00\" fill=\"#000000\">0</text>\n",
       "</g>\n",
       "<!-- 0&#45;&gt;61b43 -->\n",
       "<g id=\"edge3\" class=\"edge\">\n",
       "<title>0&#45;&gt;61b43</title>\n",
       "<path fill=\"none\" stroke=\"#ff0000\" stroke-width=\"4\" d=\"M333.6888,-92.8489C344.5476,-89.7932 357.2256,-86.2255 368.9065,-82.9384\"/>\n",
       "<polygon fill=\"#ff0000\" stroke=\"#ff0000\" stroke-width=\"4\" points=\"370.1661,-86.2199 378.8441,-80.1419 368.2698,-79.4817 370.1661,-86.2199\"/>\n",
       "</g>\n",
       "<!-- 63ba4 -->\n",
       "<g id=\"node5\" class=\"node\">\n",
       "<title>63ba4</title>\n",
       "<path fill=\"none\" stroke=\"#000000\" stroke-width=\"4\" d=\"M102,-55.5C102,-55.5 132,-55.5 132,-55.5 138,-55.5 144,-61.5 144,-67.5 144,-67.5 144,-79.5 144,-79.5 144,-85.5 138,-91.5 132,-91.5 132,-91.5 102,-91.5 102,-91.5 96,-91.5 90,-85.5 90,-79.5 90,-79.5 90,-67.5 90,-67.5 90,-61.5 96,-55.5 102,-55.5\"/>\n",
       "<text text-anchor=\"middle\" x=\"117\" y=\"-68.5\" font-family=\"Helvetica,sans-Serif\" font-size=\"20.00\" fill=\"#000000\">+</text>\n",
       "</g>\n",
       "<!-- 63ba4&#45;&gt;567a9 -->\n",
       "<g id=\"edge4\" class=\"edge\">\n",
       "<title>63ba4&#45;&gt;567a9</title>\n",
       "<path fill=\"none\" stroke=\"#0000ff\" stroke-width=\"4\" d=\"M144.003,-65.0991C152.204,-62.5476 161.3599,-59.6991 170.095,-56.9816\"/>\n",
       "<polygon fill=\"#0000ff\" stroke=\"#0000ff\" stroke-width=\"4\" points=\"171.1962,-60.3045 179.705,-53.9918 169.1167,-53.6205 171.1962,-60.3045\"/>\n",
       "</g>\n",
       "<!-- a -->\n",
       "<g id=\"node6\" class=\"node\">\n",
       "<title>a</title>\n",
       "<path fill=\"none\" stroke=\"#000000\" stroke-width=\"4\" d=\"M102,-.5C102,-.5 132,-.5 132,-.5 138,-.5 144,-6.5 144,-12.5 144,-12.5 144,-24.5 144,-24.5 144,-30.5 138,-36.5 132,-36.5 132,-36.5 102,-36.5 102,-36.5 96,-36.5 90,-30.5 90,-24.5 90,-24.5 90,-12.5 90,-12.5 90,-6.5 96,-.5 102,-.5\"/>\n",
       "<text text-anchor=\"middle\" x=\"117\" y=\"-13.5\" font-family=\"Helvetica,sans-Serif\" font-size=\"20.00\" fill=\"#000000\">a</text>\n",
       "</g>\n",
       "<!-- a&#45;&gt;567a9 -->\n",
       "<g id=\"edge5\" class=\"edge\">\n",
       "<title>a&#45;&gt;567a9</title>\n",
       "<path fill=\"none\" stroke=\"#ff0000\" stroke-width=\"4\" d=\"M144.003,-26.6009C152.204,-29.0612 161.3599,-31.808 170.095,-34.4285\"/>\n",
       "<polygon fill=\"#ff0000\" stroke=\"#ff0000\" stroke-width=\"4\" points=\"169.121,-37.7904 179.705,-37.3115 171.1325,-31.0856 169.121,-37.7904\"/>\n",
       "</g>\n",
       "<!-- b -->\n",
       "<g id=\"node7\" class=\"node\">\n",
       "<title>b</title>\n",
       "<path fill=\"none\" stroke=\"#000000\" stroke-width=\"4\" d=\"M12,-82.5C12,-82.5 42,-82.5 42,-82.5 48,-82.5 54,-88.5 54,-94.5 54,-94.5 54,-106.5 54,-106.5 54,-112.5 48,-118.5 42,-118.5 42,-118.5 12,-118.5 12,-118.5 6,-118.5 0,-112.5 0,-106.5 0,-106.5 0,-94.5 0,-94.5 0,-88.5 6,-82.5 12,-82.5\"/>\n",
       "<text text-anchor=\"middle\" x=\"27\" y=\"-95.5\" font-family=\"Helvetica,sans-Serif\" font-size=\"20.00\" fill=\"#000000\">b</text>\n",
       "</g>\n",
       "<!-- b&#45;&gt;63ba4 -->\n",
       "<g id=\"edge6\" class=\"edge\">\n",
       "<title>b&#45;&gt;63ba4</title>\n",
       "<path fill=\"none\" stroke=\"#0000ff\" stroke-width=\"4\" d=\"M54.003,-92.3991C62.204,-89.9388 71.3599,-87.192 80.095,-84.5715\"/>\n",
       "<polygon fill=\"#0000ff\" stroke=\"#0000ff\" stroke-width=\"4\" points=\"81.1325,-87.9144 89.705,-81.6885 79.121,-81.2096 81.1325,-87.9144\"/>\n",
       "</g>\n",
       "<!-- c -->\n",
       "<g id=\"node8\" class=\"node\">\n",
       "<title>c</title>\n",
       "<path fill=\"none\" stroke=\"#000000\" stroke-width=\"4\" d=\"M12,-27.5C12,-27.5 42,-27.5 42,-27.5 48,-27.5 54,-33.5 54,-39.5 54,-39.5 54,-51.5 54,-51.5 54,-57.5 48,-63.5 42,-63.5 42,-63.5 12,-63.5 12,-63.5 6,-63.5 0,-57.5 0,-51.5 0,-51.5 0,-39.5 0,-39.5 0,-33.5 6,-27.5 12,-27.5\"/>\n",
       "<text text-anchor=\"middle\" x=\"27\" y=\"-40.5\" font-family=\"Helvetica,sans-Serif\" font-size=\"20.00\" fill=\"#000000\">c</text>\n",
       "</g>\n",
       "<!-- c&#45;&gt;63ba4 -->\n",
       "<g id=\"edge7\" class=\"edge\">\n",
       "<title>c&#45;&gt;63ba4</title>\n",
       "<path fill=\"none\" stroke=\"#ff0000\" stroke-width=\"4\" d=\"M54.003,-53.9009C62.204,-56.4524 71.3599,-59.3009 80.095,-62.0184\"/>\n",
       "<polygon fill=\"#ff0000\" stroke=\"#ff0000\" stroke-width=\"4\" points=\"79.1167,-65.3795 89.705,-65.0082 81.1962,-58.6955 79.1167,-65.3795\"/>\n",
       "</g>\n",
       "</g>\n",
       "</svg>\n"
      ]
     },
     "execution_count": 20,
     "metadata": {},
     "output_type": "execute_result"
    }
   ],
   "source": [
    "(fun2 + 0).graph"
   ]
  },
  {
   "cell_type": "code",
   "execution_count": 21,
   "metadata": {},
   "outputs": [
    {
     "data": {
      "text/html": [
       "<svg width=\"351px\" height=\"127px\"\n",
       " viewBox=\"0.00 0.00 351.00 127.00\" xmlns=\"http://www.w3.org/2000/svg\" xmlns:xlink=\"http://www.w3.org/1999/xlink\">\n",
       "<g id=\"graph0\" class=\"graph\" transform=\"scale(1.0 1.0) rotate(0) translate(4 123)\">\n",
       "<title>%3</title>\n",
       "<!-- 63ba4 -->\n",
       "<g id=\"node1\" class=\"node\">\n",
       "<title>63ba4</title>\n",
       "<path fill=\"none\" stroke=\"#000000\" stroke-width=\"4\" d=\"M102,-27.5C102,-27.5 132,-27.5 132,-27.5 138,-27.5 144,-33.5 144,-39.5 144,-39.5 144,-51.5 144,-51.5 144,-57.5 138,-63.5 132,-63.5 132,-63.5 102,-63.5 102,-63.5 96,-63.5 90,-57.5 90,-51.5 90,-51.5 90,-39.5 90,-39.5 90,-33.5 96,-27.5 102,-27.5\"/>\n",
       "<text text-anchor=\"middle\" x=\"117\" y=\"-40.5\" font-family=\"Helvetica,sans-Serif\" font-size=\"20.00\" fill=\"#000000\">+</text>\n",
       "</g>\n",
       "<!-- 567a9 -->\n",
       "<g id=\"node2\" class=\"node\">\n",
       "<title>567a9</title>\n",
       "<path fill=\"none\" stroke=\"#000000\" stroke-width=\"4\" d=\"M192,-54.5C192,-54.5 222,-54.5 222,-54.5 228,-54.5 234,-60.5 234,-66.5 234,-66.5 234,-78.5 234,-78.5 234,-84.5 228,-90.5 222,-90.5 222,-90.5 192,-90.5 192,-90.5 186,-90.5 180,-84.5 180,-78.5 180,-78.5 180,-66.5 180,-66.5 180,-60.5 186,-54.5 192,-54.5\"/>\n",
       "<text text-anchor=\"middle\" x=\"207\" y=\"-67.5\" font-family=\"Helvetica,sans-Serif\" font-size=\"20.00\" fill=\"#000000\">+</text>\n",
       "</g>\n",
       "<!-- 63ba4&#45;&gt;567a9 -->\n",
       "<g id=\"edge1\" class=\"edge\">\n",
       "<title>63ba4&#45;&gt;567a9</title>\n",
       "<path fill=\"none\" stroke=\"#0000ff\" stroke-width=\"4\" d=\"M144.003,-53.6009C152.204,-56.0612 161.3599,-58.808 170.095,-61.4285\"/>\n",
       "<polygon fill=\"#0000ff\" stroke=\"#0000ff\" stroke-width=\"4\" points=\"169.121,-64.7904 179.705,-64.3115 171.1325,-58.0856 169.121,-64.7904\"/>\n",
       "</g>\n",
       "<!-- e7b64 -->\n",
       "<g id=\"node3\" class=\"node\">\n",
       "<title>e7b64</title>\n",
       "<path fill=\"none\" stroke=\"#000000\" stroke-width=\"4\" d=\"M282,-54.5C282,-54.5 331,-54.5 331,-54.5 337,-54.5 343,-60.5 343,-66.5 343,-66.5 343,-78.5 343,-78.5 343,-84.5 337,-90.5 331,-90.5 331,-90.5 282,-90.5 282,-90.5 276,-90.5 270,-84.5 270,-78.5 270,-78.5 270,-66.5 270,-66.5 270,-60.5 276,-54.5 282,-54.5\"/>\n",
       "<text text-anchor=\"middle\" x=\"306.5\" y=\"-67.5\" font-family=\"Helvetica,sans-Serif\" font-size=\"20.00\" fill=\"#000000\">e7b64</text>\n",
       "</g>\n",
       "<!-- 567a9&#45;&gt;e7b64 -->\n",
       "<g id=\"edge2\" class=\"edge\">\n",
       "<title>567a9&#45;&gt;e7b64</title>\n",
       "<path fill=\"none\" stroke=\"#000000\" stroke-width=\"4\" d=\"M234.1888,-72.5C242.0465,-72.5 250.8569,-72.5 259.5527,-72.5\"/>\n",
       "<polygon fill=\"#000000\" stroke=\"#000000\" stroke-width=\"4\" points=\"259.6443,-76.0001 269.6443,-72.5 259.6442,-69.0001 259.6443,-76.0001\"/>\n",
       "</g>\n",
       "<!-- a -->\n",
       "<g id=\"node4\" class=\"node\">\n",
       "<title>a</title>\n",
       "<path fill=\"none\" stroke=\"#000000\" stroke-width=\"4\" d=\"M102,-82.5C102,-82.5 132,-82.5 132,-82.5 138,-82.5 144,-88.5 144,-94.5 144,-94.5 144,-106.5 144,-106.5 144,-112.5 138,-118.5 132,-118.5 132,-118.5 102,-118.5 102,-118.5 96,-118.5 90,-112.5 90,-106.5 90,-106.5 90,-94.5 90,-94.5 90,-88.5 96,-82.5 102,-82.5\"/>\n",
       "<text text-anchor=\"middle\" x=\"117\" y=\"-95.5\" font-family=\"Helvetica,sans-Serif\" font-size=\"20.00\" fill=\"#000000\">a</text>\n",
       "</g>\n",
       "<!-- a&#45;&gt;567a9 -->\n",
       "<g id=\"edge3\" class=\"edge\">\n",
       "<title>a&#45;&gt;567a9</title>\n",
       "<path fill=\"none\" stroke=\"#ff0000\" stroke-width=\"4\" d=\"M144.003,-92.0991C152.204,-89.5476 161.3599,-86.6991 170.095,-83.9816\"/>\n",
       "<polygon fill=\"#ff0000\" stroke=\"#ff0000\" stroke-width=\"4\" points=\"171.1962,-87.3045 179.705,-80.9918 169.1167,-80.6205 171.1962,-87.3045\"/>\n",
       "</g>\n",
       "<!-- b -->\n",
       "<g id=\"node5\" class=\"node\">\n",
       "<title>b</title>\n",
       "<path fill=\"none\" stroke=\"#000000\" stroke-width=\"4\" d=\"M12,-55.5C12,-55.5 42,-55.5 42,-55.5 48,-55.5 54,-61.5 54,-67.5 54,-67.5 54,-79.5 54,-79.5 54,-85.5 48,-91.5 42,-91.5 42,-91.5 12,-91.5 12,-91.5 6,-91.5 0,-85.5 0,-79.5 0,-79.5 0,-67.5 0,-67.5 0,-61.5 6,-55.5 12,-55.5\"/>\n",
       "<text text-anchor=\"middle\" x=\"27\" y=\"-68.5\" font-family=\"Helvetica,sans-Serif\" font-size=\"20.00\" fill=\"#000000\">b</text>\n",
       "</g>\n",
       "<!-- b&#45;&gt;63ba4 -->\n",
       "<g id=\"edge4\" class=\"edge\">\n",
       "<title>b&#45;&gt;63ba4</title>\n",
       "<path fill=\"none\" stroke=\"#0000ff\" stroke-width=\"4\" d=\"M54.003,-65.0991C62.204,-62.5476 71.3599,-59.6991 80.095,-56.9816\"/>\n",
       "<polygon fill=\"#0000ff\" stroke=\"#0000ff\" stroke-width=\"4\" points=\"81.1962,-60.3045 89.705,-53.9918 79.1167,-53.6205 81.1962,-60.3045\"/>\n",
       "</g>\n",
       "<!-- c -->\n",
       "<g id=\"node6\" class=\"node\">\n",
       "<title>c</title>\n",
       "<path fill=\"none\" stroke=\"#000000\" stroke-width=\"4\" d=\"M12,-.5C12,-.5 42,-.5 42,-.5 48,-.5 54,-6.5 54,-12.5 54,-12.5 54,-24.5 54,-24.5 54,-30.5 48,-36.5 42,-36.5 42,-36.5 12,-36.5 12,-36.5 6,-36.5 0,-30.5 0,-24.5 0,-24.5 0,-12.5 0,-12.5 0,-6.5 6,-.5 12,-.5\"/>\n",
       "<text text-anchor=\"middle\" x=\"27\" y=\"-13.5\" font-family=\"Helvetica,sans-Serif\" font-size=\"20.00\" fill=\"#000000\">c</text>\n",
       "</g>\n",
       "<!-- c&#45;&gt;63ba4 -->\n",
       "<g id=\"edge5\" class=\"edge\">\n",
       "<title>c&#45;&gt;63ba4</title>\n",
       "<path fill=\"none\" stroke=\"#ff0000\" stroke-width=\"4\" d=\"M54.003,-26.6009C62.204,-29.0612 71.3599,-31.808 80.095,-34.4285\"/>\n",
       "<polygon fill=\"#ff0000\" stroke=\"#ff0000\" stroke-width=\"4\" points=\"79.121,-37.7904 89.705,-37.3115 81.1325,-31.0856 79.121,-37.7904\"/>\n",
       "</g>\n",
       "</g>\n",
       "</svg>\n"
      ]
     },
     "execution_count": 21,
     "metadata": {},
     "output_type": "execute_result"
    }
   ],
   "source": [
    "fun2"
   ]
  },
  {
   "cell_type": "code",
   "execution_count": 22,
   "metadata": {},
   "outputs": [
    {
     "data": {
      "text/plain": [
       "95010030"
      ]
     },
     "execution_count": 22,
     "metadata": {},
     "output_type": "execute_result"
    }
   ],
   "source": [
    "fun2.hashCode()"
   ]
  },
  {
   "cell_type": "code",
   "execution_count": 23,
   "metadata": {},
   "outputs": [
    {
     "data": {
      "text/plain": [
       "96319857"
      ]
     },
     "execution_count": 23,
     "metadata": {},
     "output_type": "execute_result"
    }
   ],
   "source": [
    "fun1.hashCode()"
   ]
  },
  {
   "cell_type": "code",
   "execution_count": 24,
   "metadata": {},
   "outputs": [
    {
     "data": {
      "text/html": [
       "<img src=\"data:image/jpg;base64,iVBORw0KGgoAAAANSUhEUgAAAHgAAAB4CAIAAAC2BqGFAAAAjElEQVR4Xu3QMREAIAADMfybBgHdy9DkXsGfM+Z+ak4u6DQnF3Sakws6zckFnebkgk5zckGnObmg05xc0GlOLug0Jxd0mpMLOs3JBZ3m5IJOc3JBpzm5oNOcXNBpTi7oNCcXdJqTCzoBAAAAAAAAAAAAAAAAAAAAAAAAAAAAAAAAAAAAAAAAAAAAAFsedgUdDviSZjkAAAAASUVORK5CYII=\"/>"
      ]
     },
     "execution_count": 24,
     "metadata": {},
     "output_type": "execute_result"
    }
   ],
   "source": [
    "fun1.graph.ASYMNORM.let { it * it }"
   ]
  },
  {
   "cell_type": "code",
   "execution_count": null,
   "metadata": {},
   "outputs": [],
   "source": []
  }
 ],
 "metadata": {
  "kernelspec": {
   "display_name": "Kotlin",
   "language": "kotlin",
   "name": "kotlin"
  },
  "language_info": {
   "codemirror_mode": "text/x-kotlin",
   "file_extension": ".kt",
   "mimetype": "text/x-kotlin",
   "name": "kotlin",
   "pygments_lexer": "kotlin",
   "version": "1.4.20-dev-2342"
  }
 },
 "nbformat": 4,
 "nbformat_minor": 4
}