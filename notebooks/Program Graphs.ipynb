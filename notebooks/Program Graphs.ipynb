{
 "cells": [
  {
   "cell_type": "code",
   "execution_count": 1,
   "metadata": {},
   "outputs": [
    {
     "name": "stdout",
     "output_type": "stream",
     "text": [
      ":: problems summary ::\n",
      ":::: ERRORS\n",
      "\tSERVER ERROR: Gateway Time-out url=https://dl.bintray.com/egor-bogomolov/astminer/org/eclipse/platform/org.eclipse.core.runtime/\n",
      "\n"
     ]
    }
   ],
   "source": [
    "%use kaliningraph"
   ]
  },
  {
   "cell_type": "code",
   "execution_count": 2,
   "metadata": {},
   "outputs": [
    {
     "data": {
      "text/html": [
       "<svg width=\"350px\" height=\"127px\"\n",
       " viewBox=\"0.00 0.00 349.62 127.00\" xmlns=\"http://www.w3.org/2000/svg\" xmlns:xlink=\"http://www.w3.org/1999/xlink\">\n",
       "<g id=\"graph0\" class=\"graph\" transform=\"scale(1.0 1.0) rotate(0) translate(4 123)\">\n",
       "<title>%3</title>\n",
       "<!-- fa5f1 -->\n",
       "<g id=\"node1\" class=\"node\">\n",
       "<title>fa5f1</title>\n",
       "<path fill=\"none\" stroke=\"black\" stroke-width=\"4\" d=\"M102,-27.5C102,-27.5 132,-27.5 132,-27.5 138,-27.5 144,-33.5 144,-39.5 144,-39.5 144,-51.5 144,-51.5 144,-57.5 138,-63.5 132,-63.5 132,-63.5 102,-63.5 102,-63.5 96,-63.5 90,-57.5 90,-51.5 90,-51.5 90,-39.5 90,-39.5 90,-33.5 96,-27.5 102,-27.5\"/>\n",
       "<text text-anchor=\"middle\" x=\"117\" y=\"-39.5\" font-family=\"Helvetica,sans-Serif\" font-size=\"20.00\">+</text>\n",
       "</g>\n",
       "<!-- 8870c -->\n",
       "<g id=\"node2\" class=\"node\">\n",
       "<title>8870c</title>\n",
       "<path fill=\"none\" stroke=\"black\" stroke-width=\"4\" d=\"M192,-54.5C192,-54.5 222,-54.5 222,-54.5 228,-54.5 234,-60.5 234,-66.5 234,-66.5 234,-78.5 234,-78.5 234,-84.5 228,-90.5 222,-90.5 222,-90.5 192,-90.5 192,-90.5 186,-90.5 180,-84.5 180,-78.5 180,-78.5 180,-66.5 180,-66.5 180,-60.5 186,-54.5 192,-54.5\"/>\n",
       "<text text-anchor=\"middle\" x=\"207\" y=\"-66.5\" font-family=\"Helvetica,sans-Serif\" font-size=\"20.00\">+</text>\n",
       "</g>\n",
       "<!-- fa5f1&#45;&gt;8870c -->\n",
       "<g id=\"edge1\" class=\"edge\">\n",
       "<title>fa5f1&#45;&gt;8870c</title>\n",
       "<path fill=\"none\" stroke=\"blue\" stroke-width=\"4\" d=\"M144.4,-53.6C152.48,-56.08 161.51,-58.85 170.1,-61.49\"/>\n",
       "<polygon fill=\"blue\" stroke=\"blue\" stroke-width=\"4\" points=\"169.33,-64.91 179.92,-64.5 171.39,-58.22 169.33,-64.91\"/>\n",
       "</g>\n",
       "<!-- 3b827 -->\n",
       "<g id=\"node3\" class=\"node\">\n",
       "<title>3b827</title>\n",
       "<path fill=\"none\" stroke=\"black\" stroke-width=\"4\" d=\"M282,-54.5C282,-54.5 329.62,-54.5 329.62,-54.5 335.62,-54.5 341.62,-60.5 341.62,-66.5 341.62,-66.5 341.62,-78.5 341.62,-78.5 341.62,-84.5 335.62,-90.5 329.62,-90.5 329.62,-90.5 282,-90.5 282,-90.5 276,-90.5 270,-84.5 270,-78.5 270,-78.5 270,-66.5 270,-66.5 270,-60.5 276,-54.5 282,-54.5\"/>\n",
       "<text text-anchor=\"middle\" x=\"305.81\" y=\"-66.5\" font-family=\"Helvetica,sans-Serif\" font-size=\"20.00\">3b827</text>\n",
       "</g>\n",
       "<!-- 8870c&#45;&gt;3b827 -->\n",
       "<g id=\"edge2\" class=\"edge\">\n",
       "<title>8870c&#45;&gt;3b827</title>\n",
       "<path fill=\"none\" stroke=\"black\" stroke-width=\"4\" d=\"M234.2,-72.5C242.09,-72.5 250.98,-72.5 259.73,-72.5\"/>\n",
       "<polygon fill=\"black\" stroke=\"black\" stroke-width=\"4\" points=\"259.86,-76 269.86,-72.5 259.86,-69 259.86,-76\"/>\n",
       "</g>\n",
       "<!-- c -->\n",
       "<g id=\"node4\" class=\"node\">\n",
       "<title>c</title>\n",
       "<path fill=\"none\" stroke=\"black\" stroke-width=\"4\" d=\"M102,-82.5C102,-82.5 132,-82.5 132,-82.5 138,-82.5 144,-88.5 144,-94.5 144,-94.5 144,-106.5 144,-106.5 144,-112.5 138,-118.5 132,-118.5 132,-118.5 102,-118.5 102,-118.5 96,-118.5 90,-112.5 90,-106.5 90,-106.5 90,-94.5 90,-94.5 90,-88.5 96,-82.5 102,-82.5\"/>\n",
       "<text text-anchor=\"middle\" x=\"117\" y=\"-94.5\" font-family=\"Helvetica,sans-Serif\" font-size=\"20.00\">c</text>\n",
       "</g>\n",
       "<!-- c&#45;&gt;8870c -->\n",
       "<g id=\"edge3\" class=\"edge\">\n",
       "<title>c&#45;&gt;8870c</title>\n",
       "<path fill=\"none\" stroke=\"red\" stroke-width=\"4\" d=\"M144.4,-92.1C152.57,-89.5 161.7,-86.59 170.38,-83.83\"/>\n",
       "<polygon fill=\"red\" stroke=\"red\" stroke-width=\"4\" points=\"171.45,-87.17 179.92,-80.8 169.33,-80.5 171.45,-87.17\"/>\n",
       "</g>\n",
       "<!-- a -->\n",
       "<g id=\"node5\" class=\"node\">\n",
       "<title>a</title>\n",
       "<path fill=\"none\" stroke=\"black\" stroke-width=\"4\" d=\"M12,-55.5C12,-55.5 42,-55.5 42,-55.5 48,-55.5 54,-61.5 54,-67.5 54,-67.5 54,-79.5 54,-79.5 54,-85.5 48,-91.5 42,-91.5 42,-91.5 12,-91.5 12,-91.5 6,-91.5 0,-85.5 0,-79.5 0,-79.5 0,-67.5 0,-67.5 0,-61.5 6,-55.5 12,-55.5\"/>\n",
       "<text text-anchor=\"middle\" x=\"27\" y=\"-67.5\" font-family=\"Helvetica,sans-Serif\" font-size=\"20.00\">a</text>\n",
       "</g>\n",
       "<!-- a&#45;&gt;fa5f1 -->\n",
       "<g id=\"edge4\" class=\"edge\">\n",
       "<title>a&#45;&gt;fa5f1</title>\n",
       "<path fill=\"none\" stroke=\"blue\" stroke-width=\"4\" d=\"M54.4,-65.1C62.57,-62.5 71.7,-59.59 80.38,-56.83\"/>\n",
       "<polygon fill=\"blue\" stroke=\"blue\" stroke-width=\"4\" points=\"81.45,-60.17 89.92,-53.8 79.33,-53.5 81.45,-60.17\"/>\n",
       "</g>\n",
       "<!-- b -->\n",
       "<g id=\"node6\" class=\"node\">\n",
       "<title>b</title>\n",
       "<path fill=\"none\" stroke=\"black\" stroke-width=\"4\" d=\"M12,-0.5C12,-0.5 42,-0.5 42,-0.5 48,-0.5 54,-6.5 54,-12.5 54,-12.5 54,-24.5 54,-24.5 54,-30.5 48,-36.5 42,-36.5 42,-36.5 12,-36.5 12,-36.5 6,-36.5 0,-30.5 0,-24.5 0,-24.5 0,-12.5 0,-12.5 0,-6.5 6,-0.5 12,-0.5\"/>\n",
       "<text text-anchor=\"middle\" x=\"27\" y=\"-12.5\" font-family=\"Helvetica,sans-Serif\" font-size=\"20.00\">b</text>\n",
       "</g>\n",
       "<!-- b&#45;&gt;fa5f1 -->\n",
       "<g id=\"edge5\" class=\"edge\">\n",
       "<title>b&#45;&gt;fa5f1</title>\n",
       "<path fill=\"none\" stroke=\"red\" stroke-width=\"4\" d=\"M54.4,-26.6C62.48,-29.08 71.51,-31.85 80.1,-34.49\"/>\n",
       "<polygon fill=\"red\" stroke=\"red\" stroke-width=\"4\" points=\"79.33,-37.91 89.92,-37.5 81.39,-31.22 79.33,-37.91\"/>\n",
       "</g>\n",
       "</g>\n",
       "</svg>\n"
      ]
     },
     "execution_count": 2,
     "metadata": {},
     "output_type": "execute_result"
    }
   ],
   "source": [
    "val fun1 = def(a, b, c) { a + b + c }; fun1"
   ]
  },
  {
   "cell_type": "code",
   "execution_count": 3,
   "metadata": {},
   "outputs": [],
   "source": [
    "val fun2 = def(a, b, c) { b + c + a }"
   ]
  },
  {
   "cell_type": "code",
   "execution_count": 4,
   "metadata": {},
   "outputs": [
    {
     "data": {
      "text/plain": [
       "false"
      ]
     },
     "execution_count": 4,
     "metadata": {},
     "output_type": "execute_result"
    }
   ],
   "source": [
    "fun1 == fun2"
   ]
  },
  {
   "cell_type": "code",
   "execution_count": 5,
   "metadata": {},
   "outputs": [
    {
     "data": {
      "text/html": [
       "<svg width=\"344px\" height=\"127px\"\n",
       " viewBox=\"0.00 0.00 344.05 127.00\" xmlns=\"http://www.w3.org/2000/svg\" xmlns:xlink=\"http://www.w3.org/1999/xlink\">\n",
       "<g id=\"graph0\" class=\"graph\" transform=\"scale(1.0 1.0) rotate(0) translate(4 123)\">\n",
       "<title>%3</title>\n",
       "<!-- 3f4c2 -->\n",
       "<g id=\"node1\" class=\"node\">\n",
       "<title>3f4c2</title>\n",
       "<path fill=\"none\" stroke=\"black\" stroke-width=\"4\" d=\"M102,-27.5C102,-27.5 132,-27.5 132,-27.5 138,-27.5 144,-33.5 144,-39.5 144,-39.5 144,-51.5 144,-51.5 144,-57.5 138,-63.5 132,-63.5 132,-63.5 102,-63.5 102,-63.5 96,-63.5 90,-57.5 90,-51.5 90,-51.5 90,-39.5 90,-39.5 90,-33.5 96,-27.5 102,-27.5\"/>\n",
       "<text text-anchor=\"middle\" x=\"117\" y=\"-39.5\" font-family=\"Helvetica,sans-Serif\" font-size=\"20.00\">+</text>\n",
       "</g>\n",
       "<!-- 93e8e -->\n",
       "<g id=\"node2\" class=\"node\">\n",
       "<title>93e8e</title>\n",
       "<path fill=\"none\" stroke=\"black\" stroke-width=\"4\" d=\"M192,-54.5C192,-54.5 222,-54.5 222,-54.5 228,-54.5 234,-60.5 234,-66.5 234,-66.5 234,-78.5 234,-78.5 234,-84.5 228,-90.5 222,-90.5 222,-90.5 192,-90.5 192,-90.5 186,-90.5 180,-84.5 180,-78.5 180,-78.5 180,-66.5 180,-66.5 180,-60.5 186,-54.5 192,-54.5\"/>\n",
       "<text text-anchor=\"middle\" x=\"207\" y=\"-66.5\" font-family=\"Helvetica,sans-Serif\" font-size=\"20.00\">+</text>\n",
       "</g>\n",
       "<!-- 3f4c2&#45;&gt;93e8e -->\n",
       "<g id=\"edge1\" class=\"edge\">\n",
       "<title>3f4c2&#45;&gt;93e8e</title>\n",
       "<path fill=\"none\" stroke=\"blue\" stroke-width=\"4\" d=\"M144.4,-53.6C152.48,-56.08 161.51,-58.85 170.1,-61.49\"/>\n",
       "<polygon fill=\"blue\" stroke=\"blue\" stroke-width=\"4\" points=\"169.33,-64.91 179.92,-64.5 171.39,-58.22 169.33,-64.91\"/>\n",
       "</g>\n",
       "<!-- f10e1 -->\n",
       "<g id=\"node3\" class=\"node\">\n",
       "<title>f10e1</title>\n",
       "<path fill=\"none\" stroke=\"black\" stroke-width=\"4\" d=\"M282,-54.5C282,-54.5 324.05,-54.5 324.05,-54.5 330.05,-54.5 336.05,-60.5 336.05,-66.5 336.05,-66.5 336.05,-78.5 336.05,-78.5 336.05,-84.5 330.05,-90.5 324.05,-90.5 324.05,-90.5 282,-90.5 282,-90.5 276,-90.5 270,-84.5 270,-78.5 270,-78.5 270,-66.5 270,-66.5 270,-60.5 276,-54.5 282,-54.5\"/>\n",
       "<text text-anchor=\"middle\" x=\"303.02\" y=\"-66.5\" font-family=\"Helvetica,sans-Serif\" font-size=\"20.00\">f10e1</text>\n",
       "</g>\n",
       "<!-- 93e8e&#45;&gt;f10e1 -->\n",
       "<g id=\"edge2\" class=\"edge\">\n",
       "<title>93e8e&#45;&gt;f10e1</title>\n",
       "<path fill=\"none\" stroke=\"black\" stroke-width=\"4\" d=\"M234.19,-72.5C242.16,-72.5 251.13,-72.5 259.87,-72.5\"/>\n",
       "<polygon fill=\"black\" stroke=\"black\" stroke-width=\"4\" points=\"259.95,-76 269.95,-72.5 259.95,-69 259.95,-76\"/>\n",
       "</g>\n",
       "<!-- a -->\n",
       "<g id=\"node4\" class=\"node\">\n",
       "<title>a</title>\n",
       "<path fill=\"none\" stroke=\"black\" stroke-width=\"4\" d=\"M102,-82.5C102,-82.5 132,-82.5 132,-82.5 138,-82.5 144,-88.5 144,-94.5 144,-94.5 144,-106.5 144,-106.5 144,-112.5 138,-118.5 132,-118.5 132,-118.5 102,-118.5 102,-118.5 96,-118.5 90,-112.5 90,-106.5 90,-106.5 90,-94.5 90,-94.5 90,-88.5 96,-82.5 102,-82.5\"/>\n",
       "<text text-anchor=\"middle\" x=\"117\" y=\"-94.5\" font-family=\"Helvetica,sans-Serif\" font-size=\"20.00\">a</text>\n",
       "</g>\n",
       "<!-- a&#45;&gt;93e8e -->\n",
       "<g id=\"edge3\" class=\"edge\">\n",
       "<title>a&#45;&gt;93e8e</title>\n",
       "<path fill=\"none\" stroke=\"red\" stroke-width=\"4\" d=\"M144.4,-92.1C152.57,-89.5 161.7,-86.59 170.38,-83.83\"/>\n",
       "<polygon fill=\"red\" stroke=\"red\" stroke-width=\"4\" points=\"171.45,-87.17 179.92,-80.8 169.33,-80.5 171.45,-87.17\"/>\n",
       "</g>\n",
       "<!-- b -->\n",
       "<g id=\"node5\" class=\"node\">\n",
       "<title>b</title>\n",
       "<path fill=\"none\" stroke=\"black\" stroke-width=\"4\" d=\"M12,-55.5C12,-55.5 42,-55.5 42,-55.5 48,-55.5 54,-61.5 54,-67.5 54,-67.5 54,-79.5 54,-79.5 54,-85.5 48,-91.5 42,-91.5 42,-91.5 12,-91.5 12,-91.5 6,-91.5 0,-85.5 0,-79.5 0,-79.5 0,-67.5 0,-67.5 0,-61.5 6,-55.5 12,-55.5\"/>\n",
       "<text text-anchor=\"middle\" x=\"27\" y=\"-67.5\" font-family=\"Helvetica,sans-Serif\" font-size=\"20.00\">b</text>\n",
       "</g>\n",
       "<!-- b&#45;&gt;3f4c2 -->\n",
       "<g id=\"edge4\" class=\"edge\">\n",
       "<title>b&#45;&gt;3f4c2</title>\n",
       "<path fill=\"none\" stroke=\"blue\" stroke-width=\"4\" d=\"M54.4,-65.1C62.57,-62.5 71.7,-59.59 80.38,-56.83\"/>\n",
       "<polygon fill=\"blue\" stroke=\"blue\" stroke-width=\"4\" points=\"81.45,-60.17 89.92,-53.8 79.33,-53.5 81.45,-60.17\"/>\n",
       "</g>\n",
       "<!-- c -->\n",
       "<g id=\"node6\" class=\"node\">\n",
       "<title>c</title>\n",
       "<path fill=\"none\" stroke=\"black\" stroke-width=\"4\" d=\"M12,-0.5C12,-0.5 42,-0.5 42,-0.5 48,-0.5 54,-6.5 54,-12.5 54,-12.5 54,-24.5 54,-24.5 54,-30.5 48,-36.5 42,-36.5 42,-36.5 12,-36.5 12,-36.5 6,-36.5 0,-30.5 0,-24.5 0,-24.5 0,-12.5 0,-12.5 0,-6.5 6,-0.5 12,-0.5\"/>\n",
       "<text text-anchor=\"middle\" x=\"27\" y=\"-12.5\" font-family=\"Helvetica,sans-Serif\" font-size=\"20.00\">c</text>\n",
       "</g>\n",
       "<!-- c&#45;&gt;3f4c2 -->\n",
       "<g id=\"edge5\" class=\"edge\">\n",
       "<title>c&#45;&gt;3f4c2</title>\n",
       "<path fill=\"none\" stroke=\"red\" stroke-width=\"4\" d=\"M54.4,-26.6C62.48,-29.08 71.51,-31.85 80.1,-34.49\"/>\n",
       "<polygon fill=\"red\" stroke=\"red\" stroke-width=\"4\" points=\"79.33,-37.91 89.92,-37.5 81.39,-31.22 79.33,-37.91\"/>\n",
       "</g>\n",
       "</g>\n",
       "</svg>\n"
      ]
     },
     "execution_count": 5,
     "metadata": {},
     "output_type": "execute_result"
    }
   ],
   "source": [
    "fun2"
   ]
  },
  {
   "cell_type": "code",
   "execution_count": 6,
   "metadata": {},
   "outputs": [
    {
     "data": {
      "text/html": [
       "<img src=\"data:image/jpg;base64,iVBORw0KGgoAAAANSUhEUgAAAHgAAAB4CAIAAAC2BqGFAAABLUlEQVR4Xu3SwQnEAAwDwfTf9F0BS0D+KA/tsAUY4ef5yO+j5nCCTnM4Qac5nKDTHE7QaQ4n6DSHE3Sawwk6zeEEneZwgk5zOEGnOZyg0xxO0GkOJ+g0hxN0msMJOs3hBJ3mcIJOczhBpzmcoNNneEqeDjhfng44X54OOF+eDjhfng44X54OOF+eDjhfng44X54OOF+eDjhfng44X54OOF+eDjhfng44X54OOF+eDjhfng44X54OOF+eDjhfnvSK79JpDifoNIcTdJrDCTrN4QSd5nCCTnM4Qac5nKDTHE7QaQ4n6DSHE3Sawwk6zeEEneZwgk5zOEGnOZyg0xxO0GkOJ+g0hxN0msMJOkmSJEmSJEmSJEmSJEmSJEmSJEmSJEmSJEmSJEmSJEna9AfULsiarlkxWwAAAABJRU5ErkJggg==\"/>"
      ]
     },
     "execution_count": 6,
     "metadata": {},
     "output_type": "execute_result"
    }
   ],
   "source": [
    "fun1.graph.A"
   ]
  },
  {
   "cell_type": "code",
   "execution_count": 7,
   "metadata": {},
   "outputs": [
    {
     "data": {
      "text/plain": [
       "true"
      ]
     },
     "execution_count": 7,
     "metadata": {},
     "output_type": "execute_result"
    }
   ],
   "source": [
    "fun1.graph == fun2.graph"
   ]
  },
  {
   "cell_type": "code",
   "execution_count": 8,
   "metadata": {},
   "outputs": [
    {
     "data": {
      "text/html": [
       "<img src=\"data:image/jpg;base64,iVBORw0KGgoAAAANSUhEUgAAAHgAAAB4CAIAAAC2BqGFAAABLUlEQVR4Xu3SwQnEAAwDwfTf9F0BS0D+KA/tsAUY4ef5yO+j5nCCTnM4Qac5nKDTHE7QaQ4n6DSHE3Sawwk6zeEEneZwgk5zOEGnOZyg0xxO0GkOJ+g0hxN0msMJOs3hBJ3mcIJOczhBpzmcoNNneEqeDjhfng44X54OOF+eDjhfng44X54OOF+eDjhfng44X54OOF+eDjhfng44X54OOF+eDjhfng44X54OOF+eDjhfng44X54OOF+eDjhfnvSK79JpDifoNIcTdJrDCTrN4QSd5nCCTnM4Qac5nKDTHE7QaQ4n6DSHE3Sawwk6zeEEneZwgk5zOEGnOZyg0xxO0GkOJ+g0hxN0msMJOkmSJEmSJEmSJEmSJEmSJEmSJEmSJEmSJEmSJEmSJEna9AfULsiarlkxWwAAAABJRU5ErkJggg==\"/>"
      ]
     },
     "execution_count": 8,
     "metadata": {},
     "output_type": "execute_result"
    }
   ],
   "source": [
    "fun2.graph.A"
   ]
  },
  {
   "cell_type": "code",
   "execution_count": 9,
   "metadata": {},
   "outputs": [
    {
     "data": {
      "text/html": [
       "<svg width=\"440px\" height=\"170px\"\n",
       " viewBox=\"0.00 0.00 439.62 170.00\" xmlns=\"http://www.w3.org/2000/svg\" xmlns:xlink=\"http://www.w3.org/1999/xlink\">\n",
       "<g id=\"graph0\" class=\"graph\" transform=\"scale(1.0 1.0) rotate(0) translate(4 166)\">\n",
       "<title>%3</title>\n",
       "<!-- 93e8e -->\n",
       "<g id=\"node1\" class=\"node\">\n",
       "<title>93e8e</title>\n",
       "<path fill=\"none\" stroke=\"black\" stroke-width=\"4\" d=\"M192,-83.5C192,-83.5 222,-83.5 222,-83.5 228,-83.5 234,-89.5 234,-95.5 234,-95.5 234,-107.5 234,-107.5 234,-113.5 228,-119.5 222,-119.5 222,-119.5 192,-119.5 192,-119.5 186,-119.5 180,-113.5 180,-107.5 180,-107.5 180,-95.5 180,-95.5 180,-89.5 186,-83.5 192,-83.5\"/>\n",
       "<text text-anchor=\"middle\" x=\"207\" y=\"-95.5\" font-family=\"Helvetica,sans-Serif\" font-size=\"20.00\">+</text>\n",
       "</g>\n",
       "<!-- f10e1 -->\n",
       "<g id=\"node2\" class=\"node\">\n",
       "<title>f10e1</title>\n",
       "<path fill=\"none\" stroke=\"black\" stroke-width=\"4\" d=\"M284.78,-83.5C284.78,-83.5 326.83,-83.5 326.83,-83.5 332.83,-83.5 338.83,-89.5 338.83,-95.5 338.83,-95.5 338.83,-107.5 338.83,-107.5 338.83,-113.5 332.83,-119.5 326.83,-119.5 326.83,-119.5 284.78,-119.5 284.78,-119.5 278.78,-119.5 272.78,-113.5 272.78,-107.5 272.78,-107.5 272.78,-95.5 272.78,-95.5 272.78,-89.5 278.78,-83.5 284.78,-83.5\"/>\n",
       "<text text-anchor=\"middle\" x=\"305.81\" y=\"-95.5\" font-family=\"Helvetica,sans-Serif\" font-size=\"20.00\">f10e1</text>\n",
       "</g>\n",
       "<!-- 93e8e&#45;&gt;f10e1 -->\n",
       "<g id=\"edge1\" class=\"edge\">\n",
       "<title>93e8e&#45;&gt;f10e1</title>\n",
       "<path fill=\"none\" stroke=\"black\" stroke-width=\"4\" d=\"M234.2,-101.5C242.92,-101.5 252.86,-101.5 262.48,-101.5\"/>\n",
       "<polygon fill=\"black\" stroke=\"black\" stroke-width=\"4\" points=\"262.72,-105 272.72,-101.5 262.72,-98 262.72,-105\"/>\n",
       "</g>\n",
       "<!-- 656f2 -->\n",
       "<g id=\"node3\" class=\"node\">\n",
       "<title>656f2</title>\n",
       "<path fill=\"none\" stroke=\"black\" stroke-width=\"4\" d=\"M389.62,-55.5C389.62,-55.5 419.62,-55.5 419.62,-55.5 425.62,-55.5 431.62,-61.5 431.62,-67.5 431.62,-67.5 431.62,-79.5 431.62,-79.5 431.62,-85.5 425.62,-91.5 419.62,-91.5 419.62,-91.5 389.62,-91.5 389.62,-91.5 383.62,-91.5 377.62,-85.5 377.62,-79.5 377.62,-79.5 377.62,-67.5 377.62,-67.5 377.62,-61.5 383.62,-55.5 389.62,-55.5\"/>\n",
       "<text text-anchor=\"middle\" x=\"404.62\" y=\"-67.5\" font-family=\"Helvetica,sans-Serif\" font-size=\"20.00\">+</text>\n",
       "</g>\n",
       "<!-- f10e1&#45;&gt;656f2 -->\n",
       "<g id=\"edge2\" class=\"edge\">\n",
       "<title>f10e1&#45;&gt;656f2</title>\n",
       "<path fill=\"none\" stroke=\"blue\" stroke-width=\"4\" d=\"M339.04,-92.18C348.17,-89.54 358.17,-86.65 367.51,-83.94\"/>\n",
       "<polygon fill=\"blue\" stroke=\"blue\" stroke-width=\"4\" points=\"368.68,-87.25 377.32,-81.11 366.74,-80.52 368.68,-87.25\"/>\n",
       "</g>\n",
       "<!-- 8870c -->\n",
       "<g id=\"node4\" class=\"node\">\n",
       "<title>8870c</title>\n",
       "<path fill=\"none\" stroke=\"black\" stroke-width=\"4\" d=\"M192,-28.5C192,-28.5 222,-28.5 222,-28.5 228,-28.5 234,-34.5 234,-40.5 234,-40.5 234,-52.5 234,-52.5 234,-58.5 228,-64.5 222,-64.5 222,-64.5 192,-64.5 192,-64.5 186,-64.5 180,-58.5 180,-52.5 180,-52.5 180,-40.5 180,-40.5 180,-34.5 186,-28.5 192,-28.5\"/>\n",
       "<text text-anchor=\"middle\" x=\"207\" y=\"-40.5\" font-family=\"Helvetica,sans-Serif\" font-size=\"20.00\">+</text>\n",
       "</g>\n",
       "<!-- 3b827 -->\n",
       "<g id=\"node5\" class=\"node\">\n",
       "<title>3b827</title>\n",
       "<path fill=\"none\" stroke=\"black\" stroke-width=\"4\" d=\"M282,-28.5C282,-28.5 329.62,-28.5 329.62,-28.5 335.62,-28.5 341.62,-34.5 341.62,-40.5 341.62,-40.5 341.62,-52.5 341.62,-52.5 341.62,-58.5 335.62,-64.5 329.62,-64.5 329.62,-64.5 282,-64.5 282,-64.5 276,-64.5 270,-58.5 270,-52.5 270,-52.5 270,-40.5 270,-40.5 270,-34.5 276,-28.5 282,-28.5\"/>\n",
       "<text text-anchor=\"middle\" x=\"305.81\" y=\"-40.5\" font-family=\"Helvetica,sans-Serif\" font-size=\"20.00\">3b827</text>\n",
       "</g>\n",
       "<!-- 8870c&#45;&gt;3b827 -->\n",
       "<g id=\"edge3\" class=\"edge\">\n",
       "<title>8870c&#45;&gt;3b827</title>\n",
       "<path fill=\"none\" stroke=\"black\" stroke-width=\"4\" d=\"M234.2,-46.5C242.09,-46.5 250.98,-46.5 259.73,-46.5\"/>\n",
       "<polygon fill=\"black\" stroke=\"black\" stroke-width=\"4\" points=\"259.86,-50 269.86,-46.5 259.86,-43 259.86,-50\"/>\n",
       "</g>\n",
       "<!-- 3b827&#45;&gt;656f2 -->\n",
       "<g id=\"edge4\" class=\"edge\">\n",
       "<title>3b827&#45;&gt;656f2</title>\n",
       "<path fill=\"none\" stroke=\"red\" stroke-width=\"4\" d=\"M341.76,-56.25C350.24,-58.61 359.33,-61.15 367.85,-63.53\"/>\n",
       "<polygon fill=\"red\" stroke=\"red\" stroke-width=\"4\" points=\"366.96,-66.91 377.53,-66.22 368.84,-60.17 366.96,-66.91\"/>\n",
       "</g>\n",
       "<!-- 3f4c2 -->\n",
       "<g id=\"node6\" class=\"node\">\n",
       "<title>3f4c2</title>\n",
       "<path fill=\"none\" stroke=\"black\" stroke-width=\"4\" d=\"M102,-28.5C102,-28.5 132,-28.5 132,-28.5 138,-28.5 144,-34.5 144,-40.5 144,-40.5 144,-52.5 144,-52.5 144,-58.5 138,-64.5 132,-64.5 132,-64.5 102,-64.5 102,-64.5 96,-64.5 90,-58.5 90,-52.5 90,-52.5 90,-40.5 90,-40.5 90,-34.5 96,-28.5 102,-28.5\"/>\n",
       "<text text-anchor=\"middle\" x=\"117\" y=\"-40.5\" font-family=\"Helvetica,sans-Serif\" font-size=\"20.00\">+</text>\n",
       "</g>\n",
       "<!-- 3f4c2&#45;&gt;93e8e -->\n",
       "<g id=\"edge5\" class=\"edge\">\n",
       "<title>3f4c2&#45;&gt;93e8e</title>\n",
       "<path fill=\"none\" stroke=\"blue\" stroke-width=\"4\" d=\"M144.4,-63C152.83,-68.27 162.29,-74.18 171.22,-79.76\"/>\n",
       "<polygon fill=\"blue\" stroke=\"blue\" stroke-width=\"4\" points=\"169.58,-82.87 179.92,-85.2 173.29,-76.93 169.58,-82.87\"/>\n",
       "</g>\n",
       "<!-- a -->\n",
       "<g id=\"node7\" class=\"node\">\n",
       "<title>a</title>\n",
       "<path fill=\"none\" stroke=\"black\" stroke-width=\"4\" d=\"M12,-125.5C12,-125.5 42,-125.5 42,-125.5 48,-125.5 54,-131.5 54,-137.5 54,-137.5 54,-149.5 54,-149.5 54,-155.5 48,-161.5 42,-161.5 42,-161.5 12,-161.5 12,-161.5 6,-161.5 0,-155.5 0,-149.5 0,-149.5 0,-137.5 0,-137.5 0,-131.5 6,-125.5 12,-125.5\"/>\n",
       "<text text-anchor=\"middle\" x=\"27\" y=\"-137.5\" font-family=\"Helvetica,sans-Serif\" font-size=\"20.00\">a</text>\n",
       "</g>\n",
       "<!-- a&#45;&gt;93e8e -->\n",
       "<g id=\"edge6\" class=\"edge\">\n",
       "<title>a&#45;&gt;93e8e</title>\n",
       "<path fill=\"none\" stroke=\"red\" stroke-width=\"4\" d=\"M54.24,-142.6C78.04,-141.26 113.91,-137.9 144,-129.5 152.84,-127.03 162.03,-123.48 170.54,-119.73\"/>\n",
       "<polygon fill=\"red\" stroke=\"red\" stroke-width=\"4\" points=\"172.19,-122.83 179.81,-115.46 169.26,-116.47 172.19,-122.83\"/>\n",
       "</g>\n",
       "<!-- fa5f1 -->\n",
       "<g id=\"node8\" class=\"node\">\n",
       "<title>fa5f1</title>\n",
       "<path fill=\"none\" stroke=\"black\" stroke-width=\"4\" d=\"M102,-83.5C102,-83.5 132,-83.5 132,-83.5 138,-83.5 144,-89.5 144,-95.5 144,-95.5 144,-107.5 144,-107.5 144,-113.5 138,-119.5 132,-119.5 132,-119.5 102,-119.5 102,-119.5 96,-119.5 90,-113.5 90,-107.5 90,-107.5 90,-95.5 90,-95.5 90,-89.5 96,-83.5 102,-83.5\"/>\n",
       "<text text-anchor=\"middle\" x=\"117\" y=\"-95.5\" font-family=\"Helvetica,sans-Serif\" font-size=\"20.00\">+</text>\n",
       "</g>\n",
       "<!-- a&#45;&gt;fa5f1 -->\n",
       "<g id=\"edge7\" class=\"edge\">\n",
       "<title>a&#45;&gt;fa5f1</title>\n",
       "<path fill=\"none\" stroke=\"blue\" stroke-width=\"4\" d=\"M54.4,-130.9C62.66,-126.96 71.9,-122.55 80.66,-118.36\"/>\n",
       "<polygon fill=\"blue\" stroke=\"blue\" stroke-width=\"4\" points=\"82.4,-121.41 89.92,-113.95 79.39,-115.1 82.4,-121.41\"/>\n",
       "</g>\n",
       "<!-- fa5f1&#45;&gt;8870c -->\n",
       "<g id=\"edge8\" class=\"edge\">\n",
       "<title>fa5f1&#45;&gt;8870c</title>\n",
       "<path fill=\"none\" stroke=\"blue\" stroke-width=\"4\" d=\"M144.4,-85C152.83,-79.73 162.29,-73.82 171.22,-68.24\"/>\n",
       "<polygon fill=\"blue\" stroke=\"blue\" stroke-width=\"4\" points=\"173.29,-71.07 179.92,-62.8 169.58,-65.13 173.29,-71.07\"/>\n",
       "</g>\n",
       "<!-- c -->\n",
       "<g id=\"node9\" class=\"node\">\n",
       "<title>c</title>\n",
       "<path fill=\"none\" stroke=\"black\" stroke-width=\"4\" d=\"M12,-0.5C12,-0.5 42,-0.5 42,-0.5 48,-0.5 54,-6.5 54,-12.5 54,-12.5 54,-24.5 54,-24.5 54,-30.5 48,-36.5 42,-36.5 42,-36.5 12,-36.5 12,-36.5 6,-36.5 0,-30.5 0,-24.5 0,-24.5 0,-12.5 0,-12.5 0,-6.5 6,-0.5 12,-0.5\"/>\n",
       "<text text-anchor=\"middle\" x=\"27\" y=\"-12.5\" font-family=\"Helvetica,sans-Serif\" font-size=\"20.00\">c</text>\n",
       "</g>\n",
       "<!-- c&#45;&gt;8870c -->\n",
       "<g id=\"edge9\" class=\"edge\">\n",
       "<title>c&#45;&gt;8870c</title>\n",
       "<path fill=\"none\" stroke=\"red\" stroke-width=\"4\" d=\"M54.13,-15.39C77.86,-13.3 113.68,-11.97 144,-18.5 152.98,-20.43 162.22,-23.77 170.74,-27.49\"/>\n",
       "<polygon fill=\"red\" stroke=\"red\" stroke-width=\"4\" points=\"169.45,-30.75 179.99,-31.79 172.4,-24.4 169.45,-30.75\"/>\n",
       "</g>\n",
       "<!-- c&#45;&gt;3f4c2 -->\n",
       "<g id=\"edge10\" class=\"edge\">\n",
       "<title>c&#45;&gt;3f4c2</title>\n",
       "<path fill=\"none\" stroke=\"red\" stroke-width=\"4\" d=\"M54.4,-26.9C62.57,-29.5 71.7,-32.41 80.38,-35.17\"/>\n",
       "<polygon fill=\"red\" stroke=\"red\" stroke-width=\"4\" points=\"79.33,-38.5 89.92,-38.2 81.45,-31.83 79.33,-38.5\"/>\n",
       "</g>\n",
       "<!-- b -->\n",
       "<g id=\"node10\" class=\"node\">\n",
       "<title>b</title>\n",
       "<path fill=\"none\" stroke=\"black\" stroke-width=\"4\" d=\"M12,-65.5C12,-65.5 42,-65.5 42,-65.5 48,-65.5 54,-71.5 54,-77.5 54,-77.5 54,-89.5 54,-89.5 54,-95.5 48,-101.5 42,-101.5 42,-101.5 12,-101.5 12,-101.5 6,-101.5 0,-95.5 0,-89.5 0,-89.5 0,-77.5 0,-77.5 0,-71.5 6,-65.5 12,-65.5\"/>\n",
       "<text text-anchor=\"middle\" x=\"27\" y=\"-77.5\" font-family=\"Helvetica,sans-Serif\" font-size=\"20.00\">b</text>\n",
       "</g>\n",
       "<!-- b&#45;&gt;3f4c2 -->\n",
       "<g id=\"edge11\" class=\"edge\">\n",
       "<title>b&#45;&gt;3f4c2</title>\n",
       "<path fill=\"none\" stroke=\"blue\" stroke-width=\"4\" d=\"M54.4,-72.4C62.66,-68.93 71.9,-65.04 80.66,-61.36\"/>\n",
       "<polygon fill=\"blue\" stroke=\"blue\" stroke-width=\"4\" points=\"82.06,-64.57 89.92,-57.47 79.34,-58.12 82.06,-64.57\"/>\n",
       "</g>\n",
       "<!-- b&#45;&gt;fa5f1 -->\n",
       "<g id=\"edge12\" class=\"edge\">\n",
       "<title>b&#45;&gt;fa5f1</title>\n",
       "<path fill=\"none\" stroke=\"red\" stroke-width=\"4\" d=\"M54.4,-88.9C62.48,-90.55 71.51,-92.4 80.1,-94.16\"/>\n",
       "<polygon fill=\"red\" stroke=\"red\" stroke-width=\"4\" points=\"79.42,-97.59 89.92,-96.17 80.82,-90.73 79.42,-97.59\"/>\n",
       "</g>\n",
       "</g>\n",
       "</svg>\n"
      ]
     },
     "execution_count": 9,
     "metadata": {},
     "output_type": "execute_result"
    }
   ],
   "source": [
    "fun2 + fun1"
   ]
  },
  {
   "cell_type": "code",
   "execution_count": 10,
   "metadata": {},
   "outputs": [],
   "source": [
    "val a = fun2 + 5"
   ]
  },
  {
   "cell_type": "code",
   "execution_count": 11,
   "metadata": {},
   "outputs": [],
   "source": [
    "val b = fun1 * 3 + 5"
   ]
  },
  {
   "cell_type": "code",
   "execution_count": 12,
   "metadata": {},
   "outputs": [
    {
     "data": {
      "text/html": [
       "<svg width=\"434px\" height=\"127px\"\n",
       " viewBox=\"0.00 0.00 434.05 127.00\" xmlns=\"http://www.w3.org/2000/svg\" xmlns:xlink=\"http://www.w3.org/1999/xlink\">\n",
       "<g id=\"graph0\" class=\"graph\" transform=\"scale(1.0 1.0) rotate(0) translate(4 123)\">\n",
       "<title>%3</title>\n",
       "<!-- 93e8e -->\n",
       "<g id=\"node1\" class=\"node\">\n",
       "<title>93e8e</title>\n",
       "<path fill=\"none\" stroke=\"black\" stroke-width=\"4\" d=\"M192,-27.5C192,-27.5 222,-27.5 222,-27.5 228,-27.5 234,-33.5 234,-39.5 234,-39.5 234,-51.5 234,-51.5 234,-57.5 228,-63.5 222,-63.5 222,-63.5 192,-63.5 192,-63.5 186,-63.5 180,-57.5 180,-51.5 180,-51.5 180,-39.5 180,-39.5 180,-33.5 186,-27.5 192,-27.5\"/>\n",
       "<text text-anchor=\"middle\" x=\"207\" y=\"-39.5\" font-family=\"Helvetica,sans-Serif\" font-size=\"20.00\">+</text>\n",
       "</g>\n",
       "<!-- f10e1 -->\n",
       "<g id=\"node2\" class=\"node\">\n",
       "<title>f10e1</title>\n",
       "<path fill=\"none\" stroke=\"black\" stroke-width=\"4\" d=\"M282,-27.5C282,-27.5 324.05,-27.5 324.05,-27.5 330.05,-27.5 336.05,-33.5 336.05,-39.5 336.05,-39.5 336.05,-51.5 336.05,-51.5 336.05,-57.5 330.05,-63.5 324.05,-63.5 324.05,-63.5 282,-63.5 282,-63.5 276,-63.5 270,-57.5 270,-51.5 270,-51.5 270,-39.5 270,-39.5 270,-33.5 276,-27.5 282,-27.5\"/>\n",
       "<text text-anchor=\"middle\" x=\"303.02\" y=\"-39.5\" font-family=\"Helvetica,sans-Serif\" font-size=\"20.00\">f10e1</text>\n",
       "</g>\n",
       "<!-- 93e8e&#45;&gt;f10e1 -->\n",
       "<g id=\"edge1\" class=\"edge\">\n",
       "<title>93e8e&#45;&gt;f10e1</title>\n",
       "<path fill=\"none\" stroke=\"black\" stroke-width=\"4\" d=\"M234.19,-45.5C242.16,-45.5 251.13,-45.5 259.87,-45.5\"/>\n",
       "<polygon fill=\"black\" stroke=\"black\" stroke-width=\"4\" points=\"259.95,-49 269.95,-45.5 259.95,-42 259.95,-49\"/>\n",
       "</g>\n",
       "<!-- 769d4 -->\n",
       "<g id=\"node3\" class=\"node\">\n",
       "<title>769d4</title>\n",
       "<path fill=\"none\" stroke=\"black\" stroke-width=\"4\" d=\"M384.05,-54.5C384.05,-54.5 414.05,-54.5 414.05,-54.5 420.05,-54.5 426.05,-60.5 426.05,-66.5 426.05,-66.5 426.05,-78.5 426.05,-78.5 426.05,-84.5 420.05,-90.5 414.05,-90.5 414.05,-90.5 384.05,-90.5 384.05,-90.5 378.05,-90.5 372.05,-84.5 372.05,-78.5 372.05,-78.5 372.05,-66.5 372.05,-66.5 372.05,-60.5 378.05,-54.5 384.05,-54.5\"/>\n",
       "<text text-anchor=\"middle\" x=\"399.05\" y=\"-66.5\" font-family=\"Helvetica,sans-Serif\" font-size=\"20.00\">+</text>\n",
       "</g>\n",
       "<!-- f10e1&#45;&gt;769d4 -->\n",
       "<g id=\"edge2\" class=\"edge\">\n",
       "<title>f10e1&#45;&gt;769d4</title>\n",
       "<path fill=\"none\" stroke=\"blue\" stroke-width=\"4\" d=\"M336.12,-54.72C344.53,-57.13 353.65,-59.75 362.25,-62.22\"/>\n",
       "<polygon fill=\"blue\" stroke=\"blue\" stroke-width=\"4\" points=\"361.44,-65.63 372.02,-65.02 363.37,-58.9 361.44,-65.63\"/>\n",
       "</g>\n",
       "<!-- 5 -->\n",
       "<g id=\"node4\" class=\"node\">\n",
       "<title>5</title>\n",
       "<path fill=\"none\" stroke=\"black\" stroke-width=\"4\" d=\"M288.02,-82.5C288.02,-82.5 318.02,-82.5 318.02,-82.5 324.02,-82.5 330.02,-88.5 330.02,-94.5 330.02,-94.5 330.02,-106.5 330.02,-106.5 330.02,-112.5 324.02,-118.5 318.02,-118.5 318.02,-118.5 288.02,-118.5 288.02,-118.5 282.02,-118.5 276.02,-112.5 276.02,-106.5 276.02,-106.5 276.02,-94.5 276.02,-94.5 276.02,-88.5 282.02,-82.5 288.02,-82.5\"/>\n",
       "<text text-anchor=\"middle\" x=\"303.02\" y=\"-94.5\" font-family=\"Helvetica,sans-Serif\" font-size=\"20.00\">5</text>\n",
       "</g>\n",
       "<!-- 5&#45;&gt;769d4 -->\n",
       "<g id=\"edge3\" class=\"edge\">\n",
       "<title>5&#45;&gt;769d4</title>\n",
       "<path fill=\"none\" stroke=\"red\" stroke-width=\"4\" d=\"M330.22,-92.7C340.1,-89.76 351.52,-86.36 362.14,-83.19\"/>\n",
       "<polygon fill=\"red\" stroke=\"red\" stroke-width=\"4\" points=\"363.41,-86.47 372,-80.26 361.42,-79.76 363.41,-86.47\"/>\n",
       "</g>\n",
       "<!-- 3f4c2 -->\n",
       "<g id=\"node5\" class=\"node\">\n",
       "<title>3f4c2</title>\n",
       "<path fill=\"none\" stroke=\"black\" stroke-width=\"4\" d=\"M102,-55.5C102,-55.5 132,-55.5 132,-55.5 138,-55.5 144,-61.5 144,-67.5 144,-67.5 144,-79.5 144,-79.5 144,-85.5 138,-91.5 132,-91.5 132,-91.5 102,-91.5 102,-91.5 96,-91.5 90,-85.5 90,-79.5 90,-79.5 90,-67.5 90,-67.5 90,-61.5 96,-55.5 102,-55.5\"/>\n",
       "<text text-anchor=\"middle\" x=\"117\" y=\"-67.5\" font-family=\"Helvetica,sans-Serif\" font-size=\"20.00\">+</text>\n",
       "</g>\n",
       "<!-- 3f4c2&#45;&gt;93e8e -->\n",
       "<g id=\"edge4\" class=\"edge\">\n",
       "<title>3f4c2&#45;&gt;93e8e</title>\n",
       "<path fill=\"none\" stroke=\"blue\" stroke-width=\"4\" d=\"M144.4,-65.1C152.57,-62.5 161.7,-59.59 170.38,-56.83\"/>\n",
       "<polygon fill=\"blue\" stroke=\"blue\" stroke-width=\"4\" points=\"171.45,-60.17 179.92,-53.8 169.33,-53.5 171.45,-60.17\"/>\n",
       "</g>\n",
       "<!-- a -->\n",
       "<g id=\"node6\" class=\"node\">\n",
       "<title>a</title>\n",
       "<path fill=\"none\" stroke=\"black\" stroke-width=\"4\" d=\"M102,-0.5C102,-0.5 132,-0.5 132,-0.5 138,-0.5 144,-6.5 144,-12.5 144,-12.5 144,-24.5 144,-24.5 144,-30.5 138,-36.5 132,-36.5 132,-36.5 102,-36.5 102,-36.5 96,-36.5 90,-30.5 90,-24.5 90,-24.5 90,-12.5 90,-12.5 90,-6.5 96,-0.5 102,-0.5\"/>\n",
       "<text text-anchor=\"middle\" x=\"117\" y=\"-12.5\" font-family=\"Helvetica,sans-Serif\" font-size=\"20.00\">a</text>\n",
       "</g>\n",
       "<!-- a&#45;&gt;93e8e -->\n",
       "<g id=\"edge5\" class=\"edge\">\n",
       "<title>a&#45;&gt;93e8e</title>\n",
       "<path fill=\"none\" stroke=\"red\" stroke-width=\"4\" d=\"M144.4,-26.6C152.48,-29.08 161.51,-31.85 170.1,-34.49\"/>\n",
       "<polygon fill=\"red\" stroke=\"red\" stroke-width=\"4\" points=\"169.33,-37.91 179.92,-37.5 171.39,-31.22 169.33,-37.91\"/>\n",
       "</g>\n",
       "<!-- b -->\n",
       "<g id=\"node7\" class=\"node\">\n",
       "<title>b</title>\n",
       "<path fill=\"none\" stroke=\"black\" stroke-width=\"4\" d=\"M12,-82.5C12,-82.5 42,-82.5 42,-82.5 48,-82.5 54,-88.5 54,-94.5 54,-94.5 54,-106.5 54,-106.5 54,-112.5 48,-118.5 42,-118.5 42,-118.5 12,-118.5 12,-118.5 6,-118.5 0,-112.5 0,-106.5 0,-106.5 0,-94.5 0,-94.5 0,-88.5 6,-82.5 12,-82.5\"/>\n",
       "<text text-anchor=\"middle\" x=\"27\" y=\"-94.5\" font-family=\"Helvetica,sans-Serif\" font-size=\"20.00\">b</text>\n",
       "</g>\n",
       "<!-- b&#45;&gt;3f4c2 -->\n",
       "<g id=\"edge6\" class=\"edge\">\n",
       "<title>b&#45;&gt;3f4c2</title>\n",
       "<path fill=\"none\" stroke=\"blue\" stroke-width=\"4\" d=\"M54.4,-92.4C62.48,-89.92 71.51,-87.15 80.1,-84.51\"/>\n",
       "<polygon fill=\"blue\" stroke=\"blue\" stroke-width=\"4\" points=\"81.39,-87.78 89.92,-81.5 79.33,-81.09 81.39,-87.78\"/>\n",
       "</g>\n",
       "<!-- c -->\n",
       "<g id=\"node8\" class=\"node\">\n",
       "<title>c</title>\n",
       "<path fill=\"none\" stroke=\"black\" stroke-width=\"4\" d=\"M12,-27.5C12,-27.5 42,-27.5 42,-27.5 48,-27.5 54,-33.5 54,-39.5 54,-39.5 54,-51.5 54,-51.5 54,-57.5 48,-63.5 42,-63.5 42,-63.5 12,-63.5 12,-63.5 6,-63.5 0,-57.5 0,-51.5 0,-51.5 0,-39.5 0,-39.5 0,-33.5 6,-27.5 12,-27.5\"/>\n",
       "<text text-anchor=\"middle\" x=\"27\" y=\"-39.5\" font-family=\"Helvetica,sans-Serif\" font-size=\"20.00\">c</text>\n",
       "</g>\n",
       "<!-- c&#45;&gt;3f4c2 -->\n",
       "<g id=\"edge7\" class=\"edge\">\n",
       "<title>c&#45;&gt;3f4c2</title>\n",
       "<path fill=\"none\" stroke=\"red\" stroke-width=\"4\" d=\"M54.4,-53.9C62.57,-56.5 71.7,-59.41 80.38,-62.17\"/>\n",
       "<polygon fill=\"red\" stroke=\"red\" stroke-width=\"4\" points=\"79.33,-65.5 89.92,-65.2 81.45,-58.83 79.33,-65.5\"/>\n",
       "</g>\n",
       "</g>\n",
       "</svg>\n"
      ]
     },
     "execution_count": 12,
     "metadata": {},
     "output_type": "execute_result"
    }
   ],
   "source": [
    "a"
   ]
  },
  {
   "cell_type": "code",
   "execution_count": 13,
   "metadata": {},
   "outputs": [
    {
     "data": {
      "text/html": [
       "<svg width=\"530px\" height=\"154px\"\n",
       " viewBox=\"0.00 0.00 529.62 154.00\" xmlns=\"http://www.w3.org/2000/svg\" xmlns:xlink=\"http://www.w3.org/1999/xlink\">\n",
       "<g id=\"graph0\" class=\"graph\" transform=\"scale(1.0 1.0) rotate(0) translate(4 150)\">\n",
       "<title>%3</title>\n",
       "<!-- 3b827 -->\n",
       "<g id=\"node1\" class=\"node\">\n",
       "<title>3b827</title>\n",
       "<path fill=\"none\" stroke=\"black\" stroke-width=\"4\" d=\"M282,-27.5C282,-27.5 329.62,-27.5 329.62,-27.5 335.62,-27.5 341.62,-33.5 341.62,-39.5 341.62,-39.5 341.62,-51.5 341.62,-51.5 341.62,-57.5 335.62,-63.5 329.62,-63.5 329.62,-63.5 282,-63.5 282,-63.5 276,-63.5 270,-57.5 270,-51.5 270,-51.5 270,-39.5 270,-39.5 270,-33.5 276,-27.5 282,-27.5\"/>\n",
       "<text text-anchor=\"middle\" x=\"305.81\" y=\"-39.5\" font-family=\"Helvetica,sans-Serif\" font-size=\"20.00\">3b827</text>\n",
       "</g>\n",
       "<!-- 864c3 -->\n",
       "<g id=\"node2\" class=\"node\">\n",
       "<title>864c3</title>\n",
       "<path fill=\"none\" stroke=\"black\" stroke-width=\"4\" d=\"M389.62,-54.5C389.62,-54.5 419.62,-54.5 419.62,-54.5 425.62,-54.5 431.62,-60.5 431.62,-66.5 431.62,-66.5 431.62,-78.5 431.62,-78.5 431.62,-84.5 425.62,-90.5 419.62,-90.5 419.62,-90.5 389.62,-90.5 389.62,-90.5 383.62,-90.5 377.62,-84.5 377.62,-78.5 377.62,-78.5 377.62,-66.5 377.62,-66.5 377.62,-60.5 383.62,-54.5 389.62,-54.5\"/>\n",
       "<text text-anchor=\"middle\" x=\"404.62\" y=\"-66.5\" font-family=\"Helvetica,sans-Serif\" font-size=\"20.00\">*</text>\n",
       "</g>\n",
       "<!-- 3b827&#45;&gt;864c3 -->\n",
       "<g id=\"edge1\" class=\"edge\">\n",
       "<title>3b827&#45;&gt;864c3</title>\n",
       "<path fill=\"none\" stroke=\"blue\" stroke-width=\"4\" d=\"M341.76,-55.25C350.24,-57.61 359.33,-60.15 367.85,-62.53\"/>\n",
       "<polygon fill=\"blue\" stroke=\"blue\" stroke-width=\"4\" points=\"366.96,-65.91 377.53,-65.22 368.84,-59.17 366.96,-65.91\"/>\n",
       "</g>\n",
       "<!-- db46e -->\n",
       "<g id=\"node3\" class=\"node\">\n",
       "<title>db46e</title>\n",
       "<path fill=\"none\" stroke=\"black\" stroke-width=\"4\" d=\"M479.62,-81.5C479.62,-81.5 509.62,-81.5 509.62,-81.5 515.62,-81.5 521.62,-87.5 521.62,-93.5 521.62,-93.5 521.62,-105.5 521.62,-105.5 521.62,-111.5 515.62,-117.5 509.62,-117.5 509.62,-117.5 479.62,-117.5 479.62,-117.5 473.62,-117.5 467.62,-111.5 467.62,-105.5 467.62,-105.5 467.62,-93.5 467.62,-93.5 467.62,-87.5 473.62,-81.5 479.62,-81.5\"/>\n",
       "<text text-anchor=\"middle\" x=\"494.62\" y=\"-93.5\" font-family=\"Helvetica,sans-Serif\" font-size=\"20.00\">+</text>\n",
       "</g>\n",
       "<!-- 864c3&#45;&gt;db46e -->\n",
       "<g id=\"edge2\" class=\"edge\">\n",
       "<title>864c3&#45;&gt;db46e</title>\n",
       "<path fill=\"none\" stroke=\"blue\" stroke-width=\"4\" d=\"M432.02,-80.6C440.1,-83.08 449.12,-85.85 457.72,-88.49\"/>\n",
       "<polygon fill=\"blue\" stroke=\"blue\" stroke-width=\"4\" points=\"456.95,-91.91 467.53,-91.5 459,-85.22 456.95,-91.91\"/>\n",
       "</g>\n",
       "<!-- 3 -->\n",
       "<g id=\"node4\" class=\"node\">\n",
       "<title>3</title>\n",
       "<path fill=\"none\" stroke=\"black\" stroke-width=\"4\" d=\"M290.81,-82.5C290.81,-82.5 320.81,-82.5 320.81,-82.5 326.81,-82.5 332.81,-88.5 332.81,-94.5 332.81,-94.5 332.81,-106.5 332.81,-106.5 332.81,-112.5 326.81,-118.5 320.81,-118.5 320.81,-118.5 290.81,-118.5 290.81,-118.5 284.81,-118.5 278.81,-112.5 278.81,-106.5 278.81,-106.5 278.81,-94.5 278.81,-94.5 278.81,-88.5 284.81,-82.5 290.81,-82.5\"/>\n",
       "<text text-anchor=\"middle\" x=\"305.81\" y=\"-94.5\" font-family=\"Helvetica,sans-Serif\" font-size=\"20.00\">3</text>\n",
       "</g>\n",
       "<!-- 3&#45;&gt;864c3 -->\n",
       "<g id=\"edge3\" class=\"edge\">\n",
       "<title>3&#45;&gt;864c3</title>\n",
       "<path fill=\"none\" stroke=\"red\" stroke-width=\"4\" d=\"M333.01,-92.92C343.66,-89.84 356.15,-86.23 367.63,-82.91\"/>\n",
       "<polygon fill=\"red\" stroke=\"red\" stroke-width=\"4\" points=\"368.76,-86.22 377.4,-80.08 366.82,-79.5 368.76,-86.22\"/>\n",
       "</g>\n",
       "<!-- 5 -->\n",
       "<g id=\"node5\" class=\"node\">\n",
       "<title>5</title>\n",
       "<path fill=\"none\" stroke=\"black\" stroke-width=\"4\" d=\"M389.62,-109.5C389.62,-109.5 419.62,-109.5 419.62,-109.5 425.62,-109.5 431.62,-115.5 431.62,-121.5 431.62,-121.5 431.62,-133.5 431.62,-133.5 431.62,-139.5 425.62,-145.5 419.62,-145.5 419.62,-145.5 389.62,-145.5 389.62,-145.5 383.62,-145.5 377.62,-139.5 377.62,-133.5 377.62,-133.5 377.62,-121.5 377.62,-121.5 377.62,-115.5 383.62,-109.5 389.62,-109.5\"/>\n",
       "<text text-anchor=\"middle\" x=\"404.62\" y=\"-121.5\" font-family=\"Helvetica,sans-Serif\" font-size=\"20.00\">5</text>\n",
       "</g>\n",
       "<!-- 5&#45;&gt;db46e -->\n",
       "<g id=\"edge4\" class=\"edge\">\n",
       "<title>5&#45;&gt;db46e</title>\n",
       "<path fill=\"none\" stroke=\"red\" stroke-width=\"4\" d=\"M432.02,-119.1C440.18,-116.5 449.32,-113.59 458,-110.83\"/>\n",
       "<polygon fill=\"red\" stroke=\"red\" stroke-width=\"4\" points=\"459.07,-114.17 467.53,-107.8 456.94,-107.5 459.07,-114.17\"/>\n",
       "</g>\n",
       "<!-- 8870c -->\n",
       "<g id=\"node6\" class=\"node\">\n",
       "<title>8870c</title>\n",
       "<path fill=\"none\" stroke=\"black\" stroke-width=\"4\" d=\"M192,-27.5C192,-27.5 222,-27.5 222,-27.5 228,-27.5 234,-33.5 234,-39.5 234,-39.5 234,-51.5 234,-51.5 234,-57.5 228,-63.5 222,-63.5 222,-63.5 192,-63.5 192,-63.5 186,-63.5 180,-57.5 180,-51.5 180,-51.5 180,-39.5 180,-39.5 180,-33.5 186,-27.5 192,-27.5\"/>\n",
       "<text text-anchor=\"middle\" x=\"207\" y=\"-39.5\" font-family=\"Helvetica,sans-Serif\" font-size=\"20.00\">+</text>\n",
       "</g>\n",
       "<!-- 8870c&#45;&gt;3b827 -->\n",
       "<g id=\"edge5\" class=\"edge\">\n",
       "<title>8870c&#45;&gt;3b827</title>\n",
       "<path fill=\"none\" stroke=\"black\" stroke-width=\"4\" d=\"M234.2,-45.5C242.09,-45.5 250.98,-45.5 259.73,-45.5\"/>\n",
       "<polygon fill=\"black\" stroke=\"black\" stroke-width=\"4\" points=\"259.86,-49 269.86,-45.5 259.86,-42 259.86,-49\"/>\n",
       "</g>\n",
       "<!-- fa5f1 -->\n",
       "<g id=\"node7\" class=\"node\">\n",
       "<title>fa5f1</title>\n",
       "<path fill=\"none\" stroke=\"black\" stroke-width=\"4\" d=\"M102,-55.5C102,-55.5 132,-55.5 132,-55.5 138,-55.5 144,-61.5 144,-67.5 144,-67.5 144,-79.5 144,-79.5 144,-85.5 138,-91.5 132,-91.5 132,-91.5 102,-91.5 102,-91.5 96,-91.5 90,-85.5 90,-79.5 90,-79.5 90,-67.5 90,-67.5 90,-61.5 96,-55.5 102,-55.5\"/>\n",
       "<text text-anchor=\"middle\" x=\"117\" y=\"-67.5\" font-family=\"Helvetica,sans-Serif\" font-size=\"20.00\">+</text>\n",
       "</g>\n",
       "<!-- fa5f1&#45;&gt;8870c -->\n",
       "<g id=\"edge6\" class=\"edge\">\n",
       "<title>fa5f1&#45;&gt;8870c</title>\n",
       "<path fill=\"none\" stroke=\"blue\" stroke-width=\"4\" d=\"M144.4,-65.1C152.57,-62.5 161.7,-59.59 170.38,-56.83\"/>\n",
       "<polygon fill=\"blue\" stroke=\"blue\" stroke-width=\"4\" points=\"171.45,-60.17 179.92,-53.8 169.33,-53.5 171.45,-60.17\"/>\n",
       "</g>\n",
       "<!-- c -->\n",
       "<g id=\"node8\" class=\"node\">\n",
       "<title>c</title>\n",
       "<path fill=\"none\" stroke=\"black\" stroke-width=\"4\" d=\"M102,-0.5C102,-0.5 132,-0.5 132,-0.5 138,-0.5 144,-6.5 144,-12.5 144,-12.5 144,-24.5 144,-24.5 144,-30.5 138,-36.5 132,-36.5 132,-36.5 102,-36.5 102,-36.5 96,-36.5 90,-30.5 90,-24.5 90,-24.5 90,-12.5 90,-12.5 90,-6.5 96,-0.5 102,-0.5\"/>\n",
       "<text text-anchor=\"middle\" x=\"117\" y=\"-12.5\" font-family=\"Helvetica,sans-Serif\" font-size=\"20.00\">c</text>\n",
       "</g>\n",
       "<!-- c&#45;&gt;8870c -->\n",
       "<g id=\"edge7\" class=\"edge\">\n",
       "<title>c&#45;&gt;8870c</title>\n",
       "<path fill=\"none\" stroke=\"red\" stroke-width=\"4\" d=\"M144.4,-26.6C152.48,-29.08 161.51,-31.85 170.1,-34.49\"/>\n",
       "<polygon fill=\"red\" stroke=\"red\" stroke-width=\"4\" points=\"169.33,-37.91 179.92,-37.5 171.39,-31.22 169.33,-37.91\"/>\n",
       "</g>\n",
       "<!-- a -->\n",
       "<g id=\"node9\" class=\"node\">\n",
       "<title>a</title>\n",
       "<path fill=\"none\" stroke=\"black\" stroke-width=\"4\" d=\"M12,-82.5C12,-82.5 42,-82.5 42,-82.5 48,-82.5 54,-88.5 54,-94.5 54,-94.5 54,-106.5 54,-106.5 54,-112.5 48,-118.5 42,-118.5 42,-118.5 12,-118.5 12,-118.5 6,-118.5 0,-112.5 0,-106.5 0,-106.5 0,-94.5 0,-94.5 0,-88.5 6,-82.5 12,-82.5\"/>\n",
       "<text text-anchor=\"middle\" x=\"27\" y=\"-94.5\" font-family=\"Helvetica,sans-Serif\" font-size=\"20.00\">a</text>\n",
       "</g>\n",
       "<!-- a&#45;&gt;fa5f1 -->\n",
       "<g id=\"edge8\" class=\"edge\">\n",
       "<title>a&#45;&gt;fa5f1</title>\n",
       "<path fill=\"none\" stroke=\"blue\" stroke-width=\"4\" d=\"M54.4,-92.4C62.48,-89.92 71.51,-87.15 80.1,-84.51\"/>\n",
       "<polygon fill=\"blue\" stroke=\"blue\" stroke-width=\"4\" points=\"81.39,-87.78 89.92,-81.5 79.33,-81.09 81.39,-87.78\"/>\n",
       "</g>\n",
       "<!-- b -->\n",
       "<g id=\"node10\" class=\"node\">\n",
       "<title>b</title>\n",
       "<path fill=\"none\" stroke=\"black\" stroke-width=\"4\" d=\"M12,-27.5C12,-27.5 42,-27.5 42,-27.5 48,-27.5 54,-33.5 54,-39.5 54,-39.5 54,-51.5 54,-51.5 54,-57.5 48,-63.5 42,-63.5 42,-63.5 12,-63.5 12,-63.5 6,-63.5 0,-57.5 0,-51.5 0,-51.5 0,-39.5 0,-39.5 0,-33.5 6,-27.5 12,-27.5\"/>\n",
       "<text text-anchor=\"middle\" x=\"27\" y=\"-39.5\" font-family=\"Helvetica,sans-Serif\" font-size=\"20.00\">b</text>\n",
       "</g>\n",
       "<!-- b&#45;&gt;fa5f1 -->\n",
       "<g id=\"edge9\" class=\"edge\">\n",
       "<title>b&#45;&gt;fa5f1</title>\n",
       "<path fill=\"none\" stroke=\"red\" stroke-width=\"4\" d=\"M54.4,-53.9C62.57,-56.5 71.7,-59.41 80.38,-62.17\"/>\n",
       "<polygon fill=\"red\" stroke=\"red\" stroke-width=\"4\" points=\"79.33,-65.5 89.92,-65.2 81.45,-58.83 79.33,-65.5\"/>\n",
       "</g>\n",
       "</g>\n",
       "</svg>\n"
      ]
     },
     "execution_count": 13,
     "metadata": {},
     "output_type": "execute_result"
    }
   ],
   "source": [
    "b"
   ]
  },
  {
   "cell_type": "code",
   "execution_count": 14,
   "metadata": {},
   "outputs": [
    {
     "data": {
      "text/plain": [
       "false"
      ]
     },
     "execution_count": 14,
     "metadata": {},
     "output_type": "execute_result"
    }
   ],
   "source": [
    "b.graph == a.graph"
   ]
  },
  {
   "cell_type": "code",
   "execution_count": 15,
   "metadata": {},
   "outputs": [
    {
     "data": {
      "text/plain": [
       "{*=3008, 5=1, +=4000, 3b827=2016, 3=1, +=1985, +=993, c=1, a=1, b=1}"
      ]
     },
     "execution_count": 15,
     "metadata": {},
     "output_type": "execute_result"
    }
   ],
   "source": [
    "b.graph.wl()"
   ]
  },
  {
   "cell_type": "code",
   "execution_count": 16,
   "metadata": {},
   "outputs": [
    {
     "data": {
      "text/plain": [
       "{f10e1=2016, 5=1, +=3008, +=1985, +=993, a=1, b=1, c=1}"
      ]
     },
     "execution_count": 16,
     "metadata": {},
     "output_type": "execute_result"
    }
   ],
   "source": [
    "a.graph.wl()"
   ]
  },
  {
   "cell_type": "code",
   "execution_count": 17,
   "metadata": {},
   "outputs": [
    {
     "data": {
      "text/plain": [
       "{+=1985, 3b827=2016, +=993, c=1, a=1, b=1}"
      ]
     },
     "execution_count": 17,
     "metadata": {},
     "output_type": "execute_result"
    }
   ],
   "source": [
    "fun1.graph.wl()"
   ]
  },
  {
   "cell_type": "code",
   "execution_count": 18,
   "metadata": {},
   "outputs": [
    {
     "data": {
      "text/plain": [
       "{+=1985, f10e1=2016, +=993, a=1, b=1, c=1}"
      ]
     },
     "execution_count": 18,
     "metadata": {},
     "output_type": "execute_result"
    }
   ],
   "source": [
    "fun2.graph.wl()"
   ]
  },
  {
   "cell_type": "code",
   "execution_count": 19,
   "metadata": {},
   "outputs": [
    {
     "data": {
      "text/plain": [
       "{f10e1=2016, 0=1, +=3008, +=1985, +=993, a=1, b=1, c=1}"
      ]
     },
     "execution_count": 19,
     "metadata": {},
     "output_type": "execute_result"
    }
   ],
   "source": [
    "(fun2 + 0).graph.wl()"
   ]
  },
  {
   "cell_type": "code",
   "execution_count": 20,
   "metadata": {},
   "outputs": [
    {
     "data": {
      "text/html": [
       "<svg width=\"434px\" height=\"127px\"\n",
       " viewBox=\"0.00 0.00 434.05 127.00\" xmlns=\"http://www.w3.org/2000/svg\" xmlns:xlink=\"http://www.w3.org/1999/xlink\">\n",
       "<g id=\"graph0\" class=\"graph\" transform=\"scale(1.0 1.0) rotate(0) translate(4 123)\">\n",
       "<title>%3</title>\n",
       "<!-- 93e8e -->\n",
       "<g id=\"node1\" class=\"node\">\n",
       "<title>93e8e</title>\n",
       "<path fill=\"none\" stroke=\"black\" stroke-width=\"4\" d=\"M192,-27.5C192,-27.5 222,-27.5 222,-27.5 228,-27.5 234,-33.5 234,-39.5 234,-39.5 234,-51.5 234,-51.5 234,-57.5 228,-63.5 222,-63.5 222,-63.5 192,-63.5 192,-63.5 186,-63.5 180,-57.5 180,-51.5 180,-51.5 180,-39.5 180,-39.5 180,-33.5 186,-27.5 192,-27.5\"/>\n",
       "<text text-anchor=\"middle\" x=\"207\" y=\"-39.5\" font-family=\"Helvetica,sans-Serif\" font-size=\"20.00\">+</text>\n",
       "</g>\n",
       "<!-- f10e1 -->\n",
       "<g id=\"node2\" class=\"node\">\n",
       "<title>f10e1</title>\n",
       "<path fill=\"none\" stroke=\"black\" stroke-width=\"4\" d=\"M282,-27.5C282,-27.5 324.05,-27.5 324.05,-27.5 330.05,-27.5 336.05,-33.5 336.05,-39.5 336.05,-39.5 336.05,-51.5 336.05,-51.5 336.05,-57.5 330.05,-63.5 324.05,-63.5 324.05,-63.5 282,-63.5 282,-63.5 276,-63.5 270,-57.5 270,-51.5 270,-51.5 270,-39.5 270,-39.5 270,-33.5 276,-27.5 282,-27.5\"/>\n",
       "<text text-anchor=\"middle\" x=\"303.02\" y=\"-39.5\" font-family=\"Helvetica,sans-Serif\" font-size=\"20.00\">f10e1</text>\n",
       "</g>\n",
       "<!-- 93e8e&#45;&gt;f10e1 -->\n",
       "<g id=\"edge1\" class=\"edge\">\n",
       "<title>93e8e&#45;&gt;f10e1</title>\n",
       "<path fill=\"none\" stroke=\"black\" stroke-width=\"4\" d=\"M234.19,-45.5C242.16,-45.5 251.13,-45.5 259.87,-45.5\"/>\n",
       "<polygon fill=\"black\" stroke=\"black\" stroke-width=\"4\" points=\"259.95,-49 269.95,-45.5 259.95,-42 259.95,-49\"/>\n",
       "</g>\n",
       "<!-- b2533 -->\n",
       "<g id=\"node3\" class=\"node\">\n",
       "<title>b2533</title>\n",
       "<path fill=\"none\" stroke=\"black\" stroke-width=\"4\" d=\"M384.05,-54.5C384.05,-54.5 414.05,-54.5 414.05,-54.5 420.05,-54.5 426.05,-60.5 426.05,-66.5 426.05,-66.5 426.05,-78.5 426.05,-78.5 426.05,-84.5 420.05,-90.5 414.05,-90.5 414.05,-90.5 384.05,-90.5 384.05,-90.5 378.05,-90.5 372.05,-84.5 372.05,-78.5 372.05,-78.5 372.05,-66.5 372.05,-66.5 372.05,-60.5 378.05,-54.5 384.05,-54.5\"/>\n",
       "<text text-anchor=\"middle\" x=\"399.05\" y=\"-66.5\" font-family=\"Helvetica,sans-Serif\" font-size=\"20.00\">+</text>\n",
       "</g>\n",
       "<!-- f10e1&#45;&gt;b2533 -->\n",
       "<g id=\"edge2\" class=\"edge\">\n",
       "<title>f10e1&#45;&gt;b2533</title>\n",
       "<path fill=\"none\" stroke=\"blue\" stroke-width=\"4\" d=\"M336.12,-54.72C344.53,-57.13 353.65,-59.75 362.25,-62.22\"/>\n",
       "<polygon fill=\"blue\" stroke=\"blue\" stroke-width=\"4\" points=\"361.44,-65.63 372.02,-65.02 363.37,-58.9 361.44,-65.63\"/>\n",
       "</g>\n",
       "<!-- 0 -->\n",
       "<g id=\"node4\" class=\"node\">\n",
       "<title>0</title>\n",
       "<path fill=\"none\" stroke=\"black\" stroke-width=\"4\" d=\"M288.02,-82.5C288.02,-82.5 318.02,-82.5 318.02,-82.5 324.02,-82.5 330.02,-88.5 330.02,-94.5 330.02,-94.5 330.02,-106.5 330.02,-106.5 330.02,-112.5 324.02,-118.5 318.02,-118.5 318.02,-118.5 288.02,-118.5 288.02,-118.5 282.02,-118.5 276.02,-112.5 276.02,-106.5 276.02,-106.5 276.02,-94.5 276.02,-94.5 276.02,-88.5 282.02,-82.5 288.02,-82.5\"/>\n",
       "<text text-anchor=\"middle\" x=\"303.02\" y=\"-94.5\" font-family=\"Helvetica,sans-Serif\" font-size=\"20.00\">0</text>\n",
       "</g>\n",
       "<!-- 0&#45;&gt;b2533 -->\n",
       "<g id=\"edge3\" class=\"edge\">\n",
       "<title>0&#45;&gt;b2533</title>\n",
       "<path fill=\"none\" stroke=\"red\" stroke-width=\"4\" d=\"M330.22,-92.7C340.1,-89.76 351.52,-86.36 362.14,-83.19\"/>\n",
       "<polygon fill=\"red\" stroke=\"red\" stroke-width=\"4\" points=\"363.41,-86.47 372,-80.26 361.42,-79.76 363.41,-86.47\"/>\n",
       "</g>\n",
       "<!-- 3f4c2 -->\n",
       "<g id=\"node5\" class=\"node\">\n",
       "<title>3f4c2</title>\n",
       "<path fill=\"none\" stroke=\"black\" stroke-width=\"4\" d=\"M102,-55.5C102,-55.5 132,-55.5 132,-55.5 138,-55.5 144,-61.5 144,-67.5 144,-67.5 144,-79.5 144,-79.5 144,-85.5 138,-91.5 132,-91.5 132,-91.5 102,-91.5 102,-91.5 96,-91.5 90,-85.5 90,-79.5 90,-79.5 90,-67.5 90,-67.5 90,-61.5 96,-55.5 102,-55.5\"/>\n",
       "<text text-anchor=\"middle\" x=\"117\" y=\"-67.5\" font-family=\"Helvetica,sans-Serif\" font-size=\"20.00\">+</text>\n",
       "</g>\n",
       "<!-- 3f4c2&#45;&gt;93e8e -->\n",
       "<g id=\"edge4\" class=\"edge\">\n",
       "<title>3f4c2&#45;&gt;93e8e</title>\n",
       "<path fill=\"none\" stroke=\"blue\" stroke-width=\"4\" d=\"M144.4,-65.1C152.57,-62.5 161.7,-59.59 170.38,-56.83\"/>\n",
       "<polygon fill=\"blue\" stroke=\"blue\" stroke-width=\"4\" points=\"171.45,-60.17 179.92,-53.8 169.33,-53.5 171.45,-60.17\"/>\n",
       "</g>\n",
       "<!-- a -->\n",
       "<g id=\"node6\" class=\"node\">\n",
       "<title>a</title>\n",
       "<path fill=\"none\" stroke=\"black\" stroke-width=\"4\" d=\"M102,-0.5C102,-0.5 132,-0.5 132,-0.5 138,-0.5 144,-6.5 144,-12.5 144,-12.5 144,-24.5 144,-24.5 144,-30.5 138,-36.5 132,-36.5 132,-36.5 102,-36.5 102,-36.5 96,-36.5 90,-30.5 90,-24.5 90,-24.5 90,-12.5 90,-12.5 90,-6.5 96,-0.5 102,-0.5\"/>\n",
       "<text text-anchor=\"middle\" x=\"117\" y=\"-12.5\" font-family=\"Helvetica,sans-Serif\" font-size=\"20.00\">a</text>\n",
       "</g>\n",
       "<!-- a&#45;&gt;93e8e -->\n",
       "<g id=\"edge5\" class=\"edge\">\n",
       "<title>a&#45;&gt;93e8e</title>\n",
       "<path fill=\"none\" stroke=\"red\" stroke-width=\"4\" d=\"M144.4,-26.6C152.48,-29.08 161.51,-31.85 170.1,-34.49\"/>\n",
       "<polygon fill=\"red\" stroke=\"red\" stroke-width=\"4\" points=\"169.33,-37.91 179.92,-37.5 171.39,-31.22 169.33,-37.91\"/>\n",
       "</g>\n",
       "<!-- b -->\n",
       "<g id=\"node7\" class=\"node\">\n",
       "<title>b</title>\n",
       "<path fill=\"none\" stroke=\"black\" stroke-width=\"4\" d=\"M12,-82.5C12,-82.5 42,-82.5 42,-82.5 48,-82.5 54,-88.5 54,-94.5 54,-94.5 54,-106.5 54,-106.5 54,-112.5 48,-118.5 42,-118.5 42,-118.5 12,-118.5 12,-118.5 6,-118.5 0,-112.5 0,-106.5 0,-106.5 0,-94.5 0,-94.5 0,-88.5 6,-82.5 12,-82.5\"/>\n",
       "<text text-anchor=\"middle\" x=\"27\" y=\"-94.5\" font-family=\"Helvetica,sans-Serif\" font-size=\"20.00\">b</text>\n",
       "</g>\n",
       "<!-- b&#45;&gt;3f4c2 -->\n",
       "<g id=\"edge6\" class=\"edge\">\n",
       "<title>b&#45;&gt;3f4c2</title>\n",
       "<path fill=\"none\" stroke=\"blue\" stroke-width=\"4\" d=\"M54.4,-92.4C62.48,-89.92 71.51,-87.15 80.1,-84.51\"/>\n",
       "<polygon fill=\"blue\" stroke=\"blue\" stroke-width=\"4\" points=\"81.39,-87.78 89.92,-81.5 79.33,-81.09 81.39,-87.78\"/>\n",
       "</g>\n",
       "<!-- c -->\n",
       "<g id=\"node8\" class=\"node\">\n",
       "<title>c</title>\n",
       "<path fill=\"none\" stroke=\"black\" stroke-width=\"4\" d=\"M12,-27.5C12,-27.5 42,-27.5 42,-27.5 48,-27.5 54,-33.5 54,-39.5 54,-39.5 54,-51.5 54,-51.5 54,-57.5 48,-63.5 42,-63.5 42,-63.5 12,-63.5 12,-63.5 6,-63.5 0,-57.5 0,-51.5 0,-51.5 0,-39.5 0,-39.5 0,-33.5 6,-27.5 12,-27.5\"/>\n",
       "<text text-anchor=\"middle\" x=\"27\" y=\"-39.5\" font-family=\"Helvetica,sans-Serif\" font-size=\"20.00\">c</text>\n",
       "</g>\n",
       "<!-- c&#45;&gt;3f4c2 -->\n",
       "<g id=\"edge7\" class=\"edge\">\n",
       "<title>c&#45;&gt;3f4c2</title>\n",
       "<path fill=\"none\" stroke=\"red\" stroke-width=\"4\" d=\"M54.4,-53.9C62.57,-56.5 71.7,-59.41 80.38,-62.17\"/>\n",
       "<polygon fill=\"red\" stroke=\"red\" stroke-width=\"4\" points=\"79.33,-65.5 89.92,-65.2 81.45,-58.83 79.33,-65.5\"/>\n",
       "</g>\n",
       "</g>\n",
       "</svg>\n"
      ]
     },
     "execution_count": 20,
     "metadata": {},
     "output_type": "execute_result"
    }
   ],
   "source": [
    "(fun2 + 0).graph"
   ]
  },
  {
   "cell_type": "code",
   "execution_count": 21,
   "metadata": {},
   "outputs": [
    {
     "data": {
      "text/html": [
       "<svg width=\"344px\" height=\"127px\"\n",
       " viewBox=\"0.00 0.00 344.05 127.00\" xmlns=\"http://www.w3.org/2000/svg\" xmlns:xlink=\"http://www.w3.org/1999/xlink\">\n",
       "<g id=\"graph0\" class=\"graph\" transform=\"scale(1.0 1.0) rotate(0) translate(4 123)\">\n",
       "<title>%3</title>\n",
       "<!-- 3f4c2 -->\n",
       "<g id=\"node1\" class=\"node\">\n",
       "<title>3f4c2</title>\n",
       "<path fill=\"none\" stroke=\"black\" stroke-width=\"4\" d=\"M102,-27.5C102,-27.5 132,-27.5 132,-27.5 138,-27.5 144,-33.5 144,-39.5 144,-39.5 144,-51.5 144,-51.5 144,-57.5 138,-63.5 132,-63.5 132,-63.5 102,-63.5 102,-63.5 96,-63.5 90,-57.5 90,-51.5 90,-51.5 90,-39.5 90,-39.5 90,-33.5 96,-27.5 102,-27.5\"/>\n",
       "<text text-anchor=\"middle\" x=\"117\" y=\"-39.5\" font-family=\"Helvetica,sans-Serif\" font-size=\"20.00\">+</text>\n",
       "</g>\n",
       "<!-- 93e8e -->\n",
       "<g id=\"node2\" class=\"node\">\n",
       "<title>93e8e</title>\n",
       "<path fill=\"none\" stroke=\"black\" stroke-width=\"4\" d=\"M192,-54.5C192,-54.5 222,-54.5 222,-54.5 228,-54.5 234,-60.5 234,-66.5 234,-66.5 234,-78.5 234,-78.5 234,-84.5 228,-90.5 222,-90.5 222,-90.5 192,-90.5 192,-90.5 186,-90.5 180,-84.5 180,-78.5 180,-78.5 180,-66.5 180,-66.5 180,-60.5 186,-54.5 192,-54.5\"/>\n",
       "<text text-anchor=\"middle\" x=\"207\" y=\"-66.5\" font-family=\"Helvetica,sans-Serif\" font-size=\"20.00\">+</text>\n",
       "</g>\n",
       "<!-- 3f4c2&#45;&gt;93e8e -->\n",
       "<g id=\"edge1\" class=\"edge\">\n",
       "<title>3f4c2&#45;&gt;93e8e</title>\n",
       "<path fill=\"none\" stroke=\"blue\" stroke-width=\"4\" d=\"M144.4,-53.6C152.48,-56.08 161.51,-58.85 170.1,-61.49\"/>\n",
       "<polygon fill=\"blue\" stroke=\"blue\" stroke-width=\"4\" points=\"169.33,-64.91 179.92,-64.5 171.39,-58.22 169.33,-64.91\"/>\n",
       "</g>\n",
       "<!-- f10e1 -->\n",
       "<g id=\"node3\" class=\"node\">\n",
       "<title>f10e1</title>\n",
       "<path fill=\"none\" stroke=\"black\" stroke-width=\"4\" d=\"M282,-54.5C282,-54.5 324.05,-54.5 324.05,-54.5 330.05,-54.5 336.05,-60.5 336.05,-66.5 336.05,-66.5 336.05,-78.5 336.05,-78.5 336.05,-84.5 330.05,-90.5 324.05,-90.5 324.05,-90.5 282,-90.5 282,-90.5 276,-90.5 270,-84.5 270,-78.5 270,-78.5 270,-66.5 270,-66.5 270,-60.5 276,-54.5 282,-54.5\"/>\n",
       "<text text-anchor=\"middle\" x=\"303.02\" y=\"-66.5\" font-family=\"Helvetica,sans-Serif\" font-size=\"20.00\">f10e1</text>\n",
       "</g>\n",
       "<!-- 93e8e&#45;&gt;f10e1 -->\n",
       "<g id=\"edge2\" class=\"edge\">\n",
       "<title>93e8e&#45;&gt;f10e1</title>\n",
       "<path fill=\"none\" stroke=\"black\" stroke-width=\"4\" d=\"M234.19,-72.5C242.16,-72.5 251.13,-72.5 259.87,-72.5\"/>\n",
       "<polygon fill=\"black\" stroke=\"black\" stroke-width=\"4\" points=\"259.95,-76 269.95,-72.5 259.95,-69 259.95,-76\"/>\n",
       "</g>\n",
       "<!-- a -->\n",
       "<g id=\"node4\" class=\"node\">\n",
       "<title>a</title>\n",
       "<path fill=\"none\" stroke=\"black\" stroke-width=\"4\" d=\"M102,-82.5C102,-82.5 132,-82.5 132,-82.5 138,-82.5 144,-88.5 144,-94.5 144,-94.5 144,-106.5 144,-106.5 144,-112.5 138,-118.5 132,-118.5 132,-118.5 102,-118.5 102,-118.5 96,-118.5 90,-112.5 90,-106.5 90,-106.5 90,-94.5 90,-94.5 90,-88.5 96,-82.5 102,-82.5\"/>\n",
       "<text text-anchor=\"middle\" x=\"117\" y=\"-94.5\" font-family=\"Helvetica,sans-Serif\" font-size=\"20.00\">a</text>\n",
       "</g>\n",
       "<!-- a&#45;&gt;93e8e -->\n",
       "<g id=\"edge3\" class=\"edge\">\n",
       "<title>a&#45;&gt;93e8e</title>\n",
       "<path fill=\"none\" stroke=\"red\" stroke-width=\"4\" d=\"M144.4,-92.1C152.57,-89.5 161.7,-86.59 170.38,-83.83\"/>\n",
       "<polygon fill=\"red\" stroke=\"red\" stroke-width=\"4\" points=\"171.45,-87.17 179.92,-80.8 169.33,-80.5 171.45,-87.17\"/>\n",
       "</g>\n",
       "<!-- b -->\n",
       "<g id=\"node5\" class=\"node\">\n",
       "<title>b</title>\n",
       "<path fill=\"none\" stroke=\"black\" stroke-width=\"4\" d=\"M12,-55.5C12,-55.5 42,-55.5 42,-55.5 48,-55.5 54,-61.5 54,-67.5 54,-67.5 54,-79.5 54,-79.5 54,-85.5 48,-91.5 42,-91.5 42,-91.5 12,-91.5 12,-91.5 6,-91.5 0,-85.5 0,-79.5 0,-79.5 0,-67.5 0,-67.5 0,-61.5 6,-55.5 12,-55.5\"/>\n",
       "<text text-anchor=\"middle\" x=\"27\" y=\"-67.5\" font-family=\"Helvetica,sans-Serif\" font-size=\"20.00\">b</text>\n",
       "</g>\n",
       "<!-- b&#45;&gt;3f4c2 -->\n",
       "<g id=\"edge4\" class=\"edge\">\n",
       "<title>b&#45;&gt;3f4c2</title>\n",
       "<path fill=\"none\" stroke=\"blue\" stroke-width=\"4\" d=\"M54.4,-65.1C62.57,-62.5 71.7,-59.59 80.38,-56.83\"/>\n",
       "<polygon fill=\"blue\" stroke=\"blue\" stroke-width=\"4\" points=\"81.45,-60.17 89.92,-53.8 79.33,-53.5 81.45,-60.17\"/>\n",
       "</g>\n",
       "<!-- c -->\n",
       "<g id=\"node6\" class=\"node\">\n",
       "<title>c</title>\n",
       "<path fill=\"none\" stroke=\"black\" stroke-width=\"4\" d=\"M12,-0.5C12,-0.5 42,-0.5 42,-0.5 48,-0.5 54,-6.5 54,-12.5 54,-12.5 54,-24.5 54,-24.5 54,-30.5 48,-36.5 42,-36.5 42,-36.5 12,-36.5 12,-36.5 6,-36.5 0,-30.5 0,-24.5 0,-24.5 0,-12.5 0,-12.5 0,-6.5 6,-0.5 12,-0.5\"/>\n",
       "<text text-anchor=\"middle\" x=\"27\" y=\"-12.5\" font-family=\"Helvetica,sans-Serif\" font-size=\"20.00\">c</text>\n",
       "</g>\n",
       "<!-- c&#45;&gt;3f4c2 -->\n",
       "<g id=\"edge5\" class=\"edge\">\n",
       "<title>c&#45;&gt;3f4c2</title>\n",
       "<path fill=\"none\" stroke=\"red\" stroke-width=\"4\" d=\"M54.4,-26.6C62.48,-29.08 71.51,-31.85 80.1,-34.49\"/>\n",
       "<polygon fill=\"red\" stroke=\"red\" stroke-width=\"4\" points=\"79.33,-37.91 89.92,-37.5 81.39,-31.22 79.33,-37.91\"/>\n",
       "</g>\n",
       "</g>\n",
       "</svg>\n"
      ]
     },
     "execution_count": 21,
     "metadata": {},
     "output_type": "execute_result"
    }
   ],
   "source": [
    "fun2"
   ]
  },
  {
   "cell_type": "code",
   "execution_count": 22,
   "metadata": {},
   "outputs": [
    {
     "data": {
      "text/plain": [
       "95708209"
      ]
     },
     "execution_count": 22,
     "metadata": {},
     "output_type": "execute_result"
    }
   ],
   "source": [
    "fun2.hashCode()"
   ]
  },
  {
   "cell_type": "code",
   "execution_count": 23,
   "metadata": {},
   "outputs": [
    {
     "data": {
      "text/plain": [
       "50074510"
      ]
     },
     "execution_count": 23,
     "metadata": {},
     "output_type": "execute_result"
    }
   ],
   "source": [
    "fun1.hashCode()"
   ]
  },
  {
   "cell_type": "code",
   "execution_count": 24,
   "metadata": {},
   "outputs": [
    {
     "data": {
      "text/html": [
       "<img src=\"data:image/jpg;base64,iVBORw0KGgoAAAANSUhEUgAAAHgAAAB4CAIAAAC2BqGFAAABIklEQVR4Xu3QsVUEQAxDQei/Duo88lViE5hAM+83IH19lfl8/0918oKb6uQFN9XJC26qkxfcVCcvuKlOXnBTnbzgpjp5wU118oKb6uQFN9XJC26qkxfcVCcvuKlOXnBTnbzgpjp5wU118oKb6uQFN9XJC276N5+fn78XM+bVeb9bFffNq/N+tyrum1fn/W5V3DevzvvdqrhvXp33u1Vx37w673er4r55dd7vVsV98+q8362K++bVeb9bFffNq/N+tyrum1fn/W5V3DevzvvdqrhvXp33u1Vx37w673er4r55dd7vVsV98+q8362K++bVeb9bFffNq/N+tyrum1fn/W5V3DcPAAAAAAAAAAAAAAAAAAAAAAAAAAAAAAAAAAAA4MovZmhCiX9ywMwAAAAASUVORK5CYII=\"/>"
      ]
     },
     "execution_count": 24,
     "metadata": {},
     "output_type": "execute_result"
    }
   ],
   "source": [
    "fun1.graph.ANORM.let { it * it }"
   ]
  }
 ],
 "metadata": {
  "kernelspec": {
   "display_name": "Kotlin",
   "language": "kotlin",
   "name": "kotlin"
  },
  "language_info": {
   "codemirror_mode": "text/x-kotlin",
   "file_extension": ".kt",
   "mimetype": "text/x-kotlin",
   "name": "kotlin",
   "pygments_lexer": "kotlin",
   "version": "1.4.20-dev-2342"
  }
 },
 "nbformat": 4,
 "nbformat_minor": 4
}
