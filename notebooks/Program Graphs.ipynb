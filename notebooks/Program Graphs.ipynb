{
 "cells": [
  {
   "cell_type": "code",
   "execution_count": 1,
   "metadata": {},
   "outputs": [],
   "source": [
    "%use @https://raw.githubusercontent.com/breandan/kaliningraph/master/kaliningraph.json"
   ]
  },
  {
   "cell_type": "code",
   "execution_count": 2,
   "metadata": {},
   "outputs": [
    {
     "data": {
      "text/html": [
       "<svg width=\"345px\" height=\"127px\"\n",
       " viewBox=\"0.00 0.00 345.00 127.00\" xmlns=\"http://www.w3.org/2000/svg\" xmlns:xlink=\"http://www.w3.org/1999/xlink\">\n",
       "<g id=\"graph0\" class=\"graph\" transform=\"scale(1.0 1.0) rotate(0) translate(4 123)\">\n",
       "<title>%3</title>\n",
       "<!-- 600e4 -->\n",
       "<g id=\"node1\" class=\"node\">\n",
       "<title>600e4</title>\n",
       "<path fill=\"none\" stroke=\"#000000\" stroke-width=\"4\" d=\"M102,-27.5C102,-27.5 132,-27.5 132,-27.5 138,-27.5 144,-33.5 144,-39.5 144,-39.5 144,-51.5 144,-51.5 144,-57.5 138,-63.5 132,-63.5 132,-63.5 102,-63.5 102,-63.5 96,-63.5 90,-57.5 90,-51.5 90,-51.5 90,-39.5 90,-39.5 90,-33.5 96,-27.5 102,-27.5\"/>\n",
       "<text text-anchor=\"middle\" x=\"117\" y=\"-40.5\" font-family=\"Helvetica,sans-Serif\" font-size=\"20.00\" fill=\"#000000\">+</text>\n",
       "</g>\n",
       "<!-- fc290 -->\n",
       "<g id=\"node2\" class=\"node\">\n",
       "<title>fc290</title>\n",
       "<path fill=\"none\" stroke=\"#000000\" stroke-width=\"4\" d=\"M192,-54.5C192,-54.5 222,-54.5 222,-54.5 228,-54.5 234,-60.5 234,-66.5 234,-66.5 234,-78.5 234,-78.5 234,-84.5 228,-90.5 222,-90.5 222,-90.5 192,-90.5 192,-90.5 186,-90.5 180,-84.5 180,-78.5 180,-78.5 180,-66.5 180,-66.5 180,-60.5 186,-54.5 192,-54.5\"/>\n",
       "<text text-anchor=\"middle\" x=\"207\" y=\"-67.5\" font-family=\"Helvetica,sans-Serif\" font-size=\"20.00\" fill=\"#000000\">+</text>\n",
       "</g>\n",
       "<!-- 600e4&#45;&gt;fc290 -->\n",
       "<g id=\"edge1\" class=\"edge\">\n",
       "<title>600e4&#45;&gt;fc290</title>\n",
       "<path fill=\"none\" stroke=\"#0000ff\" stroke-width=\"4\" d=\"M144.003,-53.6009C152.204,-56.0612 161.3599,-58.808 170.095,-61.4285\"/>\n",
       "<polygon fill=\"#0000ff\" stroke=\"#0000ff\" stroke-width=\"4\" points=\"169.121,-64.7904 179.705,-64.3115 171.1325,-58.0856 169.121,-64.7904\"/>\n",
       "</g>\n",
       "<!-- 5437f -->\n",
       "<g id=\"node3\" class=\"node\">\n",
       "<title>5437f</title>\n",
       "<path fill=\"none\" stroke=\"#000000\" stroke-width=\"4\" d=\"M282,-54.5C282,-54.5 325,-54.5 325,-54.5 331,-54.5 337,-60.5 337,-66.5 337,-66.5 337,-78.5 337,-78.5 337,-84.5 331,-90.5 325,-90.5 325,-90.5 282,-90.5 282,-90.5 276,-90.5 270,-84.5 270,-78.5 270,-78.5 270,-66.5 270,-66.5 270,-60.5 276,-54.5 282,-54.5\"/>\n",
       "<text text-anchor=\"middle\" x=\"303.5\" y=\"-67.5\" font-family=\"Helvetica,sans-Serif\" font-size=\"20.00\" fill=\"#000000\">5437f</text>\n",
       "</g>\n",
       "<!-- fc290&#45;&gt;5437f -->\n",
       "<g id=\"edge2\" class=\"edge\">\n",
       "<title>fc290&#45;&gt;5437f</title>\n",
       "<path fill=\"none\" stroke=\"#000000\" stroke-width=\"4\" d=\"M234.1374,-72.5C242.0709,-72.5 250.9529,-72.5 259.6433,-72.5\"/>\n",
       "<polygon fill=\"#000000\" stroke=\"#000000\" stroke-width=\"4\" points=\"259.6887,-76.0001 269.6886,-72.5 259.6886,-69.0001 259.6887,-76.0001\"/>\n",
       "</g>\n",
       "<!-- c -->\n",
       "<g id=\"node4\" class=\"node\">\n",
       "<title>c</title>\n",
       "<path fill=\"none\" stroke=\"#000000\" stroke-width=\"4\" d=\"M102,-82.5C102,-82.5 132,-82.5 132,-82.5 138,-82.5 144,-88.5 144,-94.5 144,-94.5 144,-106.5 144,-106.5 144,-112.5 138,-118.5 132,-118.5 132,-118.5 102,-118.5 102,-118.5 96,-118.5 90,-112.5 90,-106.5 90,-106.5 90,-94.5 90,-94.5 90,-88.5 96,-82.5 102,-82.5\"/>\n",
       "<text text-anchor=\"middle\" x=\"117\" y=\"-95.5\" font-family=\"Helvetica,sans-Serif\" font-size=\"20.00\" fill=\"#000000\">c</text>\n",
       "</g>\n",
       "<!-- c&#45;&gt;fc290 -->\n",
       "<g id=\"edge3\" class=\"edge\">\n",
       "<title>c&#45;&gt;fc290</title>\n",
       "<path fill=\"none\" stroke=\"#ff0000\" stroke-width=\"4\" d=\"M144.003,-92.0991C152.204,-89.5476 161.3599,-86.6991 170.095,-83.9816\"/>\n",
       "<polygon fill=\"#ff0000\" stroke=\"#ff0000\" stroke-width=\"4\" points=\"171.1962,-87.3045 179.705,-80.9918 169.1167,-80.6205 171.1962,-87.3045\"/>\n",
       "</g>\n",
       "<!-- a -->\n",
       "<g id=\"node5\" class=\"node\">\n",
       "<title>a</title>\n",
       "<path fill=\"none\" stroke=\"#000000\" stroke-width=\"4\" d=\"M12,-55.5C12,-55.5 42,-55.5 42,-55.5 48,-55.5 54,-61.5 54,-67.5 54,-67.5 54,-79.5 54,-79.5 54,-85.5 48,-91.5 42,-91.5 42,-91.5 12,-91.5 12,-91.5 6,-91.5 0,-85.5 0,-79.5 0,-79.5 0,-67.5 0,-67.5 0,-61.5 6,-55.5 12,-55.5\"/>\n",
       "<text text-anchor=\"middle\" x=\"27\" y=\"-68.5\" font-family=\"Helvetica,sans-Serif\" font-size=\"20.00\" fill=\"#000000\">a</text>\n",
       "</g>\n",
       "<!-- a&#45;&gt;600e4 -->\n",
       "<g id=\"edge4\" class=\"edge\">\n",
       "<title>a&#45;&gt;600e4</title>\n",
       "<path fill=\"none\" stroke=\"#0000ff\" stroke-width=\"4\" d=\"M54.003,-65.0991C62.204,-62.5476 71.3599,-59.6991 80.095,-56.9816\"/>\n",
       "<polygon fill=\"#0000ff\" stroke=\"#0000ff\" stroke-width=\"4\" points=\"81.1962,-60.3045 89.705,-53.9918 79.1167,-53.6205 81.1962,-60.3045\"/>\n",
       "</g>\n",
       "<!-- b -->\n",
       "<g id=\"node6\" class=\"node\">\n",
       "<title>b</title>\n",
       "<path fill=\"none\" stroke=\"#000000\" stroke-width=\"4\" d=\"M12,-.5C12,-.5 42,-.5 42,-.5 48,-.5 54,-6.5 54,-12.5 54,-12.5 54,-24.5 54,-24.5 54,-30.5 48,-36.5 42,-36.5 42,-36.5 12,-36.5 12,-36.5 6,-36.5 0,-30.5 0,-24.5 0,-24.5 0,-12.5 0,-12.5 0,-6.5 6,-.5 12,-.5\"/>\n",
       "<text text-anchor=\"middle\" x=\"27\" y=\"-13.5\" font-family=\"Helvetica,sans-Serif\" font-size=\"20.00\" fill=\"#000000\">b</text>\n",
       "</g>\n",
       "<!-- b&#45;&gt;600e4 -->\n",
       "<g id=\"edge5\" class=\"edge\">\n",
       "<title>b&#45;&gt;600e4</title>\n",
       "<path fill=\"none\" stroke=\"#ff0000\" stroke-width=\"4\" d=\"M54.003,-26.6009C62.204,-29.0612 71.3599,-31.808 80.095,-34.4285\"/>\n",
       "<polygon fill=\"#ff0000\" stroke=\"#ff0000\" stroke-width=\"4\" points=\"79.121,-37.7904 89.705,-37.3115 81.1325,-31.0856 79.121,-37.7904\"/>\n",
       "</g>\n",
       "</g>\n",
       "</svg>\n"
      ]
     },
     "execution_count": 2,
     "metadata": {
      "new_classpath": []
     },
     "output_type": "execute_result"
    }
   ],
   "source": [
    "val fun1 = def(a, b, c) { a + b + c }; fun1"
   ]
  },
  {
   "cell_type": "code",
   "execution_count": 3,
   "metadata": {},
   "outputs": [],
   "source": [
    "val fun2 = def(a, b, c) { b + c + a }"
   ]
  },
  {
   "cell_type": "code",
   "execution_count": 4,
   "metadata": {},
   "outputs": [
    {
     "data": {
      "text/plain": [
       "false"
      ]
     },
     "execution_count": 4,
     "metadata": {
      "new_classpath": []
     },
     "output_type": "execute_result"
    }
   ],
   "source": [
    "fun1 == fun2"
   ]
  },
  {
   "cell_type": "code",
   "execution_count": 5,
   "metadata": {},
   "outputs": [
    {
     "data": {
      "text/html": [
       "<svg width=\"349px\" height=\"127px\"\n",
       " viewBox=\"0.00 0.00 349.00 127.00\" xmlns=\"http://www.w3.org/2000/svg\" xmlns:xlink=\"http://www.w3.org/1999/xlink\">\n",
       "<g id=\"graph0\" class=\"graph\" transform=\"scale(1.0 1.0) rotate(0) translate(4 123)\">\n",
       "<title>%3</title>\n",
       "<!-- f6ef6 -->\n",
       "<g id=\"node1\" class=\"node\">\n",
       "<title>f6ef6</title>\n",
       "<path fill=\"none\" stroke=\"#000000\" stroke-width=\"4\" d=\"M102,-27.5C102,-27.5 132,-27.5 132,-27.5 138,-27.5 144,-33.5 144,-39.5 144,-39.5 144,-51.5 144,-51.5 144,-57.5 138,-63.5 132,-63.5 132,-63.5 102,-63.5 102,-63.5 96,-63.5 90,-57.5 90,-51.5 90,-51.5 90,-39.5 90,-39.5 90,-33.5 96,-27.5 102,-27.5\"/>\n",
       "<text text-anchor=\"middle\" x=\"117\" y=\"-40.5\" font-family=\"Helvetica,sans-Serif\" font-size=\"20.00\" fill=\"#000000\">+</text>\n",
       "</g>\n",
       "<!-- 1817e -->\n",
       "<g id=\"node2\" class=\"node\">\n",
       "<title>1817e</title>\n",
       "<path fill=\"none\" stroke=\"#000000\" stroke-width=\"4\" d=\"M192,-54.5C192,-54.5 222,-54.5 222,-54.5 228,-54.5 234,-60.5 234,-66.5 234,-66.5 234,-78.5 234,-78.5 234,-84.5 228,-90.5 222,-90.5 222,-90.5 192,-90.5 192,-90.5 186,-90.5 180,-84.5 180,-78.5 180,-78.5 180,-66.5 180,-66.5 180,-60.5 186,-54.5 192,-54.5\"/>\n",
       "<text text-anchor=\"middle\" x=\"207\" y=\"-67.5\" font-family=\"Helvetica,sans-Serif\" font-size=\"20.00\" fill=\"#000000\">+</text>\n",
       "</g>\n",
       "<!-- f6ef6&#45;&gt;1817e -->\n",
       "<g id=\"edge1\" class=\"edge\">\n",
       "<title>f6ef6&#45;&gt;1817e</title>\n",
       "<path fill=\"none\" stroke=\"#0000ff\" stroke-width=\"4\" d=\"M144.003,-53.6009C152.204,-56.0612 161.3599,-58.808 170.095,-61.4285\"/>\n",
       "<polygon fill=\"#0000ff\" stroke=\"#0000ff\" stroke-width=\"4\" points=\"169.121,-64.7904 179.705,-64.3115 171.1325,-58.0856 169.121,-64.7904\"/>\n",
       "</g>\n",
       "<!-- 9c9a8 -->\n",
       "<g id=\"node3\" class=\"node\">\n",
       "<title>9c9a8</title>\n",
       "<path fill=\"none\" stroke=\"#000000\" stroke-width=\"4\" d=\"M282,-54.5C282,-54.5 329,-54.5 329,-54.5 335,-54.5 341,-60.5 341,-66.5 341,-66.5 341,-78.5 341,-78.5 341,-84.5 335,-90.5 329,-90.5 329,-90.5 282,-90.5 282,-90.5 276,-90.5 270,-84.5 270,-78.5 270,-78.5 270,-66.5 270,-66.5 270,-60.5 276,-54.5 282,-54.5\"/>\n",
       "<text text-anchor=\"middle\" x=\"305.5\" y=\"-67.5\" font-family=\"Helvetica,sans-Serif\" font-size=\"20.00\" fill=\"#000000\">9c9a8</text>\n",
       "</g>\n",
       "<!-- 1817e&#45;&gt;9c9a8 -->\n",
       "<g id=\"edge2\" class=\"edge\">\n",
       "<title>1817e&#45;&gt;9c9a8</title>\n",
       "<path fill=\"none\" stroke=\"#000000\" stroke-width=\"4\" d=\"M234.1763,-72.5C242.1165,-72.5 251.0218,-72.5 259.7776,-72.5\"/>\n",
       "<polygon fill=\"#000000\" stroke=\"#000000\" stroke-width=\"4\" points=\"259.9208,-76.0001 269.9207,-72.5 259.9207,-69.0001 259.9208,-76.0001\"/>\n",
       "</g>\n",
       "<!-- a -->\n",
       "<g id=\"node4\" class=\"node\">\n",
       "<title>a</title>\n",
       "<path fill=\"none\" stroke=\"#000000\" stroke-width=\"4\" d=\"M102,-82.5C102,-82.5 132,-82.5 132,-82.5 138,-82.5 144,-88.5 144,-94.5 144,-94.5 144,-106.5 144,-106.5 144,-112.5 138,-118.5 132,-118.5 132,-118.5 102,-118.5 102,-118.5 96,-118.5 90,-112.5 90,-106.5 90,-106.5 90,-94.5 90,-94.5 90,-88.5 96,-82.5 102,-82.5\"/>\n",
       "<text text-anchor=\"middle\" x=\"117\" y=\"-95.5\" font-family=\"Helvetica,sans-Serif\" font-size=\"20.00\" fill=\"#000000\">a</text>\n",
       "</g>\n",
       "<!-- a&#45;&gt;1817e -->\n",
       "<g id=\"edge3\" class=\"edge\">\n",
       "<title>a&#45;&gt;1817e</title>\n",
       "<path fill=\"none\" stroke=\"#ff0000\" stroke-width=\"4\" d=\"M144.003,-92.0991C152.204,-89.5476 161.3599,-86.6991 170.095,-83.9816\"/>\n",
       "<polygon fill=\"#ff0000\" stroke=\"#ff0000\" stroke-width=\"4\" points=\"171.1962,-87.3045 179.705,-80.9918 169.1167,-80.6205 171.1962,-87.3045\"/>\n",
       "</g>\n",
       "<!-- b -->\n",
       "<g id=\"node5\" class=\"node\">\n",
       "<title>b</title>\n",
       "<path fill=\"none\" stroke=\"#000000\" stroke-width=\"4\" d=\"M12,-55.5C12,-55.5 42,-55.5 42,-55.5 48,-55.5 54,-61.5 54,-67.5 54,-67.5 54,-79.5 54,-79.5 54,-85.5 48,-91.5 42,-91.5 42,-91.5 12,-91.5 12,-91.5 6,-91.5 0,-85.5 0,-79.5 0,-79.5 0,-67.5 0,-67.5 0,-61.5 6,-55.5 12,-55.5\"/>\n",
       "<text text-anchor=\"middle\" x=\"27\" y=\"-68.5\" font-family=\"Helvetica,sans-Serif\" font-size=\"20.00\" fill=\"#000000\">b</text>\n",
       "</g>\n",
       "<!-- b&#45;&gt;f6ef6 -->\n",
       "<g id=\"edge4\" class=\"edge\">\n",
       "<title>b&#45;&gt;f6ef6</title>\n",
       "<path fill=\"none\" stroke=\"#0000ff\" stroke-width=\"4\" d=\"M54.003,-65.0991C62.204,-62.5476 71.3599,-59.6991 80.095,-56.9816\"/>\n",
       "<polygon fill=\"#0000ff\" stroke=\"#0000ff\" stroke-width=\"4\" points=\"81.1962,-60.3045 89.705,-53.9918 79.1167,-53.6205 81.1962,-60.3045\"/>\n",
       "</g>\n",
       "<!-- c -->\n",
       "<g id=\"node6\" class=\"node\">\n",
       "<title>c</title>\n",
       "<path fill=\"none\" stroke=\"#000000\" stroke-width=\"4\" d=\"M12,-.5C12,-.5 42,-.5 42,-.5 48,-.5 54,-6.5 54,-12.5 54,-12.5 54,-24.5 54,-24.5 54,-30.5 48,-36.5 42,-36.5 42,-36.5 12,-36.5 12,-36.5 6,-36.5 0,-30.5 0,-24.5 0,-24.5 0,-12.5 0,-12.5 0,-6.5 6,-.5 12,-.5\"/>\n",
       "<text text-anchor=\"middle\" x=\"27\" y=\"-13.5\" font-family=\"Helvetica,sans-Serif\" font-size=\"20.00\" fill=\"#000000\">c</text>\n",
       "</g>\n",
       "<!-- c&#45;&gt;f6ef6 -->\n",
       "<g id=\"edge5\" class=\"edge\">\n",
       "<title>c&#45;&gt;f6ef6</title>\n",
       "<path fill=\"none\" stroke=\"#ff0000\" stroke-width=\"4\" d=\"M54.003,-26.6009C62.204,-29.0612 71.3599,-31.808 80.095,-34.4285\"/>\n",
       "<polygon fill=\"#ff0000\" stroke=\"#ff0000\" stroke-width=\"4\" points=\"79.121,-37.7904 89.705,-37.3115 81.1325,-31.0856 79.121,-37.7904\"/>\n",
       "</g>\n",
       "</g>\n",
       "</svg>\n"
      ]
     },
     "execution_count": 5,
     "metadata": {
      "new_classpath": []
     },
     "output_type": "execute_result"
    }
   ],
   "source": [
    "fun2"
   ]
  },
  {
   "cell_type": "code",
   "execution_count": 6,
   "metadata": {},
   "outputs": [
    {
     "data": {
      "text/html": [
       "<img src=\"data:image/jpg;base64,iVBORw0KGgoAAAANSUhEUgAAAHgAAAB4CAIAAAC2BqGFAAABLUlEQVR4Xu3SwQnEAAwDwfTf9F0BS0D+KA/tsAUY4ef5yO+j5nCCTnM4Qac5nKDTHE7QaQ4n6DSHE3Sawwk6zeEEneZwgk5zOEGnOZyg0xxO0GkOJ+g0hxN0msMJOs3hBJ3mcIJOczhBpzmcoNNneEqeDjhfng44X54OOF+eDjhfng44X54OOF+eDjhfng44X54OOF+eDjhfng44X54OOF+eDjhfng44X54OOF+eDjhfng44X54OOF+eDjhfnvSK79JpDifoNIcTdJrDCTrN4QSd5nCCTnM4Qac5nKDTHE7QaQ4n6DSHE3Sawwk6zeEEneZwgk5zOEGnOZyg0xxO0GkOJ+g0hxN0msMJOkmSJEmSJEmSJEmSJEmSJEmSJEmSJEmSJEmSJEmSJEna9AfULsiarlkxWwAAAABJRU5ErkJggg==\"/>"
      ]
     },
     "execution_count": 6,
     "metadata": {
      "new_classpath": []
     },
     "output_type": "execute_result"
    }
   ],
   "source": [
    "fun1.graph.A"
   ]
  },
  {
   "cell_type": "code",
   "execution_count": 7,
   "metadata": {},
   "outputs": [
    {
     "data": {
      "text/plain": [
       "true"
      ]
     },
     "execution_count": 7,
     "metadata": {
      "new_classpath": []
     },
     "output_type": "execute_result"
    }
   ],
   "source": [
    "fun1.graph == fun2.graph"
   ]
  },
  {
   "cell_type": "code",
   "execution_count": 8,
   "metadata": {},
   "outputs": [
    {
     "data": {
      "text/html": [
       "<img src=\"data:image/jpg;base64,iVBORw0KGgoAAAANSUhEUgAAAHgAAAB4CAIAAAC2BqGFAAABLUlEQVR4Xu3SwQnEAAwDwfTf9F0BS0D+KA/tsAUY4ef5yO+j5nCCTnM4Qac5nKDTHE7QaQ4n6DSHE3Sawwk6zeEEneZwgk5zOEGnOZyg0xxO0GkOJ+g0hxN0msMJOs3hBJ3mcIJOczhBpzmcoNNneEqeDjhfng44X54OOF+eDjhfng44X54OOF+eDjhfng44X54OOF+eDjhfng44X54OOF+eDjhfng44X54OOF+eDjhfng44X54OOF+eDjhfnvSK79JpDifoNIcTdJrDCTrN4QSd5nCCTnM4Qac5nKDTHE7QaQ4n6DSHE3Sawwk6zeEEneZwgk5zOEGnOZyg0xxO0GkOJ+g0hxN0msMJOkmSJEmSJEmSJEmSJEmSJEmSJEmSJEmSJEmSJEmSJEna9AfULsiarlkxWwAAAABJRU5ErkJggg==\"/>"
      ]
     },
     "execution_count": 8,
     "metadata": {
      "new_classpath": []
     },
     "output_type": "execute_result"
    }
   ],
   "source": [
    "fun2.graph.A"
   ]
  },
  {
   "cell_type": "code",
   "execution_count": 9,
   "metadata": {},
   "outputs": [
    {
     "data": {
      "text/html": [
       "<svg width=\"439px\" height=\"170px\"\n",
       " viewBox=\"0.00 0.00 439.00 170.00\" xmlns=\"http://www.w3.org/2000/svg\" xmlns:xlink=\"http://www.w3.org/1999/xlink\">\n",
       "<g id=\"graph0\" class=\"graph\" transform=\"scale(1.0 1.0) rotate(0) translate(4 166)\">\n",
       "<title>%3</title>\n",
       "<!-- 1817e -->\n",
       "<g id=\"node1\" class=\"node\">\n",
       "<title>1817e</title>\n",
       "<path fill=\"none\" stroke=\"#000000\" stroke-width=\"4\" d=\"M192,-83.5C192,-83.5 222,-83.5 222,-83.5 228,-83.5 234,-89.5 234,-95.5 234,-95.5 234,-107.5 234,-107.5 234,-113.5 228,-119.5 222,-119.5 222,-119.5 192,-119.5 192,-119.5 186,-119.5 180,-113.5 180,-107.5 180,-107.5 180,-95.5 180,-95.5 180,-89.5 186,-83.5 192,-83.5\"/>\n",
       "<text text-anchor=\"middle\" x=\"207\" y=\"-96.5\" font-family=\"Helvetica,sans-Serif\" font-size=\"20.00\" fill=\"#000000\">+</text>\n",
       "</g>\n",
       "<!-- 9c9a8 -->\n",
       "<g id=\"node2\" class=\"node\">\n",
       "<title>9c9a8</title>\n",
       "<path fill=\"none\" stroke=\"#000000\" stroke-width=\"4\" d=\"M282,-83.5C282,-83.5 329,-83.5 329,-83.5 335,-83.5 341,-89.5 341,-95.5 341,-95.5 341,-107.5 341,-107.5 341,-113.5 335,-119.5 329,-119.5 329,-119.5 282,-119.5 282,-119.5 276,-119.5 270,-113.5 270,-107.5 270,-107.5 270,-95.5 270,-95.5 270,-89.5 276,-83.5 282,-83.5\"/>\n",
       "<text text-anchor=\"middle\" x=\"305.5\" y=\"-96.5\" font-family=\"Helvetica,sans-Serif\" font-size=\"20.00\" fill=\"#000000\">9c9a8</text>\n",
       "</g>\n",
       "<!-- 1817e&#45;&gt;9c9a8 -->\n",
       "<g id=\"edge1\" class=\"edge\">\n",
       "<title>1817e&#45;&gt;9c9a8</title>\n",
       "<path fill=\"none\" stroke=\"#000000\" stroke-width=\"4\" d=\"M234.1763,-101.5C242.1165,-101.5 251.0218,-101.5 259.7776,-101.5\"/>\n",
       "<polygon fill=\"#000000\" stroke=\"#000000\" stroke-width=\"4\" points=\"259.9208,-105.0001 269.9207,-101.5 259.9207,-98.0001 259.9208,-105.0001\"/>\n",
       "</g>\n",
       "<!-- 5258c -->\n",
       "<g id=\"node3\" class=\"node\">\n",
       "<title>5258c</title>\n",
       "<path fill=\"none\" stroke=\"#000000\" stroke-width=\"4\" d=\"M389,-55.5C389,-55.5 419,-55.5 419,-55.5 425,-55.5 431,-61.5 431,-67.5 431,-67.5 431,-79.5 431,-79.5 431,-85.5 425,-91.5 419,-91.5 419,-91.5 389,-91.5 389,-91.5 383,-91.5 377,-85.5 377,-79.5 377,-79.5 377,-67.5 377,-67.5 377,-61.5 383,-55.5 389,-55.5\"/>\n",
       "<text text-anchor=\"middle\" x=\"404\" y=\"-68.5\" font-family=\"Helvetica,sans-Serif\" font-size=\"20.00\" fill=\"#000000\">+</text>\n",
       "</g>\n",
       "<!-- 9c9a8&#45;&gt;5258c -->\n",
       "<g id=\"edge2\" class=\"edge\">\n",
       "<title>9c9a8&#45;&gt;5258c</title>\n",
       "<path fill=\"none\" stroke=\"#0000ff\" stroke-width=\"4\" d=\"M341.0608,-91.3914C349.5367,-88.9819 358.6003,-86.4055 367.1334,-83.9798\"/>\n",
       "<polygon fill=\"#0000ff\" stroke=\"#0000ff\" stroke-width=\"4\" points=\"368.1781,-87.3216 376.84,-81.2206 366.2641,-80.5884 368.1781,-87.3216\"/>\n",
       "</g>\n",
       "<!-- fc290 -->\n",
       "<g id=\"node4\" class=\"node\">\n",
       "<title>fc290</title>\n",
       "<path fill=\"none\" stroke=\"#000000\" stroke-width=\"4\" d=\"M192,-28.5C192,-28.5 222,-28.5 222,-28.5 228,-28.5 234,-34.5 234,-40.5 234,-40.5 234,-52.5 234,-52.5 234,-58.5 228,-64.5 222,-64.5 222,-64.5 192,-64.5 192,-64.5 186,-64.5 180,-58.5 180,-52.5 180,-52.5 180,-40.5 180,-40.5 180,-34.5 186,-28.5 192,-28.5\"/>\n",
       "<text text-anchor=\"middle\" x=\"207\" y=\"-41.5\" font-family=\"Helvetica,sans-Serif\" font-size=\"20.00\" fill=\"#000000\">+</text>\n",
       "</g>\n",
       "<!-- 5437f -->\n",
       "<g id=\"node5\" class=\"node\">\n",
       "<title>5437f</title>\n",
       "<path fill=\"none\" stroke=\"#000000\" stroke-width=\"4\" d=\"M284,-28.5C284,-28.5 327,-28.5 327,-28.5 333,-28.5 339,-34.5 339,-40.5 339,-40.5 339,-52.5 339,-52.5 339,-58.5 333,-64.5 327,-64.5 327,-64.5 284,-64.5 284,-64.5 278,-64.5 272,-58.5 272,-52.5 272,-52.5 272,-40.5 272,-40.5 272,-34.5 278,-28.5 284,-28.5\"/>\n",
       "<text text-anchor=\"middle\" x=\"305.5\" y=\"-41.5\" font-family=\"Helvetica,sans-Serif\" font-size=\"20.00\" fill=\"#000000\">5437f</text>\n",
       "</g>\n",
       "<!-- fc290&#45;&gt;5437f -->\n",
       "<g id=\"edge3\" class=\"edge\">\n",
       "<title>fc290&#45;&gt;5437f</title>\n",
       "<path fill=\"none\" stroke=\"#000000\" stroke-width=\"4\" d=\"M234.1763,-46.5C242.7073,-46.5 252.3523,-46.5 261.7291,-46.5\"/>\n",
       "<polygon fill=\"#000000\" stroke=\"#000000\" stroke-width=\"4\" points=\"261.7333,-50.0001 271.7332,-46.5 261.7332,-43.0001 261.7333,-50.0001\"/>\n",
       "</g>\n",
       "<!-- 5437f&#45;&gt;5258c -->\n",
       "<g id=\"edge4\" class=\"edge\">\n",
       "<title>5437f&#45;&gt;5258c</title>\n",
       "<path fill=\"none\" stroke=\"#ff0000\" stroke-width=\"4\" d=\"M339.1226,-55.7164C348.1268,-58.1845 357.9084,-60.8658 367.0803,-63.3799\"/>\n",
       "<polygon fill=\"#ff0000\" stroke=\"#ff0000\" stroke-width=\"4\" points=\"366.1583,-66.7562 376.7278,-66.0244 368.0088,-60.0052 366.1583,-66.7562\"/>\n",
       "</g>\n",
       "<!-- f6ef6 -->\n",
       "<g id=\"node6\" class=\"node\">\n",
       "<title>f6ef6</title>\n",
       "<path fill=\"none\" stroke=\"#000000\" stroke-width=\"4\" d=\"M102,-28.5C102,-28.5 132,-28.5 132,-28.5 138,-28.5 144,-34.5 144,-40.5 144,-40.5 144,-52.5 144,-52.5 144,-58.5 138,-64.5 132,-64.5 132,-64.5 102,-64.5 102,-64.5 96,-64.5 90,-58.5 90,-52.5 90,-52.5 90,-40.5 90,-40.5 90,-34.5 96,-28.5 102,-28.5\"/>\n",
       "<text text-anchor=\"middle\" x=\"117\" y=\"-41.5\" font-family=\"Helvetica,sans-Serif\" font-size=\"20.00\" fill=\"#000000\">+</text>\n",
       "</g>\n",
       "<!-- f6ef6&#45;&gt;1817e -->\n",
       "<g id=\"edge5\" class=\"edge\">\n",
       "<title>f6ef6&#45;&gt;1817e</title>\n",
       "<path fill=\"none\" stroke=\"#0000ff\" stroke-width=\"4\" d=\"M144.003,-63.0018C152.4686,-68.1752 161.9516,-73.9704 170.9389,-79.4627\"/>\n",
       "<polygon fill=\"#0000ff\" stroke=\"#0000ff\" stroke-width=\"4\" points=\"169.3471,-82.5917 179.705,-84.8197 172.9973,-76.6187 169.3471,-82.5917\"/>\n",
       "</g>\n",
       "<!-- a -->\n",
       "<g id=\"node7\" class=\"node\">\n",
       "<title>a</title>\n",
       "<path fill=\"none\" stroke=\"#000000\" stroke-width=\"4\" d=\"M12,-125.5C12,-125.5 42,-125.5 42,-125.5 48,-125.5 54,-131.5 54,-137.5 54,-137.5 54,-149.5 54,-149.5 54,-155.5 48,-161.5 42,-161.5 42,-161.5 12,-161.5 12,-161.5 6,-161.5 0,-155.5 0,-149.5 0,-149.5 0,-137.5 0,-137.5 0,-131.5 6,-125.5 12,-125.5\"/>\n",
       "<text text-anchor=\"middle\" x=\"27\" y=\"-138.5\" font-family=\"Helvetica,sans-Serif\" font-size=\"20.00\" fill=\"#000000\">a</text>\n",
       "</g>\n",
       "<!-- a&#45;&gt;1817e -->\n",
       "<g id=\"edge6\" class=\"edge\">\n",
       "<title>a&#45;&gt;1817e</title>\n",
       "<path fill=\"none\" stroke=\"#ff0000\" stroke-width=\"4\" d=\"M54.3962,-142.5323C78.3943,-141.1418 114.0202,-137.7539 144,-129.5 152.8036,-127.0763 161.9549,-123.6105 170.465,-119.939\"/>\n",
       "<polygon fill=\"#ff0000\" stroke=\"#ff0000\" stroke-width=\"4\" points=\"172.072,-123.0538 179.7479,-115.751 169.1933,-116.6731 172.072,-123.0538\"/>\n",
       "</g>\n",
       "<!-- 600e4 -->\n",
       "<g id=\"node8\" class=\"node\">\n",
       "<title>600e4</title>\n",
       "<path fill=\"none\" stroke=\"#000000\" stroke-width=\"4\" d=\"M102,-83.5C102,-83.5 132,-83.5 132,-83.5 138,-83.5 144,-89.5 144,-95.5 144,-95.5 144,-107.5 144,-107.5 144,-113.5 138,-119.5 132,-119.5 132,-119.5 102,-119.5 102,-119.5 96,-119.5 90,-113.5 90,-107.5 90,-107.5 90,-95.5 90,-95.5 90,-89.5 96,-83.5 102,-83.5\"/>\n",
       "<text text-anchor=\"middle\" x=\"117\" y=\"-96.5\" font-family=\"Helvetica,sans-Serif\" font-size=\"20.00\" fill=\"#000000\">+</text>\n",
       "</g>\n",
       "<!-- a&#45;&gt;600e4 -->\n",
       "<g id=\"edge7\" class=\"edge\">\n",
       "<title>a&#45;&gt;600e4</title>\n",
       "<path fill=\"none\" stroke=\"#0000ff\" stroke-width=\"4\" d=\"M54.003,-130.8986C62.2922,-127.0303 71.5569,-122.7068 80.3766,-118.5909\"/>\n",
       "<polygon fill=\"#0000ff\" stroke=\"#0000ff\" stroke-width=\"4\" points=\"82.1233,-121.6382 89.705,-114.2377 79.1631,-115.2949 82.1233,-121.6382\"/>\n",
       "</g>\n",
       "<!-- 600e4&#45;&gt;fc290 -->\n",
       "<g id=\"edge8\" class=\"edge\">\n",
       "<title>600e4&#45;&gt;fc290</title>\n",
       "<path fill=\"none\" stroke=\"#0000ff\" stroke-width=\"4\" d=\"M144.003,-84.9982C152.4686,-79.8248 161.9516,-74.0296 170.9389,-68.5373\"/>\n",
       "<polygon fill=\"#0000ff\" stroke=\"#0000ff\" stroke-width=\"4\" points=\"172.9973,-71.3813 179.705,-63.1803 169.3471,-65.4083 172.9973,-71.3813\"/>\n",
       "</g>\n",
       "<!-- c -->\n",
       "<g id=\"node9\" class=\"node\">\n",
       "<title>c</title>\n",
       "<path fill=\"none\" stroke=\"#000000\" stroke-width=\"4\" d=\"M12,-.5C12,-.5 42,-.5 42,-.5 48,-.5 54,-6.5 54,-12.5 54,-12.5 54,-24.5 54,-24.5 54,-30.5 48,-36.5 42,-36.5 42,-36.5 12,-36.5 12,-36.5 6,-36.5 0,-30.5 0,-24.5 0,-24.5 0,-12.5 0,-12.5 0,-6.5 6,-.5 12,-.5\"/>\n",
       "<text text-anchor=\"middle\" x=\"27\" y=\"-13.5\" font-family=\"Helvetica,sans-Serif\" font-size=\"20.00\" fill=\"#000000\">c</text>\n",
       "</g>\n",
       "<!-- c&#45;&gt;fc290 -->\n",
       "<g id=\"edge9\" class=\"edge\">\n",
       "<title>c&#45;&gt;fc290</title>\n",
       "<path fill=\"none\" stroke=\"#ff0000\" stroke-width=\"4\" d=\"M54.286,-15.3266C78.2135,-13.2924 113.7976,-12.0906 144,-18.5 152.9322,-20.3955 162.1355,-23.6479 170.6552,-27.2801\"/>\n",
       "<polygon fill=\"#ff0000\" stroke=\"#ff0000\" stroke-width=\"4\" points=\"169.3801,-30.545 179.9327,-31.4902 172.2729,-24.1706 169.3801,-30.545\"/>\n",
       "</g>\n",
       "<!-- c&#45;&gt;f6ef6 -->\n",
       "<g id=\"edge10\" class=\"edge\">\n",
       "<title>c&#45;&gt;f6ef6</title>\n",
       "<path fill=\"none\" stroke=\"#ff0000\" stroke-width=\"4\" d=\"M54.003,-26.9009C62.204,-29.4524 71.3599,-32.3009 80.095,-35.0184\"/>\n",
       "<polygon fill=\"#ff0000\" stroke=\"#ff0000\" stroke-width=\"4\" points=\"79.1167,-38.3795 89.705,-38.0082 81.1962,-31.6955 79.1167,-38.3795\"/>\n",
       "</g>\n",
       "<!-- b -->\n",
       "<g id=\"node10\" class=\"node\">\n",
       "<title>b</title>\n",
       "<path fill=\"none\" stroke=\"#000000\" stroke-width=\"4\" d=\"M12,-65.5C12,-65.5 42,-65.5 42,-65.5 48,-65.5 54,-71.5 54,-77.5 54,-77.5 54,-89.5 54,-89.5 54,-95.5 48,-101.5 42,-101.5 42,-101.5 12,-101.5 12,-101.5 6,-101.5 0,-95.5 0,-89.5 0,-89.5 0,-77.5 0,-77.5 0,-71.5 6,-65.5 12,-65.5\"/>\n",
       "<text text-anchor=\"middle\" x=\"27\" y=\"-78.5\" font-family=\"Helvetica,sans-Serif\" font-size=\"20.00\" fill=\"#000000\">b</text>\n",
       "</g>\n",
       "<!-- b&#45;&gt;f6ef6 -->\n",
       "<g id=\"edge11\" class=\"edge\">\n",
       "<title>b&#45;&gt;f6ef6</title>\n",
       "<path fill=\"none\" stroke=\"#0000ff\" stroke-width=\"4\" d=\"M54.003,-72.3988C62.2922,-68.991 71.5569,-65.1822 80.3766,-61.5563\"/>\n",
       "<polygon fill=\"#0000ff\" stroke=\"#0000ff\" stroke-width=\"4\" points=\"81.7869,-64.7608 89.705,-57.7213 79.1253,-58.2865 81.7869,-64.7608\"/>\n",
       "</g>\n",
       "<!-- b&#45;&gt;600e4 -->\n",
       "<g id=\"edge12\" class=\"edge\">\n",
       "<title>b&#45;&gt;600e4</title>\n",
       "<path fill=\"none\" stroke=\"#ff0000\" stroke-width=\"4\" d=\"M54.003,-88.9006C62.1158,-90.5232 71.1631,-92.3326 79.8131,-94.0626\"/>\n",
       "<polygon fill=\"#ff0000\" stroke=\"#ff0000\" stroke-width=\"4\" points=\"79.2128,-97.5118 89.705,-96.041 80.5857,-90.6477 79.2128,-97.5118\"/>\n",
       "</g>\n",
       "</g>\n",
       "</svg>\n"
      ]
     },
     "execution_count": 9,
     "metadata": {
      "new_classpath": []
     },
     "output_type": "execute_result"
    }
   ],
   "source": [
    "fun2 + fun1"
   ]
  },
  {
   "cell_type": "code",
   "execution_count": 10,
   "metadata": {},
   "outputs": [],
   "source": [
    "val a = fun2 + 5"
   ]
  },
  {
   "cell_type": "code",
   "execution_count": 11,
   "metadata": {},
   "outputs": [],
   "source": [
    "val b = fun1 * 3 + 5"
   ]
  },
  {
   "cell_type": "code",
   "execution_count": 12,
   "metadata": {},
   "outputs": [
    {
     "data": {
      "text/html": [
       "<svg width=\"439px\" height=\"127px\"\n",
       " viewBox=\"0.00 0.00 439.00 127.00\" xmlns=\"http://www.w3.org/2000/svg\" xmlns:xlink=\"http://www.w3.org/1999/xlink\">\n",
       "<g id=\"graph0\" class=\"graph\" transform=\"scale(1.0 1.0) rotate(0) translate(4 123)\">\n",
       "<title>%3</title>\n",
       "<!-- 1817e -->\n",
       "<g id=\"node1\" class=\"node\">\n",
       "<title>1817e</title>\n",
       "<path fill=\"none\" stroke=\"#000000\" stroke-width=\"4\" d=\"M192,-27.5C192,-27.5 222,-27.5 222,-27.5 228,-27.5 234,-33.5 234,-39.5 234,-39.5 234,-51.5 234,-51.5 234,-57.5 228,-63.5 222,-63.5 222,-63.5 192,-63.5 192,-63.5 186,-63.5 180,-57.5 180,-51.5 180,-51.5 180,-39.5 180,-39.5 180,-33.5 186,-27.5 192,-27.5\"/>\n",
       "<text text-anchor=\"middle\" x=\"207\" y=\"-40.5\" font-family=\"Helvetica,sans-Serif\" font-size=\"20.00\" fill=\"#000000\">+</text>\n",
       "</g>\n",
       "<!-- 9c9a8 -->\n",
       "<g id=\"node2\" class=\"node\">\n",
       "<title>9c9a8</title>\n",
       "<path fill=\"none\" stroke=\"#000000\" stroke-width=\"4\" d=\"M282,-27.5C282,-27.5 329,-27.5 329,-27.5 335,-27.5 341,-33.5 341,-39.5 341,-39.5 341,-51.5 341,-51.5 341,-57.5 335,-63.5 329,-63.5 329,-63.5 282,-63.5 282,-63.5 276,-63.5 270,-57.5 270,-51.5 270,-51.5 270,-39.5 270,-39.5 270,-33.5 276,-27.5 282,-27.5\"/>\n",
       "<text text-anchor=\"middle\" x=\"305.5\" y=\"-40.5\" font-family=\"Helvetica,sans-Serif\" font-size=\"20.00\" fill=\"#000000\">9c9a8</text>\n",
       "</g>\n",
       "<!-- 1817e&#45;&gt;9c9a8 -->\n",
       "<g id=\"edge1\" class=\"edge\">\n",
       "<title>1817e&#45;&gt;9c9a8</title>\n",
       "<path fill=\"none\" stroke=\"#000000\" stroke-width=\"4\" d=\"M234.1763,-45.5C242.1165,-45.5 251.0218,-45.5 259.7776,-45.5\"/>\n",
       "<polygon fill=\"#000000\" stroke=\"#000000\" stroke-width=\"4\" points=\"259.9208,-49.0001 269.9207,-45.5 259.9207,-42.0001 259.9208,-49.0001\"/>\n",
       "</g>\n",
       "<!-- aa27a -->\n",
       "<g id=\"node3\" class=\"node\">\n",
       "<title>aa27a</title>\n",
       "<path fill=\"none\" stroke=\"#000000\" stroke-width=\"4\" d=\"M389,-54.5C389,-54.5 419,-54.5 419,-54.5 425,-54.5 431,-60.5 431,-66.5 431,-66.5 431,-78.5 431,-78.5 431,-84.5 425,-90.5 419,-90.5 419,-90.5 389,-90.5 389,-90.5 383,-90.5 377,-84.5 377,-78.5 377,-78.5 377,-66.5 377,-66.5 377,-60.5 383,-54.5 389,-54.5\"/>\n",
       "<text text-anchor=\"middle\" x=\"404\" y=\"-67.5\" font-family=\"Helvetica,sans-Serif\" font-size=\"20.00\" fill=\"#000000\">+</text>\n",
       "</g>\n",
       "<!-- 9c9a8&#45;&gt;aa27a -->\n",
       "<g id=\"edge2\" class=\"edge\">\n",
       "<title>9c9a8&#45;&gt;aa27a</title>\n",
       "<path fill=\"none\" stroke=\"#0000ff\" stroke-width=\"4\" d=\"M341.0608,-55.2476C349.5367,-57.571 358.6003,-60.0554 367.1334,-62.3944\"/>\n",
       "<polygon fill=\"#0000ff\" stroke=\"#0000ff\" stroke-width=\"4\" points=\"366.2705,-65.7869 376.84,-65.0551 368.1211,-59.036 366.2705,-65.7869\"/>\n",
       "</g>\n",
       "<!-- 5 -->\n",
       "<g id=\"node4\" class=\"node\">\n",
       "<title>5</title>\n",
       "<path fill=\"none\" stroke=\"#000000\" stroke-width=\"4\" d=\"M290.5,-82.5C290.5,-82.5 320.5,-82.5 320.5,-82.5 326.5,-82.5 332.5,-88.5 332.5,-94.5 332.5,-94.5 332.5,-106.5 332.5,-106.5 332.5,-112.5 326.5,-118.5 320.5,-118.5 320.5,-118.5 290.5,-118.5 290.5,-118.5 284.5,-118.5 278.5,-112.5 278.5,-106.5 278.5,-106.5 278.5,-94.5 278.5,-94.5 278.5,-88.5 284.5,-82.5 290.5,-82.5\"/>\n",
       "<text text-anchor=\"middle\" x=\"305.5\" y=\"-95.5\" font-family=\"Helvetica,sans-Serif\" font-size=\"20.00\" fill=\"#000000\">5</text>\n",
       "</g>\n",
       "<!-- 5&#45;&gt;aa27a -->\n",
       "<g id=\"edge3\" class=\"edge\">\n",
       "<title>5&#45;&gt;aa27a</title>\n",
       "<path fill=\"none\" stroke=\"#ff0000\" stroke-width=\"4\" d=\"M332.6763,-92.7748C343.3346,-89.745 355.7321,-86.2208 367.1726,-82.9687\"/>\n",
       "<polygon fill=\"#ff0000\" stroke=\"#ff0000\" stroke-width=\"4\" points=\"368.2505,-86.301 376.9124,-80.2 366.3364,-79.5678 368.2505,-86.301\"/>\n",
       "</g>\n",
       "<!-- f6ef6 -->\n",
       "<g id=\"node5\" class=\"node\">\n",
       "<title>f6ef6</title>\n",
       "<path fill=\"none\" stroke=\"#000000\" stroke-width=\"4\" d=\"M102,-55.5C102,-55.5 132,-55.5 132,-55.5 138,-55.5 144,-61.5 144,-67.5 144,-67.5 144,-79.5 144,-79.5 144,-85.5 138,-91.5 132,-91.5 132,-91.5 102,-91.5 102,-91.5 96,-91.5 90,-85.5 90,-79.5 90,-79.5 90,-67.5 90,-67.5 90,-61.5 96,-55.5 102,-55.5\"/>\n",
       "<text text-anchor=\"middle\" x=\"117\" y=\"-68.5\" font-family=\"Helvetica,sans-Serif\" font-size=\"20.00\" fill=\"#000000\">+</text>\n",
       "</g>\n",
       "<!-- f6ef6&#45;&gt;1817e -->\n",
       "<g id=\"edge4\" class=\"edge\">\n",
       "<title>f6ef6&#45;&gt;1817e</title>\n",
       "<path fill=\"none\" stroke=\"#0000ff\" stroke-width=\"4\" d=\"M144.003,-65.0991C152.204,-62.5476 161.3599,-59.6991 170.095,-56.9816\"/>\n",
       "<polygon fill=\"#0000ff\" stroke=\"#0000ff\" stroke-width=\"4\" points=\"171.1962,-60.3045 179.705,-53.9918 169.1167,-53.6205 171.1962,-60.3045\"/>\n",
       "</g>\n",
       "<!-- a -->\n",
       "<g id=\"node6\" class=\"node\">\n",
       "<title>a</title>\n",
       "<path fill=\"none\" stroke=\"#000000\" stroke-width=\"4\" d=\"M102,-.5C102,-.5 132,-.5 132,-.5 138,-.5 144,-6.5 144,-12.5 144,-12.5 144,-24.5 144,-24.5 144,-30.5 138,-36.5 132,-36.5 132,-36.5 102,-36.5 102,-36.5 96,-36.5 90,-30.5 90,-24.5 90,-24.5 90,-12.5 90,-12.5 90,-6.5 96,-.5 102,-.5\"/>\n",
       "<text text-anchor=\"middle\" x=\"117\" y=\"-13.5\" font-family=\"Helvetica,sans-Serif\" font-size=\"20.00\" fill=\"#000000\">a</text>\n",
       "</g>\n",
       "<!-- a&#45;&gt;1817e -->\n",
       "<g id=\"edge5\" class=\"edge\">\n",
       "<title>a&#45;&gt;1817e</title>\n",
       "<path fill=\"none\" stroke=\"#ff0000\" stroke-width=\"4\" d=\"M144.003,-26.6009C152.204,-29.0612 161.3599,-31.808 170.095,-34.4285\"/>\n",
       "<polygon fill=\"#ff0000\" stroke=\"#ff0000\" stroke-width=\"4\" points=\"169.121,-37.7904 179.705,-37.3115 171.1325,-31.0856 169.121,-37.7904\"/>\n",
       "</g>\n",
       "<!-- b -->\n",
       "<g id=\"node7\" class=\"node\">\n",
       "<title>b</title>\n",
       "<path fill=\"none\" stroke=\"#000000\" stroke-width=\"4\" d=\"M12,-82.5C12,-82.5 42,-82.5 42,-82.5 48,-82.5 54,-88.5 54,-94.5 54,-94.5 54,-106.5 54,-106.5 54,-112.5 48,-118.5 42,-118.5 42,-118.5 12,-118.5 12,-118.5 6,-118.5 0,-112.5 0,-106.5 0,-106.5 0,-94.5 0,-94.5 0,-88.5 6,-82.5 12,-82.5\"/>\n",
       "<text text-anchor=\"middle\" x=\"27\" y=\"-95.5\" font-family=\"Helvetica,sans-Serif\" font-size=\"20.00\" fill=\"#000000\">b</text>\n",
       "</g>\n",
       "<!-- b&#45;&gt;f6ef6 -->\n",
       "<g id=\"edge6\" class=\"edge\">\n",
       "<title>b&#45;&gt;f6ef6</title>\n",
       "<path fill=\"none\" stroke=\"#0000ff\" stroke-width=\"4\" d=\"M54.003,-92.3991C62.204,-89.9388 71.3599,-87.192 80.095,-84.5715\"/>\n",
       "<polygon fill=\"#0000ff\" stroke=\"#0000ff\" stroke-width=\"4\" points=\"81.1325,-87.9144 89.705,-81.6885 79.121,-81.2096 81.1325,-87.9144\"/>\n",
       "</g>\n",
       "<!-- c -->\n",
       "<g id=\"node8\" class=\"node\">\n",
       "<title>c</title>\n",
       "<path fill=\"none\" stroke=\"#000000\" stroke-width=\"4\" d=\"M12,-27.5C12,-27.5 42,-27.5 42,-27.5 48,-27.5 54,-33.5 54,-39.5 54,-39.5 54,-51.5 54,-51.5 54,-57.5 48,-63.5 42,-63.5 42,-63.5 12,-63.5 12,-63.5 6,-63.5 0,-57.5 0,-51.5 0,-51.5 0,-39.5 0,-39.5 0,-33.5 6,-27.5 12,-27.5\"/>\n",
       "<text text-anchor=\"middle\" x=\"27\" y=\"-40.5\" font-family=\"Helvetica,sans-Serif\" font-size=\"20.00\" fill=\"#000000\">c</text>\n",
       "</g>\n",
       "<!-- c&#45;&gt;f6ef6 -->\n",
       "<g id=\"edge7\" class=\"edge\">\n",
       "<title>c&#45;&gt;f6ef6</title>\n",
       "<path fill=\"none\" stroke=\"#ff0000\" stroke-width=\"4\" d=\"M54.003,-53.9009C62.204,-56.4524 71.3599,-59.3009 80.095,-62.0184\"/>\n",
       "<polygon fill=\"#ff0000\" stroke=\"#ff0000\" stroke-width=\"4\" points=\"79.1167,-65.3795 89.705,-65.0082 81.1962,-58.6955 79.1167,-65.3795\"/>\n",
       "</g>\n",
       "</g>\n",
       "</svg>\n"
      ]
     },
     "execution_count": 12,
     "metadata": {
      "new_classpath": []
     },
     "output_type": "execute_result"
    }
   ],
   "source": [
    "a"
   ]
  },
  {
   "cell_type": "code",
   "execution_count": 13,
   "metadata": {},
   "outputs": [
    {
     "data": {
      "text/html": [
       "<svg width=\"525px\" height=\"154px\"\n",
       " viewBox=\"0.00 0.00 525.00 154.00\" xmlns=\"http://www.w3.org/2000/svg\" xmlns:xlink=\"http://www.w3.org/1999/xlink\">\n",
       "<g id=\"graph0\" class=\"graph\" transform=\"scale(1.0 1.0) rotate(0) translate(4 150)\">\n",
       "<title>%3</title>\n",
       "<!-- 5437f -->\n",
       "<g id=\"node1\" class=\"node\">\n",
       "<title>5437f</title>\n",
       "<path fill=\"none\" stroke=\"#000000\" stroke-width=\"4\" d=\"M282,-27.5C282,-27.5 325,-27.5 325,-27.5 331,-27.5 337,-33.5 337,-39.5 337,-39.5 337,-51.5 337,-51.5 337,-57.5 331,-63.5 325,-63.5 325,-63.5 282,-63.5 282,-63.5 276,-63.5 270,-57.5 270,-51.5 270,-51.5 270,-39.5 270,-39.5 270,-33.5 276,-27.5 282,-27.5\"/>\n",
       "<text text-anchor=\"middle\" x=\"303.5\" y=\"-40.5\" font-family=\"Helvetica,sans-Serif\" font-size=\"20.00\" fill=\"#000000\">5437f</text>\n",
       "</g>\n",
       "<!-- ae013 -->\n",
       "<g id=\"node2\" class=\"node\">\n",
       "<title>ae013</title>\n",
       "<path fill=\"none\" stroke=\"#000000\" stroke-width=\"4\" d=\"M385,-54.5C385,-54.5 415,-54.5 415,-54.5 421,-54.5 427,-60.5 427,-66.5 427,-66.5 427,-78.5 427,-78.5 427,-84.5 421,-90.5 415,-90.5 415,-90.5 385,-90.5 385,-90.5 379,-90.5 373,-84.5 373,-78.5 373,-78.5 373,-66.5 373,-66.5 373,-60.5 379,-54.5 385,-54.5\"/>\n",
       "<text text-anchor=\"middle\" x=\"400\" y=\"-67.5\" font-family=\"Helvetica,sans-Serif\" font-size=\"20.00\" fill=\"#000000\">*</text>\n",
       "</g>\n",
       "<!-- 5437f&#45;&gt;ae013 -->\n",
       "<g id=\"edge1\" class=\"edge\">\n",
       "<title>5437f&#45;&gt;ae013</title>\n",
       "<path fill=\"none\" stroke=\"#0000ff\" stroke-width=\"4\" d=\"M337.251,-54.9433C345.6109,-57.2823 354.611,-59.8005 363.1121,-62.179\"/>\n",
       "<polygon fill=\"#0000ff\" stroke=\"#0000ff\" stroke-width=\"4\" points=\"362.221,-65.5641 372.7942,-64.888 364.1072,-58.8229 362.221,-65.5641\"/>\n",
       "</g>\n",
       "<!-- bf3ec -->\n",
       "<g id=\"node3\" class=\"node\">\n",
       "<title>bf3ec</title>\n",
       "<path fill=\"none\" stroke=\"#000000\" stroke-width=\"4\" d=\"M475,-81.5C475,-81.5 505,-81.5 505,-81.5 511,-81.5 517,-87.5 517,-93.5 517,-93.5 517,-105.5 517,-105.5 517,-111.5 511,-117.5 505,-117.5 505,-117.5 475,-117.5 475,-117.5 469,-117.5 463,-111.5 463,-105.5 463,-105.5 463,-93.5 463,-93.5 463,-87.5 469,-81.5 475,-81.5\"/>\n",
       "<text text-anchor=\"middle\" x=\"490\" y=\"-94.5\" font-family=\"Helvetica,sans-Serif\" font-size=\"20.00\" fill=\"#000000\">+</text>\n",
       "</g>\n",
       "<!-- ae013&#45;&gt;bf3ec -->\n",
       "<g id=\"edge2\" class=\"edge\">\n",
       "<title>ae013&#45;&gt;bf3ec</title>\n",
       "<path fill=\"none\" stroke=\"#0000ff\" stroke-width=\"4\" d=\"M427.003,-80.6009C435.204,-83.0612 444.3599,-85.808 453.095,-88.4285\"/>\n",
       "<polygon fill=\"#0000ff\" stroke=\"#0000ff\" stroke-width=\"4\" points=\"452.121,-91.7904 462.705,-91.3115 454.1325,-85.0856 452.121,-91.7904\"/>\n",
       "</g>\n",
       "<!-- 3 -->\n",
       "<g id=\"node4\" class=\"node\">\n",
       "<title>3</title>\n",
       "<path fill=\"none\" stroke=\"#000000\" stroke-width=\"4\" d=\"M288.5,-82.5C288.5,-82.5 318.5,-82.5 318.5,-82.5 324.5,-82.5 330.5,-88.5 330.5,-94.5 330.5,-94.5 330.5,-106.5 330.5,-106.5 330.5,-112.5 324.5,-118.5 318.5,-118.5 318.5,-118.5 288.5,-118.5 288.5,-118.5 282.5,-118.5 276.5,-112.5 276.5,-106.5 276.5,-106.5 276.5,-94.5 276.5,-94.5 276.5,-88.5 282.5,-82.5 288.5,-82.5\"/>\n",
       "<text text-anchor=\"middle\" x=\"303.5\" y=\"-95.5\" font-family=\"Helvetica,sans-Serif\" font-size=\"20.00\" fill=\"#000000\">3</text>\n",
       "</g>\n",
       "<!-- 3&#45;&gt;ae013 -->\n",
       "<g id=\"edge3\" class=\"edge\">\n",
       "<title>3&#45;&gt;ae013</title>\n",
       "<path fill=\"none\" stroke=\"#ff0000\" stroke-width=\"4\" d=\"M330.6374,-92.6259C340.7102,-89.7033 352.312,-86.3369 363.1092,-83.2041\"/>\n",
       "<polygon fill=\"#ff0000\" stroke=\"#ff0000\" stroke-width=\"4\" points=\"364.1033,-86.56 372.7319,-80.412 362.1527,-79.8373 364.1033,-86.56\"/>\n",
       "</g>\n",
       "<!-- 5 -->\n",
       "<g id=\"node5\" class=\"node\">\n",
       "<title>5</title>\n",
       "<path fill=\"none\" stroke=\"#000000\" stroke-width=\"4\" d=\"M385,-109.5C385,-109.5 415,-109.5 415,-109.5 421,-109.5 427,-115.5 427,-121.5 427,-121.5 427,-133.5 427,-133.5 427,-139.5 421,-145.5 415,-145.5 415,-145.5 385,-145.5 385,-145.5 379,-145.5 373,-139.5 373,-133.5 373,-133.5 373,-121.5 373,-121.5 373,-115.5 379,-109.5 385,-109.5\"/>\n",
       "<text text-anchor=\"middle\" x=\"400\" y=\"-122.5\" font-family=\"Helvetica,sans-Serif\" font-size=\"20.00\" fill=\"#000000\">5</text>\n",
       "</g>\n",
       "<!-- 5&#45;&gt;bf3ec -->\n",
       "<g id=\"edge4\" class=\"edge\">\n",
       "<title>5&#45;&gt;bf3ec</title>\n",
       "<path fill=\"none\" stroke=\"#ff0000\" stroke-width=\"4\" d=\"M427.003,-119.0991C435.204,-116.5476 444.3599,-113.6991 453.095,-110.9816\"/>\n",
       "<polygon fill=\"#ff0000\" stroke=\"#ff0000\" stroke-width=\"4\" points=\"454.1962,-114.3045 462.705,-107.9918 452.1167,-107.6205 454.1962,-114.3045\"/>\n",
       "</g>\n",
       "<!-- fc290 -->\n",
       "<g id=\"node6\" class=\"node\">\n",
       "<title>fc290</title>\n",
       "<path fill=\"none\" stroke=\"#000000\" stroke-width=\"4\" d=\"M192,-27.5C192,-27.5 222,-27.5 222,-27.5 228,-27.5 234,-33.5 234,-39.5 234,-39.5 234,-51.5 234,-51.5 234,-57.5 228,-63.5 222,-63.5 222,-63.5 192,-63.5 192,-63.5 186,-63.5 180,-57.5 180,-51.5 180,-51.5 180,-39.5 180,-39.5 180,-33.5 186,-27.5 192,-27.5\"/>\n",
       "<text text-anchor=\"middle\" x=\"207\" y=\"-40.5\" font-family=\"Helvetica,sans-Serif\" font-size=\"20.00\" fill=\"#000000\">+</text>\n",
       "</g>\n",
       "<!-- fc290&#45;&gt;5437f -->\n",
       "<g id=\"edge5\" class=\"edge\">\n",
       "<title>fc290&#45;&gt;5437f</title>\n",
       "<path fill=\"none\" stroke=\"#000000\" stroke-width=\"4\" d=\"M234.1374,-45.5C242.0709,-45.5 250.9529,-45.5 259.6433,-45.5\"/>\n",
       "<polygon fill=\"#000000\" stroke=\"#000000\" stroke-width=\"4\" points=\"259.6887,-49.0001 269.6886,-45.5 259.6886,-42.0001 259.6887,-49.0001\"/>\n",
       "</g>\n",
       "<!-- 600e4 -->\n",
       "<g id=\"node7\" class=\"node\">\n",
       "<title>600e4</title>\n",
       "<path fill=\"none\" stroke=\"#000000\" stroke-width=\"4\" d=\"M102,-55.5C102,-55.5 132,-55.5 132,-55.5 138,-55.5 144,-61.5 144,-67.5 144,-67.5 144,-79.5 144,-79.5 144,-85.5 138,-91.5 132,-91.5 132,-91.5 102,-91.5 102,-91.5 96,-91.5 90,-85.5 90,-79.5 90,-79.5 90,-67.5 90,-67.5 90,-61.5 96,-55.5 102,-55.5\"/>\n",
       "<text text-anchor=\"middle\" x=\"117\" y=\"-68.5\" font-family=\"Helvetica,sans-Serif\" font-size=\"20.00\" fill=\"#000000\">+</text>\n",
       "</g>\n",
       "<!-- 600e4&#45;&gt;fc290 -->\n",
       "<g id=\"edge6\" class=\"edge\">\n",
       "<title>600e4&#45;&gt;fc290</title>\n",
       "<path fill=\"none\" stroke=\"#0000ff\" stroke-width=\"4\" d=\"M144.003,-65.0991C152.204,-62.5476 161.3599,-59.6991 170.095,-56.9816\"/>\n",
       "<polygon fill=\"#0000ff\" stroke=\"#0000ff\" stroke-width=\"4\" points=\"171.1962,-60.3045 179.705,-53.9918 169.1167,-53.6205 171.1962,-60.3045\"/>\n",
       "</g>\n",
       "<!-- c -->\n",
       "<g id=\"node8\" class=\"node\">\n",
       "<title>c</title>\n",
       "<path fill=\"none\" stroke=\"#000000\" stroke-width=\"4\" d=\"M102,-.5C102,-.5 132,-.5 132,-.5 138,-.5 144,-6.5 144,-12.5 144,-12.5 144,-24.5 144,-24.5 144,-30.5 138,-36.5 132,-36.5 132,-36.5 102,-36.5 102,-36.5 96,-36.5 90,-30.5 90,-24.5 90,-24.5 90,-12.5 90,-12.5 90,-6.5 96,-.5 102,-.5\"/>\n",
       "<text text-anchor=\"middle\" x=\"117\" y=\"-13.5\" font-family=\"Helvetica,sans-Serif\" font-size=\"20.00\" fill=\"#000000\">c</text>\n",
       "</g>\n",
       "<!-- c&#45;&gt;fc290 -->\n",
       "<g id=\"edge7\" class=\"edge\">\n",
       "<title>c&#45;&gt;fc290</title>\n",
       "<path fill=\"none\" stroke=\"#ff0000\" stroke-width=\"4\" d=\"M144.003,-26.6009C152.204,-29.0612 161.3599,-31.808 170.095,-34.4285\"/>\n",
       "<polygon fill=\"#ff0000\" stroke=\"#ff0000\" stroke-width=\"4\" points=\"169.121,-37.7904 179.705,-37.3115 171.1325,-31.0856 169.121,-37.7904\"/>\n",
       "</g>\n",
       "<!-- a -->\n",
       "<g id=\"node9\" class=\"node\">\n",
       "<title>a</title>\n",
       "<path fill=\"none\" stroke=\"#000000\" stroke-width=\"4\" d=\"M12,-82.5C12,-82.5 42,-82.5 42,-82.5 48,-82.5 54,-88.5 54,-94.5 54,-94.5 54,-106.5 54,-106.5 54,-112.5 48,-118.5 42,-118.5 42,-118.5 12,-118.5 12,-118.5 6,-118.5 0,-112.5 0,-106.5 0,-106.5 0,-94.5 0,-94.5 0,-88.5 6,-82.5 12,-82.5\"/>\n",
       "<text text-anchor=\"middle\" x=\"27\" y=\"-95.5\" font-family=\"Helvetica,sans-Serif\" font-size=\"20.00\" fill=\"#000000\">a</text>\n",
       "</g>\n",
       "<!-- a&#45;&gt;600e4 -->\n",
       "<g id=\"edge8\" class=\"edge\">\n",
       "<title>a&#45;&gt;600e4</title>\n",
       "<path fill=\"none\" stroke=\"#0000ff\" stroke-width=\"4\" d=\"M54.003,-92.3991C62.204,-89.9388 71.3599,-87.192 80.095,-84.5715\"/>\n",
       "<polygon fill=\"#0000ff\" stroke=\"#0000ff\" stroke-width=\"4\" points=\"81.1325,-87.9144 89.705,-81.6885 79.121,-81.2096 81.1325,-87.9144\"/>\n",
       "</g>\n",
       "<!-- b -->\n",
       "<g id=\"node10\" class=\"node\">\n",
       "<title>b</title>\n",
       "<path fill=\"none\" stroke=\"#000000\" stroke-width=\"4\" d=\"M12,-27.5C12,-27.5 42,-27.5 42,-27.5 48,-27.5 54,-33.5 54,-39.5 54,-39.5 54,-51.5 54,-51.5 54,-57.5 48,-63.5 42,-63.5 42,-63.5 12,-63.5 12,-63.5 6,-63.5 0,-57.5 0,-51.5 0,-51.5 0,-39.5 0,-39.5 0,-33.5 6,-27.5 12,-27.5\"/>\n",
       "<text text-anchor=\"middle\" x=\"27\" y=\"-40.5\" font-family=\"Helvetica,sans-Serif\" font-size=\"20.00\" fill=\"#000000\">b</text>\n",
       "</g>\n",
       "<!-- b&#45;&gt;600e4 -->\n",
       "<g id=\"edge9\" class=\"edge\">\n",
       "<title>b&#45;&gt;600e4</title>\n",
       "<path fill=\"none\" stroke=\"#ff0000\" stroke-width=\"4\" d=\"M54.003,-53.9009C62.204,-56.4524 71.3599,-59.3009 80.095,-62.0184\"/>\n",
       "<polygon fill=\"#ff0000\" stroke=\"#ff0000\" stroke-width=\"4\" points=\"79.1167,-65.3795 89.705,-65.0082 81.1962,-58.6955 79.1167,-65.3795\"/>\n",
       "</g>\n",
       "</g>\n",
       "</svg>\n"
      ]
     },
     "execution_count": 13,
     "metadata": {
      "new_classpath": []
     },
     "output_type": "execute_result"
    }
   ],
   "source": [
    "b"
   ]
  },
  {
   "cell_type": "code",
   "execution_count": 14,
   "metadata": {},
   "outputs": [
    {
     "data": {
      "text/plain": [
       "false"
      ]
     },
     "execution_count": 14,
     "metadata": {
      "new_classpath": []
     },
     "output_type": "execute_result"
    }
   ],
   "source": [
    "b.graph == a.graph"
   ]
  },
  {
   "cell_type": "code",
   "execution_count": 15,
   "metadata": {},
   "outputs": [
    {
     "data": {
      "text/plain": [
       "{*=3008, 5=1, +=4000, 5437f=2016, 3=1, +=1985, +=993, c=1, a=1, b=1}"
      ]
     },
     "execution_count": 15,
     "metadata": {
      "new_classpath": []
     },
     "output_type": "execute_result"
    }
   ],
   "source": [
    "b.graph.wl()"
   ]
  },
  {
   "cell_type": "code",
   "execution_count": 16,
   "metadata": {},
   "outputs": [
    {
     "data": {
      "text/plain": [
       "{9c9a8=2016, 5=1, +=3008, +=1985, +=993, a=1, b=1, c=1}"
      ]
     },
     "execution_count": 16,
     "metadata": {
      "new_classpath": []
     },
     "output_type": "execute_result"
    }
   ],
   "source": [
    "a.graph.wl()"
   ]
  },
  {
   "cell_type": "code",
   "execution_count": 17,
   "metadata": {},
   "outputs": [
    {
     "data": {
      "text/plain": [
       "{+=1985, 5437f=2016, +=993, c=1, a=1, b=1}"
      ]
     },
     "execution_count": 17,
     "metadata": {
      "new_classpath": []
     },
     "output_type": "execute_result"
    }
   ],
   "source": [
    "fun1.graph.wl()"
   ]
  },
  {
   "cell_type": "code",
   "execution_count": 18,
   "metadata": {},
   "outputs": [
    {
     "data": {
      "text/plain": [
       "{+=1985, 9c9a8=2016, +=993, a=1, b=1, c=1}"
      ]
     },
     "execution_count": 18,
     "metadata": {
      "new_classpath": []
     },
     "output_type": "execute_result"
    }
   ],
   "source": [
    "fun2.graph.wl()"
   ]
  },
  {
   "cell_type": "code",
   "execution_count": 19,
   "metadata": {},
   "outputs": [
    {
     "data": {
      "text/plain": [
       "{9c9a8=2016, 0=1, +=3008, +=1985, +=993, a=1, b=1, c=1}"
      ]
     },
     "execution_count": 19,
     "metadata": {
      "new_classpath": []
     },
     "output_type": "execute_result"
    }
   ],
   "source": [
    "(fun2 + 0).graph.wl()"
   ]
  },
  {
   "cell_type": "code",
   "execution_count": 20,
   "metadata": {},
   "outputs": [
    {
     "data": {
      "text/html": [
       "<svg width=\"439px\" height=\"127px\"\n",
       " viewBox=\"0.00 0.00 439.00 127.00\" xmlns=\"http://www.w3.org/2000/svg\" xmlns:xlink=\"http://www.w3.org/1999/xlink\">\n",
       "<g id=\"graph0\" class=\"graph\" transform=\"scale(1.0 1.0) rotate(0) translate(4 123)\">\n",
       "<title>%3</title>\n",
       "<!-- 1817e -->\n",
       "<g id=\"node1\" class=\"node\">\n",
       "<title>1817e</title>\n",
       "<path fill=\"none\" stroke=\"#000000\" stroke-width=\"4\" d=\"M192,-27.5C192,-27.5 222,-27.5 222,-27.5 228,-27.5 234,-33.5 234,-39.5 234,-39.5 234,-51.5 234,-51.5 234,-57.5 228,-63.5 222,-63.5 222,-63.5 192,-63.5 192,-63.5 186,-63.5 180,-57.5 180,-51.5 180,-51.5 180,-39.5 180,-39.5 180,-33.5 186,-27.5 192,-27.5\"/>\n",
       "<text text-anchor=\"middle\" x=\"207\" y=\"-40.5\" font-family=\"Helvetica,sans-Serif\" font-size=\"20.00\" fill=\"#000000\">+</text>\n",
       "</g>\n",
       "<!-- 9c9a8 -->\n",
       "<g id=\"node2\" class=\"node\">\n",
       "<title>9c9a8</title>\n",
       "<path fill=\"none\" stroke=\"#000000\" stroke-width=\"4\" d=\"M282,-27.5C282,-27.5 329,-27.5 329,-27.5 335,-27.5 341,-33.5 341,-39.5 341,-39.5 341,-51.5 341,-51.5 341,-57.5 335,-63.5 329,-63.5 329,-63.5 282,-63.5 282,-63.5 276,-63.5 270,-57.5 270,-51.5 270,-51.5 270,-39.5 270,-39.5 270,-33.5 276,-27.5 282,-27.5\"/>\n",
       "<text text-anchor=\"middle\" x=\"305.5\" y=\"-40.5\" font-family=\"Helvetica,sans-Serif\" font-size=\"20.00\" fill=\"#000000\">9c9a8</text>\n",
       "</g>\n",
       "<!-- 1817e&#45;&gt;9c9a8 -->\n",
       "<g id=\"edge1\" class=\"edge\">\n",
       "<title>1817e&#45;&gt;9c9a8</title>\n",
       "<path fill=\"none\" stroke=\"#000000\" stroke-width=\"4\" d=\"M234.1763,-45.5C242.1165,-45.5 251.0218,-45.5 259.7776,-45.5\"/>\n",
       "<polygon fill=\"#000000\" stroke=\"#000000\" stroke-width=\"4\" points=\"259.9208,-49.0001 269.9207,-45.5 259.9207,-42.0001 259.9208,-49.0001\"/>\n",
       "</g>\n",
       "<!-- 776ce -->\n",
       "<g id=\"node3\" class=\"node\">\n",
       "<title>776ce</title>\n",
       "<path fill=\"none\" stroke=\"#000000\" stroke-width=\"4\" d=\"M389,-54.5C389,-54.5 419,-54.5 419,-54.5 425,-54.5 431,-60.5 431,-66.5 431,-66.5 431,-78.5 431,-78.5 431,-84.5 425,-90.5 419,-90.5 419,-90.5 389,-90.5 389,-90.5 383,-90.5 377,-84.5 377,-78.5 377,-78.5 377,-66.5 377,-66.5 377,-60.5 383,-54.5 389,-54.5\"/>\n",
       "<text text-anchor=\"middle\" x=\"404\" y=\"-67.5\" font-family=\"Helvetica,sans-Serif\" font-size=\"20.00\" fill=\"#000000\">+</text>\n",
       "</g>\n",
       "<!-- 9c9a8&#45;&gt;776ce -->\n",
       "<g id=\"edge2\" class=\"edge\">\n",
       "<title>9c9a8&#45;&gt;776ce</title>\n",
       "<path fill=\"none\" stroke=\"#0000ff\" stroke-width=\"4\" d=\"M341.0608,-55.2476C349.5367,-57.571 358.6003,-60.0554 367.1334,-62.3944\"/>\n",
       "<polygon fill=\"#0000ff\" stroke=\"#0000ff\" stroke-width=\"4\" points=\"366.2705,-65.7869 376.84,-65.0551 368.1211,-59.036 366.2705,-65.7869\"/>\n",
       "</g>\n",
       "<!-- 0 -->\n",
       "<g id=\"node4\" class=\"node\">\n",
       "<title>0</title>\n",
       "<path fill=\"none\" stroke=\"#000000\" stroke-width=\"4\" d=\"M290.5,-82.5C290.5,-82.5 320.5,-82.5 320.5,-82.5 326.5,-82.5 332.5,-88.5 332.5,-94.5 332.5,-94.5 332.5,-106.5 332.5,-106.5 332.5,-112.5 326.5,-118.5 320.5,-118.5 320.5,-118.5 290.5,-118.5 290.5,-118.5 284.5,-118.5 278.5,-112.5 278.5,-106.5 278.5,-106.5 278.5,-94.5 278.5,-94.5 278.5,-88.5 284.5,-82.5 290.5,-82.5\"/>\n",
       "<text text-anchor=\"middle\" x=\"305.5\" y=\"-95.5\" font-family=\"Helvetica,sans-Serif\" font-size=\"20.00\" fill=\"#000000\">0</text>\n",
       "</g>\n",
       "<!-- 0&#45;&gt;776ce -->\n",
       "<g id=\"edge3\" class=\"edge\">\n",
       "<title>0&#45;&gt;776ce</title>\n",
       "<path fill=\"none\" stroke=\"#ff0000\" stroke-width=\"4\" d=\"M332.6763,-92.7748C343.3346,-89.745 355.7321,-86.2208 367.1726,-82.9687\"/>\n",
       "<polygon fill=\"#ff0000\" stroke=\"#ff0000\" stroke-width=\"4\" points=\"368.2505,-86.301 376.9124,-80.2 366.3364,-79.5678 368.2505,-86.301\"/>\n",
       "</g>\n",
       "<!-- f6ef6 -->\n",
       "<g id=\"node5\" class=\"node\">\n",
       "<title>f6ef6</title>\n",
       "<path fill=\"none\" stroke=\"#000000\" stroke-width=\"4\" d=\"M102,-55.5C102,-55.5 132,-55.5 132,-55.5 138,-55.5 144,-61.5 144,-67.5 144,-67.5 144,-79.5 144,-79.5 144,-85.5 138,-91.5 132,-91.5 132,-91.5 102,-91.5 102,-91.5 96,-91.5 90,-85.5 90,-79.5 90,-79.5 90,-67.5 90,-67.5 90,-61.5 96,-55.5 102,-55.5\"/>\n",
       "<text text-anchor=\"middle\" x=\"117\" y=\"-68.5\" font-family=\"Helvetica,sans-Serif\" font-size=\"20.00\" fill=\"#000000\">+</text>\n",
       "</g>\n",
       "<!-- f6ef6&#45;&gt;1817e -->\n",
       "<g id=\"edge4\" class=\"edge\">\n",
       "<title>f6ef6&#45;&gt;1817e</title>\n",
       "<path fill=\"none\" stroke=\"#0000ff\" stroke-width=\"4\" d=\"M144.003,-65.0991C152.204,-62.5476 161.3599,-59.6991 170.095,-56.9816\"/>\n",
       "<polygon fill=\"#0000ff\" stroke=\"#0000ff\" stroke-width=\"4\" points=\"171.1962,-60.3045 179.705,-53.9918 169.1167,-53.6205 171.1962,-60.3045\"/>\n",
       "</g>\n",
       "<!-- a -->\n",
       "<g id=\"node6\" class=\"node\">\n",
       "<title>a</title>\n",
       "<path fill=\"none\" stroke=\"#000000\" stroke-width=\"4\" d=\"M102,-.5C102,-.5 132,-.5 132,-.5 138,-.5 144,-6.5 144,-12.5 144,-12.5 144,-24.5 144,-24.5 144,-30.5 138,-36.5 132,-36.5 132,-36.5 102,-36.5 102,-36.5 96,-36.5 90,-30.5 90,-24.5 90,-24.5 90,-12.5 90,-12.5 90,-6.5 96,-.5 102,-.5\"/>\n",
       "<text text-anchor=\"middle\" x=\"117\" y=\"-13.5\" font-family=\"Helvetica,sans-Serif\" font-size=\"20.00\" fill=\"#000000\">a</text>\n",
       "</g>\n",
       "<!-- a&#45;&gt;1817e -->\n",
       "<g id=\"edge5\" class=\"edge\">\n",
       "<title>a&#45;&gt;1817e</title>\n",
       "<path fill=\"none\" stroke=\"#ff0000\" stroke-width=\"4\" d=\"M144.003,-26.6009C152.204,-29.0612 161.3599,-31.808 170.095,-34.4285\"/>\n",
       "<polygon fill=\"#ff0000\" stroke=\"#ff0000\" stroke-width=\"4\" points=\"169.121,-37.7904 179.705,-37.3115 171.1325,-31.0856 169.121,-37.7904\"/>\n",
       "</g>\n",
       "<!-- b -->\n",
       "<g id=\"node7\" class=\"node\">\n",
       "<title>b</title>\n",
       "<path fill=\"none\" stroke=\"#000000\" stroke-width=\"4\" d=\"M12,-82.5C12,-82.5 42,-82.5 42,-82.5 48,-82.5 54,-88.5 54,-94.5 54,-94.5 54,-106.5 54,-106.5 54,-112.5 48,-118.5 42,-118.5 42,-118.5 12,-118.5 12,-118.5 6,-118.5 0,-112.5 0,-106.5 0,-106.5 0,-94.5 0,-94.5 0,-88.5 6,-82.5 12,-82.5\"/>\n",
       "<text text-anchor=\"middle\" x=\"27\" y=\"-95.5\" font-family=\"Helvetica,sans-Serif\" font-size=\"20.00\" fill=\"#000000\">b</text>\n",
       "</g>\n",
       "<!-- b&#45;&gt;f6ef6 -->\n",
       "<g id=\"edge6\" class=\"edge\">\n",
       "<title>b&#45;&gt;f6ef6</title>\n",
       "<path fill=\"none\" stroke=\"#0000ff\" stroke-width=\"4\" d=\"M54.003,-92.3991C62.204,-89.9388 71.3599,-87.192 80.095,-84.5715\"/>\n",
       "<polygon fill=\"#0000ff\" stroke=\"#0000ff\" stroke-width=\"4\" points=\"81.1325,-87.9144 89.705,-81.6885 79.121,-81.2096 81.1325,-87.9144\"/>\n",
       "</g>\n",
       "<!-- c -->\n",
       "<g id=\"node8\" class=\"node\">\n",
       "<title>c</title>\n",
       "<path fill=\"none\" stroke=\"#000000\" stroke-width=\"4\" d=\"M12,-27.5C12,-27.5 42,-27.5 42,-27.5 48,-27.5 54,-33.5 54,-39.5 54,-39.5 54,-51.5 54,-51.5 54,-57.5 48,-63.5 42,-63.5 42,-63.5 12,-63.5 12,-63.5 6,-63.5 0,-57.5 0,-51.5 0,-51.5 0,-39.5 0,-39.5 0,-33.5 6,-27.5 12,-27.5\"/>\n",
       "<text text-anchor=\"middle\" x=\"27\" y=\"-40.5\" font-family=\"Helvetica,sans-Serif\" font-size=\"20.00\" fill=\"#000000\">c</text>\n",
       "</g>\n",
       "<!-- c&#45;&gt;f6ef6 -->\n",
       "<g id=\"edge7\" class=\"edge\">\n",
       "<title>c&#45;&gt;f6ef6</title>\n",
       "<path fill=\"none\" stroke=\"#ff0000\" stroke-width=\"4\" d=\"M54.003,-53.9009C62.204,-56.4524 71.3599,-59.3009 80.095,-62.0184\"/>\n",
       "<polygon fill=\"#ff0000\" stroke=\"#ff0000\" stroke-width=\"4\" points=\"79.1167,-65.3795 89.705,-65.0082 81.1962,-58.6955 79.1167,-65.3795\"/>\n",
       "</g>\n",
       "</g>\n",
       "</svg>\n"
      ]
     },
     "execution_count": 20,
     "metadata": {
      "new_classpath": []
     },
     "output_type": "execute_result"
    }
   ],
   "source": [
    "(fun2 + 0).graph"
   ]
  },
  {
   "cell_type": "code",
   "execution_count": 21,
   "metadata": {},
   "outputs": [
    {
     "data": {
      "text/html": [
       "<svg width=\"349px\" height=\"127px\"\n",
       " viewBox=\"0.00 0.00 349.00 127.00\" xmlns=\"http://www.w3.org/2000/svg\" xmlns:xlink=\"http://www.w3.org/1999/xlink\">\n",
       "<g id=\"graph0\" class=\"graph\" transform=\"scale(1.0 1.0) rotate(0) translate(4 123)\">\n",
       "<title>%3</title>\n",
       "<!-- f6ef6 -->\n",
       "<g id=\"node1\" class=\"node\">\n",
       "<title>f6ef6</title>\n",
       "<path fill=\"none\" stroke=\"#000000\" stroke-width=\"4\" d=\"M102,-27.5C102,-27.5 132,-27.5 132,-27.5 138,-27.5 144,-33.5 144,-39.5 144,-39.5 144,-51.5 144,-51.5 144,-57.5 138,-63.5 132,-63.5 132,-63.5 102,-63.5 102,-63.5 96,-63.5 90,-57.5 90,-51.5 90,-51.5 90,-39.5 90,-39.5 90,-33.5 96,-27.5 102,-27.5\"/>\n",
       "<text text-anchor=\"middle\" x=\"117\" y=\"-40.5\" font-family=\"Helvetica,sans-Serif\" font-size=\"20.00\" fill=\"#000000\">+</text>\n",
       "</g>\n",
       "<!-- 1817e -->\n",
       "<g id=\"node2\" class=\"node\">\n",
       "<title>1817e</title>\n",
       "<path fill=\"none\" stroke=\"#000000\" stroke-width=\"4\" d=\"M192,-54.5C192,-54.5 222,-54.5 222,-54.5 228,-54.5 234,-60.5 234,-66.5 234,-66.5 234,-78.5 234,-78.5 234,-84.5 228,-90.5 222,-90.5 222,-90.5 192,-90.5 192,-90.5 186,-90.5 180,-84.5 180,-78.5 180,-78.5 180,-66.5 180,-66.5 180,-60.5 186,-54.5 192,-54.5\"/>\n",
       "<text text-anchor=\"middle\" x=\"207\" y=\"-67.5\" font-family=\"Helvetica,sans-Serif\" font-size=\"20.00\" fill=\"#000000\">+</text>\n",
       "</g>\n",
       "<!-- f6ef6&#45;&gt;1817e -->\n",
       "<g id=\"edge1\" class=\"edge\">\n",
       "<title>f6ef6&#45;&gt;1817e</title>\n",
       "<path fill=\"none\" stroke=\"#0000ff\" stroke-width=\"4\" d=\"M144.003,-53.6009C152.204,-56.0612 161.3599,-58.808 170.095,-61.4285\"/>\n",
       "<polygon fill=\"#0000ff\" stroke=\"#0000ff\" stroke-width=\"4\" points=\"169.121,-64.7904 179.705,-64.3115 171.1325,-58.0856 169.121,-64.7904\"/>\n",
       "</g>\n",
       "<!-- 9c9a8 -->\n",
       "<g id=\"node3\" class=\"node\">\n",
       "<title>9c9a8</title>\n",
       "<path fill=\"none\" stroke=\"#000000\" stroke-width=\"4\" d=\"M282,-54.5C282,-54.5 329,-54.5 329,-54.5 335,-54.5 341,-60.5 341,-66.5 341,-66.5 341,-78.5 341,-78.5 341,-84.5 335,-90.5 329,-90.5 329,-90.5 282,-90.5 282,-90.5 276,-90.5 270,-84.5 270,-78.5 270,-78.5 270,-66.5 270,-66.5 270,-60.5 276,-54.5 282,-54.5\"/>\n",
       "<text text-anchor=\"middle\" x=\"305.5\" y=\"-67.5\" font-family=\"Helvetica,sans-Serif\" font-size=\"20.00\" fill=\"#000000\">9c9a8</text>\n",
       "</g>\n",
       "<!-- 1817e&#45;&gt;9c9a8 -->\n",
       "<g id=\"edge2\" class=\"edge\">\n",
       "<title>1817e&#45;&gt;9c9a8</title>\n",
       "<path fill=\"none\" stroke=\"#000000\" stroke-width=\"4\" d=\"M234.1763,-72.5C242.1165,-72.5 251.0218,-72.5 259.7776,-72.5\"/>\n",
       "<polygon fill=\"#000000\" stroke=\"#000000\" stroke-width=\"4\" points=\"259.9208,-76.0001 269.9207,-72.5 259.9207,-69.0001 259.9208,-76.0001\"/>\n",
       "</g>\n",
       "<!-- a -->\n",
       "<g id=\"node4\" class=\"node\">\n",
       "<title>a</title>\n",
       "<path fill=\"none\" stroke=\"#000000\" stroke-width=\"4\" d=\"M102,-82.5C102,-82.5 132,-82.5 132,-82.5 138,-82.5 144,-88.5 144,-94.5 144,-94.5 144,-106.5 144,-106.5 144,-112.5 138,-118.5 132,-118.5 132,-118.5 102,-118.5 102,-118.5 96,-118.5 90,-112.5 90,-106.5 90,-106.5 90,-94.5 90,-94.5 90,-88.5 96,-82.5 102,-82.5\"/>\n",
       "<text text-anchor=\"middle\" x=\"117\" y=\"-95.5\" font-family=\"Helvetica,sans-Serif\" font-size=\"20.00\" fill=\"#000000\">a</text>\n",
       "</g>\n",
       "<!-- a&#45;&gt;1817e -->\n",
       "<g id=\"edge3\" class=\"edge\">\n",
       "<title>a&#45;&gt;1817e</title>\n",
       "<path fill=\"none\" stroke=\"#ff0000\" stroke-width=\"4\" d=\"M144.003,-92.0991C152.204,-89.5476 161.3599,-86.6991 170.095,-83.9816\"/>\n",
       "<polygon fill=\"#ff0000\" stroke=\"#ff0000\" stroke-width=\"4\" points=\"171.1962,-87.3045 179.705,-80.9918 169.1167,-80.6205 171.1962,-87.3045\"/>\n",
       "</g>\n",
       "<!-- b -->\n",
       "<g id=\"node5\" class=\"node\">\n",
       "<title>b</title>\n",
       "<path fill=\"none\" stroke=\"#000000\" stroke-width=\"4\" d=\"M12,-55.5C12,-55.5 42,-55.5 42,-55.5 48,-55.5 54,-61.5 54,-67.5 54,-67.5 54,-79.5 54,-79.5 54,-85.5 48,-91.5 42,-91.5 42,-91.5 12,-91.5 12,-91.5 6,-91.5 0,-85.5 0,-79.5 0,-79.5 0,-67.5 0,-67.5 0,-61.5 6,-55.5 12,-55.5\"/>\n",
       "<text text-anchor=\"middle\" x=\"27\" y=\"-68.5\" font-family=\"Helvetica,sans-Serif\" font-size=\"20.00\" fill=\"#000000\">b</text>\n",
       "</g>\n",
       "<!-- b&#45;&gt;f6ef6 -->\n",
       "<g id=\"edge4\" class=\"edge\">\n",
       "<title>b&#45;&gt;f6ef6</title>\n",
       "<path fill=\"none\" stroke=\"#0000ff\" stroke-width=\"4\" d=\"M54.003,-65.0991C62.204,-62.5476 71.3599,-59.6991 80.095,-56.9816\"/>\n",
       "<polygon fill=\"#0000ff\" stroke=\"#0000ff\" stroke-width=\"4\" points=\"81.1962,-60.3045 89.705,-53.9918 79.1167,-53.6205 81.1962,-60.3045\"/>\n",
       "</g>\n",
       "<!-- c -->\n",
       "<g id=\"node6\" class=\"node\">\n",
       "<title>c</title>\n",
       "<path fill=\"none\" stroke=\"#000000\" stroke-width=\"4\" d=\"M12,-.5C12,-.5 42,-.5 42,-.5 48,-.5 54,-6.5 54,-12.5 54,-12.5 54,-24.5 54,-24.5 54,-30.5 48,-36.5 42,-36.5 42,-36.5 12,-36.5 12,-36.5 6,-36.5 0,-30.5 0,-24.5 0,-24.5 0,-12.5 0,-12.5 0,-6.5 6,-.5 12,-.5\"/>\n",
       "<text text-anchor=\"middle\" x=\"27\" y=\"-13.5\" font-family=\"Helvetica,sans-Serif\" font-size=\"20.00\" fill=\"#000000\">c</text>\n",
       "</g>\n",
       "<!-- c&#45;&gt;f6ef6 -->\n",
       "<g id=\"edge5\" class=\"edge\">\n",
       "<title>c&#45;&gt;f6ef6</title>\n",
       "<path fill=\"none\" stroke=\"#ff0000\" stroke-width=\"4\" d=\"M54.003,-26.6009C62.204,-29.0612 71.3599,-31.808 80.095,-34.4285\"/>\n",
       "<polygon fill=\"#ff0000\" stroke=\"#ff0000\" stroke-width=\"4\" points=\"79.121,-37.7904 89.705,-37.3115 81.1325,-31.0856 79.121,-37.7904\"/>\n",
       "</g>\n",
       "</g>\n",
       "</svg>\n"
      ]
     },
     "execution_count": 21,
     "metadata": {
      "new_classpath": []
     },
     "output_type": "execute_result"
    }
   ],
   "source": [
    "fun2"
   ]
  },
  {
   "cell_type": "code",
   "execution_count": 22,
   "metadata": {},
   "outputs": [
    {
     "data": {
      "text/plain": [
       "55647846"
      ]
     },
     "execution_count": 22,
     "metadata": {
      "new_classpath": []
     },
     "output_type": "execute_result"
    }
   ],
   "source": [
    "fun2.hashCode()"
   ]
  },
  {
   "cell_type": "code",
   "execution_count": 23,
   "metadata": {},
   "outputs": [
    {
     "data": {
      "text/plain": [
       "50546563"
      ]
     },
     "execution_count": 23,
     "metadata": {
      "new_classpath": []
     },
     "output_type": "execute_result"
    }
   ],
   "source": [
    "fun1.hashCode()"
   ]
  },
  {
   "cell_type": "code",
   "execution_count": 25,
   "metadata": {},
   "outputs": [
    {
     "data": {
      "text/html": [
       "<img src=\"data:image/jpg;base64,iVBORw0KGgoAAAANSUhEUgAAAHgAAAB4CAIAAAC2BqGFAAAA4UlEQVR4Xu3QsQ3EAAwDsey/dDKAGrvx4yESt4D0PGXeH1UnL7ipTl5wU5284KY6ecFNdfKCm+rkBTfVyQtuqpMX3FQnL7ipTl5wU5284KY6ecFNdfKCm+rkBTfVyQtuqpMX3FQnL7ipTl5wU5284Ka/lDPmsZD3zWMh75vHQt43j4W8bx4Led88FvK+eSzkffNYyPvmsZD3zWMh75vHQt43j4W8bx4Led88FvK+eSzkffNYyPvmsZD3zWMh75vHQt43DwAAAAAAAAAAAAAAAAAAAAAAAAAAAAAAAAAAAODKBzavq423LZDlAAAAAElFTkSuQmCC\"/>"
      ]
     },
     "execution_count": 25,
     "metadata": {
      "new_classpath": []
     },
     "output_type": "execute_result"
    }
   ],
   "source": [
    "fun1.graph.ASYMNORM.let { it * it }"
   ]
  },
  {
   "cell_type": "code",
   "execution_count": null,
   "metadata": {},
   "outputs": [],
   "source": []
  }
 ],
 "metadata": {
  "kernelspec": {
   "display_name": "Kotlin",
   "language": "kotlin",
   "name": "kotlin"
  },
  "language_info": {
   "codemirror_mode": "text/x-kotlin",
   "file_extension": ".kt",
   "mimetype": "text/x-kotlin",
   "name": "kotlin",
   "pygments_lexer": "kotlin",
   "version": "1.4.30"
  }
 },
 "nbformat": 4,
 "nbformat_minor": 4
}
